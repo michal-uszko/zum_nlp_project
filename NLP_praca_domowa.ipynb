{
  "cells": [
    {
      "cell_type": "markdown",
      "metadata": {
        "id": "OYpJoHsns0aA"
      },
      "source": [
        "## Opis problemu\n",
        "\n",
        "Znajdź dowolny zbiór danych (dozwolone języki: angielski, hiszpański, polski, szwedzki) (poza IMDB oraz zbiorami wykorzystywanymi na zajęciach) do analizy sentymentu.\n",
        "Zbiór może mieć 2 lub 3 klasy.\n",
        "\n",
        "Następnie:\n",
        "1. Oczyść dane i zaprezentuj rozkład klas\n",
        "2. Zbuduj model analizy sentymenu:\n",
        "  - z wykorzystaniem sieci rekurencyjnej (LSTM/GRU/sieć dwukierunkowa) innej niż podstawowe RNN\n",
        "  - z wykorzystaniem sieci CNN\n",
        "  - z podstawiemiem pre-trained word embeddingów\n",
        "  - z fine-tuningiem modelu języka (poza podstawowym BERTem)\n",
        "\n",
        "3. Stwórz funkcję, która będzie korzystała z wytrenowanego modelu i zwracała wynik dla przekazanego pojedynczego zdania (zdań) w postaci komunikatu informującego użytkownika, czy tekst jest nacechowany negatywnie, pozytywnie (czy neutralnie w przypadku 3 klas).\n",
        "\n",
        "4. Gotowe rozwiązanie zamieść na GitHubie z README. W README zawrzyj: informacje o danych - ich pochodzenie, oraz opis wybranego modelu i instrukcje korzystania z plików.\n",
        "5. W assigmnencie w Teamsach wrzuć link do repo z rozwiązaniem. W przypadku prywatnego repo upewnij się, że będzie ono widoczne dla `dwnuk@pjwstk.edu.pl`.\n",
        "\n",
        "**TERMIN**: jak w Teamsach"
      ]
    },
    {
      "cell_type": "code",
      "execution_count": 1,
      "metadata": {
        "id": "KNsVcEZ1sx5b"
      },
      "outputs": [],
      "source": [
        "import pandas as pd\n",
        "import numpy as np\n",
        "import matplotlib.pyplot as plt\n",
        "import torch\n",
        "import seaborn as sns"
      ]
    },
    {
      "cell_type": "code",
      "execution_count": 2,
      "metadata": {},
      "outputs": [],
      "source": [
        "reviews = pd.read_csv(\"data/steam_reviews.csv\")\n",
        "games_overiews = pd.read_csv(\"data/game_overview.csv\")"
      ]
    },
    {
      "cell_type": "code",
      "execution_count": 3,
      "metadata": {},
      "outputs": [
        {
          "data": {
            "text/html": [
              "<div>\n",
              "<style scoped>\n",
              "    .dataframe tbody tr th:only-of-type {\n",
              "        vertical-align: middle;\n",
              "    }\n",
              "\n",
              "    .dataframe tbody tr th {\n",
              "        vertical-align: top;\n",
              "    }\n",
              "\n",
              "    .dataframe thead th {\n",
              "        text-align: right;\n",
              "    }\n",
              "</style>\n",
              "<table border=\"1\" class=\"dataframe\">\n",
              "  <thead>\n",
              "    <tr style=\"text-align: right;\">\n",
              "      <th></th>\n",
              "      <th>review_id</th>\n",
              "      <th>title</th>\n",
              "      <th>year</th>\n",
              "      <th>user_review</th>\n",
              "      <th>user_suggestion</th>\n",
              "    </tr>\n",
              "  </thead>\n",
              "  <tbody>\n",
              "    <tr>\n",
              "      <th>0</th>\n",
              "      <td>1</td>\n",
              "      <td>Spooky's Jump Scare Mansion</td>\n",
              "      <td>2016.0</td>\n",
              "      <td>I'm scared and hearing creepy voices.  So I'll...</td>\n",
              "      <td>1</td>\n",
              "    </tr>\n",
              "    <tr>\n",
              "      <th>1</th>\n",
              "      <td>2</td>\n",
              "      <td>Spooky's Jump Scare Mansion</td>\n",
              "      <td>2016.0</td>\n",
              "      <td>Best game, more better than Sam Pepper's YouTu...</td>\n",
              "      <td>1</td>\n",
              "    </tr>\n",
              "    <tr>\n",
              "      <th>2</th>\n",
              "      <td>3</td>\n",
              "      <td>Spooky's Jump Scare Mansion</td>\n",
              "      <td>2016.0</td>\n",
              "      <td>A littly iffy on the controls, but once you kn...</td>\n",
              "      <td>1</td>\n",
              "    </tr>\n",
              "    <tr>\n",
              "      <th>3</th>\n",
              "      <td>4</td>\n",
              "      <td>Spooky's Jump Scare Mansion</td>\n",
              "      <td>2015.0</td>\n",
              "      <td>Great game, fun and colorful and all that.A si...</td>\n",
              "      <td>1</td>\n",
              "    </tr>\n",
              "    <tr>\n",
              "      <th>4</th>\n",
              "      <td>5</td>\n",
              "      <td>Spooky's Jump Scare Mansion</td>\n",
              "      <td>2015.0</td>\n",
              "      <td>Not many games have the cute tag right next to...</td>\n",
              "      <td>1</td>\n",
              "    </tr>\n",
              "    <tr>\n",
              "      <th>...</th>\n",
              "      <td>...</td>\n",
              "      <td>...</td>\n",
              "      <td>...</td>\n",
              "      <td>...</td>\n",
              "      <td>...</td>\n",
              "    </tr>\n",
              "    <tr>\n",
              "      <th>17489</th>\n",
              "      <td>25535</td>\n",
              "      <td>EverQuest II</td>\n",
              "      <td>2012.0</td>\n",
              "      <td>Arguably the single greatest mmorp that exists...</td>\n",
              "      <td>1</td>\n",
              "    </tr>\n",
              "    <tr>\n",
              "      <th>17490</th>\n",
              "      <td>25536</td>\n",
              "      <td>EverQuest II</td>\n",
              "      <td>2017.0</td>\n",
              "      <td>An older game, to be sure, but has its own cha...</td>\n",
              "      <td>1</td>\n",
              "    </tr>\n",
              "    <tr>\n",
              "      <th>17491</th>\n",
              "      <td>25537</td>\n",
              "      <td>EverQuest II</td>\n",
              "      <td>2011.0</td>\n",
              "      <td>When I frist started playing Everquest 2 it wa...</td>\n",
              "      <td>1</td>\n",
              "    </tr>\n",
              "    <tr>\n",
              "      <th>17492</th>\n",
              "      <td>25538</td>\n",
              "      <td>EverQuest II</td>\n",
              "      <td>NaN</td>\n",
              "      <td>cool game. THe only thing that REALLY PISSES M...</td>\n",
              "      <td>1</td>\n",
              "    </tr>\n",
              "    <tr>\n",
              "      <th>17493</th>\n",
              "      <td>25539</td>\n",
              "      <td>EverQuest II</td>\n",
              "      <td>NaN</td>\n",
              "      <td>this game since I was a little kid, always hav...</td>\n",
              "      <td>1</td>\n",
              "    </tr>\n",
              "  </tbody>\n",
              "</table>\n",
              "<p>17494 rows × 5 columns</p>\n",
              "</div>"
            ],
            "text/plain": [
              "       review_id                        title    year  \\\n",
              "0              1  Spooky's Jump Scare Mansion  2016.0   \n",
              "1              2  Spooky's Jump Scare Mansion  2016.0   \n",
              "2              3  Spooky's Jump Scare Mansion  2016.0   \n",
              "3              4  Spooky's Jump Scare Mansion  2015.0   \n",
              "4              5  Spooky's Jump Scare Mansion  2015.0   \n",
              "...          ...                          ...     ...   \n",
              "17489      25535                 EverQuest II  2012.0   \n",
              "17490      25536                 EverQuest II  2017.0   \n",
              "17491      25537                 EverQuest II  2011.0   \n",
              "17492      25538                 EverQuest II     NaN   \n",
              "17493      25539                 EverQuest II     NaN   \n",
              "\n",
              "                                             user_review  user_suggestion  \n",
              "0      I'm scared and hearing creepy voices.  So I'll...                1  \n",
              "1      Best game, more better than Sam Pepper's YouTu...                1  \n",
              "2      A littly iffy on the controls, but once you kn...                1  \n",
              "3      Great game, fun and colorful and all that.A si...                1  \n",
              "4      Not many games have the cute tag right next to...                1  \n",
              "...                                                  ...              ...  \n",
              "17489  Arguably the single greatest mmorp that exists...                1  \n",
              "17490  An older game, to be sure, but has its own cha...                1  \n",
              "17491  When I frist started playing Everquest 2 it wa...                1  \n",
              "17492  cool game. THe only thing that REALLY PISSES M...                1  \n",
              "17493  this game since I was a little kid, always hav...                1  \n",
              "\n",
              "[17494 rows x 5 columns]"
            ]
          },
          "execution_count": 3,
          "metadata": {},
          "output_type": "execute_result"
        }
      ],
      "source": [
        "reviews"
      ]
    },
    {
      "cell_type": "code",
      "execution_count": 4,
      "metadata": {},
      "outputs": [
        {
          "data": {
            "text/html": [
              "<div>\n",
              "<style scoped>\n",
              "    .dataframe tbody tr th:only-of-type {\n",
              "        vertical-align: middle;\n",
              "    }\n",
              "\n",
              "    .dataframe tbody tr th {\n",
              "        vertical-align: top;\n",
              "    }\n",
              "\n",
              "    .dataframe thead th {\n",
              "        text-align: right;\n",
              "    }\n",
              "</style>\n",
              "<table border=\"1\" class=\"dataframe\">\n",
              "  <thead>\n",
              "    <tr style=\"text-align: right;\">\n",
              "      <th></th>\n",
              "      <th>title</th>\n",
              "      <th>developer</th>\n",
              "      <th>publisher</th>\n",
              "      <th>tags</th>\n",
              "      <th>overview</th>\n",
              "    </tr>\n",
              "  </thead>\n",
              "  <tbody>\n",
              "    <tr>\n",
              "      <th>0</th>\n",
              "      <td>Spooky's Jump Scare Mansion</td>\n",
              "      <td>Lag Studios</td>\n",
              "      <td>Lag Studios</td>\n",
              "      <td>['Horror', 'Free to Play', 'Cute', 'First-Pers...</td>\n",
              "      <td>Can you survive 1000 rooms of cute terror? Or ...</td>\n",
              "    </tr>\n",
              "    <tr>\n",
              "      <th>1</th>\n",
              "      <td>Sakura Clicker</td>\n",
              "      <td>Winged Cloud</td>\n",
              "      <td>Winged Cloud</td>\n",
              "      <td>['Nudity', 'Anime', 'Free to Play', 'Mature', ...</td>\n",
              "      <td>The latest entry in the Sakura series is more ...</td>\n",
              "    </tr>\n",
              "    <tr>\n",
              "      <th>2</th>\n",
              "      <td>WARMODE</td>\n",
              "      <td>WARTEAM</td>\n",
              "      <td>WARTEAM</td>\n",
              "      <td>['Early Access', 'Free to Play', 'FPS', 'Multi...</td>\n",
              "      <td>Free to play shooter about the confrontation o...</td>\n",
              "    </tr>\n",
              "    <tr>\n",
              "      <th>3</th>\n",
              "      <td>Fractured Space</td>\n",
              "      <td>Edge Case Games Ltd.</td>\n",
              "      <td>Edge Case Games Ltd.</td>\n",
              "      <td>['Space', 'Multiplayer', 'Free to Play', 'PvP'...</td>\n",
              "      <td>Take the helm of a gigantic capital ship and g...</td>\n",
              "    </tr>\n",
              "    <tr>\n",
              "      <th>4</th>\n",
              "      <td>Counter-Strike: Global Offensive</td>\n",
              "      <td>Valve, Hidden Path Entertainment</td>\n",
              "      <td>Valve</td>\n",
              "      <td>['FPS', 'Multiplayer', 'Shooter', 'Action', 'T...</td>\n",
              "      <td>Counter-Strike: Global Offensive (CS: GO) expa...</td>\n",
              "    </tr>\n",
              "    <tr>\n",
              "      <th>...</th>\n",
              "      <td>...</td>\n",
              "      <td>...</td>\n",
              "      <td>...</td>\n",
              "      <td>...</td>\n",
              "      <td>...</td>\n",
              "    </tr>\n",
              "    <tr>\n",
              "      <th>59</th>\n",
              "      <td>Bloons TD Battles</td>\n",
              "      <td>Ninja Kiwi</td>\n",
              "      <td>Ninja Kiwi</td>\n",
              "      <td>['Free to Play', 'Tower Defense', 'Multiplayer...</td>\n",
              "      <td>Play the top-rated tower defense franchise in ...</td>\n",
              "    </tr>\n",
              "    <tr>\n",
              "      <th>60</th>\n",
              "      <td>Cuisine Royale</td>\n",
              "      <td>Darkflow Software</td>\n",
              "      <td>Gaijin Distribution KFT</td>\n",
              "      <td>['Early Access', 'Free to Play', 'Battle Royal...</td>\n",
              "      <td>Cuisine Royale is an all-kitchen-warfare Battl...</td>\n",
              "    </tr>\n",
              "    <tr>\n",
              "      <th>61</th>\n",
              "      <td>GUNS UP!</td>\n",
              "      <td>Valkyrie Entertainment, LLC</td>\n",
              "      <td>PlayStation Mobile, Inc.</td>\n",
              "      <td>['Free to Play', 'Strategy', 'Multiplayer', 'A...</td>\n",
              "      <td>In a mashup of RTS &amp; Tower Defense, GUNS UP! i...</td>\n",
              "    </tr>\n",
              "    <tr>\n",
              "      <th>62</th>\n",
              "      <td>School of Dragons</td>\n",
              "      <td>JumpStart Games, Inc.</td>\n",
              "      <td>JumpStart Games, Inc.</td>\n",
              "      <td>['Free to Play', 'Dragons', 'Adventure', 'Mult...</td>\n",
              "      <td>**Changewing Dragon now Available**Fly Fast. T...</td>\n",
              "    </tr>\n",
              "    <tr>\n",
              "      <th>63</th>\n",
              "      <td>EverQuest II</td>\n",
              "      <td>Daybreak Game Company</td>\n",
              "      <td>Daybreak Game Company</td>\n",
              "      <td>['Free to Play', 'Massively Multiplayer', 'RPG...</td>\n",
              "      <td>EverQuest® II is the epitome of massively mult...</td>\n",
              "    </tr>\n",
              "  </tbody>\n",
              "</table>\n",
              "<p>64 rows × 5 columns</p>\n",
              "</div>"
            ],
            "text/plain": [
              "                               title                          developer  \\\n",
              "0        Spooky's Jump Scare Mansion                       Lag Studios    \n",
              "1                     Sakura Clicker                      Winged Cloud    \n",
              "2                            WARMODE                           WARTEAM    \n",
              "3                    Fractured Space              Edge Case Games Ltd.    \n",
              "4   Counter-Strike: Global Offensive  Valve, Hidden Path Entertainment    \n",
              "..                               ...                                ...   \n",
              "59                 Bloons TD Battles                        Ninja Kiwi    \n",
              "60                    Cuisine Royale                 Darkflow Software    \n",
              "61                          GUNS UP!       Valkyrie Entertainment, LLC    \n",
              "62                 School of Dragons             JumpStart Games, Inc.    \n",
              "63                      EverQuest II             Daybreak Game Company    \n",
              "\n",
              "                    publisher  \\\n",
              "0                Lag Studios    \n",
              "1               Winged Cloud    \n",
              "2                    WARTEAM    \n",
              "3       Edge Case Games Ltd.    \n",
              "4                      Valve    \n",
              "..                        ...   \n",
              "59                Ninja Kiwi    \n",
              "60   Gaijin Distribution KFT    \n",
              "61  PlayStation Mobile, Inc.    \n",
              "62     JumpStart Games, Inc.    \n",
              "63     Daybreak Game Company    \n",
              "\n",
              "                                                 tags  \\\n",
              "0   ['Horror', 'Free to Play', 'Cute', 'First-Pers...   \n",
              "1   ['Nudity', 'Anime', 'Free to Play', 'Mature', ...   \n",
              "2   ['Early Access', 'Free to Play', 'FPS', 'Multi...   \n",
              "3   ['Space', 'Multiplayer', 'Free to Play', 'PvP'...   \n",
              "4   ['FPS', 'Multiplayer', 'Shooter', 'Action', 'T...   \n",
              "..                                                ...   \n",
              "59  ['Free to Play', 'Tower Defense', 'Multiplayer...   \n",
              "60  ['Early Access', 'Free to Play', 'Battle Royal...   \n",
              "61  ['Free to Play', 'Strategy', 'Multiplayer', 'A...   \n",
              "62  ['Free to Play', 'Dragons', 'Adventure', 'Mult...   \n",
              "63  ['Free to Play', 'Massively Multiplayer', 'RPG...   \n",
              "\n",
              "                                             overview  \n",
              "0   Can you survive 1000 rooms of cute terror? Or ...  \n",
              "1   The latest entry in the Sakura series is more ...  \n",
              "2   Free to play shooter about the confrontation o...  \n",
              "3   Take the helm of a gigantic capital ship and g...  \n",
              "4   Counter-Strike: Global Offensive (CS: GO) expa...  \n",
              "..                                                ...  \n",
              "59  Play the top-rated tower defense franchise in ...  \n",
              "60  Cuisine Royale is an all-kitchen-warfare Battl...  \n",
              "61  In a mashup of RTS & Tower Defense, GUNS UP! i...  \n",
              "62  **Changewing Dragon now Available**Fly Fast. T...  \n",
              "63  EverQuest® II is the epitome of massively mult...  \n",
              "\n",
              "[64 rows x 5 columns]"
            ]
          },
          "execution_count": 4,
          "metadata": {},
          "output_type": "execute_result"
        }
      ],
      "source": [
        "games_overiews"
      ]
    },
    {
      "cell_type": "markdown",
      "metadata": {},
      "source": [
        "W zadaniu wykorzystamy tylko recenzje użytkowników **user_review** oraz **user_suggestion** (czyli nasz target)."
      ]
    },
    {
      "cell_type": "code",
      "execution_count": 25,
      "metadata": {},
      "outputs": [
        {
          "data": {
            "text/html": [
              "<div>\n",
              "<style scoped>\n",
              "    .dataframe tbody tr th:only-of-type {\n",
              "        vertical-align: middle;\n",
              "    }\n",
              "\n",
              "    .dataframe tbody tr th {\n",
              "        vertical-align: top;\n",
              "    }\n",
              "\n",
              "    .dataframe thead th {\n",
              "        text-align: right;\n",
              "    }\n",
              "</style>\n",
              "<table border=\"1\" class=\"dataframe\">\n",
              "  <thead>\n",
              "    <tr style=\"text-align: right;\">\n",
              "      <th></th>\n",
              "      <th>user_review</th>\n",
              "      <th>user_suggestion</th>\n",
              "    </tr>\n",
              "  </thead>\n",
              "  <tbody>\n",
              "    <tr>\n",
              "      <th>0</th>\n",
              "      <td>I'm scared and hearing creepy voices.  So I'll pause for a moment and write a review while I wait for my heart beat to return to atleast somewhat calmer times.  This game is adorable and creepy like my happy tree friends but with the graphics sceme of my childhood (but more bubble and 'clean').  Hello 1990's.What charactes there are (that isnot trying to kill me) were likable and a bit odd.  I did do a few noob things though, such as:Oh look a class room full of ghosts from dead children, lets shine my flashlight on them and stand there staring at them..Or, hmm creepy music, I'll turn around and see if I can see what's chasing me.Never before in a game have I been this afraid of finding a locked door.</td>\n",
              "      <td>1</td>\n",
              "    </tr>\n",
              "    <tr>\n",
              "      <th>1</th>\n",
              "      <td>Best game, more better than Sam Pepper's YouTube account. 10/10What you'll need to play:A computerSome extra pants.Pros:Scary as hell.Fun.Adventure.Spooky.Did I forgot to mention that its scary as hell?You'll get more pants/briefs in your wardrobe.Time consuming if you're bored.Cons:Buying pants/briefs. You haven't downloaded it yet.</td>\n",
              "      <td>1</td>\n",
              "    </tr>\n",
              "    <tr>\n",
              "      <th>2</th>\n",
              "      <td>A littly iffy on the controls, but once you know how to play, very easy to master. I've made it to floor 1000 before, but due to certain circumstances was unable to finish. Was not game related, don't worry, not a bug/glitch or antyhing.I highly recommend this for casual play, maybe with a friend or two watching. Hilarity ensues, especially once you hit floor 150. Have fun my fellow fleshlings!</td>\n",
              "      <td>1</td>\n",
              "    </tr>\n",
              "    <tr>\n",
              "      <th>3</th>\n",
              "      <td>Great game, fun and colorful and all that.A side note, though: When are we getting windowed mode? My computer hates fullscreen so.... yeah. The computer doesn't like to run this. Shame, because this is really enjoyable. But until then, I guess I'll settle for more Skyrim. Cheers!</td>\n",
              "      <td>1</td>\n",
              "    </tr>\n",
              "    <tr>\n",
              "      <th>4</th>\n",
              "      <td>Not many games have the cute tag right next to the horror tag on Steam.I first played this game in late 2014 and coming back to it for the first time since. This game is so good for it being free, take advantage and experience it. Try and get to  room 1000 or as close as you can. The further you progress the darker the game becomes.</td>\n",
              "      <td>1</td>\n",
              "    </tr>\n",
              "    <tr>\n",
              "      <th>...</th>\n",
              "      <td>...</td>\n",
              "      <td>...</td>\n",
              "    </tr>\n",
              "    <tr>\n",
              "      <th>17489</th>\n",
              "      <td>Arguably the single greatest mmorp that exists today, and now its free!!!! There is little to no competition for this game. Graphics that bend to a weak ♥♥♥♥♥♥ computer, as well as an extreme graphics option offering the most insanely beautiful graphics a pc game has every brought you, but i warn you, even the most high end computers have a hard time handling extreme mode ;) mine rocks it but yeah.Many classes, and races.however you must pay to unlock classes, (well worth the money considering the game is free now) but you dont need to pay to unlock all the classes or races, you can just buy one you want. Appearance armor that goes on over your currently equipped gear and weapons, keep the stats, and the style. Huge guilds, with guild halls you can create that are vast decorative buildings, many houses and house items to create and craft or find.God quests that take you on expansive journies to connect your ties with the chosen of the land. Huge raid dungeons. and more.</td>\n",
              "      <td>1</td>\n",
              "    </tr>\n",
              "    <tr>\n",
              "      <th>17490</th>\n",
              "      <td>An older game, to be sure, but has its own charm and holds a special place in my heart - having played it since I was young. Definitely still has some grind if you want to run through *all* of the content, but if someone just wanted to get right into the action, I'm fairly certain he or she could get up to speed quickly. Pretty expansive variety of races and classes, with few restrictions if any (evil races can play as good classes by betraying and vice versa).I would still recommend buying a subscription if you want to play endgame content (removes most limitations), and unfortunately there are a couple extra features that need to be bought outside of that, but if you buy the sub, you can collect the credits to get those free of charge anyhow. Not sure how playing free through the whole game would be, but I'm sure it's both viable and still fun.The lore in this game is incredible if you're into deep storylines. I wouldn't say the questing feels as epic as it did in the original Everquest, but some of the story arcs can make you feel like your character is the hero he or she is espoused to be. Plus, the game still receives consistent updates and I've even seen guide-run events (by volunteers or employees in game) more recently.Playerbase can be a bit slim, but when a new server launches, usually there's a ton of people who come out.If you're into MMO's, don't mind a bit of grind and graphics that aren't cutting edge, I'd recommend trying this game!</td>\n",
              "      <td>1</td>\n",
              "    </tr>\n",
              "    <tr>\n",
              "      <th>17491</th>\n",
              "      <td>When I frist started playing Everquest 2 it was amazing (its still great). The players were friendly and mature, there were lots of things to do (still is) but now days groups are tough to come by because of the population decline about a year ago (update 6/2/2018: population problems seem to have been evened out due to server merges). The shadow oddesy was the prime of everquest 2 (iMO). I suggest playing this, many people have made life long friends and even gotten married IRL because of this game. I still have so many great memories from people I played this with, but, bridges have been burned and I cant relive them, so I have to make new ones. It's so sad for me to see so many people I used to play with leave for other mmo's and never return. The best time of my gaming life was when I was playing my main (at the time) on the everfrost server (merged with another server so it isnt call that anymore) in a guild called Stormsurge. This is a game where you have to be respectul of other players because there arent millions of people loggin on every day like FF14 or ESO. You unknowingly begin making a name for yourself when you begin playing.Get this game. Maybe you can have great memories like I do. Everquest is an mmorpg unlike any other, unriveled in its content. Update 6/2/2018: I have been playing EQ2 for 10 years. The only reason steam says i have less than 300 hours is because it hasnt been on steam for the full duration of it's release. So if I had to guess i'd say I have around 3000 - 4000 hours on Everquest 2.My main is called Scuttlebutt and he is on the Antonia bayle server. Hit me up if you want to play.</td>\n",
              "      <td>1</td>\n",
              "    </tr>\n",
              "    <tr>\n",
              "      <th>17492</th>\n",
              "      <td>cool game. THe only thing that REALLY PISSES ME OFF, is the ridable transport. It takes you through the most scenic route and then fakes you out on another docking platform, before looping back around to take you through the scenic route to your destination, LIVID</td>\n",
              "      <td>1</td>\n",
              "    </tr>\n",
              "    <tr>\n",
              "      <th>17493</th>\n",
              "      <td>this game since I was a little kid, always have since. I still remember my first ever name, Zookoos lol, I thought it was so cool back in the day lmao but it seems edgy now, anyways if I've enjoyed this for years and years of my life, I'm sure you will too :)</td>\n",
              "      <td>1</td>\n",
              "    </tr>\n",
              "  </tbody>\n",
              "</table>\n",
              "<p>17494 rows × 2 columns</p>\n",
              "</div>"
            ],
            "text/plain": [
              "                                                                                                                                                                                                                                                                                                                                                                                                                                                                                                                                                                                                                                                                                                                                                                                                                                                                                                                                                                                                                                                                                                                                                                                                                                                                                                                                                                                                                                                                                                                                                                                                                                                                                                      user_review  \\\n",
              "0                                                                                                                                                                                                                                                                                                                                                                                                                                                                                                                                                                                                                                                                                                                                                                                                                                                                                                                                                                          I'm scared and hearing creepy voices.  So I'll pause for a moment and write a review while I wait for my heart beat to return to atleast somewhat calmer times.  This game is adorable and creepy like my happy tree friends but with the graphics sceme of my childhood (but more bubble and 'clean').  Hello 1990's.What charactes there are (that isnot trying to kill me) were likable and a bit odd.  I did do a few noob things though, such as:Oh look a class room full of ghosts from dead children, lets shine my flashlight on them and stand there staring at them..Or, hmm creepy music, I'll turn around and see if I can see what's chasing me.Never before in a game have I been this afraid of finding a locked door.   \n",
              "1                                                                                                                                                                                                                                                                                                                                                                                                                                                                                                                                                                                                                                                                                                                                                                                                                                                                                                                                                                                                                                                                                                                                                                                                                                                                                                                                                                 Best game, more better than Sam Pepper's YouTube account. 10/10What you'll need to play:A computerSome extra pants.Pros:Scary as hell.Fun.Adventure.Spooky.Did I forgot to mention that its scary as hell?You'll get more pants/briefs in your wardrobe.Time consuming if you're bored.Cons:Buying pants/briefs. You haven't downloaded it yet.   \n",
              "2                                                                                                                                                                                                                                                                                                                                                                                                                                                                                                                                                                                                                                                                                                                                                                                                                                                                                                                                                                                                                                                                                                                                                                                                                                                                                                   A littly iffy on the controls, but once you know how to play, very easy to master. I've made it to floor 1000 before, but due to certain circumstances was unable to finish. Was not game related, don't worry, not a bug/glitch or antyhing.I highly recommend this for casual play, maybe with a friend or two watching. Hilarity ensues, especially once you hit floor 150. Have fun my fellow fleshlings!   \n",
              "3                                                                                                                                                                                                                                                                                                                                                                                                                                                                                                                                                                                                                                                                                                                                                                                                                                                                                                                                                                                                                                                                                                                                                                                                                                                                                                                                                                                                                        Great game, fun and colorful and all that.A side note, though: When are we getting windowed mode? My computer hates fullscreen so.... yeah. The computer doesn't like to run this. Shame, because this is really enjoyable. But until then, I guess I'll settle for more Skyrim. Cheers!   \n",
              "4                                                                                                                                                                                                                                                                                                                                                                                                                                                                                                                                                                                                                                                                                                                                                                                                                                                                                                                                                                                                                                                                                                                                                                                                                                                                                                                                                                  Not many games have the cute tag right next to the horror tag on Steam.I first played this game in late 2014 and coming back to it for the first time since. This game is so good for it being free, take advantage and experience it. Try and get to  room 1000 or as close as you can. The further you progress the darker the game becomes.   \n",
              "...                                                                                                                                                                                                                                                                                                                                                                                                                                                                                                                                                                                                                                                                                                                                                                                                                                                                                                                                                                                                                                                                                                                                                                                                                                                                                                                                                                                                                                                                                                                                                                                                                                                                                                           ...   \n",
              "17489                                                                                                                                                                                                                                                                                                                                                                                                                                                                                                                                                                                                                                                                                    Arguably the single greatest mmorp that exists today, and now its free!!!! There is little to no competition for this game. Graphics that bend to a weak ♥♥♥♥♥♥ computer, as well as an extreme graphics option offering the most insanely beautiful graphics a pc game has every brought you, but i warn you, even the most high end computers have a hard time handling extreme mode ;) mine rocks it but yeah.Many classes, and races.however you must pay to unlock classes, (well worth the money considering the game is free now) but you dont need to pay to unlock all the classes or races, you can just buy one you want. Appearance armor that goes on over your currently equipped gear and weapons, keep the stats, and the style. Huge guilds, with guild halls you can create that are vast decorative buildings, many houses and house items to create and craft or find.God quests that take you on expansive journies to connect your ties with the chosen of the land. Huge raid dungeons. and more.   \n",
              "17490                                                                                                                                                                            An older game, to be sure, but has its own charm and holds a special place in my heart - having played it since I was young. Definitely still has some grind if you want to run through *all* of the content, but if someone just wanted to get right into the action, I'm fairly certain he or she could get up to speed quickly. Pretty expansive variety of races and classes, with few restrictions if any (evil races can play as good classes by betraying and vice versa).I would still recommend buying a subscription if you want to play endgame content (removes most limitations), and unfortunately there are a couple extra features that need to be bought outside of that, but if you buy the sub, you can collect the credits to get those free of charge anyhow. Not sure how playing free through the whole game would be, but I'm sure it's both viable and still fun.The lore in this game is incredible if you're into deep storylines. I wouldn't say the questing feels as epic as it did in the original Everquest, but some of the story arcs can make you feel like your character is the hero he or she is espoused to be. Plus, the game still receives consistent updates and I've even seen guide-run events (by volunteers or employees in game) more recently.Playerbase can be a bit slim, but when a new server launches, usually there's a ton of people who come out.If you're into MMO's, don't mind a bit of grind and graphics that aren't cutting edge, I'd recommend trying this game!   \n",
              "17491  When I frist started playing Everquest 2 it was amazing (its still great). The players were friendly and mature, there were lots of things to do (still is) but now days groups are tough to come by because of the population decline about a year ago (update 6/2/2018: population problems seem to have been evened out due to server merges). The shadow oddesy was the prime of everquest 2 (iMO). I suggest playing this, many people have made life long friends and even gotten married IRL because of this game. I still have so many great memories from people I played this with, but, bridges have been burned and I cant relive them, so I have to make new ones. It's so sad for me to see so many people I used to play with leave for other mmo's and never return. The best time of my gaming life was when I was playing my main (at the time) on the everfrost server (merged with another server so it isnt call that anymore) in a guild called Stormsurge. This is a game where you have to be respectul of other players because there arent millions of people loggin on every day like FF14 or ESO. You unknowingly begin making a name for yourself when you begin playing.Get this game. Maybe you can have great memories like I do. Everquest is an mmorpg unlike any other, unriveled in its content. Update 6/2/2018: I have been playing EQ2 for 10 years. The only reason steam says i have less than 300 hours is because it hasnt been on steam for the full duration of it's release. So if I had to guess i'd say I have around 3000 - 4000 hours on Everquest 2.My main is called Scuttlebutt and he is on the Antonia bayle server. Hit me up if you want to play.   \n",
              "17492                                                                                                                                                                                                                                                                                                                                                                                                                                                                                                                                                                                                                                                                                                                                                                                                                                                                                                                                                                                                                                                                                                                                                                                                                                                                                                                                                                                                                                    cool game. THe only thing that REALLY PISSES ME OFF, is the ridable transport. It takes you through the most scenic route and then fakes you out on another docking platform, before looping back around to take you through the scenic route to your destination, LIVID   \n",
              "17493                                                                                                                                                                                                                                                                                                                                                                                                                                                                                                                                                                                                                                                                                                                                                                                                                                                                                                                                                                                                                                                                                                                                                                                                                                                                                                                                                                                                                                         this game since I was a little kid, always have since. I still remember my first ever name, Zookoos lol, I thought it was so cool back in the day lmao but it seems edgy now, anyways if I've enjoyed this for years and years of my life, I'm sure you will too :)   \n",
              "\n",
              "       user_suggestion  \n",
              "0                    1  \n",
              "1                    1  \n",
              "2                    1  \n",
              "3                    1  \n",
              "4                    1  \n",
              "...                ...  \n",
              "17489                1  \n",
              "17490                1  \n",
              "17491                1  \n",
              "17492                1  \n",
              "17493                1  \n",
              "\n",
              "[17494 rows x 2 columns]"
            ]
          },
          "execution_count": 25,
          "metadata": {},
          "output_type": "execute_result"
        }
      ],
      "source": [
        "df = reviews[['user_review', 'user_suggestion']]\n",
        "df"
      ]
    },
    {
      "cell_type": "code",
      "execution_count": 6,
      "metadata": {},
      "outputs": [
        {
          "data": {
            "text/plain": [
              "user_suggestion\n",
              "1    9968\n",
              "0    7526\n",
              "Name: count, dtype: int64"
            ]
          },
          "execution_count": 6,
          "metadata": {},
          "output_type": "execute_result"
        }
      ],
      "source": [
        "df['user_suggestion'].value_counts()"
      ]
    },
    {
      "cell_type": "code",
      "execution_count": 7,
      "metadata": {},
      "outputs": [
        {
          "data": {
            "image/png": "[encoded data removed]",
            "text/plain": [
              "<Figure size 1000x500 with 2 Axes>"
            ]
          },
          "metadata": {},
          "output_type": "display_data"
        }
      ],
      "source": [
        "color_dict = {0: \"red\", 1: \"green\"}\n",
        "\n",
        "fig, axs = plt.subplots(1, 2, figsize=(10, 5))\n",
        "\n",
        "sns.countplot(x='user_suggestion', data=df, hue='user_suggestion', palette=[color_dict[0], color_dict[1]], ax=axs[0])\n",
        "df['user_suggestion'].value_counts().plot.pie(autopct='%1.1f%%', colors=[color_dict[1], color_dict[0]], ax=axs[1])\n",
        "fig.suptitle('Users Recommendations')\n",
        "plt.tight_layout()"
      ]
    },
    {
      "cell_type": "code",
      "execution_count": 27,
      "metadata": {},
      "outputs": [
        {
          "data": {
            "text/html": [
              "<div>\n",
              "<style scoped>\n",
              "    .dataframe tbody tr th:only-of-type {\n",
              "        vertical-align: middle;\n",
              "    }\n",
              "\n",
              "    .dataframe tbody tr th {\n",
              "        vertical-align: top;\n",
              "    }\n",
              "\n",
              "    .dataframe thead th {\n",
              "        text-align: right;\n",
              "    }\n",
              "</style>\n",
              "<table border=\"1\" class=\"dataframe\">\n",
              "  <thead>\n",
              "    <tr style=\"text-align: right;\">\n",
              "      <th></th>\n",
              "      <th>user_review</th>\n",
              "      <th>user_suggestion</th>\n",
              "    </tr>\n",
              "  </thead>\n",
              "  <tbody>\n",
              "    <tr>\n",
              "      <th>10673</th>\n",
              "      <td>Early Access ReviewGreat game, lots of fun play modes against other players or the AI, lots of free rewards and daily quests to  start the game and accumulate the cards, even going the free to play route. Regular balance patches and epansions, a diverse meta of aggro, mid range and control decks, and lots of content to explore!Great game allaorund, I really enjoy playing it and urge you to try it, too!Make sure to check out the subreddit at www.reddit.com/r/eternalcardgame and www.eternalwarcry.com as well!</td>\n",
              "      <td>1</td>\n",
              "    </tr>\n",
              "    <tr>\n",
              "      <th>17179</th>\n",
              "      <td>Product received for freedo not forget ww2 .albiania we kill the king , albania return to your precious mongolia....hahahahaha idiot turk and bosnian smell so bad..wow i can smell it. REMOVE KEBAB FROM THE PREMISES. you will get caught. russia+usa+croatia+slovak=kill bosnia...you will ww2/ tupac alive in serbia, tupac making album of serbia . fast rap tupac serbia. we are rich and have gold now hahahaha ha because of tupac... you are ppoor stink turk... you live in a hovel hahahaha, you live in a yurttupac alive numbr one #1 in serbia ....♥♥♥♥ the croatia ,..♥♥♥♥k ashol turks no good i spit in the mouth eye of ur flag and contry. 2pac aliv and real strong wizard kill all the turk farm aminal with rap magic now we the serba rule .ape of the zoo presidant georg bush fukc the great satan and lay egg this egg hatch and bosnia wa;s born. stupid baby form the eggn give bak our clay we will crush u lik a skull of pig. serbia greattst countrey</td>\n",
              "      <td>1</td>\n",
              "    </tr>\n",
              "    <tr>\n",
              "      <th>9237</th>\n",
              "      <td>Planetside 2 is one of those games with an unusual combination of genres. However, it works in this game's advantage, because it is worked out really well.Coming back to my point earlier, a fps mixed with a MMO isn't the combination you think of when making a game. Or it is, but very hard to work out. Planetside 2 did this very well. There are 3 unique worlds where you aim for domination by claiming land as your own. There are also 3 teams/replubics who are part of this battle. In short, only 1 world already contains thousands of players, duking it out to be the victor. That is just so much fun and works correctly.There are 6 classes to choose from, so you can choose the character that fits you the most. Your class has different weapons and styles depending on the replubic you choose. This also comes in the form of varying vehicles, which also work very well in this game. There are both land vehicles and airplanes, and both are easy to handle once you get the hang on it.It will take some time before you have built your character with customizations and weapons, but trust me, it is definitely worth it. And if you're not sure about what weapon to choose, you can hire them for some time or test them out for free as much as you want in the training section.There are 3 worlds in total. One being Indar, the kind of desert world. Most of the time that world is also most crowed. On the other hand you have Esamir, the snow world. This one is usually the most quiet. And finally, there is Amerish, which is a Jungle world. This one is mixed on people.There is one negative point that I also have to mention. That one being Character Customization, which is not or almost not part of this game. Everybody looks the exact same depending on your class. You are able to give you armor and weapons several colors, but this will cost you real life money, and it is not worth it.Planetside 2 is definitely worth checking out. I would advice picking this up with friends though, because it can be a bit boring when you go alone.</td>\n",
              "      <td>1</td>\n",
              "    </tr>\n",
              "    <tr>\n",
              "      <th>17380</th>\n",
              "      <td>game is buggier than sonic 06, gameplay is like superman 64, loading screens are longer than the actual game, it won't let me create an account, and the chat is more censored than north korean public media.10/10 MASTERPIECE                                  -IGN</td>\n",
              "      <td>1</td>\n",
              "    </tr>\n",
              "    <tr>\n",
              "      <th>13238</th>\n",
              "      <td>The store prices are stupid high. They are 4 times what they should be. So me recomending this game is saying I think this is fine. I do not beleive it is. So I will not give a thumbs up.The game is a decent management game on the whole. The times are on the high side but not as stupidly high as others in this class (app-facebook ect).  So if you do decide to play it. I strongely suggest not spending good money (or bad money or any money) on it. That's if the prices don't drop to within reason.</td>\n",
              "      <td>0</td>\n",
              "    </tr>\n",
              "    <tr>\n",
              "      <th>6129</th>\n",
              "      <td>I installed the free version on my computer using an oculus rift.   None of my controls work on my xbox game controller or my motion controllers...  I cannot stand the fact you have to use keyboard and monitor also.   I did finally get into the menu and start a flight but none of the buttons worked.   It states this works with Oculus no it dosn't.</td>\n",
              "      <td>0</td>\n",
              "    </tr>\n",
              "    <tr>\n",
              "      <th>4902</th>\n",
              "      <td>I've spent over 200 hours on PC and probably about another 300+ hours on Xbox. So with that being said, I figured it was time for a review. So heres my pros and cons review for Smite for you guys. Pros - 1. Free to play2. Several game modes3. Monthly updates to add new gods 4. Frequent updates to fix/improve the game and bugs5. Fast Progression6. Third person makes it unique to other MOBAs7. In game store only has cosmetics (NOT P2W)8. Good community9. Fast paced (Quick games depending on the game mode)10. 90 different gods to play as11. Periodic sales and good deals in the storeCons -1. Unbalanced gods2. Matchmaking (Noobs every game)3. Store isn't reasonably priced (Expensive)4. Devs updates don't change the correct things (god balancing, item balancing, or game mode changes)Now, of course these are MY opinions for pros and cons. If anyone would like to let me know their opinion or let me know if I'm missing something please comment. Also if you need anything dumbed down, ask. :) I hope you guys enjoy the game as much as I do. If not more. See ya out there! My username is DrowningInFlames</td>\n",
              "      <td>1</td>\n",
              "    </tr>\n",
              "    <tr>\n",
              "      <th>12735</th>\n",
              "      <td>Where to start....For one, you only get 5 out of the 38 cars for free. The rest, you have to buy. Now, maybe this wouldn't be nearly as bad if you could actually choose the cars, but no. You're stuck with what they've already chosen, which means you could end up driving in a class of cars that you might not want two.Secondly, ona similiar topic, you get 2 generic free tracks out of 14.Third.I couldn't find a way to rebind keyboard controls. The handling system felt off as such. (I know this is supposed to be played with a wheel and pedals, but I've played plenty of sims without. rFactor 1 and 2, other SimBin titles, Assetto Corsa, etc.) The UI was pretty bad as well.</td>\n",
              "      <td>0</td>\n",
              "    </tr>\n",
              "    <tr>\n",
              "      <th>15633</th>\n",
              "      <td>Early Access ReviewLove it, i originally played the first AQ/AQW and other varients and enjoyed them quite a bit, this is no exception! For their first 3D attempt they've done really well, no lag (Im on horrid net so im pretty suprised) but they never seem to have laggy games. I've played artix' games since i was a kid and even now as an adult i am enjoying them and plan to help fund this one! I already donated quite a lot to the browser games so why not! Artix' games are super worth it.. and i realise now i sound like i was hired to say all this. Maybe i was??? ... Who knows.. Maybe im not even real. Gameception.So ..Perks:No LagFun graphicsFun dialogueSmooth interfaceEasy systemUnderstandableect ect..Downs:Not much customization yet. Like faces ect.More content, seems rather.. skeletony? BADUMTISSSSI don't really have any complaints yet. But theres time!</td>\n",
              "      <td>1</td>\n",
              "    </tr>\n",
              "    <tr>\n",
              "      <th>16848</th>\n",
              "      <td>Early Access ReviewThis game is the better version of PUBG. Lemme tell you why;- Better FPS- Better graphics- Not everyone is a professional and you can actually win!- Only 30 players spawn at the same time and it's not such a cluster♥♥♥♥ as PUBG (100 player spawn there), the games in Cuisine Royale are pretty long but not as long as in Playersunknown-  The game is 10 times more fun if you play with your friendsThe only thing that I don't really like is the movement, driving and that you get no rewards for winning and getting kills.Anyways 8/10 download it, it's free you have nothing to lose.</td>\n",
              "      <td>1</td>\n",
              "    </tr>\n",
              "    <tr>\n",
              "      <th>17155</th>\n",
              "      <td>Early Access ReviewAGES :  11-17 recommendGRAPHICS :POTATO[ ]PUBG [ ]OK [ ]GOOD [ ]BEAUTIFUL [cruisine royal is here]4k [ ]GAMPLAY:CARSBUSMILITARY CARSHOTGUNSPISTOLSRIFLESMACHING GUNLMG BOLTED TO THE GROUND(SHOES THAT MAKE YOU JUMP AS HIGH AS A HOUSE..... FINDABLE)CLIMABLE WINDOWSSUPER FAS KNEE PADS (FINDABLE)Armour1st and 3rd person cameraAND MUCH MOREVERY RECOMMENDED BETTER THAN PUBG</td>\n",
              "      <td>1</td>\n",
              "    </tr>\n",
              "    <tr>\n",
              "      <th>7467</th>\n",
              "      <td>Pay-2-win. Can't win against deck full of legendary OP cards.Fun mechanics though, too bad the balance is so poor - if there would be limit like 2 legendary cards in a deck - it would be a lot more balanced. But there are no sane limits to amount of legendary or epic cards in deck.By the time I write this review, I played 20 hours on steam and around the same on mobile.It's great, till you start playing ranked and get thrown against full-legendary decks at rank 9.Look at this legendary:https://www.legends-decks.com/card/406/gortwoggronagormThen look at this common:https://www.legends-decks.com/card/872/lamecorprusSee the difference :)?</td>\n",
              "      <td>0</td>\n",
              "    </tr>\n",
              "    <tr>\n",
              "      <th>12043</th>\n",
              "      <td>Played for roughly 2 hours.  The best part of this game is the character creation screen.  Though graphic wise it's pretty good looking that's where it ends.  For whatever reason optimization is horrible.  The game runs best on max settings then it does on lower settings.  Class wise the way to level up skills and chaining them isn't really explained too well.  It's a learn as you go type thing.  Mounts have energy and if you run our you cannot mount till it recovers or you use an energy recovery potion.  Side quests aren't really explained what to do especially the gather ones where it doesn't even tell you where to gather the items at.  I hit level 11 within those 2 hours and was on a main mission quest where you had to kill a level 1 elite ghoul. It will 1 shot you dealing 1400+ damgae to you which is unavoidable if you're melee.  Balance wise the game is a giant joke.  You can 1 shot certain mobs and in return get 1 shot by mobs you must kill to progress the story mission quests.  I also ran into a bug where by dying to that level 11 ghoul and selecting to spawn at the ghost instead of having to spend gems to respawn right where I was, I would fall through the world over and over again unless I was able to time running the instant my characters ghost touched the ground.  All in all it's a sorry excuse for a game.  I understand personally now why it has failed in every region it has ever come out in.  On my honest opinion as someone who's been playing MMO's since 2002, don't bother with this one.  Let it die alone in a corner and go to something else.  It's not worth the time.</td>\n",
              "      <td>0</td>\n",
              "    </tr>\n",
              "    <tr>\n",
              "      <th>12218</th>\n",
              "      <td>Early Access ReviewReally fun game if you can play it. First you have to get past the loading screen, and then hope the server don't lag making it unplayable. On reddit people were saying steam is being understanding by letting people refund with more than 2 hours, lets hope they do the same for me.</td>\n",
              "      <td>0</td>\n",
              "    </tr>\n",
              "    <tr>\n",
              "      <th>1425</th>\n",
              "      <td>Updated 5th October 2017:BE AWARE THAT YOU CAN ALSO BE SUSPENDED FOR NO GOOD REASON BECAUSE THE DEVS DON'T WANT PEOPLE TO PLAY THE GAME OTHER THAN IN ONE SINGLE LINEAR STRATEGY.  1 week suspension received because having anything other than the devs strategy means you are accused of throwing a match.----------------------------original review below...This game has just gone from bad to worse.The match making is horrendous and alway has been since the introduction of team win / loose MMR opposed to personal skills / contribution being rewarded.  The game just doesn't have enough experienced players for you not to have a team peppered with lower skills or lack understanding of the main objective.  The problem with this is your MMR value is penalised due to MMR only being awarded for a match win (so regardless of how well you do personally).  The devs solution to this is not to fix match making but to hide the MMR value from almost everywhere, with the last remaining mention of it earmarked for removal if/when ranked play is finally introduced.Furthermore the matchmaking has been bust since players were able to group and raise their MMR by often queuing against solo players.  There is no option as a solo player to opt out of being stomped by a team on a 3rd party VOIP that has a team coordination advantage.  A solution to this was introduced to split groups during balancing if the team MMR disparity was above a certain threshold but this has subsequently been removed.  The shrinking of maps dumbed down the strategy in the game and increased the death match style it currently has with very short respawn times based on level rather than personal death rate.  Other changes such as opening up a path to your base if you loose a gamma 3 fight further dumbed down the game as it made the match almost entirely about the outcome of gamma 3.There are so few players that the queue times for a match are insane, i'm talking around an hour or more waiting for a match in what is known as the bracket 4 player pool.  This is the case even though over 2 thirds of the previous days highest concurrent player count are ingame.Expect AI bots in PvP until you reach bracket 4 too.Still no VOIP service available in game and the next most pressing feature to be added is the addition of a new in game store, eh yeah go figure the priorities...EDIT:  You also aren't given the choice of what game mode you wish to play within PvP so if you don't like the Frontline mode it's tough because you can be placed into either Frontline or Conquest.  Another bizare decision as both modes require the same number of players.  It's like they deliberatly think of ways to cheese off the playerbase.Since the current experience is beyond frustrating I can't recommend it with the problems it has.</td>\n",
              "      <td>0</td>\n",
              "    </tr>\n",
              "    <tr>\n",
              "      <th>2520</th>\n",
              "      <td>The game itself is pretty good, addictive even, but do not under any circumstances make the mistake of actually making any in-game purchases. Gaijin may at any point remove any content or progress, be it paid for or achieved through playing, from your account without offering any explanation or compensation. Their only customer service guideline is \"the customer is always wrong\".</td>\n",
              "      <td>0</td>\n",
              "    </tr>\n",
              "    <tr>\n",
              "      <th>1594</th>\n",
              "      <td>Product received for freeFor something I can pick up and drop into, murder some spaceships and get back to real life fairly fast, it's great. As an early access, sure there has been a few problems with matchmaking or load times but with the new update things are working a lot better. I PREFER THIS GAME TO DREADNOUGHT (which is in beta now) This is a good tactical team based game where knowledge of ships and how to use them can put you at an advantage or disadvantage. I highly recommend this game. It's a shame there isn't a bigger following and I don't know what reviews are so mixed lately.I love this game.**EDIT - I have over 600 hours now. I've seen people with 2000hrs+ complaining. I guess sometimes even you play 2000hrs you can still suck at the game. lol. This game from day one has consistently improved. As an early backer, I've easily gotten all the ships but I can see how grindy it may seem to some. I don't play this non-stop and burn myself out. As such, I've had this for ages now and still love to drop into space in my yellow Enforcer and turn the tides of matches, while escaping punishment (for the most part).As a space genre nerd, this will ALWAYS be a top space combat game no matter if it's MOBA and not MMORPG or anything... Really really good game once you know what you're doing and how to fly what you're in.</td>\n",
              "      <td>1</td>\n",
              "    </tr>\n",
              "    <tr>\n",
              "      <th>16779</th>\n",
              "      <td>Access ReviewIt's a less trash battle royale than fortnite. The gameplay is great until you get uberpanned 2-3 matches in a row. PLZ fix the pan, it is way too OP. Impossible to kill someone that has it unless you have a huge machine gun. My friend wants to khs because of this damn pan.</td>\n",
              "      <td>1</td>\n",
              "    </tr>\n",
              "    <tr>\n",
              "      <th>10780</th>\n",
              "      <td>Early Access ReviewI loved MTG, played for 400+ hours of 2012, 2013, 2015, Duels... I hate Hearthstone RNG fest and casual mechanics.They took what is best of MTG (combat, fast spells, strategy, deck building), used a great UI and fast paced game flow (only thing useful from Hearthstone) and made this incredible game.Totally worth the experience.I already sum 60+ hours in the first two weeks.</td>\n",
              "      <td>1</td>\n",
              "    </tr>\n",
              "    <tr>\n",
              "      <th>8039</th>\n",
              "      <td>Not sure that I want to recommend just yet.Have had the game running for 2 hours to download, instead of just downloading through steam, when finally done it crashes on startup, currently validating all file.20 minutes after validating, found error can't play in fullscreen... Try it out, but I don't like the gamePros:Nothing yet</td>\n",
              "      <td>0</td>\n",
              "    </tr>\n",
              "  </tbody>\n",
              "</table>\n",
              "</div>"
            ],
            "text/plain": [
              "                                                                                                                                                                                                                                                                                                                                                                                                                                                                                                                                                                                                                                                                                                                                                                                                                                                                                                                                                                                                                                                                                                                                                                                                                                                                                                                                                                                                                                                                                                                                                                                                                                                                                                                                                                                                                                                                                                                                                                                                                                                                                                                                                                                                                                                                                                                                                                                                                                                                                                                                                                                                                                                                                                                                                                                                                                                                                                      user_review  \\\n",
              "10673                                                                                                                                                                                                                                                                                                                                                                                                                                                                                                                                                                                                                                                                                                                                                                                                                                                                                                                                                                                                                                                                                                                                                                                                                                                                                                                                                                                                                                                                                                                                                                                                                                                                                                                                                                                                                                                                                                                                                                                                                                                                                                                                                                                                                                                                                                                                                                            Early Access ReviewGreat game, lots of fun play modes against other players or the AI, lots of free rewards and daily quests to  start the game and accumulate the cards, even going the free to play route. Regular balance patches and epansions, a diverse meta of aggro, mid range and control decks, and lots of content to explore!Great game allaorund, I really enjoy playing it and urge you to try it, too!Make sure to check out the subreddit at www.reddit.com/r/eternalcardgame and www.eternalwarcry.com as well!   \n",
              "17179                                                                                                                                                                                                                                                                                                                                                                                                                                                                                                                                                                                                                                                                                                                                                                                                                                                                                                                                                                                                                                                                                                                                                                                                                                                                                                                                                                                                                                                                                                                                                                                                                                                                                                                                                                                                                                                                                                                       Product received for freedo not forget ww2 .albiania we kill the king , albania return to your precious mongolia....hahahahaha idiot turk and bosnian smell so bad..wow i can smell it. REMOVE KEBAB FROM THE PREMISES. you will get caught. russia+usa+croatia+slovak=kill bosnia...you will ww2/ tupac alive in serbia, tupac making album of serbia . fast rap tupac serbia. we are rich and have gold now hahahaha ha because of tupac... you are ppoor stink turk... you live in a hovel hahahaha, you live in a yurttupac alive numbr one #1 in serbia ....♥♥♥♥ the croatia ,..♥♥♥♥k ashol turks no good i spit in the mouth eye of ur flag and contry. 2pac aliv and real strong wizard kill all the turk farm aminal with rap magic now we the serba rule .ape of the zoo presidant georg bush fukc the great satan and lay egg this egg hatch and bosnia wa;s born. stupid baby form the eggn give bak our clay we will crush u lik a skull of pig. serbia greattst countrey   \n",
              "9237                                                                                                                                                                                                                                                                                                                                                                                                                                                                                                                                                                                                                                                                                                                                                                                           Planetside 2 is one of those games with an unusual combination of genres. However, it works in this game's advantage, because it is worked out really well.Coming back to my point earlier, a fps mixed with a MMO isn't the combination you think of when making a game. Or it is, but very hard to work out. Planetside 2 did this very well. There are 3 unique worlds where you aim for domination by claiming land as your own. There are also 3 teams/replubics who are part of this battle. In short, only 1 world already contains thousands of players, duking it out to be the victor. That is just so much fun and works correctly.There are 6 classes to choose from, so you can choose the character that fits you the most. Your class has different weapons and styles depending on the replubic you choose. This also comes in the form of varying vehicles, which also work very well in this game. There are both land vehicles and airplanes, and both are easy to handle once you get the hang on it.It will take some time before you have built your character with customizations and weapons, but trust me, it is definitely worth it. And if you're not sure about what weapon to choose, you can hire them for some time or test them out for free as much as you want in the training section.There are 3 worlds in total. One being Indar, the kind of desert world. Most of the time that world is also most crowed. On the other hand you have Esamir, the snow world. This one is usually the most quiet. And finally, there is Amerish, which is a Jungle world. This one is mixed on people.There is one negative point that I also have to mention. That one being Character Customization, which is not or almost not part of this game. Everybody looks the exact same depending on your class. You are able to give you armor and weapons several colors, but this will cost you real life money, and it is not worth it.Planetside 2 is definitely worth checking out. I would advice picking this up with friends though, because it can be a bit boring when you go alone.   \n",
              "17380                                                                                                                                                                                                                                                                                                                                                                                                                                                                                                                                                                                                                                                                                                                                                                                                                                                                                                                                                                                                                                                                                                                                                                                                                                                                                                                                                                                                                                                                                                                                                                                                                                                                                                                                                                                                                                                                                                                                                                                                                                                                                                                                                                                                                                                                                                                                                                                                                                                                                                                                                                                                                                       game is buggier than sonic 06, gameplay is like superman 64, loading screens are longer than the actual game, it won't let me create an account, and the chat is more censored than north korean public media.10/10 MASTERPIECE                                  -IGN   \n",
              "13238                                                                                                                                                                                                                                                                                                                                                                                                                                                                                                                                                                                                                                                                                                                                                                                                                                                                                                                                                                                                                                                                                                                                                                                                                                                                                                                                                                                                                                                                                                                                                                                                                                                                                                                                                                                                                                                                                                                                                                                                                                                                                                                                                                                                                                                                                                                                                                                         The store prices are stupid high. They are 4 times what they should be. So me recomending this game is saying I think this is fine. I do not beleive it is. So I will not give a thumbs up.The game is a decent management game on the whole. The times are on the high side but not as stupidly high as others in this class (app-facebook ect).  So if you do decide to play it. I strongely suggest not spending good money (or bad money or any money) on it. That's if the prices don't drop to within reason.   \n",
              "6129                                                                                                                                                                                                                                                                                                                                                                                                                                                                                                                                                                                                                                                                                                                                                                                                                                                                                                                                                                                                                                                                                                                                                                                                                                                                                                                                                                                                                                                                                                                                                                                                                                                                                                                                                                                                                                                                                                                                                                                                                                                                                                                                                                                                                                                                                                                                                                                                                                                                                                                                                I installed the free version on my computer using an oculus rift.   None of my controls work on my xbox game controller or my motion controllers...  I cannot stand the fact you have to use keyboard and monitor also.   I did finally get into the menu and start a flight but none of the buttons worked.   It states this works with Oculus no it dosn't.   \n",
              "4902                                                                                                                                                                                                                                                                                                                                                                                                                                                                                                                                                                                                                                                                                                                                                                                                                                                                                                                                                                                                                                                                                                                                                                                                                                                                                                                                                                                                                                                                                                                                                                                                                                                                                                                                                          I've spent over 200 hours on PC and probably about another 300+ hours on Xbox. So with that being said, I figured it was time for a review. So heres my pros and cons review for Smite for you guys. Pros - 1. Free to play2. Several game modes3. Monthly updates to add new gods 4. Frequent updates to fix/improve the game and bugs5. Fast Progression6. Third person makes it unique to other MOBAs7. In game store only has cosmetics (NOT P2W)8. Good community9. Fast paced (Quick games depending on the game mode)10. 90 different gods to play as11. Periodic sales and good deals in the storeCons -1. Unbalanced gods2. Matchmaking (Noobs every game)3. Store isn't reasonably priced (Expensive)4. Devs updates don't change the correct things (god balancing, item balancing, or game mode changes)Now, of course these are MY opinions for pros and cons. If anyone would like to let me know their opinion or let me know if I'm missing something please comment. Also if you need anything dumbed down, ask. :) I hope you guys enjoy the game as much as I do. If not more. See ya out there! My username is DrowningInFlames   \n",
              "12735                                                                                                                                                                                                                                                                                                                                                                                                                                                                                                                                                                                                                                                                                                                                                                                                                                                                                                                                                                                                                                                                                                                                                                                                                                                                                                                                                                                                                                                                                                                                                                                                                                                                                                                                                                                                                                                                                                                                                                                                                                                                                                                                                                                                         Where to start....For one, you only get 5 out of the 38 cars for free. The rest, you have to buy. Now, maybe this wouldn't be nearly as bad if you could actually choose the cars, but no. You're stuck with what they've already chosen, which means you could end up driving in a class of cars that you might not want two.Secondly, ona similiar topic, you get 2 generic free tracks out of 14.Third.I couldn't find a way to rebind keyboard controls. The handling system felt off as such. (I know this is supposed to be played with a wheel and pedals, but I've played plenty of sims without. rFactor 1 and 2, other SimBin titles, Assetto Corsa, etc.) The UI was pretty bad as well.   \n",
              "15633                                                                                                                                                                                                                                                                                                                                                                                                                                                                                                                                                                                                                                                                                                                                                                                                                                                                                                                                                                                                                                                                                                                                                                                                                                                                                                                                                                                                                                                                                                                                                                                                                                                                                                                                                                                                                                                                                                                                                                                                        Early Access ReviewLove it, i originally played the first AQ/AQW and other varients and enjoyed them quite a bit, this is no exception! For their first 3D attempt they've done really well, no lag (Im on horrid net so im pretty suprised) but they never seem to have laggy games. I've played artix' games since i was a kid and even now as an adult i am enjoying them and plan to help fund this one! I already donated quite a lot to the browser games so why not! Artix' games are super worth it.. and i realise now i sound like i was hired to say all this. Maybe i was??? ... Who knows.. Maybe im not even real. Gameception.So ..Perks:No LagFun graphicsFun dialogueSmooth interfaceEasy systemUnderstandableect ect..Downs:Not much customization yet. Like faces ect.More content, seems rather.. skeletony? BADUMTISSSSI don't really have any complaints yet. But theres time!   \n",
              "16848                                                                                                                                                                                                                                                                                                                                                                                                                                                                                                                                                                                                                                                                                                                                                                                                                                                                                                                                                                                                                                                                                                                                                                                                                                                                                                                                                                                                                                                                                                                                                                                                                                                                                                                                                                                                                                                                                                                                                                                                                                                                                                                                                                                                                                                                                    Early Access ReviewThis game is the better version of PUBG. Lemme tell you why;- Better FPS- Better graphics- Not everyone is a professional and you can actually win!- Only 30 players spawn at the same time and it's not such a cluster♥♥♥♥ as PUBG (100 player spawn there), the games in Cuisine Royale are pretty long but not as long as in Playersunknown-  The game is 10 times more fun if you play with your friendsThe only thing that I don't really like is the movement, driving and that you get no rewards for winning and getting kills.Anyways 8/10 download it, it's free you have nothing to lose.    \n",
              "17155                                                                                                                                                                                                                                                                                                                                                                                                                                                                                                                                                                                                                                                                                                                                                                                                                                                                                                                                                                                                                                                                                                                                                                                                                                                                                                                                                                                                                                                                                                                                                                                                                                                                                                                                                                                                                                                                                                                                                                                                                                                                                                                                                                                                                                                                                                                                                                                                                                                                                                        Early Access ReviewAGES :  11-17 recommendGRAPHICS :POTATO[ ]PUBG [ ]OK [ ]GOOD [ ]BEAUTIFUL [cruisine royal is here]4k [ ]GAMPLAY:CARSBUSMILITARY CARSHOTGUNSPISTOLSRIFLESMACHING GUNLMG BOLTED TO THE GROUND(SHOES THAT MAKE YOU JUMP AS HIGH AS A HOUSE..... FINDABLE)CLIMABLE WINDOWSSUPER FAS KNEE PADS (FINDABLE)Armour1st and 3rd person cameraAND MUCH MOREVERY RECOMMENDED BETTER THAN PUBG   \n",
              "7467                                                                                                                                                                                                                                                                                                                                                                                                                                                                                                                                                                                                                                                                                                                                                                                                                                                                                                                                                                                                                                                                                                                                                                                                                                                                                                                                                                                                                                                                                                                                                                                                                                                                                                                                                                                                                                                                                                                                                                                                                                                                                                                                                                                                                                          Pay-2-win. Can't win against deck full of legendary OP cards.Fun mechanics though, too bad the balance is so poor - if there would be limit like 2 legendary cards in a deck - it would be a lot more balanced. But there are no sane limits to amount of legendary or epic cards in deck.By the time I write this review, I played 20 hours on steam and around the same on mobile.It's great, till you start playing ranked and get thrown against full-legendary decks at rank 9.Look at this legendary:https://www.legends-decks.com/card/406/gortwoggronagormThen look at this common:https://www.legends-decks.com/card/872/lamecorprusSee the difference :)?   \n",
              "12043                                                                                                                                                                                                                                                                                                                                                                                                                                                                                                                                                                                                                                                                                                                                                                                                                                                                                                                                                                                                                                                                                                                                                                                                                                      Played for roughly 2 hours.  The best part of this game is the character creation screen.  Though graphic wise it's pretty good looking that's where it ends.  For whatever reason optimization is horrible.  The game runs best on max settings then it does on lower settings.  Class wise the way to level up skills and chaining them isn't really explained too well.  It's a learn as you go type thing.  Mounts have energy and if you run our you cannot mount till it recovers or you use an energy recovery potion.  Side quests aren't really explained what to do especially the gather ones where it doesn't even tell you where to gather the items at.  I hit level 11 within those 2 hours and was on a main mission quest where you had to kill a level 1 elite ghoul. It will 1 shot you dealing 1400+ damgae to you which is unavoidable if you're melee.  Balance wise the game is a giant joke.  You can 1 shot certain mobs and in return get 1 shot by mobs you must kill to progress the story mission quests.  I also ran into a bug where by dying to that level 11 ghoul and selecting to spawn at the ghost instead of having to spend gems to respawn right where I was, I would fall through the world over and over again unless I was able to time running the instant my characters ghost touched the ground.  All in all it's a sorry excuse for a game.  I understand personally now why it has failed in every region it has ever come out in.  On my honest opinion as someone who's been playing MMO's since 2002, don't bother with this one.  Let it die alone in a corner and go to something else.  It's not worth the time.   \n",
              "12218                                                                                                                                                                                                                                                                                                                                                                                                                                                                                                                                                                                                                                                                                                                                                                                                                                                                                                                                                                                                                                                                                                                                                                                                                                                                                                                                                                                                                                                                                                                                                                                                                                                                                                                                                                                                                                                                                                                                                                                                                                                                                                                                                                                                                                                                                                                                                                                                                                                                                                                                                                                                Early Access ReviewReally fun game if you can play it. First you have to get past the loading screen, and then hope the server don't lag making it unplayable. On reddit people were saying steam is being understanding by letting people refund with more than 2 hours, lets hope they do the same for me.   \n",
              "1425   Updated 5th October 2017:BE AWARE THAT YOU CAN ALSO BE SUSPENDED FOR NO GOOD REASON BECAUSE THE DEVS DON'T WANT PEOPLE TO PLAY THE GAME OTHER THAN IN ONE SINGLE LINEAR STRATEGY.  1 week suspension received because having anything other than the devs strategy means you are accused of throwing a match.----------------------------original review below...This game has just gone from bad to worse.The match making is horrendous and alway has been since the introduction of team win / loose MMR opposed to personal skills / contribution being rewarded.  The game just doesn't have enough experienced players for you not to have a team peppered with lower skills or lack understanding of the main objective.  The problem with this is your MMR value is penalised due to MMR only being awarded for a match win (so regardless of how well you do personally).  The devs solution to this is not to fix match making but to hide the MMR value from almost everywhere, with the last remaining mention of it earmarked for removal if/when ranked play is finally introduced.Furthermore the matchmaking has been bust since players were able to group and raise their MMR by often queuing against solo players.  There is no option as a solo player to opt out of being stomped by a team on a 3rd party VOIP that has a team coordination advantage.  A solution to this was introduced to split groups during balancing if the team MMR disparity was above a certain threshold but this has subsequently been removed.  The shrinking of maps dumbed down the strategy in the game and increased the death match style it currently has with very short respawn times based on level rather than personal death rate.  Other changes such as opening up a path to your base if you loose a gamma 3 fight further dumbed down the game as it made the match almost entirely about the outcome of gamma 3.There are so few players that the queue times for a match are insane, i'm talking around an hour or more waiting for a match in what is known as the bracket 4 player pool.  This is the case even though over 2 thirds of the previous days highest concurrent player count are ingame.Expect AI bots in PvP until you reach bracket 4 too.Still no VOIP service available in game and the next most pressing feature to be added is the addition of a new in game store, eh yeah go figure the priorities...EDIT:  You also aren't given the choice of what game mode you wish to play within PvP so if you don't like the Frontline mode it's tough because you can be placed into either Frontline or Conquest.  Another bizare decision as both modes require the same number of players.  It's like they deliberatly think of ways to cheese off the playerbase.Since the current experience is beyond frustrating I can't recommend it with the problems it has.   \n",
              "2520                                                                                                                                                                                                                                                                                                                                                                                                                                                                                                                                                                                                                                                                                                                                                                                                                                                                                                                                                                                                                                                                                                                                                                                                                                                                                                                                                                                                                                                                                                                                                                                                                                                                                                                                                                                                                                                                                                                                                                                                                                                                                                                                                                                                                                                                                                                                                                                                                                                                                                               The game itself is pretty good, addictive even, but do not under any circumstances make the mistake of actually making any in-game purchases. Gaijin may at any point remove any content or progress, be it paid for or achieved through playing, from your account without offering any explanation or compensation. Their only customer service guideline is \"the customer is always wrong\".   \n",
              "1594                                                                                                                                                                                                                                                                                                                                                                                                                                                                                                                                                                                                                                                                                                                                                                                                                                                                                                                                                                                                                                                                                                                                                                                                                                                                                                                                                                                                                                                                                                               Product received for freeFor something I can pick up and drop into, murder some spaceships and get back to real life fairly fast, it's great. As an early access, sure there has been a few problems with matchmaking or load times but with the new update things are working a lot better. I PREFER THIS GAME TO DREADNOUGHT (which is in beta now) This is a good tactical team based game where knowledge of ships and how to use them can put you at an advantage or disadvantage. I highly recommend this game. It's a shame there isn't a bigger following and I don't know what reviews are so mixed lately.I love this game.**EDIT - I have over 600 hours now. I've seen people with 2000hrs+ complaining. I guess sometimes even you play 2000hrs you can still suck at the game. lol. This game from day one has consistently improved. As an early backer, I've easily gotten all the ships but I can see how grindy it may seem to some. I don't play this non-stop and burn myself out. As such, I've had this for ages now and still love to drop into space in my yellow Enforcer and turn the tides of matches, while escaping punishment (for the most part).As a space genre nerd, this will ALWAYS be a top space combat game no matter if it's MOBA and not MMORPG or anything... Really really good game once you know what you're doing and how to fly what you're in.   \n",
              "16779                                                                                                                                                                                                                                                                                                                                                                                                                                                                                                                                                                                                                                                                                                                                                                                                                                                                                                                                                                                                                                                                                                                                                                                                                                                                                                                                                                                                                                                                                                                                                                                                                                                                                                                                                                                                                                                                                                                                                                                                                                                                                                                                                                                                                                                                                                                                                                                                                                                                                                                                                                                                             Access ReviewIt's a less trash battle royale than fortnite. The gameplay is great until you get uberpanned 2-3 matches in a row. PLZ fix the pan, it is way too OP. Impossible to kill someone that has it unless you have a huge machine gun. My friend wants to khs because of this damn pan.   \n",
              "10780                                                                                                                                                                                                                                                                                                                                                                                                                                                                                                                                                                                                                                                                                                                                                                                                                                                                                                                                                                                                                                                                                                                                                                                                                                                                                                                                                                                                                                                                                                                                                                                                                                                                                                                                                                                                                                                                                                                                                                                                                                                                                                                                                                                                                                                                                                                                                                                                                                                                                                 Early Access ReviewI loved MTG, played for 400+ hours of 2012, 2013, 2015, Duels... I hate Hearthstone RNG fest and casual mechanics.They took what is best of MTG (combat, fast spells, strategy, deck building), used a great UI and fast paced game flow (only thing useful from Hearthstone) and made this incredible game.Totally worth the experience.I already sum 60+ hours in the first two weeks.   \n",
              "8039                                                                                                                                                                                                                                                                                                                                                                                                                                                                                                                                                                                                                                                                                                                                                                                                                                                                                                                                                                                                                                                                                                                                                                                                                                                                                                                                                                                                                                                                                                                                                                                                                                                                                                                                                                                                                                                                                                                                                                                                                                                                                                                                                                                                                                                                                                                                                                                                                                                                                                                                                                   Not sure that I want to recommend just yet.Have had the game running for 2 hours to download, instead of just downloading through steam, when finally done it crashes on startup, currently validating all file.20 minutes after validating, found error can't play in fullscreen... Try it out, but I don't like the gamePros:Nothing yet   \n",
              "\n",
              "       user_suggestion  \n",
              "10673                1  \n",
              "17179                1  \n",
              "9237                 1  \n",
              "17380                1  \n",
              "13238                0  \n",
              "6129                 0  \n",
              "4902                 1  \n",
              "12735                0  \n",
              "15633                1  \n",
              "16848                1  \n",
              "17155                1  \n",
              "7467                 0  \n",
              "12043                0  \n",
              "12218                0  \n",
              "1425                 0  \n",
              "2520                 0  \n",
              "1594                 1  \n",
              "16779                1  \n",
              "10780                1  \n",
              "8039                 0  "
            ]
          },
          "execution_count": 27,
          "metadata": {},
          "output_type": "execute_result"
        }
      ],
      "source": [
        "pd.set_option('display.max_colwidth', None)\n",
        "df.sample(20)"
      ]
    },
    {
      "cell_type": "markdown",
      "metadata": {},
      "source": [
        "Po przejrzeniu danych można zauważyć, że część recenzji zawiera wyrażenie \"Early Access Review\". Jest to zaledwie informacja, że recenzja została wystawiona dla gry, która nie miała oficjalnej premiery. W kontekście analizy sentymentu nie ma to dla nas żadnego znaczenia, więc należy je usunąć."
      ]
    },
    {
      "cell_type": "code",
      "execution_count": 28,
      "metadata": {},
      "outputs": [
        {
          "data": {
            "text/plain": [
              "'Early Access ReviewDo not play this and if you do, don\\'t play as Germany because they were originally a fair opponet until \"The Great Nerfining\" were they they got nerfed so much that they have to pay royalties to Nerf. And defitinly don\\'t play as tanker because 99% of the time you will get killed by and infantry to the point you fear them more then tank destroyers which are tanks meant for destroying other tanks. And don\\'t forget the PTRD which one shots infantry, cars, light/medium/heavy/destroyers with it\\'s infinite range accuracy and damage. Seriously developers fix the god damn game rather than adding in more and more half baked content that is pointless or makes the game even harder for german players which already have it hard enough. Why the hell am I even saying anything the developers won\\'t listen to the community. Also did i mention to FIX THE GOD DAMN SERVERS BEING HOSTED ON PLUTO ALL THE TIME LIKE JESUS CHRIST!'"
            ]
          },
          "execution_count": 28,
          "metadata": {},
          "output_type": "execute_result"
        }
      ],
      "source": [
        "# Testowy pojedynczy przykład - przed usunięciem Early Access Review\n",
        "df.loc[6429, 'user_review']"
      ]
    },
    {
      "cell_type": "code",
      "execution_count": 29,
      "metadata": {},
      "outputs": [],
      "source": [
        "df.loc[:, 'user_review'] = df['user_review'].str.replace(r'Early Access Review(?=\\S|$)', '', regex=True)"
      ]
    },
    {
      "cell_type": "code",
      "execution_count": 30,
      "metadata": {},
      "outputs": [
        {
          "data": {
            "text/plain": [
              "'Do not play this and if you do, don\\'t play as Germany because they were originally a fair opponet until \"The Great Nerfining\" were they they got nerfed so much that they have to pay royalties to Nerf. And defitinly don\\'t play as tanker because 99% of the time you will get killed by and infantry to the point you fear them more then tank destroyers which are tanks meant for destroying other tanks. And don\\'t forget the PTRD which one shots infantry, cars, light/medium/heavy/destroyers with it\\'s infinite range accuracy and damage. Seriously developers fix the god damn game rather than adding in more and more half baked content that is pointless or makes the game even harder for german players which already have it hard enough. Why the hell am I even saying anything the developers won\\'t listen to the community. Also did i mention to FIX THE GOD DAMN SERVERS BEING HOSTED ON PLUTO ALL THE TIME LIKE JESUS CHRIST!'"
            ]
          },
          "execution_count": 30,
          "metadata": {},
          "output_type": "execute_result"
        }
      ],
      "source": [
        "# Testowy pojedynczy przykład - po usunięciu Early Access Review\n",
        "df.loc[6429, 'user_review']"
      ]
    },
    {
      "cell_type": "code",
      "execution_count": 32,
      "metadata": {},
      "outputs": [
        {
          "data": {
            "text/plain": [
              "'Product received for freeVery good game, Much like Call Of Duty but still a lot of skill involved. If this game keeps updating and getting better this could be a big game'"
            ]
          },
          "execution_count": 32,
          "metadata": {},
          "output_type": "execute_result"
        }
      ],
      "source": [
        "df.loc[857, 'user_review']"
      ]
    },
    {
      "cell_type": "markdown",
      "metadata": {},
      "source": [
        "Oprócz taga \"Early Access Review\" występuje także \"Product received for free\", który często występował w parze z tym pierwszym. Jako że usunęliśmy już \"Early Access Review\", możemy zastosować ten sam regex dla \"Product received for free\"."
      ]
    },
    {
      "cell_type": "code",
      "execution_count": 33,
      "metadata": {},
      "outputs": [],
      "source": [
        "df.loc[:, 'user_review'] = df['user_review'].str.replace(r'Product received for free(?=\\S|$)', '', regex=True)"
      ]
    },
    {
      "cell_type": "code",
      "execution_count": 34,
      "metadata": {},
      "outputs": [
        {
          "data": {
            "text/plain": [
              "'Very good game, Much like Call Of Duty but still a lot of skill involved. If this game keeps updating and getting better this could be a big game'"
            ]
          },
          "execution_count": 34,
          "metadata": {},
          "output_type": "execute_result"
        }
      ],
      "source": [
        "df.loc[857, 'user_review']"
      ]
    },
    {
      "cell_type": "markdown",
      "metadata": {},
      "source": [
        "Oprócz tagów, recenzje zawierają wiele znaków specjalnych..."
      ]
    },
    {
      "cell_type": "code",
      "execution_count": 35,
      "metadata": {},
      "outputs": [
        {
          "data": {
            "text/plain": [
              "'░░░░░░░░░░░▄▐░░░░░░▄▄▄░░▄██▄░░░░░▐▀█▀▌░░░░▀█▄░░░░░▐█▄█▌░░░░░░▀█▄░░░░░░▀▄▀░░░▄▄▄▄▄▀▀░░░░▄▄▄██▀▀▀▀░░░█▀▄▄▄█░▀▀░░░▌░▄▄▄▐▌▀▀▀▄░▐░░░▄▄░█░▀▀ U HAVE BEEN SPOOKED BY THE▀█▌░░░▄░▀█▀░▀░░░░░░░▄▄▐▌▄▄░░░░░░░▀███▀█░▄░░░░░░▐▌▀▄▀▄▀▐▄SPOOKY SKILENTON░░░░░░▐▀░░░░░░▐▌░░░░░░█░░░░░░░░█░░░░░▐▌░░░░░░░░░█░░░░░█░░░░░░░░░░▐▌'"
            ]
          },
          "execution_count": 35,
          "metadata": {},
          "output_type": "execute_result"
        }
      ],
      "source": [
        "df.loc[128, 'user_review']"
      ]
    },
    {
      "cell_type": "code",
      "execution_count": 36,
      "metadata": {},
      "outputs": [
        {
          "data": {
            "text/plain": [
              "'░░░░░░░░░░░░▄▐ ░░░░░░░░░░░▄██▄ ░░░░░( ͡° ͜ʖ ͡°)░░░░░▀█▄ ░░░░░░░░░░░░░░░░▀█ ░░░░▄▄▄██▀▀▀▀▄▄▄▄▄▀▀ ░░░█▀▄▄▄█░▀▀ ░░░▌░▄▄▄▐▌▀▀▀ ▄░▐░░░▄▄░█░▀▀ ▀█▌░░░▄░▀█▀░▀ ░░░░░░░▄▄▐▌▄▄ ░░░░░░░▀███▀█░▄ ░░░░░░▐▌▀▄▀▄▀▐▄ ░░░░░░▐▀░░░░░░▐▌ ░░░░░░█░░░░░░░░█ ░░░░░▐▌░░░░░░░░░█ ░░░░░█░░░░░░░░░░▐▌'"
            ]
          },
          "execution_count": 36,
          "metadata": {},
          "output_type": "execute_result"
        }
      ],
      "source": [
        "df.loc[190, 'user_review']"
      ]
    },
    {
      "cell_type": "code",
      "execution_count": 39,
      "metadata": {},
      "outputs": [
        {
          "data": {
            "text/plain": [
              "'░░░░░░░░░░░█▀▀░░█░░░░░░░░░░░░▄▀▀▀▀░░░░░█▄▄░░░░░░░░░░█░█░░░░░░░░░░▐░░░ ░░░░░░▐▐░░░░░░░░░▄░▐░░░░░░░░░█░░░░░░░░▄▀▀░▐░░░ ░░░░▄▀░░░░░░░░▐░▄▄▀░░░░ ░░▄▀░░░▐░░░░░█▄▀░▐░░░░░ ░░█░░░▐░░░░░░░░▄░█░░░░░ ░░░█▄░░▀▄░░░░▄▀▐░█░░░░░ ░░░█▐▀▀▀░▀▀▀▀░░▐░█░░░░░ ░░▐█▐▄░░▀░░░░░░▐░█▄▄░░░ ░░▀▀░▄spooky▄░▐▄▄▄▄▀  ░░░░░░house of jumpscares  ░░░░░░░░░░░░░░░░░░░░░░░░░░░░'"
            ]
          },
          "execution_count": 39,
          "metadata": {},
          "output_type": "execute_result"
        }
      ],
      "source": [
        "df.loc[193, 'user_review']"
      ]
    },
    {
      "cell_type": "code",
      "execution_count": 41,
      "metadata": {},
      "outputs": [
        {
          "data": {
            "text/plain": [
              "\"....................../´¯/) ....................,/¯../ .................../..../ ............./´¯/'...'/´¯¯`·¸ ........../'/.../..../......./¨¯\\\\ ........('(...´...´.... ¯~/'...') .........\\\\.................'...../ ..........''...\\\\.......... _.·´ ............\\\\..............( ..............\\\\.............\\\\...Too spooky\""
            ]
          },
          "execution_count": 41,
          "metadata": {},
          "output_type": "execute_result"
        }
      ],
      "source": [
        "df.loc[232, 'user_review']"
      ]
    }
  ],
  "metadata": {
    "colab": {
      "provenance": []
    },
    "kernelspec": {
      "display_name": "Python 3",
      "name": "python3"
    },
    "language_info": {
      "codemirror_mode": {
        "name": "ipython",
        "version": 3
      },
      "file_extension": ".py",
      "mimetype": "text/x-python",
      "name": "python",
      "nbconvert_exporter": "python",
      "pygments_lexer": "ipython3",
      "version": "3.10.13"
    }
  },
  "nbformat": 4,
  "nbformat_minor": 0
}
