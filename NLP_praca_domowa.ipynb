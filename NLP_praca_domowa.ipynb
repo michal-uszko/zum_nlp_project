{
  "cells": [
    {
      "cell_type": "markdown",
      "metadata": {
        "id": "OYpJoHsns0aA"
      },
      "source": [
        "## Opis problemu\n",
        "\n",
        "Znajdź dowolny zbiór danych (dozwolone języki: angielski, hiszpański, polski, szwedzki) (poza IMDB oraz zbiorami wykorzystywanymi na zajęciach) do analizy sentymentu.\n",
        "Zbiór może mieć 2 lub 3 klasy.\n",
        "\n",
        "Następnie:\n",
        "1. Oczyść dane i zaprezentuj rozkład klas\n",
        "2. Zbuduj model analizy sentymenu:\n",
        "  - z wykorzystaniem sieci rekurencyjnej (LSTM/GRU/sieć dwukierunkowa) innej niż podstawowe RNN\n",
        "  - z wykorzystaniem sieci CNN\n",
        "  - z podstawiemiem pre-trained word embeddingów\n",
        "  - z fine-tuningiem modelu języka (poza podstawowym BERTem)\n",
        "\n",
        "3. Stwórz funkcję, która będzie korzystała z wytrenowanego modelu i zwracała wynik dla przekazanego pojedynczego zdania (zdań) w postaci komunikatu informującego użytkownika, czy tekst jest nacechowany negatywnie, pozytywnie (czy neutralnie w przypadku 3 klas).\n",
        "\n",
        "4. Gotowe rozwiązanie zamieść na GitHubie z README. W README zawrzyj: informacje o danych - ich pochodzenie, oraz opis wybranego modelu i instrukcje korzystania z plików.\n",
        "5. W assigmnencie w Teamsach wrzuć link do repo z rozwiązaniem. W przypadku prywatnego repo upewnij się, że będzie ono widoczne dla `dwnuk@pjwstk.edu.pl`.\n",
        "\n",
        "**TERMIN**: jak w Teamsach"
      ]
    },
    {
      "cell_type": "code",
      "execution_count": 8,
      "metadata": {
        "id": "KNsVcEZ1sx5b"
      },
      "outputs": [],
      "source": [
        "import pandas as pd\n",
        "import numpy as np\n",
        "import matplotlib.pyplot as plt\n",
        "import seaborn as sns\n",
        "import time\n",
        "import spacy\n",
        "import torch\n",
        "import torch.nn as nn\n",
        "import torch.optim as optim\n",
        "from torch.utils.data import DataLoader\n",
        "from torchtext.data.utils import get_tokenizer\n",
        "from torchtext.vocab import build_vocab_from_iterator\n",
        "from torch.nn.utils.rnn import pad_sequence, pad_packed_sequence, pack_padded_sequence\n",
        "from sklearn.model_selection import train_test_split"
      ]
    },
    {
      "cell_type": "code",
      "execution_count": 9,
      "metadata": {},
      "outputs": [
        {
          "name": "stdout",
          "output_type": "stream",
          "text": [
            "PyTorch detected GPU: NVIDIA GeForce RTX 3060 Laptop GPU\n"
          ]
        }
      ],
      "source": [
        "if torch.cuda.is_available():\n",
        "    torch_device = torch.cuda.current_device()\n",
        "    print(\"PyTorch detected GPU:\", torch.cuda.get_device_name(torch_device))\n",
        "else:\n",
        "    print(\"PyTorch did not detect GPU\")"
      ]
    },
    {
      "cell_type": "code",
      "execution_count": 10,
      "metadata": {},
      "outputs": [
        {
          "name": "stdout",
          "output_type": "stream",
          "text": [
            "CUDA version PyTorch is using: 12.1\n"
          ]
        }
      ],
      "source": [
        "print(\"CUDA version PyTorch is using:\", torch.version.cuda)"
      ]
    },
    {
      "cell_type": "code",
      "execution_count": 11,
      "metadata": {},
      "outputs": [
        {
          "data": {
            "text/plain": [
              "'2.1.2+cu121'"
            ]
          },
          "execution_count": 11,
          "metadata": {},
          "output_type": "execute_result"
        }
      ],
      "source": [
        "torch.__version__"
      ]
    },
    {
      "cell_type": "code",
      "execution_count": 12,
      "metadata": {},
      "outputs": [
        {
          "data": {
            "text/plain": [
              "'0.16.2+cpu'"
            ]
          },
          "execution_count": 12,
          "metadata": {},
          "output_type": "execute_result"
        }
      ],
      "source": [
        "import torchtext\n",
        "torchtext.__version__ "
      ]
    },
    {
      "cell_type": "markdown",
      "metadata": {},
      "source": [
        "### Wczytanie i analiza danych"
      ]
    },
    {
      "cell_type": "code",
      "execution_count": 2,
      "metadata": {},
      "outputs": [],
      "source": [
        "# !kaggle datasets download -d andrewmvd/steam-reviews"
      ]
    },
    {
      "cell_type": "code",
      "execution_count": 3,
      "metadata": {},
      "outputs": [],
      "source": [
        "# import zipfile\n",
        "# with zipfile.ZipFile('steam-reviews.zip', 'r') as zip_ref:\n",
        "#     zip_ref.extractall()"
      ]
    },
    {
      "cell_type": "code",
      "execution_count": 14,
      "metadata": {},
      "outputs": [],
      "source": [
        "def plot_classes_balance(data: pd.DataFrame):\n",
        "    color_dict = {0: \"red\", 1: \"green\"}\n",
        "\n",
        "    fig, axs = plt.subplots(1, 2, figsize=(10, 5))\n",
        "\n",
        "    sns.countplot(x='review_score', data=data, hue='review_score', palette=[color_dict[0], color_dict[1]], ax=axs[0])\n",
        "    data['review_score'].value_counts().plot.pie(autopct='%1.1f%%', colors=[color_dict[1], color_dict[0]], ax=axs[1])\n",
        "    fig.suptitle('Users Recommendations')\n",
        "    plt.tight_layout()"
      ]
    },
    {
      "cell_type": "code",
      "execution_count": 15,
      "metadata": {},
      "outputs": [
        {
          "data": {
            "text/html": [
              "<div>\n",
              "<style scoped>\n",
              "    .dataframe tbody tr th:only-of-type {\n",
              "        vertical-align: middle;\n",
              "    }\n",
              "\n",
              "    .dataframe tbody tr th {\n",
              "        vertical-align: top;\n",
              "    }\n",
              "\n",
              "    .dataframe thead th {\n",
              "        text-align: right;\n",
              "    }\n",
              "</style>\n",
              "<table border=\"1\" class=\"dataframe\">\n",
              "  <thead>\n",
              "    <tr style=\"text-align: right;\">\n",
              "      <th></th>\n",
              "      <th>app_id</th>\n",
              "      <th>app_name</th>\n",
              "      <th>review_text</th>\n",
              "      <th>review_score</th>\n",
              "      <th>review_votes</th>\n",
              "    </tr>\n",
              "  </thead>\n",
              "  <tbody>\n",
              "    <tr>\n",
              "      <th>0</th>\n",
              "      <td>10</td>\n",
              "      <td>Counter-Strike</td>\n",
              "      <td>Ruined my life.</td>\n",
              "      <td>1</td>\n",
              "      <td>0</td>\n",
              "    </tr>\n",
              "    <tr>\n",
              "      <th>1</th>\n",
              "      <td>10</td>\n",
              "      <td>Counter-Strike</td>\n",
              "      <td>This will be more of a ''my experience with this game'' type of review, because saying things like ''great gameplay'' will not suit something I've experienced with Counter-Strike. Here you go:  I remember back in 2002 I was at a friend's house and he was playing a game. I didn't know the name of the game nor I had internet to find it. A few weeks passed by and another friend came over. He didn't have a computer, so he brought a disc with a game in it. He told me that it was one of the best games and from that very moment I knew that it is going to be the game I saw at the other friend's house. When I saw the Counter-Strike logo I was filled with gamegasm (?) and I was so happy. I was playing it hardcore. Made friends, clans, was involved in communities and even made two myself. Counter-Strike is my first game which I played competitively and it was a such an experience. Playing public servers with mods were very fun, but playing it competitively made it very intense and stressful. In a pleasant way, ofcourse. Looking at the current e-sport scene it might not seem like much but back then it was different.  Shooters these days try to be different, advanced in a way. Sometimes the most simple games like Counter-Strike are the ones that live to this day. Also, there are plenty of mods to keep your attention to this game. The gameplay is very simple - defend as a Counter-Terrorist, attack as a Terrorist to plant the bomb or save the hostages as a CT. I am sure most of you already know this and I doubt there are gamers that haven't heard or know the gameplay of Counter-Strike, so I am sharing here more of my experience.  I wish I could find my CS Anthology account which I've lost since 2008. So, I decided I am going to buy this game again and here you go - more than a thousand hours played. I still play it from time to time to this day and it brings back many great memories and I sometimes even stumble upon people I've played with years ago. I think Counter-Strike changed gaming in a major way and we wouldn't have many games like we have today, if this game wouldn't exist.   I am sure many of people already have played games like CS:GO but never the roots. I doubt any of you will play it for more than an hour, because it's much more simple and it differs a lot in my opinion from CS:GO and modern games. It's harder though.</td>\n",
              "      <td>1</td>\n",
              "      <td>1</td>\n",
              "    </tr>\n",
              "    <tr>\n",
              "      <th>2</th>\n",
              "      <td>10</td>\n",
              "      <td>Counter-Strike</td>\n",
              "      <td>This game saved my virginity.</td>\n",
              "      <td>1</td>\n",
              "      <td>0</td>\n",
              "    </tr>\n",
              "    <tr>\n",
              "      <th>3</th>\n",
              "      <td>10</td>\n",
              "      <td>Counter-Strike</td>\n",
              "      <td>• Do you like original games? • Do you like games that don't lag? • Do you like games you can run on low end PC's? • Do you like games where you don't meet children who have slept with your mother?  Then this is for you!</td>\n",
              "      <td>1</td>\n",
              "      <td>0</td>\n",
              "    </tr>\n",
              "    <tr>\n",
              "      <th>4</th>\n",
              "      <td>10</td>\n",
              "      <td>Counter-Strike</td>\n",
              "      <td>Easy to learn, hard to master.</td>\n",
              "      <td>1</td>\n",
              "      <td>1</td>\n",
              "    </tr>\n",
              "  </tbody>\n",
              "</table>\n",
              "</div>"
            ],
            "text/plain": [
              "   app_id        app_name  \\\n",
              "0      10  Counter-Strike   \n",
              "1      10  Counter-Strike   \n",
              "2      10  Counter-Strike   \n",
              "3      10  Counter-Strike   \n",
              "4      10  Counter-Strike   \n",
              "\n",
              "                                                                                                                                                                                                                                                                                                                                                                                                                                                                                                                                                                                                                                                                                                                                                                                                                                                                                                                                                                                                                                                                                                                                                                                                                                                                                                                                                                                                                                                                                                                                                                                                                                                                                                                                                                                                                                                                                                                                                                                                                                                                                                                                                                                                                                                                                                                                                                                                                                             review_text  \\\n",
              "0                                                                                                                                                                                                                                                                                                                                                                                                                                                                                                                                                                                                                                                                                                                                                                                                                                                                                                                                                                                                                                                                                                                                                                                                                                                                                                                                                                                                                                                                                                                                                                                                                                                                                                                                                                                                                                                                                                                                                                                                                                                                                                                                                                                                                                                                                                                                                                                                                                        Ruined my life.   \n",
              "1  This will be more of a ''my experience with this game'' type of review, because saying things like ''great gameplay'' will not suit something I've experienced with Counter-Strike. Here you go:  I remember back in 2002 I was at a friend's house and he was playing a game. I didn't know the name of the game nor I had internet to find it. A few weeks passed by and another friend came over. He didn't have a computer, so he brought a disc with a game in it. He told me that it was one of the best games and from that very moment I knew that it is going to be the game I saw at the other friend's house. When I saw the Counter-Strike logo I was filled with gamegasm (?) and I was so happy. I was playing it hardcore. Made friends, clans, was involved in communities and even made two myself. Counter-Strike is my first game which I played competitively and it was a such an experience. Playing public servers with mods were very fun, but playing it competitively made it very intense and stressful. In a pleasant way, ofcourse. Looking at the current e-sport scene it might not seem like much but back then it was different.  Shooters these days try to be different, advanced in a way. Sometimes the most simple games like Counter-Strike are the ones that live to this day. Also, there are plenty of mods to keep your attention to this game. The gameplay is very simple - defend as a Counter-Terrorist, attack as a Terrorist to plant the bomb or save the hostages as a CT. I am sure most of you already know this and I doubt there are gamers that haven't heard or know the gameplay of Counter-Strike, so I am sharing here more of my experience.  I wish I could find my CS Anthology account which I've lost since 2008. So, I decided I am going to buy this game again and here you go - more than a thousand hours played. I still play it from time to time to this day and it brings back many great memories and I sometimes even stumble upon people I've played with years ago. I think Counter-Strike changed gaming in a major way and we wouldn't have many games like we have today, if this game wouldn't exist.   I am sure many of people already have played games like CS:GO but never the roots. I doubt any of you will play it for more than an hour, because it's much more simple and it differs a lot in my opinion from CS:GO and modern games. It's harder though.   \n",
              "2                                                                                                                                                                                                                                                                                                                                                                                                                                                                                                                                                                                                                                                                                                                                                                                                                                                                                                                                                                                                                                                                                                                                                                                                                                                                                                                                                                                                                                                                                                                                                                                                                                                                                                                                                                                                                                                                                                                                                                                                                                                                                                                                                                                                                                                                                                                                                                                                                          This game saved my virginity.   \n",
              "3                                                                                                                                                                                                                                                                                                                                                                                                                                                                                                                                                                                                                                                                                                                                                                                                                                                                                                                                                                                                                                                                                                                                                                                                                                                                                                                                                                                                                                                                                                                                                                                                                                                                                                                                                                                                                                                                                                                                                                                                                                                                                                                                                                                                                           • Do you like original games? • Do you like games that don't lag? • Do you like games you can run on low end PC's? • Do you like games where you don't meet children who have slept with your mother?  Then this is for you!   \n",
              "4                                                                                                                                                                                                                                                                                                                                                                                                                                                                                                                                                                                                                                                                                                                                                                                                                                                                                                                                                                                                                                                                                                                                                                                                                                                                                                                                                                                                                                                                                                                                                                                                                                                                                                                                                                                                                                                                                                                                                                                                                                                                                                                                                                                                                                                                                                                                                                                                               Easy to learn, hard to master.             \n",
              "\n",
              "   review_score  review_votes  \n",
              "0             1             0  \n",
              "1             1             1  \n",
              "2             1             0  \n",
              "3             1             0  \n",
              "4             1             1  "
            ]
          },
          "execution_count": 15,
          "metadata": {},
          "output_type": "execute_result"
        }
      ],
      "source": [
        "# Wyświetlenie całej zawartości kolumny\n",
        "pd.set_option('display.max_colwidth', None)\n",
        "\n",
        "# Wczytanie danych\n",
        "reviews_df = pd.read_csv('data/dataset.csv')\n",
        "reviews_df.head()"
      ]
    },
    {
      "cell_type": "code",
      "execution_count": 16,
      "metadata": {},
      "outputs": [
        {
          "data": {
            "text/plain": [
              "review_score\n",
              " 1    5260420\n",
              "-1    1156686\n",
              "Name: count, dtype: int64"
            ]
          },
          "execution_count": 16,
          "metadata": {},
          "output_type": "execute_result"
        }
      ],
      "source": [
        "reviews_df['review_score'].value_counts()"
      ]
    },
    {
      "cell_type": "markdown",
      "metadata": {},
      "source": [
        "Zmiana wartości klasy z *-1* na *0*"
      ]
    },
    {
      "cell_type": "code",
      "execution_count": 17,
      "metadata": {},
      "outputs": [
        {
          "data": {
            "text/html": [
              "<div>\n",
              "<style scoped>\n",
              "    .dataframe tbody tr th:only-of-type {\n",
              "        vertical-align: middle;\n",
              "    }\n",
              "\n",
              "    .dataframe tbody tr th {\n",
              "        vertical-align: top;\n",
              "    }\n",
              "\n",
              "    .dataframe thead th {\n",
              "        text-align: right;\n",
              "    }\n",
              "</style>\n",
              "<table border=\"1\" class=\"dataframe\">\n",
              "  <thead>\n",
              "    <tr style=\"text-align: right;\">\n",
              "      <th></th>\n",
              "      <th>app_id</th>\n",
              "      <th>app_name</th>\n",
              "      <th>review_text</th>\n",
              "      <th>review_score</th>\n",
              "      <th>review_votes</th>\n",
              "    </tr>\n",
              "  </thead>\n",
              "  <tbody>\n",
              "    <tr>\n",
              "      <th>0</th>\n",
              "      <td>10</td>\n",
              "      <td>Counter-Strike</td>\n",
              "      <td>Ruined my life.</td>\n",
              "      <td>1</td>\n",
              "      <td>0</td>\n",
              "    </tr>\n",
              "    <tr>\n",
              "      <th>1</th>\n",
              "      <td>10</td>\n",
              "      <td>Counter-Strike</td>\n",
              "      <td>This will be more of a ''my experience with this game'' type of review, because saying things like ''great gameplay'' will not suit something I've experienced with Counter-Strike. Here you go:  I remember back in 2002 I was at a friend's house and he was playing a game. I didn't know the name of the game nor I had internet to find it. A few weeks passed by and another friend came over. He didn't have a computer, so he brought a disc with a game in it. He told me that it was one of the best games and from that very moment I knew that it is going to be the game I saw at the other friend's house. When I saw the Counter-Strike logo I was filled with gamegasm (?) and I was so happy. I was playing it hardcore. Made friends, clans, was involved in communities and even made two myself. Counter-Strike is my first game which I played competitively and it was a such an experience. Playing public servers with mods were very fun, but playing it competitively made it very intense and stressful. In a pleasant way, ofcourse. Looking at the current e-sport scene it might not seem like much but back then it was different.  Shooters these days try to be different, advanced in a way. Sometimes the most simple games like Counter-Strike are the ones that live to this day. Also, there are plenty of mods to keep your attention to this game. The gameplay is very simple - defend as a Counter-Terrorist, attack as a Terrorist to plant the bomb or save the hostages as a CT. I am sure most of you already know this and I doubt there are gamers that haven't heard or know the gameplay of Counter-Strike, so I am sharing here more of my experience.  I wish I could find my CS Anthology account which I've lost since 2008. So, I decided I am going to buy this game again and here you go - more than a thousand hours played. I still play it from time to time to this day and it brings back many great memories and I sometimes even stumble upon people I've played with years ago. I think Counter-Strike changed gaming in a major way and we wouldn't have many games like we have today, if this game wouldn't exist.   I am sure many of people already have played games like CS:GO but never the roots. I doubt any of you will play it for more than an hour, because it's much more simple and it differs a lot in my opinion from CS:GO and modern games. It's harder though.</td>\n",
              "      <td>1</td>\n",
              "      <td>1</td>\n",
              "    </tr>\n",
              "    <tr>\n",
              "      <th>2</th>\n",
              "      <td>10</td>\n",
              "      <td>Counter-Strike</td>\n",
              "      <td>This game saved my virginity.</td>\n",
              "      <td>1</td>\n",
              "      <td>0</td>\n",
              "    </tr>\n",
              "    <tr>\n",
              "      <th>3</th>\n",
              "      <td>10</td>\n",
              "      <td>Counter-Strike</td>\n",
              "      <td>• Do you like original games? • Do you like games that don't lag? • Do you like games you can run on low end PC's? • Do you like games where you don't meet children who have slept with your mother?  Then this is for you!</td>\n",
              "      <td>1</td>\n",
              "      <td>0</td>\n",
              "    </tr>\n",
              "    <tr>\n",
              "      <th>4</th>\n",
              "      <td>10</td>\n",
              "      <td>Counter-Strike</td>\n",
              "      <td>Easy to learn, hard to master.</td>\n",
              "      <td>1</td>\n",
              "      <td>1</td>\n",
              "    </tr>\n",
              "  </tbody>\n",
              "</table>\n",
              "</div>"
            ],
            "text/plain": [
              "   app_id        app_name  \\\n",
              "0      10  Counter-Strike   \n",
              "1      10  Counter-Strike   \n",
              "2      10  Counter-Strike   \n",
              "3      10  Counter-Strike   \n",
              "4      10  Counter-Strike   \n",
              "\n",
              "                                                                                                                                                                                                                                                                                                                                                                                                                                                                                                                                                                                                                                                                                                                                                                                                                                                                                                                                                                                                                                                                                                                                                                                                                                                                                                                                                                                                                                                                                                                                                                                                                                                                                                                                                                                                                                                                                                                                                                                                                                                                                                                                                                                                                                                                                                                                                                                                                                             review_text  \\\n",
              "0                                                                                                                                                                                                                                                                                                                                                                                                                                                                                                                                                                                                                                                                                                                                                                                                                                                                                                                                                                                                                                                                                                                                                                                                                                                                                                                                                                                                                                                                                                                                                                                                                                                                                                                                                                                                                                                                                                                                                                                                                                                                                                                                                                                                                                                                                                                                                                                                                                        Ruined my life.   \n",
              "1  This will be more of a ''my experience with this game'' type of review, because saying things like ''great gameplay'' will not suit something I've experienced with Counter-Strike. Here you go:  I remember back in 2002 I was at a friend's house and he was playing a game. I didn't know the name of the game nor I had internet to find it. A few weeks passed by and another friend came over. He didn't have a computer, so he brought a disc with a game in it. He told me that it was one of the best games and from that very moment I knew that it is going to be the game I saw at the other friend's house. When I saw the Counter-Strike logo I was filled with gamegasm (?) and I was so happy. I was playing it hardcore. Made friends, clans, was involved in communities and even made two myself. Counter-Strike is my first game which I played competitively and it was a such an experience. Playing public servers with mods were very fun, but playing it competitively made it very intense and stressful. In a pleasant way, ofcourse. Looking at the current e-sport scene it might not seem like much but back then it was different.  Shooters these days try to be different, advanced in a way. Sometimes the most simple games like Counter-Strike are the ones that live to this day. Also, there are plenty of mods to keep your attention to this game. The gameplay is very simple - defend as a Counter-Terrorist, attack as a Terrorist to plant the bomb or save the hostages as a CT. I am sure most of you already know this and I doubt there are gamers that haven't heard or know the gameplay of Counter-Strike, so I am sharing here more of my experience.  I wish I could find my CS Anthology account which I've lost since 2008. So, I decided I am going to buy this game again and here you go - more than a thousand hours played. I still play it from time to time to this day and it brings back many great memories and I sometimes even stumble upon people I've played with years ago. I think Counter-Strike changed gaming in a major way and we wouldn't have many games like we have today, if this game wouldn't exist.   I am sure many of people already have played games like CS:GO but never the roots. I doubt any of you will play it for more than an hour, because it's much more simple and it differs a lot in my opinion from CS:GO and modern games. It's harder though.   \n",
              "2                                                                                                                                                                                                                                                                                                                                                                                                                                                                                                                                                                                                                                                                                                                                                                                                                                                                                                                                                                                                                                                                                                                                                                                                                                                                                                                                                                                                                                                                                                                                                                                                                                                                                                                                                                                                                                                                                                                                                                                                                                                                                                                                                                                                                                                                                                                                                                                                                          This game saved my virginity.   \n",
              "3                                                                                                                                                                                                                                                                                                                                                                                                                                                                                                                                                                                                                                                                                                                                                                                                                                                                                                                                                                                                                                                                                                                                                                                                                                                                                                                                                                                                                                                                                                                                                                                                                                                                                                                                                                                                                                                                                                                                                                                                                                                                                                                                                                                                                           • Do you like original games? • Do you like games that don't lag? • Do you like games you can run on low end PC's? • Do you like games where you don't meet children who have slept with your mother?  Then this is for you!   \n",
              "4                                                                                                                                                                                                                                                                                                                                                                                                                                                                                                                                                                                                                                                                                                                                                                                                                                                                                                                                                                                                                                                                                                                                                                                                                                                                                                                                                                                                                                                                                                                                                                                                                                                                                                                                                                                                                                                                                                                                                                                                                                                                                                                                                                                                                                                                                                                                                                                                               Easy to learn, hard to master.             \n",
              "\n",
              "   review_score  review_votes  \n",
              "0             1             0  \n",
              "1             1             1  \n",
              "2             1             0  \n",
              "3             1             0  \n",
              "4             1             1  "
            ]
          },
          "execution_count": 17,
          "metadata": {},
          "output_type": "execute_result"
        }
      ],
      "source": [
        "reviews_df['review_score'].replace(-1, 0, inplace=True)\n",
        "reviews_df.head()"
      ]
    },
    {
      "cell_type": "code",
      "execution_count": 18,
      "metadata": {},
      "outputs": [
        {
          "data": {
            "text/html": [
              "<div>\n",
              "<style scoped>\n",
              "    .dataframe tbody tr th:only-of-type {\n",
              "        vertical-align: middle;\n",
              "    }\n",
              "\n",
              "    .dataframe tbody tr th {\n",
              "        vertical-align: top;\n",
              "    }\n",
              "\n",
              "    .dataframe thead th {\n",
              "        text-align: right;\n",
              "    }\n",
              "</style>\n",
              "<table border=\"1\" class=\"dataframe\">\n",
              "  <thead>\n",
              "    <tr style=\"text-align: right;\">\n",
              "      <th></th>\n",
              "      <th>app_name</th>\n",
              "      <th>review_text</th>\n",
              "      <th>review_score</th>\n",
              "    </tr>\n",
              "  </thead>\n",
              "  <tbody>\n",
              "    <tr>\n",
              "      <th>3658635</th>\n",
              "      <td>The Witcher 3: Wild Hunt</td>\n",
              "      <td>fantastig RPG game. While frustrating at times and some controls are consolish, the world is believable and you care about the protagonists.</td>\n",
              "      <td>1</td>\n",
              "    </tr>\n",
              "    <tr>\n",
              "      <th>2899034</th>\n",
              "      <td>Ikaruga</td>\n",
              "      <td>Ever since hearing about this bullet hell a while after it had come out for the GameCube, I had been itching to give it a try, but finding a copy of it proved to be out of my range, so you can imagine my surprise and delight when I noticed it had been released on Steam.  For the most part, it follows the tried and true standards of the upwards scrolling arcade bulletspam shooter. Maneuver your ship to avoid bullet spreads, while cutting through wave after wave of grunts, to eventually make your way to the boss. Pretty cut and dry, as far as concept goes, right? Wrong.  Although it definitely sticks to the mechanics laid down by its predecessors, Ikaruga lays down its own twist, through the bullets themselves. There are two differently colored ships shooting correspondingly colored bullets at you in the game, black and white, and this is where it gets interesting. The color of your ship can be changed from black to white on the fly with the press of a button, to match either of the incoming bullets, and as long as your ship matches the color of the bullet hitting you, you will absorb it into an energy meter to release later as an energy blast upon your unsuspecting enemies. Touch the opposite color bullet of yourself, and you die. Shooting chains of the same colored enemy helps build up your score faster. On top of this, shooting an enemy with a bullet that is the opposite color of them, does more damage, and thereby allows you to plow through them faster.  Easy enough, right? Well it would be if this wasn't a bullet hell.  Even on the easiest setting, this game provides a challenge, having you dodge varying patterns of enemy waves, the occasional obstacle thrown in your path, and of course the ever present swarms of multicolored bullets being peppered at you from all over.  The game includes a replay system, and leaderboards (I'm not sure if they're only local or across the internet, haven't checked it yet), and is currently here on steam for $9.99.  Expectations aside, I would give this game an 8/10</td>\n",
              "      <td>1</td>\n",
              "    </tr>\n",
              "    <tr>\n",
              "      <th>5005915</th>\n",
              "      <td>Fallout</td>\n",
              "      <td>I love it. Runs amazing on modern systems, although on 1920x1080 the text is quite small.</td>\n",
              "      <td>1</td>\n",
              "    </tr>\n",
              "    <tr>\n",
              "      <th>1425030</th>\n",
              "      <td>DayZ</td>\n",
              "      <td>Early Access Review</td>\n",
              "      <td>1</td>\n",
              "    </tr>\n",
              "    <tr>\n",
              "      <th>4207687</th>\n",
              "      <td>The Secret of Monkey Island: Special Edition</td>\n",
              "      <td>A very good point and click adventure game!</td>\n",
              "      <td>1</td>\n",
              "    </tr>\n",
              "    <tr>\n",
              "      <th>112247</th>\n",
              "      <td>Terraria</td>\n",
              "      <td>Absurdly fun. Dangerously addictive.</td>\n",
              "      <td>1</td>\n",
              "    </tr>\n",
              "    <tr>\n",
              "      <th>3710991</th>\n",
              "      <td>Mount Your Friends</td>\n",
              "      <td>I've played just over 16 hours and I've got to say they were and are some of the funnest bit of time I've had playing this game.  The only thing that sucks is that using a controller is the easier (in my opinion) way to play this game.</td>\n",
              "      <td>1</td>\n",
              "    </tr>\n",
              "    <tr>\n",
              "      <th>2550535</th>\n",
              "      <td>NaN</td>\n",
              "      <td>if you have ANY streaming softwere that is picked up as a camra this game will refuse to work, not worth buying or playing in that case since I'm not removing streaming softwear for it.</td>\n",
              "      <td>0</td>\n",
              "    </tr>\n",
              "    <tr>\n",
              "      <th>2453198</th>\n",
              "      <td>Space Engineers</td>\n",
              "      <td>Early Access Review</td>\n",
              "      <td>1</td>\n",
              "    </tr>\n",
              "    <tr>\n",
              "      <th>1045906</th>\n",
              "      <td>Rocketbirds: Hardboiled Chicken</td>\n",
              "      <td>This game sucks. But has a great theme song</td>\n",
              "      <td>1</td>\n",
              "    </tr>\n",
              "    <tr>\n",
              "      <th>4957458</th>\n",
              "      <td>Dead by Daylight</td>\n",
              "      <td>The lag in this game is something serious. Wait until it goes on sale and they have fixed all the bugs. Another company putting out a game before it is ready for release.</td>\n",
              "      <td>0</td>\n",
              "    </tr>\n",
              "    <tr>\n",
              "      <th>5843057</th>\n",
              "      <td>Borderlands 2</td>\n",
              "      <td>I bought the game, and played a lot with my friends, then i stopped playing for a while. Now its been about 2 months since the last time that i played and i have this problem where the game loads, but all i see is a black screen. I get the start up menu and everything but the game just is black when it loads. Pleas help, its really frustrating to buy a game full price and then not be able to play it.</td>\n",
              "      <td>0</td>\n",
              "    </tr>\n",
              "    <tr>\n",
              "      <th>1981889</th>\n",
              "      <td>Mad Max</td>\n",
              "      <td>Sand and crazy people.</td>\n",
              "      <td>1</td>\n",
              "    </tr>\n",
              "    <tr>\n",
              "      <th>2215469</th>\n",
              "      <td>Spelunky</td>\n",
              "      <td>Hate the dark levels where they give you a torch and thats your only torch. Plus if you have to abandon your torch you have a 70% of running straight into a venis fly trap. :( If someone just wants to have fun in the game can you make it where you can disable dark levels in the rouge like. :'( Makes me cry everytime I see one.</td>\n",
              "      <td>1</td>\n",
              "    </tr>\n",
              "    <tr>\n",
              "      <th>5756024</th>\n",
              "      <td>LIMBO</td>\n",
              "      <td>Advice: Play at night.  tip: play with controller.</td>\n",
              "      <td>1</td>\n",
              "    </tr>\n",
              "    <tr>\n",
              "      <th>2925885</th>\n",
              "      <td>Cities: Skylines</td>\n",
              "      <td>Why are you still reading reviews, just buy it already.</td>\n",
              "      <td>1</td>\n",
              "    </tr>\n",
              "    <tr>\n",
              "      <th>1708789</th>\n",
              "      <td>Euro Truck Simulator 2</td>\n",
              "      <td>I like this game very much. I played the first Euro Truck Simulator and i was addicted delivering and driving around. I like the Euro Truck Simulator 2 even more because there is a better grafic and more Features. The game got a bit more realistic and harder to play but very cool.</td>\n",
              "      <td>1</td>\n",
              "    </tr>\n",
              "    <tr>\n",
              "      <th>4093451</th>\n",
              "      <td>Grim Fandango Remastered</td>\n",
              "      <td>Loads of personality and fun but far too much of 'try everything in your inventory on every object'. I stopped because of the tedium of not being able to figure out what I should do next.</td>\n",
              "      <td>0</td>\n",
              "    </tr>\n",
              "    <tr>\n",
              "      <th>4570064</th>\n",
              "      <td>Niffelheim</td>\n",
              "      <td>Early Access Review</td>\n",
              "      <td>1</td>\n",
              "    </tr>\n",
              "    <tr>\n",
              "      <th>928743</th>\n",
              "      <td>Starbound</td>\n",
              "      <td>this game is absolutely awesome</td>\n",
              "      <td>1</td>\n",
              "    </tr>\n",
              "  </tbody>\n",
              "</table>\n",
              "</div>"
            ],
            "text/plain": [
              "                                             app_name  \\\n",
              "3658635                      The Witcher 3: Wild Hunt   \n",
              "2899034                                       Ikaruga   \n",
              "5005915                                       Fallout   \n",
              "1425030                                          DayZ   \n",
              "4207687  The Secret of Monkey Island: Special Edition   \n",
              "112247                                       Terraria   \n",
              "3710991                            Mount Your Friends   \n",
              "2550535                                           NaN   \n",
              "2453198                               Space Engineers   \n",
              "1045906               Rocketbirds: Hardboiled Chicken   \n",
              "4957458                              Dead by Daylight   \n",
              "5843057                                 Borderlands 2   \n",
              "1981889                                       Mad Max   \n",
              "2215469                                      Spelunky   \n",
              "5756024                                         LIMBO   \n",
              "2925885                              Cities: Skylines   \n",
              "1708789                        Euro Truck Simulator 2   \n",
              "4093451                      Grim Fandango Remastered   \n",
              "4570064                                    Niffelheim   \n",
              "928743                                      Starbound   \n",
              "\n",
              "                                                                                                                                                                                                                                                                                                                                                                                                                                                                                                                                                                                                                                                                                                                                                                                                                                                                                                                                                                                                                                                                                                                                                                                                                                                                                                                                                                                                                                                                                                                                                                                                                                                                                                                                                                                                                                                                                                                                                                                                                                                                                                                 review_text  \\\n",
              "3658635                                                                                                                                                                                                                                                                                                                                                                                                                                                                                                                                                                                                                                                                                                                                                                                                                                                                                                                                                                                                                                                                                                                                                                                                                                                                                                                                                                                                                                                                                                                                                                                                                                                                                                                                                                                                                                                                                                                                                                         fantastig RPG game. While frustrating at times and some controls are consolish, the world is believable and you care about the protagonists.   \n",
              "2899034  Ever since hearing about this bullet hell a while after it had come out for the GameCube, I had been itching to give it a try, but finding a copy of it proved to be out of my range, so you can imagine my surprise and delight when I noticed it had been released on Steam.  For the most part, it follows the tried and true standards of the upwards scrolling arcade bulletspam shooter. Maneuver your ship to avoid bullet spreads, while cutting through wave after wave of grunts, to eventually make your way to the boss. Pretty cut and dry, as far as concept goes, right? Wrong.  Although it definitely sticks to the mechanics laid down by its predecessors, Ikaruga lays down its own twist, through the bullets themselves. There are two differently colored ships shooting correspondingly colored bullets at you in the game, black and white, and this is where it gets interesting. The color of your ship can be changed from black to white on the fly with the press of a button, to match either of the incoming bullets, and as long as your ship matches the color of the bullet hitting you, you will absorb it into an energy meter to release later as an energy blast upon your unsuspecting enemies. Touch the opposite color bullet of yourself, and you die. Shooting chains of the same colored enemy helps build up your score faster. On top of this, shooting an enemy with a bullet that is the opposite color of them, does more damage, and thereby allows you to plow through them faster.  Easy enough, right? Well it would be if this wasn't a bullet hell.  Even on the easiest setting, this game provides a challenge, having you dodge varying patterns of enemy waves, the occasional obstacle thrown in your path, and of course the ever present swarms of multicolored bullets being peppered at you from all over.  The game includes a replay system, and leaderboards (I'm not sure if they're only local or across the internet, haven't checked it yet), and is currently here on steam for $9.99.  Expectations aside, I would give this game an 8/10   \n",
              "5005915                                                                                                                                                                                                                                                                                                                                                                                                                                                                                                                                                                                                                                                                                                                                                                                                                                                                                                                                                                                                                                                                                                                                                                                                                                                                                                                                                                                                                                                                                                                                                                                                                                                                                                                                                                                                                                                                                                                                                                                                                           I love it. Runs amazing on modern systems, although on 1920x1080 the text is quite small.    \n",
              "1425030                                                                                                                                                                                                                                                                                                                                                                                                                                                                                                                                                                                                                                                                                                                                                                                                                                                                                                                                                                                                                                                                                                                                                                                                                                                                                                                                                                                                                                                                                                                                                                                                                                                                                                                                                                                                                                                                                                                                                                                                                                                                                                  Early Access Review   \n",
              "4207687                                                                                                                                                                                                                                                                                                                                                                                                                                                                                                                                                                                                                                                                                                                                                                                                                                                                                                                                                                                                                                                                                                                                                                                                                                                                                                                                                                                                                                                                                                                                                                                                                                                                                                                                                                                                                                                                                                                                                                                                                                                                          A very good point and click adventure game!   \n",
              "112247                                                                                                                                                                                                                                                                                                                                                                                                                                                                                                                                                                                                                                                                                                                                                                                                                                                                                                                                                                                                                                                                                                                                                                                                                                                                                                                                                                                                                                                                                                                                                                                                                                                                                                                                                                                                                                                                                                                                                                                                                                                                                  Absurdly fun. Dangerously addictive.   \n",
              "3710991                                                                                                                                                                                                                                                                                                                                                                                                                                                                                                                                                                                                                                                                                                                                                                                                                                                                                                                                                                                                                                                                                                                                                                                                                                                                                                                                                                                                                                                                                                                                                                                                                                                                                                                                                                                                                                                                          I've played just over 16 hours and I've got to say they were and are some of the funnest bit of time I've had playing this game.  The only thing that sucks is that using a controller is the easier (in my opinion) way to play this game.   \n",
              "2550535                                                                                                                                                                                                                                                                                                                                                                                                                                                                                                                                                                                                                                                                                                                                                                                                                                                                                                                                                                                                                                                                                                                                                                                                                                                                                                                                                                                                                                                                                                                                                                                                                                                                                                                                                                                                                                                                                                                            if you have ANY streaming softwere that is picked up as a camra this game will refuse to work, not worth buying or playing in that case since I'm not removing streaming softwear for it.   \n",
              "2453198                                                                                                                                                                                                                                                                                                                                                                                                                                                                                                                                                                                                                                                                                                                                                                                                                                                                                                                                                                                                                                                                                                                                                                                                                                                                                                                                                                                                                                                                                                                                                                                                                                                                                                                                                                                                                                                                                                                                                                                                                                                                                                  Early Access Review   \n",
              "1045906                                                                                                                                                                                                                                                                                                                                                                                                                                                                                                                                                                                                                                                                                                                                                                                                                                                                                                                                                                                                                                                                                                                                                                                                                                                                                                                                                                                                                                                                                                                                                                                                                                                                                                                                                                                                                                                                                                                                                                                                                                                                          This game sucks. But has a great theme song   \n",
              "4957458                                                                                                                                                                                                                                                                                                                                                                                                                                                                                                                                                                                                                                                                                                                                                                                                                                                                                                                                                                                                                                                                                                                                                                                                                                                                                                                                                                                                                                                                                                                                                                                                                                                                                                                                                                                                                                                                                                                                           The lag in this game is something serious. Wait until it goes on sale and they have fixed all the bugs. Another company putting out a game before it is ready for release.   \n",
              "5843057                                                                                                                                                                                                                                                                                                                                                                                                                                                                                                                                                                                                                                                                                                                                                                                                                                                                                                                                                                                                                                                                                                                                                                                                                                                                                                                                                                                                                                                                                                                                                                                                                                                                                                  I bought the game, and played a lot with my friends, then i stopped playing for a while. Now its been about 2 months since the last time that i played and i have this problem where the game loads, but all i see is a black screen. I get the start up menu and everything but the game just is black when it loads. Pleas help, its really frustrating to buy a game full price and then not be able to play it.   \n",
              "1981889                                                                                                                                                                                                                                                                                                                                                                                                                                                                                                                                                                                                                                                                                                                                                                                                                                                                                                                                                                                                                                                                                                                                                                                                                                                                                                                                                                                                                                                                                                                                                                                                                                                                                                                                                                                                                                                                                                                                                                                                                                                                                               Sand and crazy people.   \n",
              "2215469                                                                                                                                                                                                                                                                                                                                                                                                                                                                                                                                                                                                                                                                                                                                                                                                                                                                                                                                                                                                                                                                                                                                                                                                                                                                                                                                                                                                                                                                                                                                                                                                                                                                                                                                                                             Hate the dark levels where they give you a torch and thats your only torch. Plus if you have to abandon your torch you have a 70% of running straight into a venis fly trap. :( If someone just wants to have fun in the game can you make it where you can disable dark levels in the rouge like. :'( Makes me cry everytime I see one.   \n",
              "5756024                                                                                                                                                                                                                                                                                                                                                                                                                                                                                                                                                                                                                                                                                                                                                                                                                                                                                                                                                                                                                                                                                                                                                                                                                                                                                                                                                                                                                                                                                                                                                                                                                                                                                                                                                                                                                                                                                                                                                                                                                                                                   Advice: Play at night.  tip: play with controller.   \n",
              "2925885                                                                                                                                                                                                                                                                                                                                                                                                                                                                                                                                                                                                                                                                                                                                                                                                                                                                                                                                                                                                                                                                                                                                                                                                                                                                                                                                                                                                                                                                                                                                                                                                                                                                                                                                                                                                                                                                                                                                                                                                                                                              Why are you still reading reviews, just buy it already.   \n",
              "1708789                                                                                                                                                                                                                                                                                                                                                                                                                                                                                                                                                                                                                                                                                                                                                                                                                                                                                                                                                                                                                                                                                                                                                                                                                                                                                                                                                                                                                                                                                                                                                                                                                                                                                                                                                                                                                            I like this game very much. I played the first Euro Truck Simulator and i was addicted delivering and driving around. I like the Euro Truck Simulator 2 even more because there is a better grafic and more Features. The game got a bit more realistic and harder to play but very cool.   \n",
              "4093451                                                                                                                                                                                                                                                                                                                                                                                                                                                                                                                                                                                                                                                                                                                                                                                                                                                                                                                                                                                                                                                                                                                                                                                                                                                                                                                                                                                                                                                                                                                                                                                                                                                                                                                                                                                                                                                                                                                          Loads of personality and fun but far too much of 'try everything in your inventory on every object'. I stopped because of the tedium of not being able to figure out what I should do next.   \n",
              "4570064                                                                                                                                                                                                                                                                                                                                                                                                                                                                                                                                                                                                                                                                                                                                                                                                                                                                                                                                                                                                                                                                                                                                                                                                                                                                                                                                                                                                                                                                                                                                                                                                                                                                                                                                                                                                                                                                                                                                                                                                                                                                                                  Early Access Review   \n",
              "928743                                                                                                                                                                                                                                                                                                                                                                                                                                                                                                                                                                                                                                                                                                                                                                                                                                                                                                                                                                                                                                                                                                                                                                                                                                                                                                                                                                                                                                                                                                                                                                                                                                                                                                                                                                                                                                                                                                                                                                                                                                                                                       this game is absolutely awesome   \n",
              "\n",
              "         review_score  \n",
              "3658635             1  \n",
              "2899034             1  \n",
              "5005915             1  \n",
              "1425030             1  \n",
              "4207687             1  \n",
              "112247              1  \n",
              "3710991             1  \n",
              "2550535             0  \n",
              "2453198             1  \n",
              "1045906             1  \n",
              "4957458             0  \n",
              "5843057             0  \n",
              "1981889             1  \n",
              "2215469             1  \n",
              "5756024             1  \n",
              "2925885             1  \n",
              "1708789             1  \n",
              "4093451             0  \n",
              "4570064             1  \n",
              "928743              1  "
            ]
          },
          "execution_count": 18,
          "metadata": {},
          "output_type": "execute_result"
        }
      ],
      "source": [
        "reviews_df[['app_name', 'review_text', 'review_score']].sample(20)"
      ]
    },
    {
      "cell_type": "code",
      "execution_count": 19,
      "metadata": {},
      "outputs": [
        {
          "data": {
            "image/png": "[encoded data removed]",
            "text/plain": [
              "<Figure size 1000x500 with 2 Axes>"
            ]
          },
          "metadata": {},
          "output_type": "display_data"
        }
      ],
      "source": [
        "plot_classes_balance(reviews_df)"
      ]
    },
    {
      "cell_type": "code",
      "execution_count": 20,
      "metadata": {},
      "outputs": [
        {
          "data": {
            "text/html": [
              "<div>\n",
              "<style scoped>\n",
              "    .dataframe tbody tr th:only-of-type {\n",
              "        vertical-align: middle;\n",
              "    }\n",
              "\n",
              "    .dataframe tbody tr th {\n",
              "        vertical-align: top;\n",
              "    }\n",
              "\n",
              "    .dataframe thead th {\n",
              "        text-align: right;\n",
              "    }\n",
              "</style>\n",
              "<table border=\"1\" class=\"dataframe\">\n",
              "  <thead>\n",
              "    <tr style=\"text-align: right;\">\n",
              "      <th></th>\n",
              "      <th>app_id</th>\n",
              "      <th>app_name</th>\n",
              "      <th>review_text</th>\n",
              "      <th>review_score</th>\n",
              "      <th>review_votes</th>\n",
              "    </tr>\n",
              "  </thead>\n",
              "  <tbody>\n",
              "    <tr>\n",
              "      <th>0</th>\n",
              "      <td>10</td>\n",
              "      <td>Counter-Strike</td>\n",
              "      <td>This will be more of a ''my experience with this game'' type of review, because saying things like ''great gameplay'' will not suit something I've experienced with Counter-Strike. Here you go:  I remember back in 2002 I was at a friend's house and he was playing a game. I didn't know the name of the game nor I had internet to find it. A few weeks passed by and another friend came over. He didn't have a computer, so he brought a disc with a game in it. He told me that it was one of the best games and from that very moment I knew that it is going to be the game I saw at the other friend's house. When I saw the Counter-Strike logo I was filled with gamegasm (?) and I was so happy. I was playing it hardcore. Made friends, clans, was involved in communities and even made two myself. Counter-Strike is my first game which I played competitively and it was a such an experience. Playing public servers with mods were very fun, but playing it competitively made it very intense and stressful. In a pleasant way, ofcourse. Looking at the current e-sport scene it might not seem like much but back then it was different.  Shooters these days try to be different, advanced in a way. Sometimes the most simple games like Counter-Strike are the ones that live to this day. Also, there are plenty of mods to keep your attention to this game. The gameplay is very simple - defend as a Counter-Terrorist, attack as a Terrorist to plant the bomb or save the hostages as a CT. I am sure most of you already know this and I doubt there are gamers that haven't heard or know the gameplay of Counter-Strike, so I am sharing here more of my experience.  I wish I could find my CS Anthology account which I've lost since 2008. So, I decided I am going to buy this game again and here you go - more than a thousand hours played. I still play it from time to time to this day and it brings back many great memories and I sometimes even stumble upon people I've played with years ago. I think Counter-Strike changed gaming in a major way and we wouldn't have many games like we have today, if this game wouldn't exist.   I am sure many of people already have played games like CS:GO but never the roots. I doubt any of you will play it for more than an hour, because it's much more simple and it differs a lot in my opinion from CS:GO and modern games. It's harder though.</td>\n",
              "      <td>1</td>\n",
              "      <td>1</td>\n",
              "    </tr>\n",
              "    <tr>\n",
              "      <th>1</th>\n",
              "      <td>10</td>\n",
              "      <td>Counter-Strike</td>\n",
              "      <td>Easy to learn, hard to master.</td>\n",
              "      <td>1</td>\n",
              "      <td>1</td>\n",
              "    </tr>\n",
              "    <tr>\n",
              "      <th>2</th>\n",
              "      <td>10</td>\n",
              "      <td>Counter-Strike</td>\n",
              "      <td>No r8 revolver, 10/10 will play again.</td>\n",
              "      <td>1</td>\n",
              "      <td>1</td>\n",
              "    </tr>\n",
              "    <tr>\n",
              "      <th>3</th>\n",
              "      <td>10</td>\n",
              "      <td>Counter-Strike</td>\n",
              "      <td>Still better than Call of Duty: Ghosts...</td>\n",
              "      <td>1</td>\n",
              "      <td>1</td>\n",
              "    </tr>\n",
              "    <tr>\n",
              "      <th>4</th>\n",
              "      <td>10</td>\n",
              "      <td>Counter-Strike</td>\n",
              "      <td>cant buy skins, cases, keys, stickers - gaben cant steal our money 10/10 would play again</td>\n",
              "      <td>1</td>\n",
              "      <td>1</td>\n",
              "    </tr>\n",
              "  </tbody>\n",
              "</table>\n",
              "</div>"
            ],
            "text/plain": [
              "   app_id        app_name  \\\n",
              "0      10  Counter-Strike   \n",
              "1      10  Counter-Strike   \n",
              "2      10  Counter-Strike   \n",
              "3      10  Counter-Strike   \n",
              "4      10  Counter-Strike   \n",
              "\n",
              "                                                                                                                                                                                                                                                                                                                                                                                                                                                                                                                                                                                                                                                                                                                                                                                                                                                                                                                                                                                                                                                                                                                                                                                                                                                                                                                                                                                                                                                                                                                                                                                                                                                                                                                                                                                                                                                                                                                                                                                                                                                                                                                                                                                                                                                                                                                                                                                                                                             review_text  \\\n",
              "0  This will be more of a ''my experience with this game'' type of review, because saying things like ''great gameplay'' will not suit something I've experienced with Counter-Strike. Here you go:  I remember back in 2002 I was at a friend's house and he was playing a game. I didn't know the name of the game nor I had internet to find it. A few weeks passed by and another friend came over. He didn't have a computer, so he brought a disc with a game in it. He told me that it was one of the best games and from that very moment I knew that it is going to be the game I saw at the other friend's house. When I saw the Counter-Strike logo I was filled with gamegasm (?) and I was so happy. I was playing it hardcore. Made friends, clans, was involved in communities and even made two myself. Counter-Strike is my first game which I played competitively and it was a such an experience. Playing public servers with mods were very fun, but playing it competitively made it very intense and stressful. In a pleasant way, ofcourse. Looking at the current e-sport scene it might not seem like much but back then it was different.  Shooters these days try to be different, advanced in a way. Sometimes the most simple games like Counter-Strike are the ones that live to this day. Also, there are plenty of mods to keep your attention to this game. The gameplay is very simple - defend as a Counter-Terrorist, attack as a Terrorist to plant the bomb or save the hostages as a CT. I am sure most of you already know this and I doubt there are gamers that haven't heard or know the gameplay of Counter-Strike, so I am sharing here more of my experience.  I wish I could find my CS Anthology account which I've lost since 2008. So, I decided I am going to buy this game again and here you go - more than a thousand hours played. I still play it from time to time to this day and it brings back many great memories and I sometimes even stumble upon people I've played with years ago. I think Counter-Strike changed gaming in a major way and we wouldn't have many games like we have today, if this game wouldn't exist.   I am sure many of people already have played games like CS:GO but never the roots. I doubt any of you will play it for more than an hour, because it's much more simple and it differs a lot in my opinion from CS:GO and modern games. It's harder though.   \n",
              "1                                                                                                                                                                                                                                                                                                                                                                                                                                                                                                                                                                                                                                                                                                                                                                                                                                                                                                                                                                                                                                                                                                                                                                                                                                                                                                                                                                                                                                                                                                                                                                                                                                                                                                                                                                                                                                                                                                                                                                                                                                                                                                                                                                                                                                                                                                                                                                                                                         Easy to learn, hard to master.   \n",
              "2                                                                                                                                                                                                                                                                                                                                                                                                                                                                                                                                                                                                                                                                                                                                                                                                                                                                                                                                                                                                                                                                                                                                                                                                                                                                                                                                                                                                                                                                                                                                                                                                                                                                                                                                                                                                                                                                                                                                                                                                                                                                                                                                                                                                                                                                                                                                                                                                                 No r8 revolver, 10/10 will play again.   \n",
              "3                                                                                                                                                                                                                                                                                                                                                                                                                                                                                                                                                                                                                                                                                                                                                                                                                                                                                                                                                                                                                                                                                                                                                                                                                                                                                                                                                                                                                                                                                                                                                                                                                                                                                                                                                                                                                                                                                                                                                                                                                                                                                                                                                                                                                                                                                                                                                                                                              Still better than Call of Duty: Ghosts...   \n",
              "4                                                                                                                                                                                                                                                                                                                                                                                                                                                                                                                                                                                                                                                                                                                                                                                                                                                                                                                                                                                                                                                                                                                                                                                                                                                                                                                                                                                                                                                                                                                                                                                                                                                                                                                                                                                                                                                                                                                                                                                                                                                                                                                                                                                                                                                                                                                                                              cant buy skins, cases, keys, stickers - gaben cant steal our money 10/10 would play again   \n",
              "\n",
              "   review_score  review_votes  \n",
              "0             1             1  \n",
              "1             1             1  \n",
              "2             1             1  \n",
              "3             1             1  \n",
              "4             1             1  "
            ]
          },
          "execution_count": 20,
          "metadata": {},
          "output_type": "execute_result"
        }
      ],
      "source": [
        "reviews_df['review_text'] = reviews_df['review_text'].str.strip()\n",
        "reviews_df = reviews_df[(reviews_df['review_text'] != 'Early Access Review') & (reviews_df['review_votes'] != 0)]\n",
        "reviews_df.reset_index(drop=True, inplace=True)\n",
        "reviews_df.head()"
      ]
    },
    {
      "cell_type": "code",
      "execution_count": 21,
      "metadata": {},
      "outputs": [
        {
          "data": {
            "text/plain": [
              "review_score\n",
              "1    545897\n",
              "0    222160\n",
              "Name: count, dtype: int64"
            ]
          },
          "execution_count": 21,
          "metadata": {},
          "output_type": "execute_result"
        }
      ],
      "source": [
        "reviews_df['review_score'].value_counts()"
      ]
    },
    {
      "cell_type": "code",
      "execution_count": 22,
      "metadata": {},
      "outputs": [
        {
          "data": {
            "text/html": [
              "<div>\n",
              "<style scoped>\n",
              "    .dataframe tbody tr th:only-of-type {\n",
              "        vertical-align: middle;\n",
              "    }\n",
              "\n",
              "    .dataframe tbody tr th {\n",
              "        vertical-align: top;\n",
              "    }\n",
              "\n",
              "    .dataframe thead th {\n",
              "        text-align: right;\n",
              "    }\n",
              "</style>\n",
              "<table border=\"1\" class=\"dataframe\">\n",
              "  <thead>\n",
              "    <tr style=\"text-align: right;\">\n",
              "      <th></th>\n",
              "      <th>app_id</th>\n",
              "      <th>app_name</th>\n",
              "      <th>review_text</th>\n",
              "      <th>review_score</th>\n",
              "      <th>review_votes</th>\n",
              "    </tr>\n",
              "  </thead>\n",
              "  <tbody>\n",
              "    <tr>\n",
              "      <th>10050</th>\n",
              "      <td>105600</td>\n",
              "      <td>Terraria</td>\n",
              "      <td></td>\n",
              "      <td>1</td>\n",
              "      <td>1</td>\n",
              "    </tr>\n",
              "    <tr>\n",
              "      <th>54627</th>\n",
              "      <td>203770</td>\n",
              "      <td>Crusader Kings II</td>\n",
              "      <td></td>\n",
              "      <td>1</td>\n",
              "      <td>1</td>\n",
              "    </tr>\n",
              "    <tr>\n",
              "      <th>112457</th>\n",
              "      <td>218620</td>\n",
              "      <td>PAYDAY 2</td>\n",
              "      <td></td>\n",
              "      <td>1</td>\n",
              "      <td>1</td>\n",
              "    </tr>\n",
              "    <tr>\n",
              "      <th>134683</th>\n",
              "      <td>22300</td>\n",
              "      <td>Fallout 3</td>\n",
              "      <td></td>\n",
              "      <td>0</td>\n",
              "      <td>1</td>\n",
              "    </tr>\n",
              "    <tr>\n",
              "      <th>157583</th>\n",
              "      <td>227580</td>\n",
              "      <td>10,000,000</td>\n",
              "      <td></td>\n",
              "      <td>1</td>\n",
              "      <td>1</td>\n",
              "    </tr>\n",
              "    <tr>\n",
              "      <th>172362</th>\n",
              "      <td>233130</td>\n",
              "      <td>Shadow Warrior</td>\n",
              "      <td></td>\n",
              "      <td>0</td>\n",
              "      <td>1</td>\n",
              "    </tr>\n",
              "    <tr>\n",
              "      <th>207009</th>\n",
              "      <td>2400</td>\n",
              "      <td>The Ship</td>\n",
              "      <td></td>\n",
              "      <td>1</td>\n",
              "      <td>1</td>\n",
              "    </tr>\n",
              "    <tr>\n",
              "      <th>234703</th>\n",
              "      <td>249050</td>\n",
              "      <td>Dungeon of the ENDLESS™</td>\n",
              "      <td></td>\n",
              "      <td>1</td>\n",
              "      <td>1</td>\n",
              "    </tr>\n",
              "    <tr>\n",
              "      <th>251461</th>\n",
              "      <td>252950</td>\n",
              "      <td>Rocket League</td>\n",
              "      <td></td>\n",
              "      <td>1</td>\n",
              "      <td>1</td>\n",
              "    </tr>\n",
              "    <tr>\n",
              "      <th>251480</th>\n",
              "      <td>252950</td>\n",
              "      <td>Rocket League</td>\n",
              "      <td></td>\n",
              "      <td>1</td>\n",
              "      <td>1</td>\n",
              "    </tr>\n",
              "    <tr>\n",
              "      <th>290647</th>\n",
              "      <td>268500</td>\n",
              "      <td>XCOM 2</td>\n",
              "      <td></td>\n",
              "      <td>1</td>\n",
              "      <td>1</td>\n",
              "    </tr>\n",
              "    <tr>\n",
              "      <th>322899</th>\n",
              "      <td>275850</td>\n",
              "      <td>No Man's Sky</td>\n",
              "      <td></td>\n",
              "      <td>0</td>\n",
              "      <td>1</td>\n",
              "    </tr>\n",
              "    <tr>\n",
              "      <th>355729</th>\n",
              "      <td>291650</td>\n",
              "      <td>Pillars of Eternity</td>\n",
              "      <td></td>\n",
              "      <td>1</td>\n",
              "      <td>1</td>\n",
              "    </tr>\n",
              "    <tr>\n",
              "      <th>376435</th>\n",
              "      <td>300570</td>\n",
              "      <td>Infinifactory</td>\n",
              "      <td></td>\n",
              "      <td>1</td>\n",
              "      <td>1</td>\n",
              "    </tr>\n",
              "    <tr>\n",
              "      <th>403612</th>\n",
              "      <td>311690</td>\n",
              "      <td>Enter the Gungeon</td>\n",
              "      <td></td>\n",
              "      <td>1</td>\n",
              "      <td>1</td>\n",
              "    </tr>\n",
              "    <tr>\n",
              "      <th>565510</th>\n",
              "      <td>381210</td>\n",
              "      <td>Dead by Daylight</td>\n",
              "      <td></td>\n",
              "      <td>1</td>\n",
              "      <td>1</td>\n",
              "    </tr>\n",
              "    <tr>\n",
              "      <th>619329</th>\n",
              "      <td>4000</td>\n",
              "      <td>Garry's Mod</td>\n",
              "      <td></td>\n",
              "      <td>1</td>\n",
              "      <td>1</td>\n",
              "    </tr>\n",
              "    <tr>\n",
              "      <th>619414</th>\n",
              "      <td>4000</td>\n",
              "      <td>Garry's Mod</td>\n",
              "      <td></td>\n",
              "      <td>1</td>\n",
              "      <td>1</td>\n",
              "    </tr>\n",
              "    <tr>\n",
              "      <th>619485</th>\n",
              "      <td>4000</td>\n",
              "      <td>Garry's Mod</td>\n",
              "      <td></td>\n",
              "      <td>1</td>\n",
              "      <td>1</td>\n",
              "    </tr>\n",
              "    <tr>\n",
              "      <th>653794</th>\n",
              "      <td>42910</td>\n",
              "      <td>Magicka</td>\n",
              "      <td></td>\n",
              "      <td>1</td>\n",
              "      <td>1</td>\n",
              "    </tr>\n",
              "    <tr>\n",
              "      <th>691401</th>\n",
              "      <td>48000</td>\n",
              "      <td>LIMBO</td>\n",
              "      <td></td>\n",
              "      <td>1</td>\n",
              "      <td>1</td>\n",
              "    </tr>\n",
              "    <tr>\n",
              "      <th>724228</th>\n",
              "      <td>570</td>\n",
              "      <td>Dota 2</td>\n",
              "      <td></td>\n",
              "      <td>1</td>\n",
              "      <td>1</td>\n",
              "    </tr>\n",
              "    <tr>\n",
              "      <th>738852</th>\n",
              "      <td>6020</td>\n",
              "      <td>STAR WARS™ Jedi Knight: Jedi Academy™</td>\n",
              "      <td></td>\n",
              "      <td>1</td>\n",
              "      <td>1</td>\n",
              "    </tr>\n",
              "  </tbody>\n",
              "</table>\n",
              "</div>"
            ],
            "text/plain": [
              "        app_id                               app_name review_text  \\\n",
              "10050   105600                               Terraria               \n",
              "54627   203770                      Crusader Kings II               \n",
              "112457  218620                               PAYDAY 2               \n",
              "134683   22300                              Fallout 3               \n",
              "157583  227580                             10,000,000               \n",
              "172362  233130                         Shadow Warrior               \n",
              "207009    2400                               The Ship               \n",
              "234703  249050                Dungeon of the ENDLESS™               \n",
              "251461  252950                          Rocket League               \n",
              "251480  252950                          Rocket League               \n",
              "290647  268500                                 XCOM 2               \n",
              "322899  275850                           No Man's Sky               \n",
              "355729  291650                    Pillars of Eternity               \n",
              "376435  300570                          Infinifactory               \n",
              "403612  311690                      Enter the Gungeon               \n",
              "565510  381210                       Dead by Daylight               \n",
              "619329    4000                            Garry's Mod               \n",
              "619414    4000                            Garry's Mod               \n",
              "619485    4000                            Garry's Mod               \n",
              "653794   42910                                Magicka               \n",
              "691401   48000                                  LIMBO               \n",
              "724228     570                                 Dota 2               \n",
              "738852    6020  STAR WARS™ Jedi Knight: Jedi Academy™               \n",
              "\n",
              "        review_score  review_votes  \n",
              "10050              1             1  \n",
              "54627              1             1  \n",
              "112457             1             1  \n",
              "134683             0             1  \n",
              "157583             1             1  \n",
              "172362             0             1  \n",
              "207009             1             1  \n",
              "234703             1             1  \n",
              "251461             1             1  \n",
              "251480             1             1  \n",
              "290647             1             1  \n",
              "322899             0             1  \n",
              "355729             1             1  \n",
              "376435             1             1  \n",
              "403612             1             1  \n",
              "565510             1             1  \n",
              "619329             1             1  \n",
              "619414             1             1  \n",
              "619485             1             1  \n",
              "653794             1             1  \n",
              "691401             1             1  \n",
              "724228             1             1  \n",
              "738852             1             1  "
            ]
          },
          "execution_count": 22,
          "metadata": {},
          "output_type": "execute_result"
        }
      ],
      "source": [
        "reviews_df[reviews_df['review_text'].str.len() <= 0]"
      ]
    },
    {
      "cell_type": "code",
      "execution_count": 23,
      "metadata": {},
      "outputs": [
        {
          "data": {
            "text/plain": [
              "review_score\n",
              "1    545897\n",
              "0    222160\n",
              "Name: count, dtype: int64"
            ]
          },
          "execution_count": 23,
          "metadata": {},
          "output_type": "execute_result"
        }
      ],
      "source": [
        "reviews_df['review_score'].value_counts()"
      ]
    },
    {
      "cell_type": "code",
      "execution_count": 24,
      "metadata": {},
      "outputs": [
        {
          "data": {
            "image/png": "[encoded data removed]",
            "text/plain": [
              "<Figure size 1000x500 with 2 Axes>"
            ]
          },
          "metadata": {},
          "output_type": "display_data"
        }
      ],
      "source": [
        "plot_classes_balance(reviews_df)"
      ]
    },
    {
      "cell_type": "markdown",
      "metadata": {},
      "source": [
        "Po usunięciu tekstów z samym 'Early Access Review' oraz recenzji źle ocenionych przez pozostałych użytkowników (review_votes = 0) klasy dla wystawionych ocen wciąż są mocno niezbalansowane.\n",
        "\n",
        "W związku z tym, że po wstępnej filtracji wciąż mamy bardzo dużo danych (ponad 750 000 rekordów), klasy zbalansujemy poprzez usunięcie losowych przykładów pozytywnych ocen tak, aby było ich tyle samo,\n",
        "co recenzji negatywnych."
      ]
    },
    {
      "cell_type": "code",
      "execution_count": 25,
      "metadata": {},
      "outputs": [
        {
          "data": {
            "text/plain": [
              "review_score\n",
              "1    222160\n",
              "0    222160\n",
              "Name: count, dtype: int64"
            ]
          },
          "execution_count": 25,
          "metadata": {},
          "output_type": "execute_result"
        }
      ],
      "source": [
        "from sklearn.utils import resample\n",
        "\n",
        "reviews_1 = reviews_df[reviews_df.review_score == 1]\n",
        "reviews_0 = reviews_df[reviews_df.review_score == 0]\n",
        "\n",
        "reviews_1_us = resample(reviews_1, \n",
        "                        replace=False, \n",
        "                        n_samples=len(reviews_0),\n",
        "                        random_state=42)\n",
        " \n",
        "\n",
        "reviews_df_balanced = pd.concat([reviews_1_us, reviews_0])\n",
        "\n",
        "reviews_df_balanced['review_score'].value_counts()\n"
      ]
    },
    {
      "cell_type": "code",
      "execution_count": 26,
      "metadata": {},
      "outputs": [
        {
          "data": {
            "image/png": "[encoded data removed]",
            "text/plain": [
              "<Figure size 1000x500 with 2 Axes>"
            ]
          },
          "metadata": {},
          "output_type": "display_data"
        }
      ],
      "source": [
        "plot_classes_balance(reviews_df_balanced)"
      ]
    },
    {
      "cell_type": "code",
      "execution_count": 27,
      "metadata": {},
      "outputs": [
        {
          "data": {
            "text/html": [
              "<div>\n",
              "<style scoped>\n",
              "    .dataframe tbody tr th:only-of-type {\n",
              "        vertical-align: middle;\n",
              "    }\n",
              "\n",
              "    .dataframe tbody tr th {\n",
              "        vertical-align: top;\n",
              "    }\n",
              "\n",
              "    .dataframe thead th {\n",
              "        text-align: right;\n",
              "    }\n",
              "</style>\n",
              "<table border=\"1\" class=\"dataframe\">\n",
              "  <thead>\n",
              "    <tr style=\"text-align: right;\">\n",
              "      <th></th>\n",
              "      <th>app_id</th>\n",
              "      <th>app_name</th>\n",
              "      <th>review_text</th>\n",
              "      <th>review_score</th>\n",
              "      <th>review_votes</th>\n",
              "    </tr>\n",
              "  </thead>\n",
              "  <tbody>\n",
              "    <tr>\n",
              "      <th>0</th>\n",
              "      <td>218620</td>\n",
              "      <td>PAYDAY 2</td>\n",
              "      <td>This game is very very very very very very very very very very very very very very very very very very very very very very very very very very very very very very very very very very very very very very very very very very very very very very very very very very very very very very very very very very very very very very very very very very very very very very very very very very very very very very very very very very very very very very very very very very very very very very very very very very very very very very very very very very very very very very very very very very very very very very very very very very very very very very very very very very very very very very very very very very very very very very very very very very very very very very very very very very very very very very very very very very very very very very very very very very very very very very very very very very very very very very very very very very very very very very very very very very very very very very very very very very very very very very very very very very very very very very very very very very very very very very very very very very very very very very very very very very very very very very very very very very very very very very very very very very very very very very very very very very very very very very very very very very very very very very very very very very very very very very very very very very very very very very very very very very very very very very very very very very very very very very very very very very very very very very very very very very very very very very very very very very very very very very very very very very very very very very very very very very very very very very very very very very very very very very very very very very very very very very very very very very very very very very very very very very very very very very very very very very very very very very very very very very very very very very very very very very very very very very very very very very very very very very very very very very very very very very very very very very very very very very very very very very very very very very very very very very very very very very very very very very very very very very very very very very very very very very very very very very very very very very very very very very very very very very very very very very very very very very very very very very very very very very very very very very very very very very very very very very very very very very very very very very very very very very very very very very very very very very very very very very very very very very very very very very very very very very very very very very very very very very very very very very very very very very very very very very very very very very very very very very very very very very very very very very very very very very very very very very very very very very very very very very very very very very very very very very very very very very very very very very very very very very very very very very very very very very very very very very very very very very very very very very very very very very very very very very very very very very very very very very very very very very very very very very very very very very very very very very very very very very very very very very very very very very very very very very very very very very very very very very very very very very very very very very very very very very very very very very very very very very very very very very very very very very very very very very very very very very very very very very very very very very very very very very very very very very very very very very very very very very very very very very very very very very very very very very very very very very very very very very very very very very very very very very very very very very very very very very very very very very very very very very very very very very very very very very very very very very very very very very very very very very very very very very very very very very very very very very very very very very very very very very very very very very very very very very very very very very very very very very very very very very very very very very very very very very very very very very very very very very very very very very very very very very very very very very very very very very very very very very very very very very very very very very very very very very very very very very very very very very very very very very very very very very very very very very very very very very very very very very very very very very very very very very very very very very very very very very very very very very very very very very very very very very very very very very very very very very very very very very very very very very very very very very very very very very very very very very very very very very very very very very very very very very very very very very very very very very very very very very very very very very very very very very very very very very very very very very very very very very very very very very very very very very very very very very very very very very very very very very very very very very very very very very very very very very very very very very very very very very very very very very very very very very very very very very very very very very very very very very very very very very very very very very very very very very very very very very very very very very very very very very very very very very very very very very very very very very very very very very very very very very very very very very very very very very very very very very very very very very very very very very very very very very very very very very very very very very very very very very very very very very very very very very very very very very very very very very very very very very very very very very very very very very very very very very very very very very very very very very very very very very very very very very very very very very very very very very very very very very very very very very very very very very very very very very very very very very very very very very very very very very very very very very very very very very very very very very very very very very very very very very very very very very very very very very very very very very very very very very very very very very very very very very very very very very very very very very very very very very very very very very very very very very very very very very very very very very very very very very very very very very very very very very very very very very very very very very very very very very very very very very very very very very very very very very very very very very very very very very very very very very very very very very very very very very very very very very very very very very very very very very very very very very very very very very very very very very very very very very very very very very very very very very very very very very very very very very very very very very very very very very very very very very very very very very very very very very very very very very very very very very very very very very very very very very very very very very very very very very very very very very very very very very good</td>\n",
              "      <td>1</td>\n",
              "      <td>1</td>\n",
              "    </tr>\n",
              "    <tr>\n",
              "      <th>1</th>\n",
              "      <td>248570</td>\n",
              "      <td>Toribash</td>\n",
              "      <td>to fight a pro i used a generic noob move lunge thing     i shredded him to bits and won~!</td>\n",
              "      <td>1</td>\n",
              "      <td>1</td>\n",
              "    </tr>\n",
              "    <tr>\n",
              "      <th>2</th>\n",
              "      <td>426790</td>\n",
              "      <td>Grow Up</td>\n",
              "      <td>Grow Up is everything that I wanted in a sequel to Grow Home.  The positives: + More collectibles + Challenges + More costumes + Huge world to explore with multiple biomes, new plants, and animals + Mobility options are built into BUD instead of being plant based (i.e. Glider and Air Break instead of Flower and Leaf) + Additional character in POD, who can help you find things on the map  The negative: - BUD can be difficult to handle in challenges as you have to be more precise with his movements during a limited amount of time  Other than the one negative, Ubisoft Reflections has made a perfect sequel to the first game and they should be very proud of their work!</td>\n",
              "      <td>1</td>\n",
              "      <td>1</td>\n",
              "    </tr>\n",
              "    <tr>\n",
              "      <th>3</th>\n",
              "      <td>238460</td>\n",
              "      <td>BattleBlock Theater</td>\n",
              "      <td>Hmmm... How to say this... A stupid game with funny man making jokes while telling the story &amp;amp; surprisingly addictive fun no matter play by yourself or co-op with your friends. 9/10</td>\n",
              "      <td>1</td>\n",
              "      <td>1</td>\n",
              "    </tr>\n",
              "    <tr>\n",
              "      <th>4</th>\n",
              "      <td>248820</td>\n",
              "      <td>Risk of Rain</td>\n",
              "      <td>really hard really good (i like it like that). #betterthannuclearthronexddd</td>\n",
              "      <td>1</td>\n",
              "      <td>1</td>\n",
              "    </tr>\n",
              "  </tbody>\n",
              "</table>\n",
              "</div>"
            ],
            "text/plain": [
              "   app_id             app_name  \\\n",
              "0  218620             PAYDAY 2   \n",
              "1  248570             Toribash   \n",
              "2  426790              Grow Up   \n",
              "3  238460  BattleBlock Theater   \n",
              "4  248820         Risk of Rain   \n",
              "\n",
              "                                                                                                                                                                                                                                                                                                                                                                                                                                                                                                                                                                                                                                                                                                                                                                                                                                                                                                                                                                                                                                                                                                                                                                                                                                                                                                                                                                                                                                                                                                                                                                                                                                                                                                                                                                                                                                                                                                                                                                                                                                                                                                                                                                                                                                                                                                                                                                                                                                                                                                                                                                                                                                                                                                                                                                                                                                                                                                                                                                                                                                                                                                                                                                                                                                                                                                                                                                                                                                                                                                                                                                                                                                                                                                                                                                                                                                                                                                                                                                                                                                                                                                                                                                                                                                                                                                                                                                                                                                                                                                                                                                                                                                                                                                                                                                                                                                                                                                                                                                                                                                                                                                                                                                                                                                                                                                                                                                                                                                                                                                                                                                                                                                                                                                                                                                                                                                                                                                                                                                                                                                                                                                                                                                                                                                                                                                                                                                                                                                                                                                                                                                                                                                                                                                                                                                                                                                                                                                                                                                                                                                                                                                                                                                                                                                                                                                                                                                                                                                                                                                                                                                                                                                                               review_text  \\\n",
              "0  This game is very very very very very very very very very very very very very very very very very very very very very very very very very very very very very very very very very very very very very very very very very very very very very very very very very very very very very very very very very very very very very very very very very very very very very very very very very very very very very very very very very very very very very very very very very very very very very very very very very very very very very very very very very very very very very very very very very very very very very very very very very very very very very very very very very very very very very very very very very very very very very very very very very very very very very very very very very very very very very very very very very very very very very very very very very very very very very very very very very very very very very very very very very very very very very very very very very very very very very very very very very very very very very very very very very very very very very very very very very very very very very very very very very very very very very very very very very very very very very very very very very very very very very very very very very very very very very very very very very very very very very very very very very very very very very very very very very very very very very very very very very very very very very very very very very very very very very very very very very very very very very very very very very very very very very very very very very very very very very very very very very very very very very very very very very very very very very very very very very very very very very very very very very very very very very very very very very very very very very very very very very very very very very very very very very very very very very very very very very very very very very very very very very very very very very very very very very very very very very very very very very very very very very very very very very very very very very very very very very very very very very very very very very very very very very very very very very very very very very very very very very very very very very very very very very very very very very very very very very very very very very very very very very very very very very very very very very very very very very very very very very very very very very very very very very very very very very very very very very very very very very very very very very very very very very very very very very very very very very very very very very very very very very very very very very very very very very very very very very very very very very very very very very very very very very very very very very very very very very very very very very very very very very very very very very very very very very very very very very very very very very very very very very very very very very very very very very very very very very very very very very very very very very very very very very very very very very very very very very very very very very very very very very very very very very very very very very very very very very very very very very very very very very very very very very very very very very very very very very very very very very very very very very very very very very very very very very very very very very very very very very very very very very very very very very very very very very very very very very very very very very very very very very very very very very very very very very very very very very very very very very very very very very very very very very very very very very very very very very very very very very very very very very very very very very very very very very very very very very very very very very very very very very very very very very very very very very very very very very very very very very very very very very very very very very very very very very very very very very very very very very very very very very very very very very very very very very very very very very very very very very very very very very very very very very very very very very very very very very very very very very very very very very very very very very very very very very very very very very very very very very very very very very very very very very very very very very very very very very very very very very very very very very very very very very very very very very very very very very very very very very very very very very very very very very very very very very very very very very very very very very very very very very very very very very very very very very very very very very very very very very very very very very very very very very very very very very very very very very very very very very very very very very very very very very very very very very very very very very very very very very very very very very very very very very very very very very very very very very very very very very very very very very very very very very very very very very very very very very very very very very very very very very very very very very very very very very very very very very very very very very very very very very very very very very very very very very very very very very very very very very very very very very very very very very very very very very very very very very very very very very very very very very very very very very very very very very very very very very very very very very very very very very very very very very very very very very very very very very very very very very very very very very very very very very very very very very very very very very very very very very very very very very very very very very very very very very very very very very very very very very very very very very very very very very very very very very very very very very very very very very very very very very very very very very very very very very very very very very very very very very very very very very very very very very very very very very very very very very very very very very very very very very very very very very very very very very very very very very very very very very very very very very very very very very very very very very very very very very very very very very very very very very very very very very very very very very very very very very very very very very very very very very very very very very very very very very very very very very very very very very very very very very very very very very very very very very very very very very very very very very very very very very very very very very very very very very very very very very very very very very very very very very very very very very very very very very very very very very very very very very very very very very very very very very very very very very very very very very very very very very very very very very very very very very very very very very very very very very very very very very very very very very very very very very very very very very very very very very very very very very very very very very very very very very very very very very very very very very very very very very very very very very very very very very very very very very very very very very very very very very very very very very very very very very very good   \n",
              "1                                                                                                                                                                                                                                                                                                                                                                                                                                                                                                                                                                                                                                                                                                                                                                                                                                                                                                                                                                                                                                                                                                                                                                                                                                                                                                                                                                                                                                                                                                                                                                                                                                                                                                                                                                                                                                                                                                                                                                                                                                                                                                                                                                                                                                                                                                                                                                                                                                                                                                                                                                                                                                                                                                                                                                                                                                                                                                                                                                                                                                                                                                                                                                                                                                                                                                                                                                                                                                                                                                                                                                                                                                                                                                                                                                                                                                                                                                                                                                                                                                                                                                                                                                                                                                                                                                                                                                                                                                                                                                                                                                                                                                                                                                                                                                                                                                                                                                                                                                                                                                                                                                                                                                                                                                                                                                                                                                                                                                                                                                                                                                                                                                                                                                                                                                                                                                                                                                                                                                                                                                                                                                                                                                                                                                                                                                                                                                                                                                                                                                                                                                                                                                                                                                                                                                                                                                                                                                                                                                                                                                                                                                                                                                                                                                                                                                                                                                                                                                                                                                                                                                               to fight a pro i used a generic noob move lunge thing     i shredded him to bits and won~!   \n",
              "2                                                                                                                                                                                                                                                                                                                                                                                                                                                                                                                                                                                                                                                                                                                                                                                                                                                                                                                                                                                                                                                                                                                                                                                                                                                                                                                                                                                                                                                                                                                                                                                                                                                                                                                                                                                                                                                                                                                                                                                                                                                                                                                                                                                                                                                                                                                                                                                                                                                                                                                                                                                                                                                                                                                                                                                                                                                                                                                                                                                                                                                                                                                                                                                                                                                                                                                                                                                                                                                                                                                                                                                                                                                                                                                                                                                                                                                                                                                                                                                                                                                                                                                                                                                                                                                                                                                                                                                                                                                                                                                                                                                                                                                                                                                                                                                                                                                                                                                                                                                                                                                                                                                                                                                                                                                                                                                                                                                                                                                                                                                                                                                                                                                                                                                                                                                                                                                                                                                                                                                                                                                                                                                                                                                                                                                                                                                                                                                                                                                                                                                                                                                                                                                                                                                                                                                                                                                                                                                                                                         Grow Up is everything that I wanted in a sequel to Grow Home.  The positives: + More collectibles + Challenges + More costumes + Huge world to explore with multiple biomes, new plants, and animals + Mobility options are built into BUD instead of being plant based (i.e. Glider and Air Break instead of Flower and Leaf) + Additional character in POD, who can help you find things on the map  The negative: - BUD can be difficult to handle in challenges as you have to be more precise with his movements during a limited amount of time  Other than the one negative, Ubisoft Reflections has made a perfect sequel to the first game and they should be very proud of their work!   \n",
              "3                                                                                                                                                                                                                                                                                                                                                                                                                                                                                                                                                                                                                                                                                                                                                                                                                                                                                                                                                                                                                                                                                                                                                                                                                                                                                                                                                                                                                                                                                                                                                                                                                                                                                                                                                                                                                                                                                                                                                                                                                                                                                                                                                                                                                                                                                                                                                                                                                                                                                                                                                                                                                                                                                                                                                                                                                                                                                                                                                                                                                                                                                                                                                                                                                                                                                                                                                                                                                                                                                                                                                                                                                                                                                                                                                                                                                                                                                                                                                                                                                                                                                                                                                                                                                                                                                                                                                                                                                                                                                                                                                                                                                                                                                                                                                                                                                                                                                                                                                                                                                                                                                                                                                                                                                                                                                                                                                                                                                                                                                                                                                                                                                                                                                                                                                                                                                                                                                                                                                                                                                                                                                                                                                                                                                                                                                                                                                                                                                                                                                                                                                                                                                                                                                                                                                                                                                                                                                                                                                                                                                                                                                                                                                                                                                                                                                                                                                                                                                                                                                Hmmm... How to say this... A stupid game with funny man making jokes while telling the story &amp; surprisingly addictive fun no matter play by yourself or co-op with your friends. 9/10   \n",
              "4                                                                                                                                                                                                                                                                                                                                                                                                                                                                                                                                                                                                                                                                                                                                                                                                                                                                                                                                                                                                                                                                                                                                                                                                                                                                                                                                                                                                                                                                                                                                                                                                                                                                                                                                                                                                                                                                                                                                                                                                                                                                                                                                                                                                                                                                                                                                                                                                                                                                                                                                                                                                                                                                                                                                                                                                                                                                                                                                                                                                                                                                                                                                                                                                                                                                                                                                                                                                                                                                                                                                                                                                                                                                                                                                                                                                                                                                                                                                                                                                                                                                                                                                                                                                                                                                                                                                                                                                                                                                                                                                                                                                                                                                                                                                                                                                                                                                                                                                                                                                                                                                                                                                                                                                                                                                                                                                                                                                                                                                                                                                                                                                                                                                                                                                                                                                                                                                                                                                                                                                                                                                                                                                                                                                                                                                                                                                                                                                                                                                                                                                                                                                                                                                                                                                                                                                                                                                                                                                                                                                                                                                                                                                                                                                                                                                                                                                                                                                                                                                                                                                                                                              really hard really good (i like it like that). #betterthannuclearthronexddd   \n",
              "\n",
              "   review_score  review_votes  \n",
              "0             1             1  \n",
              "1             1             1  \n",
              "2             1             1  \n",
              "3             1             1  \n",
              "4             1             1  "
            ]
          },
          "execution_count": 27,
          "metadata": {},
          "output_type": "execute_result"
        }
      ],
      "source": [
        "reviews_df_balanced.reset_index(drop=True, inplace=True)\n",
        "reviews_df_balanced.head()"
      ]
    },
    {
      "cell_type": "code",
      "execution_count": 28,
      "metadata": {},
      "outputs": [
        {
          "data": {
            "text/html": [
              "<div>\n",
              "<style scoped>\n",
              "    .dataframe tbody tr th:only-of-type {\n",
              "        vertical-align: middle;\n",
              "    }\n",
              "\n",
              "    .dataframe tbody tr th {\n",
              "        vertical-align: top;\n",
              "    }\n",
              "\n",
              "    .dataframe thead th {\n",
              "        text-align: right;\n",
              "    }\n",
              "</style>\n",
              "<table border=\"1\" class=\"dataframe\">\n",
              "  <thead>\n",
              "    <tr style=\"text-align: right;\">\n",
              "      <th></th>\n",
              "      <th>review_text</th>\n",
              "      <th>review_score</th>\n",
              "    </tr>\n",
              "  </thead>\n",
              "  <tbody>\n",
              "    <tr>\n",
              "      <th>0</th>\n",
              "      <td>This game is very very very very very very very very very very very very very very very very very very very very very very very very very very very very very very very very very very very very very very very very very very very very very very very very very very very very very very very very very very very very very very very very very very very very very very very very very very very very very very very very very very very very very very very very very very very very very very very very very very very very very very very very very very very very very very very very very very very very very very very very very very very very very very very very very very very very very very very very very very very very very very very very very very very very very very very very very very very very very very very very very very very very very very very very very very very very very very very very very very very very very very very very very very very very very very very very very very very very very very very very very very very very very very very very very very very very very very very very very very very very very very very very very very very very very very very very very very very very very very very very very very very very very very very very very very very very very very very very very very very very very very very very very very very very very very very very very very very very very very very very very very very very very very very very very very very very very very very very very very very very very very very very very very very very very very very very very very very very very very very very very very very very very very very very very very very very very very very very very very very very very very very very very very very very very very very very very very very very very very very very very very very very very very very very very very very very very very very very very very very very very very very very very very very very very very very very very very very very very very very very very very very very very very very very very very very very very very very very very very very very very very very very very very very very very very very very very very very very very very very very very very very very very very very very very very very very very very very very very very very very very very very very very very very very very very very very very very very very very very very very very very very very very very very very very very very very very very very very very very very very very very very very very very very very very very very very very very very very very very very very very very very very very very very very very very very very very very very very very very very very very very very very very very very very very very very very very very very very very very very very very very very very very very very very very very very very very very very very very very very very very very very very very very very very very very very very very very very very very very very very very very very very very very very very very very very very very very very very very very very very very very very very very very very very very very very very very very very very very very very very very very very very very very very very very very very very very very very very very very very very very very very very very very very very very very very very very very very very very very very very very very very very very very very very very very very very very very very very very very very very very very very very very very very very very very very very very very very very very very very very very very very very very very very very very very very very very very very very very very very very very very very very very very very very very very very very very very very very very very very very very very very very very very very very very very very very very very very very very very very very very very very very very very very very very very very very very very very very very very very very very very very very very very very very very very very very very very very very very very very very very very very very very very very very very very very very very very very very very very very very very very very very very very very very very very very very very very very very very very very very very very very very very very very very very very very very very very very very very very very very very very very very very very very very very very very very very very very very very very very very very very very very very very very very very very very very very very very very very very very very very very very very very very very very very very very very very very very very very very very very very very very very very very very very very very very very very very very very very very very very very very very very very very very very very very very very very very very very very very very very very very very very very very very very very very very very very very very very very very very very very very very very very very very very very very very very very very very very very very very very very very very very very very very very very very very very very very very very very very very very very very very very very very very very very very very very very very very very very very very very very very very very very very very very very very very very very very very very very very very very very very very very very very very very very very very very very very very very very very very very very very very very very very very very very very very very very very very very very very very very very very very very very very very very very very very very very very very very very very very very very very very very very very very very very very very very very very very very very very very very very very very very very very very very very very very very very very very very very very very very very very very very very very very very very very very very very very very very very very very very very very very very very very very very very very very very very very very very very very very very very very very very very very very very very very very very very very very very very very very very very very very very very very very very very very very very very very very very very very very very very very very very very very very very very very very very very very very very very very very very very very very very very very very very very very very very very very very very very very very very very very very very very very very very very very very very very very very very very very very very very very very very very very very very very very very very very very very very very very very very very very very very very very very very very very very very very very very very very very very very very very very very very very very very very very very very very very very very very very very very very very very very very very very very very very very very very very very very very very very very very very very very very very very very very very very very very very very very very very very very very very very very very very very very very very very very very very very very very very very very very very very very very very very very very very very very very very very very very very very very very very very very very very very very very very good</td>\n",
              "      <td>1</td>\n",
              "    </tr>\n",
              "    <tr>\n",
              "      <th>1</th>\n",
              "      <td>to fight a pro i used a generic noob move lunge thing     i shredded him to bits and won~!</td>\n",
              "      <td>1</td>\n",
              "    </tr>\n",
              "    <tr>\n",
              "      <th>2</th>\n",
              "      <td>Grow Up is everything that I wanted in a sequel to Grow Home.  The positives: + More collectibles + Challenges + More costumes + Huge world to explore with multiple biomes, new plants, and animals + Mobility options are built into BUD instead of being plant based (i.e. Glider and Air Break instead of Flower and Leaf) + Additional character in POD, who can help you find things on the map  The negative: - BUD can be difficult to handle in challenges as you have to be more precise with his movements during a limited amount of time  Other than the one negative, Ubisoft Reflections has made a perfect sequel to the first game and they should be very proud of their work!</td>\n",
              "      <td>1</td>\n",
              "    </tr>\n",
              "    <tr>\n",
              "      <th>3</th>\n",
              "      <td>Hmmm... How to say this... A stupid game with funny man making jokes while telling the story &amp;amp; surprisingly addictive fun no matter play by yourself or co-op with your friends. 9/10</td>\n",
              "      <td>1</td>\n",
              "    </tr>\n",
              "    <tr>\n",
              "      <th>4</th>\n",
              "      <td>really hard really good (i like it like that). #betterthannuclearthronexddd</td>\n",
              "      <td>1</td>\n",
              "    </tr>\n",
              "  </tbody>\n",
              "</table>\n",
              "</div>"
            ],
            "text/plain": [
              "                                                                                                                                                                                                                                                                                                                                                                                                                                                                                                                                                                                                                                                                                                                                                                                                                                                                                                                                                                                                                                                                                                                                                                                                                                                                                                                                                                                                                                                                                                                                                                                                                                                                                                                                                                                                                                                                                                                                                                                                                                                                                                                                                                                                                                                                                                                                                                                                                                                                                                                                                                                                                                                                                                                                                                                                                                                                                                                                                                                                                                                                                                                                                                                                                                                                                                                                                                                                                                                                                                                                                                                                                                                                                                                                                                                                                                                                                                                                                                                                                                                                                                                                                                                                                                                                                                                                                                                                                                                                                                                                                                                                                                                                                                                                                                                                                                                                                                                                                                                                                                                                                                                                                                                                                                                                                                                                                                                                                                                                                                                                                                                                                                                                                                                                                                                                                                                                                                                                                                                                                                                                                                                                                                                                                                                                                                                                                                                                                                                                                                                                                                                                                                                                                                                                                                                                                                                                                                                                                                                                                                                                                                                                                                                                                                                                                                                                                                                                                                                                                                                                                                                                                                                               review_text  \\\n",
              "0  This game is very very very very very very very very very very very very very very very very very very very very very very very very very very very very very very very very very very very very very very very very very very very very very very very very very very very very very very very very very very very very very very very very very very very very very very very very very very very very very very very very very very very very very very very very very very very very very very very very very very very very very very very very very very very very very very very very very very very very very very very very very very very very very very very very very very very very very very very very very very very very very very very very very very very very very very very very very very very very very very very very very very very very very very very very very very very very very very very very very very very very very very very very very very very very very very very very very very very very very very very very very very very very very very very very very very very very very very very very very very very very very very very very very very very very very very very very very very very very very very very very very very very very very very very very very very very very very very very very very very very very very very very very very very very very very very very very very very very very very very very very very very very very very very very very very very very very very very very very very very very very very very very very very very very very very very very very very very very very very very very very very very very very very very very very very very very very very very very very very very very very very very very very very very very very very very very very very very very very very very very very very very very very very very very very very very very very very very very very very very very very very very very very very very very very very very very very very very very very very very very very very very very very very very very very very very very very very very very very very very very very very very very very very very very very very very very very very very very very very very very very very very very very very very very very very very very very very very very very very very very very very very very very very very very very very very very very very very very very very very very very very very very very very very very very very very very very very very very very very very very very very very very very very very very very very very very very very very very very very very very very very very very very very very very very very very very very very very very very very very very very very very very very very very very very very very very very very very very very very very very very very very very very very very very very very very very very very very very very very very very very very very very very very very very very very very very very very very very very very very very very very very very very very very very very very very very very very very very very very very very very very very very very very very very very very very very very very very very very very very very very very very very very very very very very very very very very very very very very very very very very very very very very very very very very very very very very very very very very very very very very very very very very very very very very very very very very very very very very very very very very very very very very very very very very very very very very very very very very very very very very very very very very very very very very very very very very very very very very very very very very very very very very very very very very very very very very very very very very very very very very very very very very very very very very very very very very very very very very very very very very very very very very very very very very very very very very very very very very very very very very very very very very very very very very very very very very very very very very very very very very very very very very very very very very very very very very very very very very very very very very very very very very very very very very very very very very very very very very very very very very very very very very very very very very very very very very very very very very very very very very very very very very very very very very very very very very very very very very very very very very very very very very very very very very very very very very very very very very very very very very very very very very very very very very very very very very very very very very very very very very very very very very very very very very very very very very very very very very very very very very very very very very very very very very very very very very very very very very very very very very very very very very very very very very very very very very very very very very very very very very very very very very very very very very very very very very very very very very very very very very very very very very very very very very very very very very very very very very very very very very very very very very very very very very very very very very very very very very very very very very very very very very very very very very very very very very very very very very very very very very very very very very very very very very very very very very very very very very very very very very very very very very very very very very very very very very very very very very very very very very very very very very very very very very very very very very very very very very very very very very very very very very very very very very very very very very very very very very very very very very very very very very very very very very very very very very very very very very very very very very very very very very very very very very very very very very very very very very very very very very very very very very very very very very very very very very very very very very very very very very very very very very very very very very very very very very very very very very very very very very very very very very very very very very very very very very very very very very very very very very very very very very very very very very very very very very very very very very very very very very very very very very very very very very very very very very very very very very very very very very very very very very very very very very very very very very very very very very very very very very very very very very very very very very very very very very very very very very very very very very very very very very very very very very very very very very very very very very very very very very very very very very very very very very very very very very very very very very very very very very very very very very very very very very very very very very very very very very very very very very very very very very very very very very very very very very very very very very very very very very very very very very very very very very very very very very very very very very very very very very very very very very very very very very very very very very very very very very very very very very very very very very very very very very very very good   \n",
              "1                                                                                                                                                                                                                                                                                                                                                                                                                                                                                                                                                                                                                                                                                                                                                                                                                                                                                                                                                                                                                                                                                                                                                                                                                                                                                                                                                                                                                                                                                                                                                                                                                                                                                                                                                                                                                                                                                                                                                                                                                                                                                                                                                                                                                                                                                                                                                                                                                                                                                                                                                                                                                                                                                                                                                                                                                                                                                                                                                                                                                                                                                                                                                                                                                                                                                                                                                                                                                                                                                                                                                                                                                                                                                                                                                                                                                                                                                                                                                                                                                                                                                                                                                                                                                                                                                                                                                                                                                                                                                                                                                                                                                                                                                                                                                                                                                                                                                                                                                                                                                                                                                                                                                                                                                                                                                                                                                                                                                                                                                                                                                                                                                                                                                                                                                                                                                                                                                                                                                                                                                                                                                                                                                                                                                                                                                                                                                                                                                                                                                                                                                                                                                                                                                                                                                                                                                                                                                                                                                                                                                                                                                                                                                                                                                                                                                                                                                                                                                                                                                                                                                                               to fight a pro i used a generic noob move lunge thing     i shredded him to bits and won~!   \n",
              "2                                                                                                                                                                                                                                                                                                                                                                                                                                                                                                                                                                                                                                                                                                                                                                                                                                                                                                                                                                                                                                                                                                                                                                                                                                                                                                                                                                                                                                                                                                                                                                                                                                                                                                                                                                                                                                                                                                                                                                                                                                                                                                                                                                                                                                                                                                                                                                                                                                                                                                                                                                                                                                                                                                                                                                                                                                                                                                                                                                                                                                                                                                                                                                                                                                                                                                                                                                                                                                                                                                                                                                                                                                                                                                                                                                                                                                                                                                                                                                                                                                                                                                                                                                                                                                                                                                                                                                                                                                                                                                                                                                                                                                                                                                                                                                                                                                                                                                                                                                                                                                                                                                                                                                                                                                                                                                                                                                                                                                                                                                                                                                                                                                                                                                                                                                                                                                                                                                                                                                                                                                                                                                                                                                                                                                                                                                                                                                                                                                                                                                                                                                                                                                                                                                                                                                                                                                                                                                                                                                         Grow Up is everything that I wanted in a sequel to Grow Home.  The positives: + More collectibles + Challenges + More costumes + Huge world to explore with multiple biomes, new plants, and animals + Mobility options are built into BUD instead of being plant based (i.e. Glider and Air Break instead of Flower and Leaf) + Additional character in POD, who can help you find things on the map  The negative: - BUD can be difficult to handle in challenges as you have to be more precise with his movements during a limited amount of time  Other than the one negative, Ubisoft Reflections has made a perfect sequel to the first game and they should be very proud of their work!   \n",
              "3                                                                                                                                                                                                                                                                                                                                                                                                                                                                                                                                                                                                                                                                                                                                                                                                                                                                                                                                                                                                                                                                                                                                                                                                                                                                                                                                                                                                                                                                                                                                                                                                                                                                                                                                                                                                                                                                                                                                                                                                                                                                                                                                                                                                                                                                                                                                                                                                                                                                                                                                                                                                                                                                                                                                                                                                                                                                                                                                                                                                                                                                                                                                                                                                                                                                                                                                                                                                                                                                                                                                                                                                                                                                                                                                                                                                                                                                                                                                                                                                                                                                                                                                                                                                                                                                                                                                                                                                                                                                                                                                                                                                                                                                                                                                                                                                                                                                                                                                                                                                                                                                                                                                                                                                                                                                                                                                                                                                                                                                                                                                                                                                                                                                                                                                                                                                                                                                                                                                                                                                                                                                                                                                                                                                                                                                                                                                                                                                                                                                                                                                                                                                                                                                                                                                                                                                                                                                                                                                                                                                                                                                                                                                                                                                                                                                                                                                                                                                                                                                                Hmmm... How to say this... A stupid game with funny man making jokes while telling the story &amp; surprisingly addictive fun no matter play by yourself or co-op with your friends. 9/10   \n",
              "4                                                                                                                                                                                                                                                                                                                                                                                                                                                                                                                                                                                                                                                                                                                                                                                                                                                                                                                                                                                                                                                                                                                                                                                                                                                                                                                                                                                                                                                                                                                                                                                                                                                                                                                                                                                                                                                                                                                                                                                                                                                                                                                                                                                                                                                                                                                                                                                                                                                                                                                                                                                                                                                                                                                                                                                                                                                                                                                                                                                                                                                                                                                                                                                                                                                                                                                                                                                                                                                                                                                                                                                                                                                                                                                                                                                                                                                                                                                                                                                                                                                                                                                                                                                                                                                                                                                                                                                                                                                                                                                                                                                                                                                                                                                                                                                                                                                                                                                                                                                                                                                                                                                                                                                                                                                                                                                                                                                                                                                                                                                                                                                                                                                                                                                                                                                                                                                                                                                                                                                                                                                                                                                                                                                                                                                                                                                                                                                                                                                                                                                                                                                                                                                                                                                                                                                                                                                                                                                                                                                                                                                                                                                                                                                                                                                                                                                                                                                                                                                                                                                                                                                              really hard really good (i like it like that). #betterthannuclearthronexddd   \n",
              "\n",
              "   review_score  \n",
              "0             1  \n",
              "1             1  \n",
              "2             1  \n",
              "3             1  \n",
              "4             1  "
            ]
          },
          "execution_count": 28,
          "metadata": {},
          "output_type": "execute_result"
        }
      ],
      "source": [
        "df = reviews_df_balanced[['review_text', 'review_score']].reset_index(drop=True)\n",
        "df.head()"
      ]
    },
    {
      "cell_type": "markdown",
      "metadata": {},
      "source": [
        "### Preprocessing"
      ]
    },
    {
      "cell_type": "markdown",
      "metadata": {},
      "source": [
        "Usunięcie stopwords"
      ]
    },
    {
      "cell_type": "code",
      "execution_count": 13,
      "metadata": {},
      "outputs": [
        {
          "name": "stdout",
          "output_type": "stream",
          "text": [
            "Collecting en-core-web-md==3.7.1\n",
            "  Downloading https://github.com/explosion/spacy-models/releases/download/en_core_web_md-3.7.1/en_core_web_md-3.7.1-py3-none-any.whl (42.8 MB)\n",
            "     ---------------------------------------- 0.0/42.8 MB ? eta -:--:--\n",
            "     --------------------------------------- 0.0/42.8 MB 991.0 kB/s eta 0:00:44\n",
            "     ---------------------------------------- 0.2/42.8 MB 2.0 MB/s eta 0:00:22\n",
            "     ---------------------------------------- 0.4/42.8 MB 3.2 MB/s eta 0:00:14\n",
            "      --------------------------------------- 0.7/42.8 MB 3.5 MB/s eta 0:00:13\n",
            "      --------------------------------------- 0.9/42.8 MB 3.6 MB/s eta 0:00:12\n",
            "     - -------------------------------------- 1.2/42.8 MB 3.9 MB/s eta 0:00:11\n",
            "     - -------------------------------------- 1.4/42.8 MB 4.1 MB/s eta 0:00:11\n",
            "     - -------------------------------------- 1.7/42.8 MB 4.3 MB/s eta 0:00:10\n",
            "     - -------------------------------------- 1.9/42.8 MB 4.4 MB/s eta 0:00:10\n",
            "     -- ------------------------------------- 2.2/42.8 MB 4.5 MB/s eta 0:00:10\n",
            "     -- ------------------------------------- 2.4/42.8 MB 4.6 MB/s eta 0:00:09\n",
            "     -- ------------------------------------- 2.7/42.8 MB 4.6 MB/s eta 0:00:09\n",
            "     -- ------------------------------------- 2.9/42.8 MB 4.7 MB/s eta 0:00:09\n",
            "     -- ------------------------------------- 3.2/42.8 MB 4.7 MB/s eta 0:00:09\n",
            "     --- ------------------------------------ 3.5/42.8 MB 4.8 MB/s eta 0:00:09\n",
            "     --- ------------------------------------ 3.7/42.8 MB 4.8 MB/s eta 0:00:09\n",
            "     --- ------------------------------------ 4.0/42.8 MB 4.9 MB/s eta 0:00:08\n",
            "     --- ------------------------------------ 4.2/42.8 MB 4.9 MB/s eta 0:00:08\n",
            "     ---- ----------------------------------- 4.4/42.8 MB 5.0 MB/s eta 0:00:08\n",
            "     ---- ----------------------------------- 4.7/42.8 MB 5.0 MB/s eta 0:00:08\n",
            "     ---- ----------------------------------- 4.8/42.8 MB 5.0 MB/s eta 0:00:08\n",
            "     ---- ----------------------------------- 5.2/42.8 MB 4.9 MB/s eta 0:00:08\n",
            "     ----- ---------------------------------- 5.4/42.8 MB 4.8 MB/s eta 0:00:08\n",
            "     ----- ---------------------------------- 5.5/42.8 MB 4.8 MB/s eta 0:00:08\n",
            "     ----- ---------------------------------- 5.7/42.8 MB 4.7 MB/s eta 0:00:08\n",
            "     ----- ---------------------------------- 5.8/42.8 MB 4.7 MB/s eta 0:00:08\n",
            "     ----- ---------------------------------- 6.0/42.8 MB 4.6 MB/s eta 0:00:08\n",
            "     ----- ---------------------------------- 6.1/42.8 MB 4.6 MB/s eta 0:00:09\n",
            "     ----- ---------------------------------- 6.3/42.8 MB 4.5 MB/s eta 0:00:09\n",
            "     ------ --------------------------------- 6.5/42.8 MB 4.5 MB/s eta 0:00:09\n",
            "     ------ --------------------------------- 6.7/42.8 MB 4.5 MB/s eta 0:00:09\n",
            "     ------ --------------------------------- 6.8/42.8 MB 4.5 MB/s eta 0:00:09\n",
            "     ------ --------------------------------- 7.0/42.8 MB 4.4 MB/s eta 0:00:09\n",
            "     ------ --------------------------------- 7.1/42.8 MB 4.4 MB/s eta 0:00:09\n",
            "     ------ --------------------------------- 7.3/42.8 MB 4.3 MB/s eta 0:00:09\n",
            "     ------ --------------------------------- 7.5/42.8 MB 4.3 MB/s eta 0:00:09\n",
            "     ------- -------------------------------- 7.6/42.8 MB 4.3 MB/s eta 0:00:09\n",
            "     ------- -------------------------------- 7.8/42.8 MB 4.3 MB/s eta 0:00:09\n",
            "     ------- -------------------------------- 8.1/42.8 MB 4.3 MB/s eta 0:00:09\n",
            "     ------- -------------------------------- 8.2/42.8 MB 4.3 MB/s eta 0:00:09\n",
            "     ------- -------------------------------- 8.4/42.8 MB 4.3 MB/s eta 0:00:09\n",
            "     -------- ------------------------------- 8.6/42.8 MB 4.3 MB/s eta 0:00:09\n",
            "     -------- ------------------------------- 8.8/42.8 MB 4.2 MB/s eta 0:00:09\n",
            "     -------- ------------------------------- 8.9/42.8 MB 4.2 MB/s eta 0:00:08\n",
            "     -------- ------------------------------- 9.1/42.8 MB 4.2 MB/s eta 0:00:08\n",
            "     -------- ------------------------------- 9.3/42.8 MB 4.2 MB/s eta 0:00:08\n",
            "     -------- ------------------------------- 9.3/42.8 MB 4.2 MB/s eta 0:00:08\n",
            "     -------- ------------------------------- 9.6/42.8 MB 4.2 MB/s eta 0:00:08\n",
            "     --------- ------------------------------ 9.7/42.8 MB 4.2 MB/s eta 0:00:08\n",
            "     --------- ------------------------------ 9.9/42.8 MB 4.1 MB/s eta 0:00:08\n",
            "     --------- ------------------------------ 10.0/42.8 MB 4.1 MB/s eta 0:00:08\n",
            "     --------- ------------------------------ 10.1/42.8 MB 4.1 MB/s eta 0:00:08\n",
            "     --------- ------------------------------ 10.3/42.8 MB 4.1 MB/s eta 0:00:08\n",
            "     --------- ------------------------------ 10.4/42.8 MB 4.1 MB/s eta 0:00:08\n",
            "     --------- ------------------------------ 10.5/42.8 MB 4.1 MB/s eta 0:00:08\n",
            "     ---------- ----------------------------- 10.7/42.8 MB 4.1 MB/s eta 0:00:08\n",
            "     ---------- ----------------------------- 10.8/42.8 MB 4.0 MB/s eta 0:00:08\n",
            "     ---------- ----------------------------- 11.0/42.8 MB 4.0 MB/s eta 0:00:08\n",
            "     ---------- ----------------------------- 11.1/42.8 MB 4.0 MB/s eta 0:00:08\n",
            "     ---------- ----------------------------- 11.3/42.8 MB 4.0 MB/s eta 0:00:08\n",
            "     ---------- ----------------------------- 11.4/42.8 MB 3.9 MB/s eta 0:00:09\n",
            "     ---------- ----------------------------- 11.5/42.8 MB 3.9 MB/s eta 0:00:09\n",
            "     ---------- ----------------------------- 11.7/42.8 MB 3.9 MB/s eta 0:00:09\n",
            "     ----------- ---------------------------- 11.8/42.8 MB 3.8 MB/s eta 0:00:09\n",
            "     ----------- ---------------------------- 12.0/42.8 MB 3.8 MB/s eta 0:00:09\n",
            "     ----------- ---------------------------- 12.1/42.8 MB 3.8 MB/s eta 0:00:09\n",
            "     ----------- ---------------------------- 12.3/42.8 MB 3.7 MB/s eta 0:00:09\n",
            "     ----------- ---------------------------- 12.4/42.8 MB 3.7 MB/s eta 0:00:09\n",
            "     ----------- ---------------------------- 12.6/42.8 MB 3.7 MB/s eta 0:00:09\n",
            "     ----------- ---------------------------- 12.7/42.8 MB 3.7 MB/s eta 0:00:09\n",
            "     ------------ --------------------------- 12.9/42.8 MB 3.7 MB/s eta 0:00:09\n",
            "     ------------ --------------------------- 13.0/42.8 MB 3.6 MB/s eta 0:00:09\n",
            "     ------------ --------------------------- 13.2/42.8 MB 3.6 MB/s eta 0:00:09\n",
            "     ------------ --------------------------- 13.3/42.8 MB 3.6 MB/s eta 0:00:09\n",
            "     ------------ --------------------------- 13.5/42.8 MB 3.6 MB/s eta 0:00:09\n",
            "     ------------ --------------------------- 13.6/42.8 MB 3.5 MB/s eta 0:00:09\n",
            "     ------------ --------------------------- 13.8/42.8 MB 3.5 MB/s eta 0:00:09\n",
            "     ------------- -------------------------- 14.0/42.8 MB 3.5 MB/s eta 0:00:09\n",
            "     ------------- -------------------------- 14.1/42.8 MB 3.5 MB/s eta 0:00:09\n",
            "     ------------- -------------------------- 14.3/42.8 MB 3.4 MB/s eta 0:00:09\n",
            "     ------------- -------------------------- 14.4/42.8 MB 3.4 MB/s eta 0:00:09\n",
            "     ------------- -------------------------- 14.5/42.8 MB 3.4 MB/s eta 0:00:09\n",
            "     ------------- -------------------------- 14.6/42.8 MB 3.4 MB/s eta 0:00:09\n",
            "     ------------- -------------------------- 14.7/42.8 MB 3.4 MB/s eta 0:00:09\n",
            "     ------------- -------------------------- 14.8/42.8 MB 3.3 MB/s eta 0:00:09\n",
            "     ------------- -------------------------- 15.0/42.8 MB 3.3 MB/s eta 0:00:09\n",
            "     -------------- ------------------------- 15.1/42.8 MB 3.3 MB/s eta 0:00:09\n",
            "     -------------- ------------------------- 15.2/42.8 MB 3.3 MB/s eta 0:00:09\n",
            "     -------------- ------------------------- 15.3/42.8 MB 3.2 MB/s eta 0:00:09\n",
            "     -------------- ------------------------- 15.5/42.8 MB 3.2 MB/s eta 0:00:09\n",
            "     -------------- ------------------------- 15.6/42.8 MB 3.2 MB/s eta 0:00:09\n",
            "     -------------- ------------------------- 15.7/42.8 MB 3.2 MB/s eta 0:00:09\n",
            "     -------------- ------------------------- 15.9/42.8 MB 3.2 MB/s eta 0:00:09\n",
            "     --------------- ------------------------ 16.0/42.8 MB 3.2 MB/s eta 0:00:09\n",
            "     --------------- ------------------------ 16.2/42.8 MB 3.2 MB/s eta 0:00:09\n",
            "     --------------- ------------------------ 16.3/42.8 MB 3.2 MB/s eta 0:00:09\n",
            "     --------------- ------------------------ 16.5/42.8 MB 3.2 MB/s eta 0:00:09\n",
            "     --------------- ------------------------ 16.6/42.8 MB 3.2 MB/s eta 0:00:09\n",
            "     --------------- ------------------------ 16.7/42.8 MB 3.1 MB/s eta 0:00:09\n",
            "     --------------- ------------------------ 16.9/42.8 MB 3.1 MB/s eta 0:00:09\n",
            "     --------------- ------------------------ 17.0/42.8 MB 3.1 MB/s eta 0:00:09\n",
            "     ---------------- ----------------------- 17.2/42.8 MB 3.1 MB/s eta 0:00:09\n",
            "     ---------------- ----------------------- 17.3/42.8 MB 3.1 MB/s eta 0:00:09\n",
            "     ---------------- ----------------------- 17.4/42.8 MB 3.1 MB/s eta 0:00:09\n",
            "     ---------------- ----------------------- 17.6/42.8 MB 3.1 MB/s eta 0:00:09\n",
            "     ---------------- ----------------------- 17.7/42.8 MB 3.1 MB/s eta 0:00:09\n",
            "     ---------------- ----------------------- 17.8/42.8 MB 3.1 MB/s eta 0:00:09\n",
            "     ---------------- ----------------------- 17.9/42.8 MB 3.0 MB/s eta 0:00:09\n",
            "     ---------------- ----------------------- 18.0/42.8 MB 3.0 MB/s eta 0:00:09\n",
            "     ---------------- ----------------------- 18.1/42.8 MB 3.0 MB/s eta 0:00:09\n",
            "     ----------------- ---------------------- 18.2/42.8 MB 3.0 MB/s eta 0:00:09\n",
            "     ----------------- ---------------------- 18.3/42.8 MB 3.0 MB/s eta 0:00:09\n",
            "     ----------------- ---------------------- 18.4/42.8 MB 3.0 MB/s eta 0:00:09\n",
            "     ----------------- ---------------------- 18.5/42.8 MB 3.0 MB/s eta 0:00:09\n",
            "     ----------------- ---------------------- 18.6/42.8 MB 2.9 MB/s eta 0:00:09\n",
            "     ----------------- ---------------------- 18.8/42.8 MB 2.9 MB/s eta 0:00:09\n",
            "     ----------------- ---------------------- 18.9/42.8 MB 2.9 MB/s eta 0:00:09\n",
            "     ----------------- ---------------------- 19.1/42.8 MB 2.9 MB/s eta 0:00:09\n",
            "     ----------------- ---------------------- 19.2/42.8 MB 2.9 MB/s eta 0:00:09\n",
            "     ------------------ --------------------- 19.3/42.8 MB 2.9 MB/s eta 0:00:09\n",
            "     ------------------ --------------------- 19.4/42.8 MB 2.9 MB/s eta 0:00:09\n",
            "     ------------------ --------------------- 19.5/42.8 MB 2.8 MB/s eta 0:00:09\n",
            "     ------------------ --------------------- 19.7/42.8 MB 2.8 MB/s eta 0:00:09\n",
            "     ------------------ --------------------- 19.8/42.8 MB 2.8 MB/s eta 0:00:09\n",
            "     ------------------ --------------------- 19.9/42.8 MB 2.8 MB/s eta 0:00:09\n",
            "     ------------------ --------------------- 20.0/42.8 MB 2.8 MB/s eta 0:00:09\n",
            "     ------------------ --------------------- 20.1/42.8 MB 2.8 MB/s eta 0:00:09\n",
            "     ------------------ --------------------- 20.3/42.8 MB 2.8 MB/s eta 0:00:09\n",
            "     ------------------- -------------------- 20.4/42.8 MB 2.8 MB/s eta 0:00:08\n",
            "     ------------------- -------------------- 20.6/42.8 MB 2.8 MB/s eta 0:00:08\n",
            "     ------------------- -------------------- 20.6/42.8 MB 2.8 MB/s eta 0:00:08\n",
            "     ------------------- -------------------- 20.8/42.8 MB 2.8 MB/s eta 0:00:08\n",
            "     ------------------- -------------------- 20.9/42.8 MB 2.8 MB/s eta 0:00:08\n",
            "     ------------------- -------------------- 21.0/42.8 MB 2.8 MB/s eta 0:00:08\n",
            "     ------------------- -------------------- 21.2/42.8 MB 2.8 MB/s eta 0:00:08\n",
            "     ------------------- -------------------- 21.3/42.8 MB 2.8 MB/s eta 0:00:08\n",
            "     -------------------- ------------------- 21.4/42.8 MB 2.8 MB/s eta 0:00:08\n",
            "     -------------------- ------------------- 21.6/42.8 MB 2.8 MB/s eta 0:00:08\n",
            "     -------------------- ------------------- 21.7/42.8 MB 2.8 MB/s eta 0:00:08\n",
            "     -------------------- ------------------- 21.8/42.8 MB 2.8 MB/s eta 0:00:08\n",
            "     -------------------- ------------------- 21.9/42.8 MB 2.8 MB/s eta 0:00:08\n",
            "     -------------------- ------------------- 22.1/42.8 MB 2.8 MB/s eta 0:00:08\n",
            "     -------------------- ------------------- 22.2/42.8 MB 2.8 MB/s eta 0:00:08\n",
            "     -------------------- ------------------- 22.3/42.8 MB 2.8 MB/s eta 0:00:08\n",
            "     -------------------- ------------------- 22.4/42.8 MB 2.7 MB/s eta 0:00:08\n",
            "     -------------------- ------------------- 22.5/42.8 MB 2.7 MB/s eta 0:00:08\n",
            "     --------------------- ------------------ 22.6/42.8 MB 2.7 MB/s eta 0:00:08\n",
            "     --------------------- ------------------ 22.6/42.8 MB 2.7 MB/s eta 0:00:08\n",
            "     --------------------- ------------------ 22.7/42.8 MB 2.7 MB/s eta 0:00:08\n",
            "     --------------------- ------------------ 22.8/42.8 MB 2.7 MB/s eta 0:00:08\n",
            "     --------------------- ------------------ 22.9/42.8 MB 2.7 MB/s eta 0:00:08\n",
            "     --------------------- ------------------ 22.9/42.8 MB 2.6 MB/s eta 0:00:08\n",
            "     --------------------- ------------------ 23.0/42.8 MB 2.6 MB/s eta 0:00:08\n",
            "     --------------------- ------------------ 23.0/42.8 MB 2.6 MB/s eta 0:00:08\n",
            "     --------------------- ------------------ 23.1/42.8 MB 2.5 MB/s eta 0:00:08\n",
            "     --------------------- ------------------ 23.1/42.8 MB 2.5 MB/s eta 0:00:08\n",
            "     --------------------- ------------------ 23.2/42.8 MB 2.5 MB/s eta 0:00:08\n",
            "     --------------------- ------------------ 23.3/42.8 MB 2.5 MB/s eta 0:00:08\n",
            "     --------------------- ------------------ 23.3/42.8 MB 2.5 MB/s eta 0:00:08\n",
            "     --------------------- ------------------ 23.4/42.8 MB 2.5 MB/s eta 0:00:08\n",
            "     --------------------- ------------------ 23.4/42.8 MB 2.5 MB/s eta 0:00:08\n",
            "     --------------------- ------------------ 23.5/42.8 MB 2.4 MB/s eta 0:00:08\n",
            "     ---------------------- ----------------- 23.6/42.8 MB 2.4 MB/s eta 0:00:08\n",
            "     ---------------------- ----------------- 23.6/42.8 MB 2.4 MB/s eta 0:00:08\n",
            "     ---------------------- ----------------- 23.7/42.8 MB 2.4 MB/s eta 0:00:08\n",
            "     ---------------------- ----------------- 23.7/42.8 MB 2.4 MB/s eta 0:00:09\n",
            "     ---------------------- ----------------- 23.8/42.8 MB 2.4 MB/s eta 0:00:09\n",
            "     ---------------------- ----------------- 23.9/42.8 MB 2.3 MB/s eta 0:00:09\n",
            "     ---------------------- ----------------- 24.0/42.8 MB 2.3 MB/s eta 0:00:09\n",
            "     ---------------------- ----------------- 24.1/42.8 MB 2.3 MB/s eta 0:00:09\n",
            "     ---------------------- ----------------- 24.1/42.8 MB 2.3 MB/s eta 0:00:09\n",
            "     ---------------------- ----------------- 24.2/42.8 MB 2.3 MB/s eta 0:00:09\n",
            "     ---------------------- ----------------- 24.3/42.8 MB 2.3 MB/s eta 0:00:09\n",
            "     ---------------------- ----------------- 24.3/42.8 MB 2.3 MB/s eta 0:00:09\n",
            "     ---------------------- ----------------- 24.4/42.8 MB 2.2 MB/s eta 0:00:09\n",
            "     ---------------------- ----------------- 24.5/42.8 MB 2.2 MB/s eta 0:00:09\n",
            "     ---------------------- ----------------- 24.6/42.8 MB 2.2 MB/s eta 0:00:09\n",
            "     ----------------------- ---------------- 24.7/42.8 MB 2.2 MB/s eta 0:00:09\n",
            "     ----------------------- ---------------- 24.7/42.8 MB 2.2 MB/s eta 0:00:09\n",
            "     ----------------------- ---------------- 24.8/42.8 MB 2.2 MB/s eta 0:00:09\n",
            "     ----------------------- ---------------- 24.9/42.8 MB 2.2 MB/s eta 0:00:09\n",
            "     ----------------------- ---------------- 25.0/42.8 MB 2.2 MB/s eta 0:00:09\n",
            "     ----------------------- ---------------- 25.1/42.8 MB 2.2 MB/s eta 0:00:09\n",
            "     ----------------------- ---------------- 25.1/42.8 MB 2.2 MB/s eta 0:00:09\n",
            "     ----------------------- ---------------- 25.2/42.8 MB 2.2 MB/s eta 0:00:09\n",
            "     ----------------------- ---------------- 25.3/42.8 MB 2.2 MB/s eta 0:00:09\n",
            "     ----------------------- ---------------- 25.4/42.8 MB 2.2 MB/s eta 0:00:09\n",
            "     ----------------------- ---------------- 25.5/42.8 MB 2.2 MB/s eta 0:00:09\n",
            "     ----------------------- ---------------- 25.6/42.8 MB 2.1 MB/s eta 0:00:09\n",
            "     ----------------------- ---------------- 25.7/42.8 MB 2.1 MB/s eta 0:00:09\n",
            "     ------------------------ --------------- 25.8/42.8 MB 2.1 MB/s eta 0:00:08\n",
            "     ------------------------ --------------- 25.9/42.8 MB 2.1 MB/s eta 0:00:08\n",
            "     ------------------------ --------------- 26.0/42.8 MB 2.1 MB/s eta 0:00:08\n",
            "     ------------------------ --------------- 26.1/42.8 MB 2.1 MB/s eta 0:00:08\n",
            "     ------------------------ --------------- 26.2/42.8 MB 2.1 MB/s eta 0:00:08\n",
            "     ------------------------ --------------- 26.3/42.8 MB 2.1 MB/s eta 0:00:08\n",
            "     ------------------------ --------------- 26.4/42.8 MB 2.1 MB/s eta 0:00:08\n",
            "     ------------------------ --------------- 26.5/42.8 MB 2.1 MB/s eta 0:00:08\n",
            "     ------------------------ --------------- 26.6/42.8 MB 2.1 MB/s eta 0:00:08\n",
            "     ------------------------ --------------- 26.7/42.8 MB 2.1 MB/s eta 0:00:08\n",
            "     ------------------------- -------------- 26.8/42.8 MB 2.1 MB/s eta 0:00:08\n",
            "     ------------------------- -------------- 27.0/42.8 MB 2.1 MB/s eta 0:00:08\n",
            "     ------------------------- -------------- 27.1/42.8 MB 2.1 MB/s eta 0:00:08\n",
            "     ------------------------- -------------- 27.2/42.8 MB 2.1 MB/s eta 0:00:08\n",
            "     ------------------------- -------------- 27.3/42.8 MB 2.1 MB/s eta 0:00:08\n",
            "     ------------------------- -------------- 27.4/42.8 MB 2.1 MB/s eta 0:00:08\n",
            "     ------------------------- -------------- 27.5/42.8 MB 2.1 MB/s eta 0:00:08\n",
            "     ------------------------- -------------- 27.6/42.8 MB 2.1 MB/s eta 0:00:08\n",
            "     ------------------------- -------------- 27.7/42.8 MB 2.1 MB/s eta 0:00:08\n",
            "     -------------------------- ------------- 27.8/42.8 MB 2.1 MB/s eta 0:00:08\n",
            "     -------------------------- ------------- 28.0/42.8 MB 2.1 MB/s eta 0:00:08\n",
            "     -------------------------- ------------- 28.0/42.8 MB 2.1 MB/s eta 0:00:08\n",
            "     -------------------------- ------------- 28.2/42.8 MB 2.1 MB/s eta 0:00:08\n",
            "     -------------------------- ------------- 28.3/42.8 MB 2.1 MB/s eta 0:00:08\n",
            "     -------------------------- ------------- 28.4/42.8 MB 2.0 MB/s eta 0:00:08\n",
            "     -------------------------- ------------- 28.5/42.8 MB 2.0 MB/s eta 0:00:08\n",
            "     -------------------------- ------------- 28.5/42.8 MB 2.0 MB/s eta 0:00:07\n",
            "     -------------------------- ------------- 28.7/42.8 MB 2.0 MB/s eta 0:00:07\n",
            "     -------------------------- ------------- 28.7/42.8 MB 2.0 MB/s eta 0:00:07\n",
            "     -------------------------- ------------- 28.8/42.8 MB 2.0 MB/s eta 0:00:07\n",
            "     --------------------------- ------------ 28.9/42.8 MB 2.0 MB/s eta 0:00:07\n",
            "     --------------------------- ------------ 29.0/42.8 MB 2.0 MB/s eta 0:00:07\n",
            "     --------------------------- ------------ 29.1/42.8 MB 2.0 MB/s eta 0:00:07\n",
            "     --------------------------- ------------ 29.2/42.8 MB 2.0 MB/s eta 0:00:07\n",
            "     --------------------------- ------------ 29.3/42.8 MB 2.0 MB/s eta 0:00:07\n",
            "     --------------------------- ------------ 29.4/42.8 MB 2.0 MB/s eta 0:00:07\n",
            "     --------------------------- ------------ 29.5/42.8 MB 2.0 MB/s eta 0:00:07\n",
            "     --------------------------- ------------ 29.5/42.8 MB 2.0 MB/s eta 0:00:07\n",
            "     --------------------------- ------------ 29.7/42.8 MB 2.0 MB/s eta 0:00:07\n",
            "     --------------------------- ------------ 29.7/42.8 MB 2.0 MB/s eta 0:00:07\n",
            "     --------------------------- ------------ 29.8/42.8 MB 2.0 MB/s eta 0:00:07\n",
            "     --------------------------- ------------ 29.9/42.8 MB 2.0 MB/s eta 0:00:07\n",
            "     ---------------------------- ----------- 30.0/42.8 MB 2.0 MB/s eta 0:00:07\n",
            "     ---------------------------- ----------- 30.1/42.8 MB 2.0 MB/s eta 0:00:07\n",
            "     ---------------------------- ----------- 30.1/42.8 MB 2.0 MB/s eta 0:00:07\n",
            "     ---------------------------- ----------- 30.2/42.8 MB 2.0 MB/s eta 0:00:07\n",
            "     ---------------------------- ----------- 30.3/42.8 MB 1.9 MB/s eta 0:00:07\n",
            "     ---------------------------- ----------- 30.4/42.8 MB 1.9 MB/s eta 0:00:07\n",
            "     ---------------------------- ----------- 30.5/42.8 MB 1.9 MB/s eta 0:00:07\n",
            "     ---------------------------- ----------- 30.5/42.8 MB 1.9 MB/s eta 0:00:07\n",
            "     ---------------------------- ----------- 30.6/42.8 MB 1.9 MB/s eta 0:00:07\n",
            "     ---------------------------- ----------- 30.7/42.8 MB 1.9 MB/s eta 0:00:07\n",
            "     ---------------------------- ----------- 30.8/42.8 MB 1.9 MB/s eta 0:00:07\n",
            "     ---------------------------- ----------- 30.9/42.8 MB 1.9 MB/s eta 0:00:07\n",
            "     ---------------------------- ----------- 31.0/42.8 MB 1.9 MB/s eta 0:00:07\n",
            "     ----------------------------- ---------- 31.1/42.8 MB 1.9 MB/s eta 0:00:07\n",
            "     ----------------------------- ---------- 31.1/42.8 MB 1.9 MB/s eta 0:00:07\n",
            "     ----------------------------- ---------- 31.2/42.8 MB 1.9 MB/s eta 0:00:07\n",
            "     ----------------------------- ---------- 31.4/42.8 MB 1.9 MB/s eta 0:00:07\n",
            "     ----------------------------- ---------- 31.5/42.8 MB 1.9 MB/s eta 0:00:07\n",
            "     ----------------------------- ---------- 31.6/42.8 MB 1.9 MB/s eta 0:00:06\n",
            "     ----------------------------- ---------- 31.7/42.8 MB 1.9 MB/s eta 0:00:06\n",
            "     ----------------------------- ---------- 31.8/42.8 MB 1.9 MB/s eta 0:00:06\n",
            "     ----------------------------- ---------- 31.9/42.8 MB 1.9 MB/s eta 0:00:06\n",
            "     ----------------------------- ---------- 32.0/42.8 MB 1.9 MB/s eta 0:00:06\n",
            "     ----------------------------- ---------- 32.1/42.8 MB 1.8 MB/s eta 0:00:06\n",
            "     ------------------------------ --------- 32.2/42.8 MB 1.9 MB/s eta 0:00:06\n",
            "     ------------------------------ --------- 32.3/42.8 MB 1.8 MB/s eta 0:00:06\n",
            "     ------------------------------ --------- 32.4/42.8 MB 1.8 MB/s eta 0:00:06\n",
            "     ------------------------------ --------- 32.5/42.8 MB 1.8 MB/s eta 0:00:06\n",
            "     ------------------------------ --------- 32.6/42.8 MB 1.9 MB/s eta 0:00:06\n",
            "     ------------------------------ --------- 32.7/42.8 MB 1.9 MB/s eta 0:00:06\n",
            "     ------------------------------ --------- 32.8/42.8 MB 1.9 MB/s eta 0:00:06\n",
            "     ------------------------------ --------- 32.9/42.8 MB 1.9 MB/s eta 0:00:06\n",
            "     ------------------------------ --------- 33.0/42.8 MB 1.9 MB/s eta 0:00:06\n",
            "     ------------------------------- -------- 33.2/42.8 MB 1.9 MB/s eta 0:00:06\n",
            "     ------------------------------- -------- 33.3/42.8 MB 1.9 MB/s eta 0:00:05\n",
            "     ------------------------------- -------- 33.4/42.8 MB 1.9 MB/s eta 0:00:05\n",
            "     ------------------------------- -------- 33.5/42.8 MB 1.9 MB/s eta 0:00:05\n",
            "     ------------------------------- -------- 33.6/42.8 MB 2.0 MB/s eta 0:00:05\n",
            "     ------------------------------- -------- 33.7/42.8 MB 2.0 MB/s eta 0:00:05\n",
            "     ------------------------------- -------- 33.9/42.8 MB 2.0 MB/s eta 0:00:05\n",
            "     ------------------------------- -------- 34.0/42.8 MB 2.0 MB/s eta 0:00:05\n",
            "     ------------------------------- -------- 34.1/42.8 MB 2.0 MB/s eta 0:00:05\n",
            "     ------------------------------- -------- 34.2/42.8 MB 2.0 MB/s eta 0:00:05\n",
            "     -------------------------------- ------- 34.3/42.8 MB 2.1 MB/s eta 0:00:05\n",
            "     -------------------------------- ------- 34.5/42.8 MB 2.1 MB/s eta 0:00:05\n",
            "     -------------------------------- ------- 34.6/42.8 MB 2.1 MB/s eta 0:00:04\n",
            "     -------------------------------- ------- 34.7/42.8 MB 2.1 MB/s eta 0:00:04\n",
            "     -------------------------------- ------- 34.8/42.8 MB 2.1 MB/s eta 0:00:04\n",
            "     -------------------------------- ------- 35.0/42.8 MB 2.1 MB/s eta 0:00:04\n",
            "     -------------------------------- ------- 35.1/42.8 MB 2.1 MB/s eta 0:00:04\n",
            "     -------------------------------- ------- 35.3/42.8 MB 2.2 MB/s eta 0:00:04\n",
            "     --------------------------------- ------ 35.5/42.8 MB 2.2 MB/s eta 0:00:04\n",
            "     --------------------------------- ------ 35.6/42.8 MB 2.2 MB/s eta 0:00:04\n",
            "     --------------------------------- ------ 35.8/42.8 MB 2.2 MB/s eta 0:00:04\n",
            "     --------------------------------- ------ 35.9/42.8 MB 2.2 MB/s eta 0:00:04\n",
            "     --------------------------------- ------ 36.1/42.8 MB 2.2 MB/s eta 0:00:04\n",
            "     --------------------------------- ------ 36.2/42.8 MB 2.2 MB/s eta 0:00:03\n",
            "     --------------------------------- ------ 36.3/42.8 MB 2.2 MB/s eta 0:00:03\n",
            "     ---------------------------------- ----- 36.5/42.8 MB 2.2 MB/s eta 0:00:03\n",
            "     ---------------------------------- ----- 36.6/42.8 MB 2.3 MB/s eta 0:00:03\n",
            "     ---------------------------------- ----- 36.7/42.8 MB 2.3 MB/s eta 0:00:03\n",
            "     ---------------------------------- ----- 36.9/42.8 MB 2.3 MB/s eta 0:00:03\n",
            "     ---------------------------------- ----- 37.0/42.8 MB 2.3 MB/s eta 0:00:03\n",
            "     ---------------------------------- ----- 37.2/42.8 MB 2.3 MB/s eta 0:00:03\n",
            "     ---------------------------------- ----- 37.3/42.8 MB 2.3 MB/s eta 0:00:03\n",
            "     ----------------------------------- ---- 37.5/42.8 MB 2.3 MB/s eta 0:00:03\n",
            "     ----------------------------------- ---- 37.6/42.8 MB 2.3 MB/s eta 0:00:03\n",
            "     ----------------------------------- ---- 37.8/42.8 MB 2.3 MB/s eta 0:00:03\n",
            "     ----------------------------------- ---- 37.9/42.8 MB 2.3 MB/s eta 0:00:03\n",
            "     ----------------------------------- ---- 38.1/42.8 MB 2.3 MB/s eta 0:00:02\n",
            "     ----------------------------------- ---- 38.3/42.8 MB 2.4 MB/s eta 0:00:02\n",
            "     ----------------------------------- ---- 38.5/42.8 MB 2.4 MB/s eta 0:00:02\n",
            "     ------------------------------------ --- 38.6/42.8 MB 2.4 MB/s eta 0:00:02\n",
            "     ------------------------------------ --- 38.7/42.8 MB 2.4 MB/s eta 0:00:02\n",
            "     ------------------------------------ --- 38.9/42.8 MB 2.4 MB/s eta 0:00:02\n",
            "     ------------------------------------ --- 39.1/42.8 MB 2.4 MB/s eta 0:00:02\n",
            "     ------------------------------------ --- 39.2/42.8 MB 2.5 MB/s eta 0:00:02\n",
            "     ------------------------------------ --- 39.4/42.8 MB 2.5 MB/s eta 0:00:02\n",
            "     ------------------------------------ --- 39.5/42.8 MB 2.5 MB/s eta 0:00:02\n",
            "     ------------------------------------- -- 39.7/42.8 MB 2.5 MB/s eta 0:00:02\n",
            "     ------------------------------------- -- 39.9/42.8 MB 2.5 MB/s eta 0:00:02\n",
            "     ------------------------------------- -- 40.0/42.8 MB 2.6 MB/s eta 0:00:02\n",
            "     ------------------------------------- -- 40.2/42.8 MB 2.6 MB/s eta 0:00:01\n",
            "     ------------------------------------- -- 40.4/42.8 MB 2.6 MB/s eta 0:00:01\n",
            "     ------------------------------------- -- 40.5/42.8 MB 2.7 MB/s eta 0:00:01\n",
            "     -------------------------------------- - 40.7/42.8 MB 2.7 MB/s eta 0:00:01\n",
            "     -------------------------------------- - 40.9/42.8 MB 2.8 MB/s eta 0:00:01\n",
            "     -------------------------------------- - 41.1/42.8 MB 2.8 MB/s eta 0:00:01\n",
            "     -------------------------------------- - 41.3/42.8 MB 2.8 MB/s eta 0:00:01\n",
            "     -------------------------------------- - 41.5/42.8 MB 2.9 MB/s eta 0:00:01\n",
            "     -------------------------------------- - 41.6/42.8 MB 2.9 MB/s eta 0:00:01\n",
            "     ---------------------------------------  41.8/42.8 MB 2.9 MB/s eta 0:00:01\n",
            "     ---------------------------------------  42.0/42.8 MB 3.0 MB/s eta 0:00:01\n",
            "     ---------------------------------------  42.2/42.8 MB 3.0 MB/s eta 0:00:01\n",
            "     ---------------------------------------  42.3/42.8 MB 3.0 MB/s eta 0:00:01\n",
            "     ---------------------------------------  42.5/42.8 MB 3.1 MB/s eta 0:00:01\n",
            "     ---------------------------------------  42.7/42.8 MB 3.1 MB/s eta 0:00:01\n",
            "     ---------------------------------------  42.8/42.8 MB 3.1 MB/s eta 0:00:01\n",
            "     ---------------------------------------- 42.8/42.8 MB 3.1 MB/s eta 0:00:00\n",
            "Requirement already satisfied: spacy<3.8.0,>=3.7.2 in .\\.venv\\lib\\site-packages (from en-core-web-md==3.7.1) (3.7.2)\n",
            "Requirement already satisfied: spacy-legacy<3.1.0,>=3.0.11 in .\\.venv\\lib\\site-packages (from spacy<3.8.0,>=3.7.2->en-core-web-md==3.7.1) (3.0.12)\n",
            "Requirement already satisfied: spacy-loggers<2.0.0,>=1.0.0 in .\\.venv\\lib\\site-packages (from spacy<3.8.0,>=3.7.2->en-core-web-md==3.7.1) (1.0.5)\n",
            "Requirement already satisfied: murmurhash<1.1.0,>=0.28.0 in .\\.venv\\lib\\site-packages (from spacy<3.8.0,>=3.7.2->en-core-web-md==3.7.1) (1.0.10)\n",
            "Requirement already satisfied: cymem<2.1.0,>=2.0.2 in .\\.venv\\lib\\site-packages (from spacy<3.8.0,>=3.7.2->en-core-web-md==3.7.1) (2.0.8)\n",
            "Requirement already satisfied: preshed<3.1.0,>=3.0.2 in .\\.venv\\lib\\site-packages (from spacy<3.8.0,>=3.7.2->en-core-web-md==3.7.1) (3.0.9)\n",
            "Requirement already satisfied: thinc<8.3.0,>=8.1.8 in .\\.venv\\lib\\site-packages (from spacy<3.8.0,>=3.7.2->en-core-web-md==3.7.1) (8.2.2)\n",
            "Requirement already satisfied: wasabi<1.2.0,>=0.9.1 in .\\.venv\\lib\\site-packages (from spacy<3.8.0,>=3.7.2->en-core-web-md==3.7.1) (1.1.2)\n",
            "Requirement already satisfied: srsly<3.0.0,>=2.4.3 in .\\.venv\\lib\\site-packages (from spacy<3.8.0,>=3.7.2->en-core-web-md==3.7.1) (2.4.8)\n",
            "Requirement already satisfied: catalogue<2.1.0,>=2.0.6 in .\\.venv\\lib\\site-packages (from spacy<3.8.0,>=3.7.2->en-core-web-md==3.7.1) (2.0.10)\n",
            "Requirement already satisfied: weasel<0.4.0,>=0.1.0 in .\\.venv\\lib\\site-packages (from spacy<3.8.0,>=3.7.2->en-core-web-md==3.7.1) (0.3.4)\n",
            "Requirement already satisfied: typer<0.10.0,>=0.3.0 in .\\.venv\\lib\\site-packages (from spacy<3.8.0,>=3.7.2->en-core-web-md==3.7.1) (0.9.0)\n",
            "Requirement already satisfied: smart-open<7.0.0,>=5.2.1 in .\\.venv\\lib\\site-packages (from spacy<3.8.0,>=3.7.2->en-core-web-md==3.7.1) (6.4.0)\n",
            "Requirement already satisfied: tqdm<5.0.0,>=4.38.0 in .\\.venv\\lib\\site-packages (from spacy<3.8.0,>=3.7.2->en-core-web-md==3.7.1) (4.66.1)\n",
            "Requirement already satisfied: requests<3.0.0,>=2.13.0 in .\\.venv\\lib\\site-packages (from spacy<3.8.0,>=3.7.2->en-core-web-md==3.7.1) (2.31.0)\n",
            "Requirement already satisfied: pydantic!=1.8,!=1.8.1,<3.0.0,>=1.7.4 in .\\.venv\\lib\\site-packages (from spacy<3.8.0,>=3.7.2->en-core-web-md==3.7.1) (2.5.2)\n",
            "Requirement already satisfied: jinja2 in .\\.venv\\lib\\site-packages (from spacy<3.8.0,>=3.7.2->en-core-web-md==3.7.1) (3.1.2)\n",
            "Requirement already satisfied: setuptools in .\\.venv\\lib\\site-packages (from spacy<3.8.0,>=3.7.2->en-core-web-md==3.7.1) (41.2.0)\n",
            "Requirement already satisfied: packaging>=20.0 in .\\.venv\\lib\\site-packages (from spacy<3.8.0,>=3.7.2->en-core-web-md==3.7.1) (23.2)\n",
            "Requirement already satisfied: langcodes<4.0.0,>=3.2.0 in .\\.venv\\lib\\site-packages (from spacy<3.8.0,>=3.7.2->en-core-web-md==3.7.1) (3.3.0)\n",
            "Requirement already satisfied: numpy>=1.15.0 in .\\.venv\\lib\\site-packages (from spacy<3.8.0,>=3.7.2->en-core-web-md==3.7.1) (1.24.4)\n",
            "Requirement already satisfied: annotated-types>=0.4.0 in .\\.venv\\lib\\site-packages (from pydantic!=1.8,!=1.8.1,<3.0.0,>=1.7.4->spacy<3.8.0,>=3.7.2->en-core-web-md==3.7.1) (0.6.0)\n",
            "Requirement already satisfied: pydantic-core==2.14.5 in .\\.venv\\lib\\site-packages (from pydantic!=1.8,!=1.8.1,<3.0.0,>=1.7.4->spacy<3.8.0,>=3.7.2->en-core-web-md==3.7.1) (2.14.5)\n",
            "Requirement already satisfied: typing-extensions>=4.6.1 in .\\.venv\\lib\\site-packages (from pydantic!=1.8,!=1.8.1,<3.0.0,>=1.7.4->spacy<3.8.0,>=3.7.2->en-core-web-md==3.7.1) (4.9.0)\n",
            "Requirement already satisfied: charset-normalizer<4,>=2 in .\\.venv\\lib\\site-packages (from requests<3.0.0,>=2.13.0->spacy<3.8.0,>=3.7.2->en-core-web-md==3.7.1) (3.3.2)\n",
            "Requirement already satisfied: idna<4,>=2.5 in .\\.venv\\lib\\site-packages (from requests<3.0.0,>=2.13.0->spacy<3.8.0,>=3.7.2->en-core-web-md==3.7.1) (3.6)\n",
            "Requirement already satisfied: urllib3<3,>=1.21.1 in .\\.venv\\lib\\site-packages (from requests<3.0.0,>=2.13.0->spacy<3.8.0,>=3.7.2->en-core-web-md==3.7.1) (2.1.0)\n",
            "Requirement already satisfied: certifi>=2017.4.17 in .\\.venv\\lib\\site-packages (from requests<3.0.0,>=2.13.0->spacy<3.8.0,>=3.7.2->en-core-web-md==3.7.1) (2023.11.17)\n",
            "Requirement already satisfied: blis<0.8.0,>=0.7.8 in .\\.venv\\lib\\site-packages (from thinc<8.3.0,>=8.1.8->spacy<3.8.0,>=3.7.2->en-core-web-md==3.7.1) (0.7.11)\n",
            "Requirement already satisfied: confection<1.0.0,>=0.0.1 in .\\.venv\\lib\\site-packages (from thinc<8.3.0,>=8.1.8->spacy<3.8.0,>=3.7.2->en-core-web-md==3.7.1) (0.1.4)\n",
            "Requirement already satisfied: colorama in .\\.venv\\lib\\site-packages (from tqdm<5.0.0,>=4.38.0->spacy<3.8.0,>=3.7.2->en-core-web-md==3.7.1) (0.4.6)\n",
            "Requirement already satisfied: click<9.0.0,>=7.1.1 in .\\.venv\\lib\\site-packages (from typer<0.10.0,>=0.3.0->spacy<3.8.0,>=3.7.2->en-core-web-md==3.7.1) (8.1.7)\n",
            "Requirement already satisfied: cloudpathlib<0.17.0,>=0.7.0 in .\\.venv\\lib\\site-packages (from weasel<0.4.0,>=0.1.0->spacy<3.8.0,>=3.7.2->en-core-web-md==3.7.1) (0.16.0)\n",
            "Requirement already satisfied: MarkupSafe>=2.0 in .\\.venv\\lib\\site-packages (from jinja2->spacy<3.8.0,>=3.7.2->en-core-web-md==3.7.1) (2.1.3)\n",
            "Installing collected packages: en-core-web-md\n",
            "Successfully installed en-core-web-md-3.7.1\n",
            "\u001b[38;5;2m✔ Download and installation successful\u001b[0m\n",
            "You can now load the package via spacy.load('en_core_web_md')\n"
          ]
        }
      ],
      "source": [
        "# Downloading the english model\n",
        "!python -m spacy download en_core_web_md"
      ]
    },
    {
      "cell_type": "code",
      "execution_count": 29,
      "metadata": {},
      "outputs": [
        {
          "data": {
            "text/plain": [
              "<spacy.pipeline.sentencizer.Sentencizer at 0x15488a0ae00>"
            ]
          },
          "execution_count": 29,
          "metadata": {},
          "output_type": "execute_result"
        }
      ],
      "source": [
        "nlp = spacy.load('en_core_web_md', disable=['ner', 'parser'])\n",
        "nlp.add_pipe('sentencizer')"
      ]
    },
    {
      "cell_type": "code",
      "execution_count": 30,
      "metadata": {},
      "outputs": [
        {
          "data": {
            "text/html": [
              "<div>\n",
              "<style scoped>\n",
              "    .dataframe tbody tr th:only-of-type {\n",
              "        vertical-align: middle;\n",
              "    }\n",
              "\n",
              "    .dataframe tbody tr th {\n",
              "        vertical-align: top;\n",
              "    }\n",
              "\n",
              "    .dataframe thead th {\n",
              "        text-align: right;\n",
              "    }\n",
              "</style>\n",
              "<table border=\"1\" class=\"dataframe\">\n",
              "  <thead>\n",
              "    <tr style=\"text-align: right;\">\n",
              "      <th></th>\n",
              "      <th>review_text</th>\n",
              "      <th>review_score</th>\n",
              "    </tr>\n",
              "  </thead>\n",
              "  <tbody>\n",
              "    <tr>\n",
              "      <th>0</th>\n",
              "      <td>This game good</td>\n",
              "      <td>1</td>\n",
              "    </tr>\n",
              "    <tr>\n",
              "      <th>1</th>\n",
              "      <td>fight pro generic noob lunge thing shredded bits won~!</td>\n",
              "      <td>1</td>\n",
              "    </tr>\n",
              "    <tr>\n",
              "      <th>2</th>\n",
              "      <td>Grow Up I wanted sequel Grow Home. The positives: + More collectibles + Challenges + More costumes + Huge world explore multiple biomes, new plants, animals + Mobility options built BUD instead plant based (i.e. Glider Air Break instead Flower Leaf) + Additional character POD, help find things map The negative: - BUD difficult handle challenges precise movements limited time Other negative, Ubisoft Reflections perfect sequel game proud work!</td>\n",
              "      <td>1</td>\n",
              "    </tr>\n",
              "    <tr>\n",
              "      <th>3</th>\n",
              "      <td>Hmmm... How this... A stupid game funny man making jokes telling story &amp;amp; surprisingly addictive fun matter play co-op friends. 9/10</td>\n",
              "      <td>1</td>\n",
              "    </tr>\n",
              "    <tr>\n",
              "      <th>4</th>\n",
              "      <td>hard good (i like like that). #betterthannuclearthronexddd</td>\n",
              "      <td>1</td>\n",
              "    </tr>\n",
              "  </tbody>\n",
              "</table>\n",
              "</div>"
            ],
            "text/plain": [
              "                                                                                                                                                                                                                                                                                                                                                                                                                                                     review_text  \\\n",
              "0                                                                                                                                                                                                                                                                                                                                                                                                                                                 This game good   \n",
              "1                                                                                                                                                                                                                                                                                                                                                                                                         fight pro generic noob lunge thing shredded bits won~!   \n",
              "2  Grow Up I wanted sequel Grow Home. The positives: + More collectibles + Challenges + More costumes + Huge world explore multiple biomes, new plants, animals + Mobility options built BUD instead plant based (i.e. Glider Air Break instead Flower Leaf) + Additional character POD, help find things map The negative: - BUD difficult handle challenges precise movements limited time Other negative, Ubisoft Reflections perfect sequel game proud work!   \n",
              "3                                                                                                                                                                                                                                                                                                                        Hmmm... How this... A stupid game funny man making jokes telling story &amp; surprisingly addictive fun matter play co-op friends. 9/10   \n",
              "4                                                                                                                                                                                                                                                                                                                                                                                                     hard good (i like like that). #betterthannuclearthronexddd   \n",
              "\n",
              "   review_score  \n",
              "0             1  \n",
              "1             1  \n",
              "2             1  \n",
              "3             1  \n",
              "4             1  "
            ]
          },
          "execution_count": 30,
          "metadata": {},
          "output_type": "execute_result"
        }
      ],
      "source": [
        "def remove_stop_words(text):\n",
        "  return ' '.join(filter(lambda x: x not in nlp.Defaults.stop_words, text.split()))\n",
        "\n",
        "df['review_text'] = df['review_text'].astype(str).apply(remove_stop_words)\n",
        "df.head()"
      ]
    },
    {
      "cell_type": "markdown",
      "metadata": {},
      "source": [
        "Lowercase"
      ]
    },
    {
      "cell_type": "code",
      "execution_count": 31,
      "metadata": {},
      "outputs": [
        {
          "data": {
            "text/html": [
              "<div>\n",
              "<style scoped>\n",
              "    .dataframe tbody tr th:only-of-type {\n",
              "        vertical-align: middle;\n",
              "    }\n",
              "\n",
              "    .dataframe tbody tr th {\n",
              "        vertical-align: top;\n",
              "    }\n",
              "\n",
              "    .dataframe thead th {\n",
              "        text-align: right;\n",
              "    }\n",
              "</style>\n",
              "<table border=\"1\" class=\"dataframe\">\n",
              "  <thead>\n",
              "    <tr style=\"text-align: right;\">\n",
              "      <th></th>\n",
              "      <th>review_text</th>\n",
              "      <th>review_score</th>\n",
              "    </tr>\n",
              "  </thead>\n",
              "  <tbody>\n",
              "    <tr>\n",
              "      <th>0</th>\n",
              "      <td>this game good</td>\n",
              "      <td>1</td>\n",
              "    </tr>\n",
              "    <tr>\n",
              "      <th>1</th>\n",
              "      <td>fight pro generic noob lunge thing shredded bits won~!</td>\n",
              "      <td>1</td>\n",
              "    </tr>\n",
              "    <tr>\n",
              "      <th>2</th>\n",
              "      <td>grow up i wanted sequel grow home. the positives: + more collectibles + challenges + more costumes + huge world explore multiple biomes, new plants, animals + mobility options built bud instead plant based (i.e. glider air break instead flower leaf) + additional character pod, help find things map the negative: - bud difficult handle challenges precise movements limited time other negative, ubisoft reflections perfect sequel game proud work!</td>\n",
              "      <td>1</td>\n",
              "    </tr>\n",
              "    <tr>\n",
              "      <th>3</th>\n",
              "      <td>hmmm... how this... a stupid game funny man making jokes telling story &amp;amp; surprisingly addictive fun matter play co-op friends. 9/10</td>\n",
              "      <td>1</td>\n",
              "    </tr>\n",
              "    <tr>\n",
              "      <th>4</th>\n",
              "      <td>hard good (i like like that). #betterthannuclearthronexddd</td>\n",
              "      <td>1</td>\n",
              "    </tr>\n",
              "  </tbody>\n",
              "</table>\n",
              "</div>"
            ],
            "text/plain": [
              "                                                                                                                                                                                                                                                                                                                                                                                                                                                     review_text  \\\n",
              "0                                                                                                                                                                                                                                                                                                                                                                                                                                                 this game good   \n",
              "1                                                                                                                                                                                                                                                                                                                                                                                                         fight pro generic noob lunge thing shredded bits won~!   \n",
              "2  grow up i wanted sequel grow home. the positives: + more collectibles + challenges + more costumes + huge world explore multiple biomes, new plants, animals + mobility options built bud instead plant based (i.e. glider air break instead flower leaf) + additional character pod, help find things map the negative: - bud difficult handle challenges precise movements limited time other negative, ubisoft reflections perfect sequel game proud work!   \n",
              "3                                                                                                                                                                                                                                                                                                                        hmmm... how this... a stupid game funny man making jokes telling story &amp; surprisingly addictive fun matter play co-op friends. 9/10   \n",
              "4                                                                                                                                                                                                                                                                                                                                                                                                     hard good (i like like that). #betterthannuclearthronexddd   \n",
              "\n",
              "   review_score  \n",
              "0             1  \n",
              "1             1  \n",
              "2             1  \n",
              "3             1  \n",
              "4             1  "
            ]
          },
          "execution_count": 31,
          "metadata": {},
          "output_type": "execute_result"
        }
      ],
      "source": [
        "df['review_text'] = df['review_text'].apply(lambda x: x.lower())\n",
        "df.head()"
      ]
    },
    {
      "cell_type": "markdown",
      "metadata": {},
      "source": [
        "Usunięcie znaków specjalnych"
      ]
    },
    {
      "cell_type": "code",
      "execution_count": 32,
      "metadata": {},
      "outputs": [
        {
          "data": {
            "text/html": [
              "<div>\n",
              "<style scoped>\n",
              "    .dataframe tbody tr th:only-of-type {\n",
              "        vertical-align: middle;\n",
              "    }\n",
              "\n",
              "    .dataframe tbody tr th {\n",
              "        vertical-align: top;\n",
              "    }\n",
              "\n",
              "    .dataframe thead th {\n",
              "        text-align: right;\n",
              "    }\n",
              "</style>\n",
              "<table border=\"1\" class=\"dataframe\">\n",
              "  <thead>\n",
              "    <tr style=\"text-align: right;\">\n",
              "      <th></th>\n",
              "      <th>review_text</th>\n",
              "      <th>review_score</th>\n",
              "    </tr>\n",
              "  </thead>\n",
              "  <tbody>\n",
              "    <tr>\n",
              "      <th>0</th>\n",
              "      <td>this game good</td>\n",
              "      <td>1</td>\n",
              "    </tr>\n",
              "    <tr>\n",
              "      <th>1</th>\n",
              "      <td>fight pro generic noob lunge thing shredded bits won</td>\n",
              "      <td>1</td>\n",
              "    </tr>\n",
              "    <tr>\n",
              "      <th>2</th>\n",
              "      <td>grow up i wanted sequel grow home the positives  more collectibles  challenges  more costumes  huge world explore multiple biomes new plants animals  mobility options built bud instead plant based ie glider air break instead flower leaf  additional character pod help find things map the negative  bud difficult handle challenges precise movements limited time other negative ubisoft reflections perfect sequel game proud work</td>\n",
              "      <td>1</td>\n",
              "    </tr>\n",
              "    <tr>\n",
              "      <th>3</th>\n",
              "      <td>hmmm how this a stupid game funny man making jokes telling story amp surprisingly addictive fun matter play coop friends</td>\n",
              "      <td>1</td>\n",
              "    </tr>\n",
              "    <tr>\n",
              "      <th>4</th>\n",
              "      <td>hard good i like like that betterthannuclearthronexddd</td>\n",
              "      <td>1</td>\n",
              "    </tr>\n",
              "  </tbody>\n",
              "</table>\n",
              "</div>"
            ],
            "text/plain": [
              "                                                                                                                                                                                                                                                                                                                                                                                                                                  review_text  \\\n",
              "0                                                                                                                                                                                                                                                                                                                                                                                                                              this game good   \n",
              "1                                                                                                                                                                                                                                                                                                                                                                                        fight pro generic noob lunge thing shredded bits won   \n",
              "2  grow up i wanted sequel grow home the positives  more collectibles  challenges  more costumes  huge world explore multiple biomes new plants animals  mobility options built bud instead plant based ie glider air break instead flower leaf  additional character pod help find things map the negative  bud difficult handle challenges precise movements limited time other negative ubisoft reflections perfect sequel game proud work   \n",
              "3                                                                                                                                                                                                                                                                                                                   hmmm how this a stupid game funny man making jokes telling story amp surprisingly addictive fun matter play coop friends    \n",
              "4                                                                                                                                                                                                                                                                                                                                                                                      hard good i like like that betterthannuclearthronexddd   \n",
              "\n",
              "   review_score  \n",
              "0             1  \n",
              "1             1  \n",
              "2             1  \n",
              "3             1  \n",
              "4             1  "
            ]
          },
          "execution_count": 32,
          "metadata": {},
          "output_type": "execute_result"
        }
      ],
      "source": [
        "df.loc[:, 'review_text'] = df['review_text'].str.replace(r\"[^a-z\\s']\", '', regex=True)\n",
        "\n",
        "df.head()"
      ]
    },
    {
      "cell_type": "markdown",
      "metadata": {},
      "source": [
        "Lemmatyzacja"
      ]
    },
    {
      "cell_type": "code",
      "execution_count": 33,
      "metadata": {},
      "outputs": [
        {
          "data": {
            "text/html": [
              "<div>\n",
              "<style scoped>\n",
              "    .dataframe tbody tr th:only-of-type {\n",
              "        vertical-align: middle;\n",
              "    }\n",
              "\n",
              "    .dataframe tbody tr th {\n",
              "        vertical-align: top;\n",
              "    }\n",
              "\n",
              "    .dataframe thead th {\n",
              "        text-align: right;\n",
              "    }\n",
              "</style>\n",
              "<table border=\"1\" class=\"dataframe\">\n",
              "  <thead>\n",
              "    <tr style=\"text-align: right;\">\n",
              "      <th></th>\n",
              "      <th>review_text</th>\n",
              "      <th>review_score</th>\n",
              "    </tr>\n",
              "  </thead>\n",
              "  <tbody>\n",
              "    <tr>\n",
              "      <th>0</th>\n",
              "      <td>this game good</td>\n",
              "      <td>1</td>\n",
              "    </tr>\n",
              "    <tr>\n",
              "      <th>1</th>\n",
              "      <td>fight pro generic noob lunge thing shred bit win</td>\n",
              "      <td>1</td>\n",
              "    </tr>\n",
              "    <tr>\n",
              "      <th>2</th>\n",
              "      <td>grow up I want sequel grow home the positive   more collectible   challenge   more costume   huge world explore multiple biome new plant animal   mobility option build bud instead plant base ie glider air break instead flower leaf   additional character pod help find thing map the negative   bud difficult handle challenge precise movement limited time other negative ubisoft reflection perfect sequel game proud work</td>\n",
              "      <td>1</td>\n",
              "    </tr>\n",
              "    <tr>\n",
              "      <th>3</th>\n",
              "      <td>hmmm how this a stupid game funny man make joke tell story amp surprisingly addictive fun matter play coop friend</td>\n",
              "      <td>1</td>\n",
              "    </tr>\n",
              "    <tr>\n",
              "      <th>4</th>\n",
              "      <td>hard good I like like that betterthannuclearthronexddd</td>\n",
              "      <td>1</td>\n",
              "    </tr>\n",
              "  </tbody>\n",
              "</table>\n",
              "</div>"
            ],
            "text/plain": [
              "                                                                                                                                                                                                                                                                                                                                                                                                                          review_text  \\\n",
              "0                                                                                                                                                                                                                                                                                                                                                                                                                      this game good   \n",
              "1                                                                                                                                                                                                                                                                                                                                                                                    fight pro generic noob lunge thing shred bit win   \n",
              "2  grow up I want sequel grow home the positive   more collectible   challenge   more costume   huge world explore multiple biome new plant animal   mobility option build bud instead plant base ie glider air break instead flower leaf   additional character pod help find thing map the negative   bud difficult handle challenge precise movement limited time other negative ubisoft reflection perfect sequel game proud work   \n",
              "3                                                                                                                                                                                                                                                                                                                   hmmm how this a stupid game funny man make joke tell story amp surprisingly addictive fun matter play coop friend   \n",
              "4                                                                                                                                                                                                                                                                                                                                                                              hard good I like like that betterthannuclearthronexddd   \n",
              "\n",
              "   review_score  \n",
              "0             1  \n",
              "1             1  \n",
              "2             1  \n",
              "3             1  \n",
              "4             1  "
            ]
          },
          "execution_count": 33,
          "metadata": {},
          "output_type": "execute_result"
        }
      ],
      "source": [
        "def lemmatize(text):\n",
        "  return ' '.join(x.lemma_ for x in nlp(text))\n",
        "\n",
        "\n",
        "df_lemmatized = df.copy()\n",
        "df_lemmatized['review_text'] = df_lemmatized['review_text'].apply(lemmatize)\n",
        "\n",
        "df_lemmatized.head()"
      ]
    },
    {
      "cell_type": "markdown",
      "metadata": {},
      "source": [
        "W wyniku preprocessingu powstały puste komórki w kolumnie **review_text**. Musimy usunąć te kolumny, inaczej przy trenowaniu modelu pojawi się błąd."
      ]
    },
    {
      "cell_type": "code",
      "execution_count": 34,
      "metadata": {},
      "outputs": [
        {
          "data": {
            "text/html": [
              "<div>\n",
              "<style scoped>\n",
              "    .dataframe tbody tr th:only-of-type {\n",
              "        vertical-align: middle;\n",
              "    }\n",
              "\n",
              "    .dataframe tbody tr th {\n",
              "        vertical-align: top;\n",
              "    }\n",
              "\n",
              "    .dataframe thead th {\n",
              "        text-align: right;\n",
              "    }\n",
              "</style>\n",
              "<table border=\"1\" class=\"dataframe\">\n",
              "  <thead>\n",
              "    <tr style=\"text-align: right;\">\n",
              "      <th></th>\n",
              "      <th>review_text</th>\n",
              "      <th>review_score</th>\n",
              "    </tr>\n",
              "  </thead>\n",
              "  <tbody>\n",
              "    <tr>\n",
              "      <th>48</th>\n",
              "      <td></td>\n",
              "      <td>1</td>\n",
              "    </tr>\n",
              "    <tr>\n",
              "      <th>183</th>\n",
              "      <td></td>\n",
              "      <td>1</td>\n",
              "    </tr>\n",
              "    <tr>\n",
              "      <th>291</th>\n",
              "      <td></td>\n",
              "      <td>1</td>\n",
              "    </tr>\n",
              "    <tr>\n",
              "      <th>357</th>\n",
              "      <td></td>\n",
              "      <td>1</td>\n",
              "    </tr>\n",
              "    <tr>\n",
              "      <th>1000</th>\n",
              "      <td></td>\n",
              "      <td>1</td>\n",
              "    </tr>\n",
              "    <tr>\n",
              "      <th>...</th>\n",
              "      <td>...</td>\n",
              "      <td>...</td>\n",
              "    </tr>\n",
              "    <tr>\n",
              "      <th>442874</th>\n",
              "      <td></td>\n",
              "      <td>0</td>\n",
              "    </tr>\n",
              "    <tr>\n",
              "      <th>442901</th>\n",
              "      <td></td>\n",
              "      <td>0</td>\n",
              "    </tr>\n",
              "    <tr>\n",
              "      <th>443225</th>\n",
              "      <td></td>\n",
              "      <td>0</td>\n",
              "    </tr>\n",
              "    <tr>\n",
              "      <th>443553</th>\n",
              "      <td></td>\n",
              "      <td>0</td>\n",
              "    </tr>\n",
              "    <tr>\n",
              "      <th>443721</th>\n",
              "      <td></td>\n",
              "      <td>0</td>\n",
              "    </tr>\n",
              "  </tbody>\n",
              "</table>\n",
              "<p>2377 rows × 2 columns</p>\n",
              "</div>"
            ],
            "text/plain": [
              "       review_text  review_score\n",
              "48                             1\n",
              "183                            1\n",
              "291                            1\n",
              "357                            1\n",
              "1000                           1\n",
              "...            ...           ...\n",
              "442874                         0\n",
              "442901                         0\n",
              "443225                         0\n",
              "443553                         0\n",
              "443721                         0\n",
              "\n",
              "[2377 rows x 2 columns]"
            ]
          },
          "execution_count": 34,
          "metadata": {},
          "output_type": "execute_result"
        }
      ],
      "source": [
        "df_lemmatized[df_lemmatized['review_text'].str.len() <= 0]"
      ]
    },
    {
      "cell_type": "code",
      "execution_count": 35,
      "metadata": {},
      "outputs": [
        {
          "data": {
            "text/html": [
              "<div>\n",
              "<style scoped>\n",
              "    .dataframe tbody tr th:only-of-type {\n",
              "        vertical-align: middle;\n",
              "    }\n",
              "\n",
              "    .dataframe tbody tr th {\n",
              "        vertical-align: top;\n",
              "    }\n",
              "\n",
              "    .dataframe thead th {\n",
              "        text-align: right;\n",
              "    }\n",
              "</style>\n",
              "<table border=\"1\" class=\"dataframe\">\n",
              "  <thead>\n",
              "    <tr style=\"text-align: right;\">\n",
              "      <th></th>\n",
              "      <th>review_text</th>\n",
              "      <th>review_score</th>\n",
              "    </tr>\n",
              "  </thead>\n",
              "  <tbody>\n",
              "    <tr>\n",
              "      <th>0</th>\n",
              "      <td>this game good</td>\n",
              "      <td>1</td>\n",
              "    </tr>\n",
              "    <tr>\n",
              "      <th>1</th>\n",
              "      <td>fight pro generic noob lunge thing shred bit win</td>\n",
              "      <td>1</td>\n",
              "    </tr>\n",
              "    <tr>\n",
              "      <th>2</th>\n",
              "      <td>grow up I want sequel grow home the positive   more collectible   challenge   more costume   huge world explore multiple biome new plant animal   mobility option build bud instead plant base ie glider air break instead flower leaf   additional character pod help find thing map the negative   bud difficult handle challenge precise movement limited time other negative ubisoft reflection perfect sequel game proud work</td>\n",
              "      <td>1</td>\n",
              "    </tr>\n",
              "    <tr>\n",
              "      <th>3</th>\n",
              "      <td>hmmm how this a stupid game funny man make joke tell story amp surprisingly addictive fun matter play coop friend</td>\n",
              "      <td>1</td>\n",
              "    </tr>\n",
              "    <tr>\n",
              "      <th>4</th>\n",
              "      <td>hard good I like like that betterthannuclearthronexddd</td>\n",
              "      <td>1</td>\n",
              "    </tr>\n",
              "  </tbody>\n",
              "</table>\n",
              "</div>"
            ],
            "text/plain": [
              "                                                                                                                                                                                                                                                                                                                                                                                                                          review_text  \\\n",
              "0                                                                                                                                                                                                                                                                                                                                                                                                                      this game good   \n",
              "1                                                                                                                                                                                                                                                                                                                                                                                    fight pro generic noob lunge thing shred bit win   \n",
              "2  grow up I want sequel grow home the positive   more collectible   challenge   more costume   huge world explore multiple biome new plant animal   mobility option build bud instead plant base ie glider air break instead flower leaf   additional character pod help find thing map the negative   bud difficult handle challenge precise movement limited time other negative ubisoft reflection perfect sequel game proud work   \n",
              "3                                                                                                                                                                                                                                                                                                                   hmmm how this a stupid game funny man make joke tell story amp surprisingly addictive fun matter play coop friend   \n",
              "4                                                                                                                                                                                                                                                                                                                                                                              hard good I like like that betterthannuclearthronexddd   \n",
              "\n",
              "   review_score  \n",
              "0             1  \n",
              "1             1  \n",
              "2             1  \n",
              "3             1  \n",
              "4             1  "
            ]
          },
          "execution_count": 35,
          "metadata": {},
          "output_type": "execute_result"
        }
      ],
      "source": [
        "df_lemmatized = df_lemmatized[df_lemmatized['review_text'].str.len() > 0].reset_index(drop=True)\n",
        "df_lemmatized.head()"
      ]
    },
    {
      "cell_type": "code",
      "execution_count": 36,
      "metadata": {},
      "outputs": [
        {
          "data": {
            "text/plain": [
              "review_score\n",
              "0    221070\n",
              "1    220873\n",
              "Name: count, dtype: int64"
            ]
          },
          "execution_count": 36,
          "metadata": {},
          "output_type": "execute_result"
        }
      ],
      "source": [
        "df_lemmatized['review_score'].value_counts()"
      ]
    },
    {
      "cell_type": "code",
      "execution_count": 37,
      "metadata": {},
      "outputs": [
        {
          "data": {
            "image/png": "[encoded data removed]",
            "text/plain": [
              "<Figure size 1000x500 with 2 Axes>"
            ]
          },
          "metadata": {},
          "output_type": "display_data"
        }
      ],
      "source": [
        "plot_classes_balance(df_lemmatized)"
      ]
    },
    {
      "cell_type": "markdown",
      "metadata": {},
      "source": [
        "### Przygotowanie danych do modeli"
      ]
    },
    {
      "cell_type": "markdown",
      "metadata": {},
      "source": [
        "Train/val/test split"
      ]
    },
    {
      "cell_type": "code",
      "execution_count": 38,
      "metadata": {},
      "outputs": [],
      "source": [
        "RANDOM_SEED = 42\n",
        "\n",
        "X = df_lemmatized[['review_text']]\n",
        "y = df_lemmatized['review_score'].astype(str)\n",
        "\n",
        "# Pierwszy podział - wyodrębnienie zbioru trenigowego, pozostałe 30% danych będzie rozdzielone na zbiór walidacyjny i testowy\n",
        "X_train, X_temp, y_train, y_temp = train_test_split(X, y, test_size=0.3, random_state=RANDOM_SEED, stratify=y)\n",
        "\n",
        "# Drugi podział - wyodrębnienie zbioru walidacyjnego (20%) i testowego (10%)\n",
        "X_val, X_test, y_val, y_test = train_test_split(X_temp, y_temp, test_size=1/3, random_state=RANDOM_SEED, stratify=y_temp)\n"
      ]
    },
    {
      "cell_type": "code",
      "execution_count": 39,
      "metadata": {},
      "outputs": [
        {
          "name": "stdout",
          "output_type": "stream",
          "text": [
            "X_train shape: (309360, 1), y_train shape: (309360,)\n",
            "X_val shape: (88388, 1), y_val shape: (88388,)\n",
            "X_test shape: (44195, 1), y_test shape: (44195,)\n"
          ]
        }
      ],
      "source": [
        "print(f'X_train shape: {X_train.shape}, y_train shape: {y_train.shape}')\n",
        "print(f'X_val shape: {X_val.shape}, y_val shape: {y_val.shape}')\n",
        "print(f'X_test shape: {X_test.shape}, y_test shape: {y_test.shape}')"
      ]
    },
    {
      "cell_type": "code",
      "execution_count": 40,
      "metadata": {},
      "outputs": [
        {
          "data": {
            "text/html": [
              "<div>\n",
              "<style scoped>\n",
              "    .dataframe tbody tr th:only-of-type {\n",
              "        vertical-align: middle;\n",
              "    }\n",
              "\n",
              "    .dataframe tbody tr th {\n",
              "        vertical-align: top;\n",
              "    }\n",
              "\n",
              "    .dataframe thead th {\n",
              "        text-align: right;\n",
              "    }\n",
              "</style>\n",
              "<table border=\"1\" class=\"dataframe\">\n",
              "  <thead>\n",
              "    <tr style=\"text-align: right;\">\n",
              "      <th></th>\n",
              "      <th>review_text</th>\n",
              "      <th>review_score</th>\n",
              "    </tr>\n",
              "  </thead>\n",
              "  <tbody>\n",
              "    <tr>\n",
              "      <th>0</th>\n",
              "      <td>you able appreciate level polish go game like leave   dead killing floor play game like this I do not recommend anyone especially high   price point friend play with save money else if you be look good survival horror be not it it be scary it be cryptic go depend mission be honest yourself game beta start poor actually good</td>\n",
              "      <td>0</td>\n",
              "    </tr>\n",
              "    <tr>\n",
              "      <th>1</th>\n",
              "      <td>overall game look nice use economic supply demand similar orginal game unfortuntely track lay ui horribly clunky I try ' double track ' section rail avail manually connect double track line matter I do not work additionally zoom limit impossible small area to add insult injury I run window   os game crash twice   hour play I game pass bring railroad tycoon</td>\n",
              "      <td>0</td>\n",
              "    </tr>\n",
              "    <tr>\n",
              "      <th>2</th>\n",
              "      <td>this game suck crash time</td>\n",
              "      <td>0</td>\n",
              "    </tr>\n",
              "    <tr>\n",
              "      <th>3</th>\n",
              "      <td>intuitive amp wellpresente   recommend like explore nuance narrative</td>\n",
              "      <td>1</td>\n",
              "    </tr>\n",
              "    <tr>\n",
              "      <th>4</th>\n",
              "      <td>that art style cute love design game way short like everye bit rush throw face you hardly decision ending I guess game alright you be look pass time personally like customize character possible I think that overall rush ending worth time they</td>\n",
              "      <td>0</td>\n",
              "    </tr>\n",
              "  </tbody>\n",
              "</table>\n",
              "</div>"
            ],
            "text/plain": [
              "                                                                                                                                                                                                                                                                                                                                                              review_text  \\\n",
              "0                                   you able appreciate level polish go game like leave   dead killing floor play game like this I do not recommend anyone especially high   price point friend play with save money else if you be look good survival horror be not it it be scary it be cryptic go depend mission be honest yourself game beta start poor actually good   \n",
              "1  overall game look nice use economic supply demand similar orginal game unfortuntely track lay ui horribly clunky I try ' double track ' section rail avail manually connect double track line matter I do not work additionally zoom limit impossible small area to add insult injury I run window   os game crash twice   hour play I game pass bring railroad tycoon   \n",
              "2                                                                                                                                                                                                                                                                                                                                               this game suck crash time   \n",
              "3                                                                                                                                                                                                                                                                                                    intuitive amp wellpresente   recommend like explore nuance narrative   \n",
              "4                                                                                                                      that art style cute love design game way short like everye bit rush throw face you hardly decision ending I guess game alright you be look pass time personally like customize character possible I think that overall rush ending worth time they   \n",
              "\n",
              "  review_score  \n",
              "0            0  \n",
              "1            0  \n",
              "2            0  \n",
              "3            1  \n",
              "4            0  "
            ]
          },
          "execution_count": 40,
          "metadata": {},
          "output_type": "execute_result"
        }
      ],
      "source": [
        "train_data = pd.concat([X_train, y_train], axis=1).reset_index(drop=True)\n",
        "train_data.head()"
      ]
    },
    {
      "cell_type": "code",
      "execution_count": 41,
      "metadata": {},
      "outputs": [
        {
          "data": {
            "text/plain": [
              "[('you able appreciate level polish go game like leave   dead killing floor play game like this I do not recommend anyone especially high   price point friend play with save money else if you be look good survival horror be not it it be scary it be cryptic go depend mission be honest yourself game beta start poor actually good',\n",
              "  '0'),\n",
              " (\"overall game look nice use economic supply demand similar orginal game unfortuntely track lay ui horribly clunky I try ' double track ' section rail avail manually connect double track line matter I do not work additionally zoom limit impossible small area to add insult injury I run window   os game crash twice   hour play I game pass bring railroad tycoon\",\n",
              "  '0'),\n",
              " ('this game suck crash time', '0'),\n",
              " ('intuitive amp wellpresente   recommend like explore nuance narrative', '1'),\n",
              " ('that art style cute love design game way short like everye bit rush throw face you hardly decision ending I guess game alright you be look pass time personally like customize character possible I think that overall rush ending worth time they',\n",
              "  '0')]"
            ]
          },
          "execution_count": 41,
          "metadata": {},
          "output_type": "execute_result"
        }
      ],
      "source": [
        "train_list = list(train_data.itertuples(index=False, name=None))\n",
        "train_list[:5]"
      ]
    },
    {
      "cell_type": "code",
      "execution_count": 42,
      "metadata": {},
      "outputs": [
        {
          "data": {
            "text/html": [
              "<div>\n",
              "<style scoped>\n",
              "    .dataframe tbody tr th:only-of-type {\n",
              "        vertical-align: middle;\n",
              "    }\n",
              "\n",
              "    .dataframe tbody tr th {\n",
              "        vertical-align: top;\n",
              "    }\n",
              "\n",
              "    .dataframe thead th {\n",
              "        text-align: right;\n",
              "    }\n",
              "</style>\n",
              "<table border=\"1\" class=\"dataframe\">\n",
              "  <thead>\n",
              "    <tr style=\"text-align: right;\">\n",
              "      <th></th>\n",
              "      <th>review_text</th>\n",
              "      <th>review_score</th>\n",
              "    </tr>\n",
              "  </thead>\n",
              "  <tbody>\n",
              "    <tr>\n",
              "      <th>0</th>\n",
              "      <td>I do not know I be life anymore I think game easy I wrong qq the game cute graphic good I rate luck   I cry everytime</td>\n",
              "      <td>1</td>\n",
              "    </tr>\n",
              "    <tr>\n",
              "      <th>1</th>\n",
              "      <td>would build great wall china france again would gandhi uranium nuke again would decleration friendship shaka backstabbe again would lose worker barbarian again would buy gold venice again would lose navy england again run away cry fetal position would beaten wonder egypt agian very fun addictive game forget life do not forget feed pet while</td>\n",
              "      <td>1</td>\n",
              "    </tr>\n",
              "    <tr>\n",
              "      <th>2</th>\n",
              "      <td>great management game especially free well the match viewer cool too the ui look good</td>\n",
              "      <td>1</td>\n",
              "    </tr>\n",
              "    <tr>\n",
              "      <th>3</th>\n",
              "      <td>so far I ve play min mess game let start say game pc port suck alot the frame rate be barly even stable pretty powerful machine graphic option break have shadow quality anti aliasing say version p be not consider aspect ratio doesent event screen leave thick black border screen gameplay yeah damn game be not technecally p aswell original game pretty thing do not buy peice garbage undead labs please fix sht</td>\n",
              "      <td>0</td>\n",
              "    </tr>\n",
              "    <tr>\n",
              "      <th>4</th>\n",
              "      <td>you remove game library right click it set category check box say hide have game library feel like razor blade eye socket</td>\n",
              "      <td>0</td>\n",
              "    </tr>\n",
              "  </tbody>\n",
              "</table>\n",
              "</div>"
            ],
            "text/plain": [
              "                                                                                                                                                                                                                                                                                                                                                                                                                 review_text  \\\n",
              "0                                                                                                                                                                                                                                                                                                      I do not know I be life anymore I think game easy I wrong qq the game cute graphic good I rate luck   I cry everytime   \n",
              "1                                                                     would build great wall china france again would gandhi uranium nuke again would decleration friendship shaka backstabbe again would lose worker barbarian again would buy gold venice again would lose navy england again run away cry fetal position would beaten wonder egypt agian very fun addictive game forget life do not forget feed pet while   \n",
              "2                                                                                                                                                                                                                                                                                                                                      great management game especially free well the match viewer cool too the ui look good   \n",
              "3  so far I ve play min mess game let start say game pc port suck alot the frame rate be barly even stable pretty powerful machine graphic option break have shadow quality anti aliasing say version p be not consider aspect ratio doesent event screen leave thick black border screen gameplay yeah damn game be not technecally p aswell original game pretty thing do not buy peice garbage undead labs please fix sht   \n",
              "4                                                                                                                                                                                                                                                                                                  you remove game library right click it set category check box say hide have game library feel like razor blade eye socket   \n",
              "\n",
              "  review_score  \n",
              "0            1  \n",
              "1            1  \n",
              "2            1  \n",
              "3            0  \n",
              "4            0  "
            ]
          },
          "execution_count": 42,
          "metadata": {},
          "output_type": "execute_result"
        }
      ],
      "source": [
        "val_data = pd.concat([X_val, y_val], axis=1).reset_index(drop=True)\n",
        "val_data.head()"
      ]
    },
    {
      "cell_type": "code",
      "execution_count": 43,
      "metadata": {},
      "outputs": [
        {
          "data": {
            "text/plain": [
              "[('I do not know I be life anymore I think game easy I wrong qq the game cute graphic good I rate luck   I cry everytime',\n",
              "  '1'),\n",
              " ('would build great wall china france again would gandhi uranium nuke again would decleration friendship shaka backstabbe again would lose worker barbarian again would buy gold venice again would lose navy england again run away cry fetal position would beaten wonder egypt agian very fun addictive game forget life do not forget feed pet while',\n",
              "  '1'),\n",
              " ('great management game especially free well the match viewer cool too the ui look good',\n",
              "  '1'),\n",
              " ('so far I ve play min mess game let start say game pc port suck alot the frame rate be barly even stable pretty powerful machine graphic option break have shadow quality anti aliasing say version p be not consider aspect ratio doesent event screen leave thick black border screen gameplay yeah damn game be not technecally p aswell original game pretty thing do not buy peice garbage undead labs please fix sht',\n",
              "  '0'),\n",
              " ('you remove game library right click it set category check box say hide have game library feel like razor blade eye socket',\n",
              "  '0')]"
            ]
          },
          "execution_count": 43,
          "metadata": {},
          "output_type": "execute_result"
        }
      ],
      "source": [
        "val_list = list(val_data.itertuples(index=False, name=None))\n",
        "val_list[:5]"
      ]
    },
    {
      "cell_type": "code",
      "execution_count": 44,
      "metadata": {},
      "outputs": [
        {
          "data": {
            "text/html": [
              "<div>\n",
              "<style scoped>\n",
              "    .dataframe tbody tr th:only-of-type {\n",
              "        vertical-align: middle;\n",
              "    }\n",
              "\n",
              "    .dataframe tbody tr th {\n",
              "        vertical-align: top;\n",
              "    }\n",
              "\n",
              "    .dataframe thead th {\n",
              "        text-align: right;\n",
              "    }\n",
              "</style>\n",
              "<table border=\"1\" class=\"dataframe\">\n",
              "  <thead>\n",
              "    <tr style=\"text-align: right;\">\n",
              "      <th></th>\n",
              "      <th>review_text</th>\n",
              "      <th>review_score</th>\n",
              "    </tr>\n",
              "  </thead>\n",
              "  <tbody>\n",
              "    <tr>\n",
              "      <th>0</th>\n",
              "      <td>I do not like game song have I can not rate it be cool concept</td>\n",
              "      <td>1</td>\n",
              "    </tr>\n",
              "    <tr>\n",
              "      <th>1</th>\n",
              "      <td>fate good particularly decadeold game the graphic simple cute colorful the music 's cheerful and gameplay simple concept keep engage in case definitely be not nostalgia speak I be look rosecolored lense childhood I play it series recently and it be kind impressive game hold time the game 's premise borrow liberally original diablo basic dungeoncrawler rpg each level dungeon randomly generate fill item monster villager town quest tie specific level journey dungeon complete task you quest time it be maximum level explore corridor rush way final boss as complete quest hack slash way dungeon 's monster gain experience leveling allow increase skill stat specific area loot dungeon give gold item vendor town sell item perform service you earn money and find rare item catch fish fishing hole find game get stuff carry dungeon no problem you will pet unkillable companion ferry junk town exchange gold your pet help fight enemy flee health get low use fight if basic cat dog be not powerful enough feed pet fish order transform different monster find game if sound awful lot like torchlight it be pretty evident fate huge influence game there main story quest basically hard boss random level close lvl   since level generate randomly play continue thousand level even practically unende dungeon randomly generate level pretty big combination skill gear give fate infinite replayability this actually feature game well finish main quest allow create ' descendant ' character this new character ' heirloom ' item begin adventure it be especially cool import character fate sequel well heirloom all as rpg fate terribly deep but lot fun it be great   somewhat casual   way blow steam crawl mazelike dungeon blast slash way colorful mobs creature</td>\n",
              "      <td>1</td>\n",
              "    </tr>\n",
              "    <tr>\n",
              "      <th>2</th>\n",
              "      <td>I do not know beginwhat mess I think graphic designer shade pastel find it look like van gogh throw map it difficult distinguish unit city item everything blend in civ   know have user friendly ui convoluted chaos and world research tree there reason research tree research kinda circular thing argh angry joe rightthey f'd up</td>\n",
              "      <td>0</td>\n",
              "    </tr>\n",
              "    <tr>\n",
              "      <th>3</th>\n",
              "      <td>this game litter bug unfinished do buy it hysterical level game fail tutorial level alone imagin rest game tutorial let walk wall jump infinitely do not game hacker like break game youtube channel</td>\n",
              "      <td>0</td>\n",
              "    </tr>\n",
              "    <tr>\n",
              "      <th>4</th>\n",
              "      <td>use ' power ' aka gadget bat freak break guy in game batman darkyou know'urrrgh I batman I eat soul '</td>\n",
              "      <td>1</td>\n",
              "    </tr>\n",
              "  </tbody>\n",
              "</table>\n",
              "</div>"
            ],
            "text/plain": [
              "                                                                                                                                                                                                                                                                                                                                                                                                                                                                                                                                                                                                                                                                                                                                                                                                                                                                                                                                                                                                                                                                                                                                                                                                                                                                                                                                                                                                                                                                                                                                                                                                                                                                                                                                                                                                         review_text  \\\n",
              "0                                                                                                                                                                                                                                                                                                                                                                                                                                                                                                                                                                                                                                                                                                                                                                                                                                                                                                                                                                                                                                                                                                                                                                                                                                                                                                                                                                                                                                                                                                                                                                                                                                                                                                                                                     I do not like game song have I can not rate it be cool concept   \n",
              "1  fate good particularly decadeold game the graphic simple cute colorful the music 's cheerful and gameplay simple concept keep engage in case definitely be not nostalgia speak I be look rosecolored lense childhood I play it series recently and it be kind impressive game hold time the game 's premise borrow liberally original diablo basic dungeoncrawler rpg each level dungeon randomly generate fill item monster villager town quest tie specific level journey dungeon complete task you quest time it be maximum level explore corridor rush way final boss as complete quest hack slash way dungeon 's monster gain experience leveling allow increase skill stat specific area loot dungeon give gold item vendor town sell item perform service you earn money and find rare item catch fish fishing hole find game get stuff carry dungeon no problem you will pet unkillable companion ferry junk town exchange gold your pet help fight enemy flee health get low use fight if basic cat dog be not powerful enough feed pet fish order transform different monster find game if sound awful lot like torchlight it be pretty evident fate huge influence game there main story quest basically hard boss random level close lvl   since level generate randomly play continue thousand level even practically unende dungeon randomly generate level pretty big combination skill gear give fate infinite replayability this actually feature game well finish main quest allow create ' descendant ' character this new character ' heirloom ' item begin adventure it be especially cool import character fate sequel well heirloom all as rpg fate terribly deep but lot fun it be great   somewhat casual   way blow steam crawl mazelike dungeon blast slash way colorful mobs creature   \n",
              "2                                                                                                                                                                                                                                                                                                                                                                                                                                                                                                                                                                                                                                                                                                                                                                                                                                                                                                                                                                                                                                                                                                                                                                                                                                                                                                                                                                                                                                                                             I do not know beginwhat mess I think graphic designer shade pastel find it look like van gogh throw map it difficult distinguish unit city item everything blend in civ   know have user friendly ui convoluted chaos and world research tree there reason research tree research kinda circular thing argh angry joe rightthey f'd up   \n",
              "3                                                                                                                                                                                                                                                                                                                                                                                                                                                                                                                                                                                                                                                                                                                                                                                                                                                                                                                                                                                                                                                                                                                                                                                                                                                                                                                                                                                                                                                                                                                                                                                                               this game litter bug unfinished do buy it hysterical level game fail tutorial level alone imagin rest game tutorial let walk wall jump infinitely do not game hacker like break game youtube channel   \n",
              "4                                                                                                                                                                                                                                                                                                                                                                                                                                                                                                                                                                                                                                                                                                                                                                                                                                                                                                                                                                                                                                                                                                                                                                                                                                                                                                                                                                                                                                                                                                                                                                                                                                                                                                              use ' power ' aka gadget bat freak break guy in game batman darkyou know'urrrgh I batman I eat soul '   \n",
              "\n",
              "  review_score  \n",
              "0            1  \n",
              "1            1  \n",
              "2            0  \n",
              "3            0  \n",
              "4            1  "
            ]
          },
          "execution_count": 44,
          "metadata": {},
          "output_type": "execute_result"
        }
      ],
      "source": [
        "test_data = pd.concat([X_test, y_test], axis=1).reset_index(drop=True)\n",
        "test_data.head()"
      ]
    },
    {
      "cell_type": "code",
      "execution_count": 45,
      "metadata": {},
      "outputs": [
        {
          "data": {
            "text/plain": [
              "[('I do not like game song have I can not rate it be cool concept', '1'),\n",
              " (\"fate good particularly decadeold game the graphic simple cute colorful the music 's cheerful and gameplay simple concept keep engage in case definitely be not nostalgia speak I be look rosecolored lense childhood I play it series recently and it be kind impressive game hold time the game 's premise borrow liberally original diablo basic dungeoncrawler rpg each level dungeon randomly generate fill item monster villager town quest tie specific level journey dungeon complete task you quest time it be maximum level explore corridor rush way final boss as complete quest hack slash way dungeon 's monster gain experience leveling allow increase skill stat specific area loot dungeon give gold item vendor town sell item perform service you earn money and find rare item catch fish fishing hole find game get stuff carry dungeon no problem you will pet unkillable companion ferry junk town exchange gold your pet help fight enemy flee health get low use fight if basic cat dog be not powerful enough feed pet fish order transform different monster find game if sound awful lot like torchlight it be pretty evident fate huge influence game there main story quest basically hard boss random level close lvl   since level generate randomly play continue thousand level even practically unende dungeon randomly generate level pretty big combination skill gear give fate infinite replayability this actually feature game well finish main quest allow create ' descendant ' character this new character ' heirloom ' item begin adventure it be especially cool import character fate sequel well heirloom all as rpg fate terribly deep but lot fun it be great   somewhat casual   way blow steam crawl mazelike dungeon blast slash way colorful mobs creature\",\n",
              "  '1'),\n",
              " (\"I do not know beginwhat mess I think graphic designer shade pastel find it look like van gogh throw map it difficult distinguish unit city item everything blend in civ   know have user friendly ui convoluted chaos and world research tree there reason research tree research kinda circular thing argh angry joe rightthey f'd up\",\n",
              "  '0'),\n",
              " ('this game litter bug unfinished do buy it hysterical level game fail tutorial level alone imagin rest game tutorial let walk wall jump infinitely do not game hacker like break game youtube channel',\n",
              "  '0'),\n",
              " (\"use ' power ' aka gadget bat freak break guy in game batman darkyou know'urrrgh I batman I eat soul '\",\n",
              "  '1')]"
            ]
          },
          "execution_count": 45,
          "metadata": {},
          "output_type": "execute_result"
        }
      ],
      "source": [
        "test_list = list(test_data.itertuples(index=False, name=None))\n",
        "test_list[:5]"
      ]
    },
    {
      "cell_type": "markdown",
      "metadata": {},
      "source": [
        "Tokenizacja"
      ]
    },
    {
      "cell_type": "code",
      "execution_count": 49,
      "metadata": {},
      "outputs": [],
      "source": [
        "\n",
        "tokenizer = get_tokenizer('spacy', 'en_core_web_md')\n",
        "\n",
        "def yield_tokens(data_iter):\n",
        "  for text, _ in data_iter:\n",
        "    yield tokenizer(text)"
      ]
    },
    {
      "cell_type": "code",
      "execution_count": 50,
      "metadata": {},
      "outputs": [],
      "source": [
        "train_iter = iter(train_list)\n",
        "val_iter = iter(val_list)\n",
        "test_iter = iter(test_list)"
      ]
    },
    {
      "cell_type": "code",
      "execution_count": 51,
      "metadata": {},
      "outputs": [],
      "source": [
        "MAX_TOKENS = 25000\n",
        "\n",
        "vocab = build_vocab_from_iterator(yield_tokens(train_iter), specials=['<unk>'], max_tokens=MAX_TOKENS)\n",
        "vocab.set_default_index(vocab['<unk>'])"
      ]
    },
    {
      "cell_type": "code",
      "execution_count": 52,
      "metadata": {},
      "outputs": [
        {
          "data": {
            "text/plain": [
              "[1, 0, 267, 13]"
            ]
          },
          "execution_count": 52,
          "metadata": {},
          "output_type": "execute_result"
        }
      ],
      "source": [
        "vocab(['game', 'is', 'very', 'good'])"
      ]
    },
    {
      "cell_type": "code",
      "execution_count": 53,
      "metadata": {},
      "outputs": [],
      "source": [
        "text_pipeline = lambda x: vocab(tokenizer(x))\n",
        "label_pipeline = lambda x: 1 if x == '1' else 0"
      ]
    },
    {
      "cell_type": "code",
      "execution_count": 54,
      "metadata": {},
      "outputs": [
        {
          "data": {
            "text/plain": [
              "[0, 1, 0, 64, 26]"
            ]
          },
          "execution_count": 54,
          "metadata": {},
          "output_type": "execute_result"
        }
      ],
      "source": [
        "text_pipeline('This game is so bad')"
      ]
    },
    {
      "cell_type": "markdown",
      "metadata": {},
      "source": [
        "DataLoader"
      ]
    },
    {
      "cell_type": "code",
      "execution_count": 55,
      "metadata": {},
      "outputs": [],
      "source": [
        "def collate_batch(batch):\n",
        "  label_list, text_list, lenghts = [], [], []\n",
        "\n",
        "  for _text, _label in batch:\n",
        "    label_list.append(label_pipeline(_label))\n",
        "    processed_text = torch.tensor(text_pipeline(_text), dtype=torch.int64)\n",
        "    text_list.append(processed_text)\n",
        "    lenghts.append(processed_text.size(0))\n",
        "\n",
        "  label_list = torch.tensor(label_list, dtype=torch.float32)\n",
        "  lenghts = torch.tensor(lenghts, dtype=torch.int64)\n",
        "  text_list = pad_sequence(text_list, batch_first=True)\n",
        "  return label_list, text_list, lenghts\n"
      ]
    },
    {
      "cell_type": "code",
      "execution_count": 56,
      "metadata": {},
      "outputs": [],
      "source": [
        "BATCH_SIZE = 64\n",
        "train_dataloader = DataLoader(train_list, batch_size=BATCH_SIZE, shuffle=True, collate_fn=collate_batch)\n",
        "val_dataloader = DataLoader(val_list, batch_size=BATCH_SIZE, shuffle=False, collate_fn=collate_batch)\n",
        "test_dataloader = DataLoader(test_list, batch_size=BATCH_SIZE, shuffle=False, collate_fn=collate_batch)"
      ]
    },
    {
      "cell_type": "markdown",
      "metadata": {},
      "source": [
        "### Modele"
      ]
    },
    {
      "cell_type": "markdown",
      "metadata": {},
      "source": [
        "#### GRU"
      ]
    },
    {
      "cell_type": "code",
      "execution_count": 57,
      "metadata": {},
      "outputs": [],
      "source": [
        "class GRUModel(nn.Module):\n",
        "    def __init__(self, input_dim, embedding_dim, hidden_dim, output_dim):\n",
        "      super().__init__()\n",
        "      self.embedding = nn.Embedding(input_dim, embedding_dim)\n",
        "      self.gru = nn.GRU(embedding_dim, hidden_dim)\n",
        "      self.fc = nn.Linear(hidden_dim, output_dim)\n",
        "\n",
        "    def forward(self, text, text_lenght):\n",
        "      embedded = self.embedding(text)\n",
        "      packed_embedded = pack_padded_sequence(embedded, text_lenght.cpu(), batch_first=True, enforce_sorted=False)\n",
        "      packed_output, hidden = self.gru(packed_embedded)\n",
        "      output, output_lenghts = pad_packed_sequence(packed_output, batch_first=True)\n",
        "      return self.fc(hidden.squeeze(0))"
      ]
    },
    {
      "cell_type": "code",
      "execution_count": 58,
      "metadata": {},
      "outputs": [],
      "source": [
        "INPUT_DIM = len(vocab)\n",
        "EMBEDDING_DIM = 100\n",
        "HIDDEN_DIM = 256\n",
        "OUTPUT_DIM = 1\n",
        "\n",
        "model = GRUModel(INPUT_DIM, EMBEDDING_DIM, HIDDEN_DIM, OUTPUT_DIM)"
      ]
    },
    {
      "cell_type": "code",
      "execution_count": 59,
      "metadata": {},
      "outputs": [
        {
          "name": "stdout",
          "output_type": "stream",
          "text": [
            "Model ma 2,775,201 parametrów\n"
          ]
        }
      ],
      "source": [
        "def count_parameters(model):\n",
        "  return sum(p.numel() for p in model.parameters() if p.requires_grad)\n",
        "print(f'Model ma {count_parameters(model):,} parametrów')"
      ]
    },
    {
      "cell_type": "code",
      "execution_count": 60,
      "metadata": {},
      "outputs": [],
      "source": [
        "optimizer = optim.SGD(model.parameters(), lr=1e-3)"
      ]
    },
    {
      "cell_type": "code",
      "execution_count": 61,
      "metadata": {},
      "outputs": [],
      "source": [
        "criterion = nn.BCEWithLogitsLoss()"
      ]
    },
    {
      "cell_type": "code",
      "execution_count": 62,
      "metadata": {},
      "outputs": [],
      "source": [
        "device = torch.device(\"cuda\" if torch.cuda.is_available() else \"cpu\")\n",
        "model = model.to(device)\n",
        "criterion = criterion.to(device)"
      ]
    },
    {
      "cell_type": "code",
      "execution_count": 63,
      "metadata": {},
      "outputs": [],
      "source": [
        "def binary_accuracy(preds, y):\n",
        "    rounded_preds = torch.round(torch.sigmoid(preds))\n",
        "    correct = (rounded_preds == y).float()\n",
        "    acc = correct.sum() / len(correct)\n",
        "    return acc"
      ]
    },
    {
      "cell_type": "code",
      "execution_count": 64,
      "metadata": {},
      "outputs": [],
      "source": [
        "def train(model, dataloader, optimizer, criterion):\n",
        "    epoch_loss = 0\n",
        "    epoch_acc = 0\n",
        "    model.train()\n",
        "\n",
        "    for batch in dataloader:\n",
        "      labels, texts, lenghts = batch\n",
        "      texts, labels = texts.to(device), labels.to(device)\n",
        "      optimizer.zero_grad()\n",
        "\n",
        "      predictions = model(texts, lenghts).squeeze(1)\n",
        "      loss = criterion(predictions, labels)\n",
        "      acc = binary_accuracy(predictions, labels)\n",
        "\n",
        "      loss.backward()\n",
        "      optimizer.step()\n",
        "\n",
        "      epoch_loss += loss.item()\n",
        "      epoch_acc += acc.item()\n",
        "\n",
        "    return epoch_loss / len(dataloader), epoch_acc / len(dataloader)"
      ]
    },
    {
      "cell_type": "code",
      "execution_count": 65,
      "metadata": {},
      "outputs": [],
      "source": [
        "def evaluate(model, dataloader, criterion):\n",
        "    epoch_loss = 0\n",
        "    epoch_acc = 0\n",
        "    model.eval()\n",
        "\n",
        "    with torch.no_grad():\n",
        "      for batch in dataloader:\n",
        "        labels, texts, lenghts = batch\n",
        "        texts, labels = texts.to(device), labels.to(device)\n",
        "\n",
        "        predictions = model(texts, lenghts).squeeze(1)\n",
        "        loss = criterion(predictions, labels)\n",
        "        acc = binary_accuracy(predictions, labels)\n",
        "\n",
        "        epoch_loss += loss.item()\n",
        "        epoch_acc += acc.item()\n",
        "\n",
        "    return epoch_loss / len(dataloader), epoch_acc / len(dataloader)"
      ]
    },
    {
      "cell_type": "code",
      "execution_count": 66,
      "metadata": {},
      "outputs": [],
      "source": [
        "def epoch_time(start_time, end_time):\n",
        "    elapsed_time = end_time - start_time\n",
        "    elapsed_mins = int(elapsed_time / 60)\n",
        "    elapsed_secs = int(elapsed_time - (elapsed_mins * 60))\n",
        "    return elapsed_mins, elapsed_secs"
      ]
    },
    {
      "cell_type": "code",
      "execution_count": 68,
      "metadata": {},
      "outputs": [
        {
          "name": "stdout",
          "output_type": "stream",
          "text": [
            "cuda:0\n"
          ]
        }
      ],
      "source": [
        "def check_device(model):\n",
        "    return next(model.parameters()).device\n",
        "\n",
        "print(check_device(model))"
      ]
    },
    {
      "cell_type": "code",
      "execution_count": 69,
      "metadata": {},
      "outputs": [
        {
          "name": "stdout",
          "output_type": "stream",
          "text": [
            "Epoch: 01 | Epoch Time: 5m 24s\n",
            "\tTrain Loss: 0.688 | Train Acc: 54.40%\n",
            "\t Val. Loss: 0.683 | Val. Acc: 56.55%\n",
            "Epoch: 02 | Epoch Time: 5m 16s\n",
            "\tTrain Loss: 0.680 | Train Acc: 57.18%\n",
            "\t Val. Loss: 0.676 | Val. Acc: 57.50%\n",
            "Epoch: 03 | Epoch Time: 5m 21s\n",
            "\tTrain Loss: 0.674 | Train Acc: 57.98%\n",
            "\t Val. Loss: 0.672 | Val. Acc: 58.34%\n",
            "Epoch: 04 | Epoch Time: 5m 18s\n",
            "\tTrain Loss: 0.670 | Train Acc: 58.47%\n",
            "\t Val. Loss: 0.668 | Val. Acc: 58.84%\n",
            "Epoch: 05 | Epoch Time: 5m 38s\n",
            "\tTrain Loss: 0.667 | Train Acc: 58.97%\n",
            "\t Val. Loss: 0.665 | Val. Acc: 59.17%\n"
          ]
        }
      ],
      "source": [
        "N_EPOCHS = 5\n",
        "best_valid_loss = float('inf')\n",
        "\n",
        "for epoch in range(N_EPOCHS):\n",
        "  start_time = time.time()\n",
        "\n",
        "  train_loss, train_acc = train(model, train_dataloader, optimizer, criterion)\n",
        "  valid_loss, valid_acc = evaluate(model, val_dataloader, criterion)\n",
        "\n",
        "  end_time = time.time()\n",
        "\n",
        "  if valid_loss < best_valid_loss:\n",
        "    best_valid_loss = valid_loss\n",
        "    torch.save(model.state_dict(), 'gru_model.pt')\n",
        "\n",
        "  epoch_mins, epoch_secs = epoch_time(start_time, end_time)\n",
        "\n",
        "  print(f'Epoch: {epoch+1:02} | Epoch Time: {epoch_mins}m {epoch_secs}s')\n",
        "  print(f'\\tTrain Loss: {train_loss:.3f} | Train Acc: {train_acc*100:.2f}%')\n",
        "  print(f'\\t Val. Loss: {valid_loss:.3f} | Val. Acc: {valid_acc*100:.2f}%')"
      ]
    },
    {
      "cell_type": "code",
      "execution_count": null,
      "metadata": {},
      "outputs": [],
      "source": []
    }
  ],
  "metadata": {
    "colab": {
      "provenance": []
    },
    "kernelspec": {
      "display_name": "Python 3",
      "name": "python3"
    },
    "language_info": {
      "codemirror_mode": {
        "name": "ipython",
        "version": 3
      },
      "file_extension": ".py",
      "mimetype": "text/x-python",
      "name": "python",
      "nbconvert_exporter": "python",
      "pygments_lexer": "ipython3",
      "version": "3.8.0"
    }
  },
  "nbformat": 4,
  "nbformat_minor": 0
}
