{
  "cells": [
    {
      "cell_type": "markdown",
      "metadata": {
        "id": "OYpJoHsns0aA"
      },
      "source": [
        "## Opis problemu\n",
        "\n",
        "Znajdź dowolny zbiór danych (dozwolone języki: angielski, hiszpański, polski, szwedzki) (poza IMDB oraz zbiorami wykorzystywanymi na zajęciach) do analizy sentymentu.\n",
        "Zbiór może mieć 2 lub 3 klasy.\n",
        "\n",
        "Następnie:\n",
        "1. Oczyść dane i zaprezentuj rozkład klas\n",
        "2. Zbuduj model analizy sentymenu:\n",
        "  - z wykorzystaniem sieci rekurencyjnej (LSTM/GRU/sieć dwukierunkowa) innej niż podstawowe RNN\n",
        "  - z wykorzystaniem sieci CNN\n",
        "  - z podstawiemiem pre-trained word embeddingów\n",
        "  - z fine-tuningiem modelu języka (poza podstawowym BERTem)\n",
        "\n",
        "3. Stwórz funkcję, która będzie korzystała z wytrenowanego modelu i zwracała wynik dla przekazanego pojedynczego zdania (zdań) w postaci komunikatu informującego użytkownika, czy tekst jest nacechowany negatywnie, pozytywnie (czy neutralnie w przypadku 3 klas).\n",
        "\n",
        "4. Gotowe rozwiązanie zamieść na GitHubie z README. W README zawrzyj: informacje o danych - ich pochodzenie, oraz opis wybranego modelu i instrukcje korzystania z plików.\n",
        "5. W assigmnencie w Teamsach wrzuć link do repo z rozwiązaniem. W przypadku prywatnego repo upewnij się, że będzie ono widoczne dla `dwnuk@pjwstk.edu.pl`.\n",
        "\n",
        "**TERMIN**: jak w Teamsach"
      ]
    },
    {
      "cell_type": "code",
      "execution_count": 63,
      "metadata": {
        "id": "KNsVcEZ1sx5b"
      },
      "outputs": [],
      "source": [
        "import pandas as pd\n",
        "import numpy as np\n",
        "import matplotlib.pyplot as plt\n",
        "import seaborn as sns\n",
        "import spacy\n",
        "import torch\n",
        "import torch.nn as nn\n",
        "from torch.utils.data import DataLoader\n",
        "from torchtext.data.utils import get_tokenizer\n",
        "from torchtext.vocab import build_vocab_from_iterator\n",
        "from sklearn.model_selection import train_test_split\n",
        "from torch.nn.utils.rnn import pack_padded_sequence, pad_packed_sequence"
      ]
    },
    {
      "cell_type": "markdown",
      "metadata": {},
      "source": [
        "### Wczytanie i analiza danych"
      ]
    },
    {
      "cell_type": "code",
      "execution_count": 2,
      "metadata": {},
      "outputs": [],
      "source": [
        "# !kaggle datasets download -d andrewmvd/steam-reviews"
      ]
    },
    {
      "cell_type": "code",
      "execution_count": 3,
      "metadata": {},
      "outputs": [],
      "source": [
        "# import zipfile\n",
        "# with zipfile.ZipFile('steam-reviews.zip', 'r') as zip_ref:\n",
        "#     zip_ref.extractall()"
      ]
    },
    {
      "cell_type": "code",
      "execution_count": 4,
      "metadata": {},
      "outputs": [
        {
          "data": {
            "text/html": [
              "<div>\n",
              "<style scoped>\n",
              "    .dataframe tbody tr th:only-of-type {\n",
              "        vertical-align: middle;\n",
              "    }\n",
              "\n",
              "    .dataframe tbody tr th {\n",
              "        vertical-align: top;\n",
              "    }\n",
              "\n",
              "    .dataframe thead th {\n",
              "        text-align: right;\n",
              "    }\n",
              "</style>\n",
              "<table border=\"1\" class=\"dataframe\">\n",
              "  <thead>\n",
              "    <tr style=\"text-align: right;\">\n",
              "      <th></th>\n",
              "      <th>app_id</th>\n",
              "      <th>app_name</th>\n",
              "      <th>review_text</th>\n",
              "      <th>review_score</th>\n",
              "      <th>review_votes</th>\n",
              "    </tr>\n",
              "  </thead>\n",
              "  <tbody>\n",
              "    <tr>\n",
              "      <th>0</th>\n",
              "      <td>10</td>\n",
              "      <td>Counter-Strike</td>\n",
              "      <td>Ruined my life.</td>\n",
              "      <td>1</td>\n",
              "      <td>0</td>\n",
              "    </tr>\n",
              "    <tr>\n",
              "      <th>1</th>\n",
              "      <td>10</td>\n",
              "      <td>Counter-Strike</td>\n",
              "      <td>This will be more of a ''my experience with this game'' type of review, because saying things like ''great gameplay'' will not suit something I've experienced with Counter-Strike. Here you go:  I remember back in 2002 I was at a friend's house and he was playing a game. I didn't know the name of the game nor I had internet to find it. A few weeks passed by and another friend came over. He didn't have a computer, so he brought a disc with a game in it. He told me that it was one of the best games and from that very moment I knew that it is going to be the game I saw at the other friend's house. When I saw the Counter-Strike logo I was filled with gamegasm (?) and I was so happy. I was playing it hardcore. Made friends, clans, was involved in communities and even made two myself. Counter-Strike is my first game which I played competitively and it was a such an experience. Playing public servers with mods were very fun, but playing it competitively made it very intense and stressful. In a pleasant way, ofcourse. Looking at the current e-sport scene it might not seem like much but back then it was different.  Shooters these days try to be different, advanced in a way. Sometimes the most simple games like Counter-Strike are the ones that live to this day. Also, there are plenty of mods to keep your attention to this game. The gameplay is very simple - defend as a Counter-Terrorist, attack as a Terrorist to plant the bomb or save the hostages as a CT. I am sure most of you already know this and I doubt there are gamers that haven't heard or know the gameplay of Counter-Strike, so I am sharing here more of my experience.  I wish I could find my CS Anthology account which I've lost since 2008. So, I decided I am going to buy this game again and here you go - more than a thousand hours played. I still play it from time to time to this day and it brings back many great memories and I sometimes even stumble upon people I've played with years ago. I think Counter-Strike changed gaming in a major way and we wouldn't have many games like we have today, if this game wouldn't exist.   I am sure many of people already have played games like CS:GO but never the roots. I doubt any of you will play it for more than an hour, because it's much more simple and it differs a lot in my opinion from CS:GO and modern games. It's harder though.</td>\n",
              "      <td>1</td>\n",
              "      <td>1</td>\n",
              "    </tr>\n",
              "    <tr>\n",
              "      <th>2</th>\n",
              "      <td>10</td>\n",
              "      <td>Counter-Strike</td>\n",
              "      <td>This game saved my virginity.</td>\n",
              "      <td>1</td>\n",
              "      <td>0</td>\n",
              "    </tr>\n",
              "    <tr>\n",
              "      <th>3</th>\n",
              "      <td>10</td>\n",
              "      <td>Counter-Strike</td>\n",
              "      <td>• Do you like original games? • Do you like games that don't lag? • Do you like games you can run on low end PC's? • Do you like games where you don't meet children who have slept with your mother?  Then this is for you!</td>\n",
              "      <td>1</td>\n",
              "      <td>0</td>\n",
              "    </tr>\n",
              "    <tr>\n",
              "      <th>4</th>\n",
              "      <td>10</td>\n",
              "      <td>Counter-Strike</td>\n",
              "      <td>Easy to learn, hard to master.</td>\n",
              "      <td>1</td>\n",
              "      <td>1</td>\n",
              "    </tr>\n",
              "  </tbody>\n",
              "</table>\n",
              "</div>"
            ],
            "text/plain": [
              "   app_id        app_name  \\\n",
              "0      10  Counter-Strike   \n",
              "1      10  Counter-Strike   \n",
              "2      10  Counter-Strike   \n",
              "3      10  Counter-Strike   \n",
              "4      10  Counter-Strike   \n",
              "\n",
              "                                                                                                                                                                                                                                                                                                                                                                                                                                                                                                                                                                                                                                                                                                                                                                                                                                                                                                                                                                                                                                                                                                                                                                                                                                                                                                                                                                                                                                                                                                                                                                                                                                                                                                                                                                                                                                                                                                                                                                                                                                                                                                                                                                                                                                                                                                                                                                                                                                             review_text  \\\n",
              "0                                                                                                                                                                                                                                                                                                                                                                                                                                                                                                                                                                                                                                                                                                                                                                                                                                                                                                                                                                                                                                                                                                                                                                                                                                                                                                                                                                                                                                                                                                                                                                                                                                                                                                                                                                                                                                                                                                                                                                                                                                                                                                                                                                                                                                                                                                                                                                                                                                        Ruined my life.   \n",
              "1  This will be more of a ''my experience with this game'' type of review, because saying things like ''great gameplay'' will not suit something I've experienced with Counter-Strike. Here you go:  I remember back in 2002 I was at a friend's house and he was playing a game. I didn't know the name of the game nor I had internet to find it. A few weeks passed by and another friend came over. He didn't have a computer, so he brought a disc with a game in it. He told me that it was one of the best games and from that very moment I knew that it is going to be the game I saw at the other friend's house. When I saw the Counter-Strike logo I was filled with gamegasm (?) and I was so happy. I was playing it hardcore. Made friends, clans, was involved in communities and even made two myself. Counter-Strike is my first game which I played competitively and it was a such an experience. Playing public servers with mods were very fun, but playing it competitively made it very intense and stressful. In a pleasant way, ofcourse. Looking at the current e-sport scene it might not seem like much but back then it was different.  Shooters these days try to be different, advanced in a way. Sometimes the most simple games like Counter-Strike are the ones that live to this day. Also, there are plenty of mods to keep your attention to this game. The gameplay is very simple - defend as a Counter-Terrorist, attack as a Terrorist to plant the bomb or save the hostages as a CT. I am sure most of you already know this and I doubt there are gamers that haven't heard or know the gameplay of Counter-Strike, so I am sharing here more of my experience.  I wish I could find my CS Anthology account which I've lost since 2008. So, I decided I am going to buy this game again and here you go - more than a thousand hours played. I still play it from time to time to this day and it brings back many great memories and I sometimes even stumble upon people I've played with years ago. I think Counter-Strike changed gaming in a major way and we wouldn't have many games like we have today, if this game wouldn't exist.   I am sure many of people already have played games like CS:GO but never the roots. I doubt any of you will play it for more than an hour, because it's much more simple and it differs a lot in my opinion from CS:GO and modern games. It's harder though.   \n",
              "2                                                                                                                                                                                                                                                                                                                                                                                                                                                                                                                                                                                                                                                                                                                                                                                                                                                                                                                                                                                                                                                                                                                                                                                                                                                                                                                                                                                                                                                                                                                                                                                                                                                                                                                                                                                                                                                                                                                                                                                                                                                                                                                                                                                                                                                                                                                                                                                                                          This game saved my virginity.   \n",
              "3                                                                                                                                                                                                                                                                                                                                                                                                                                                                                                                                                                                                                                                                                                                                                                                                                                                                                                                                                                                                                                                                                                                                                                                                                                                                                                                                                                                                                                                                                                                                                                                                                                                                                                                                                                                                                                                                                                                                                                                                                                                                                                                                                                                                                           • Do you like original games? • Do you like games that don't lag? • Do you like games you can run on low end PC's? • Do you like games where you don't meet children who have slept with your mother?  Then this is for you!   \n",
              "4                                                                                                                                                                                                                                                                                                                                                                                                                                                                                                                                                                                                                                                                                                                                                                                                                                                                                                                                                                                                                                                                                                                                                                                                                                                                                                                                                                                                                                                                                                                                                                                                                                                                                                                                                                                                                                                                                                                                                                                                                                                                                                                                                                                                                                                                                                                                                                                                               Easy to learn, hard to master.             \n",
              "\n",
              "   review_score  review_votes  \n",
              "0             1             0  \n",
              "1             1             1  \n",
              "2             1             0  \n",
              "3             1             0  \n",
              "4             1             1  "
            ]
          },
          "execution_count": 4,
          "metadata": {},
          "output_type": "execute_result"
        }
      ],
      "source": [
        "# Wyświetlenie całej zawartości kolumny\n",
        "pd.set_option('display.max_colwidth', None)\n",
        "\n",
        "# Wczytanie danych\n",
        "reviews_df = pd.read_csv('data/dataset.csv')\n",
        "reviews_df.head()"
      ]
    },
    {
      "cell_type": "code",
      "execution_count": 5,
      "metadata": {},
      "outputs": [
        {
          "data": {
            "text/plain": [
              "review_score\n",
              " 1    5260420\n",
              "-1    1156686\n",
              "Name: count, dtype: int64"
            ]
          },
          "execution_count": 5,
          "metadata": {},
          "output_type": "execute_result"
        }
      ],
      "source": [
        "reviews_df['review_score'].value_counts()"
      ]
    },
    {
      "cell_type": "markdown",
      "metadata": {},
      "source": [
        "Zmiana wartości klasy z *-1* na *0*"
      ]
    },
    {
      "cell_type": "code",
      "execution_count": 6,
      "metadata": {},
      "outputs": [
        {
          "data": {
            "text/html": [
              "<div>\n",
              "<style scoped>\n",
              "    .dataframe tbody tr th:only-of-type {\n",
              "        vertical-align: middle;\n",
              "    }\n",
              "\n",
              "    .dataframe tbody tr th {\n",
              "        vertical-align: top;\n",
              "    }\n",
              "\n",
              "    .dataframe thead th {\n",
              "        text-align: right;\n",
              "    }\n",
              "</style>\n",
              "<table border=\"1\" class=\"dataframe\">\n",
              "  <thead>\n",
              "    <tr style=\"text-align: right;\">\n",
              "      <th></th>\n",
              "      <th>app_id</th>\n",
              "      <th>app_name</th>\n",
              "      <th>review_text</th>\n",
              "      <th>review_score</th>\n",
              "      <th>review_votes</th>\n",
              "    </tr>\n",
              "  </thead>\n",
              "  <tbody>\n",
              "    <tr>\n",
              "      <th>0</th>\n",
              "      <td>10</td>\n",
              "      <td>Counter-Strike</td>\n",
              "      <td>Ruined my life.</td>\n",
              "      <td>1</td>\n",
              "      <td>0</td>\n",
              "    </tr>\n",
              "    <tr>\n",
              "      <th>1</th>\n",
              "      <td>10</td>\n",
              "      <td>Counter-Strike</td>\n",
              "      <td>This will be more of a ''my experience with this game'' type of review, because saying things like ''great gameplay'' will not suit something I've experienced with Counter-Strike. Here you go:  I remember back in 2002 I was at a friend's house and he was playing a game. I didn't know the name of the game nor I had internet to find it. A few weeks passed by and another friend came over. He didn't have a computer, so he brought a disc with a game in it. He told me that it was one of the best games and from that very moment I knew that it is going to be the game I saw at the other friend's house. When I saw the Counter-Strike logo I was filled with gamegasm (?) and I was so happy. I was playing it hardcore. Made friends, clans, was involved in communities and even made two myself. Counter-Strike is my first game which I played competitively and it was a such an experience. Playing public servers with mods were very fun, but playing it competitively made it very intense and stressful. In a pleasant way, ofcourse. Looking at the current e-sport scene it might not seem like much but back then it was different.  Shooters these days try to be different, advanced in a way. Sometimes the most simple games like Counter-Strike are the ones that live to this day. Also, there are plenty of mods to keep your attention to this game. The gameplay is very simple - defend as a Counter-Terrorist, attack as a Terrorist to plant the bomb or save the hostages as a CT. I am sure most of you already know this and I doubt there are gamers that haven't heard or know the gameplay of Counter-Strike, so I am sharing here more of my experience.  I wish I could find my CS Anthology account which I've lost since 2008. So, I decided I am going to buy this game again and here you go - more than a thousand hours played. I still play it from time to time to this day and it brings back many great memories and I sometimes even stumble upon people I've played with years ago. I think Counter-Strike changed gaming in a major way and we wouldn't have many games like we have today, if this game wouldn't exist.   I am sure many of people already have played games like CS:GO but never the roots. I doubt any of you will play it for more than an hour, because it's much more simple and it differs a lot in my opinion from CS:GO and modern games. It's harder though.</td>\n",
              "      <td>1</td>\n",
              "      <td>1</td>\n",
              "    </tr>\n",
              "    <tr>\n",
              "      <th>2</th>\n",
              "      <td>10</td>\n",
              "      <td>Counter-Strike</td>\n",
              "      <td>This game saved my virginity.</td>\n",
              "      <td>1</td>\n",
              "      <td>0</td>\n",
              "    </tr>\n",
              "    <tr>\n",
              "      <th>3</th>\n",
              "      <td>10</td>\n",
              "      <td>Counter-Strike</td>\n",
              "      <td>• Do you like original games? • Do you like games that don't lag? • Do you like games you can run on low end PC's? • Do you like games where you don't meet children who have slept with your mother?  Then this is for you!</td>\n",
              "      <td>1</td>\n",
              "      <td>0</td>\n",
              "    </tr>\n",
              "    <tr>\n",
              "      <th>4</th>\n",
              "      <td>10</td>\n",
              "      <td>Counter-Strike</td>\n",
              "      <td>Easy to learn, hard to master.</td>\n",
              "      <td>1</td>\n",
              "      <td>1</td>\n",
              "    </tr>\n",
              "  </tbody>\n",
              "</table>\n",
              "</div>"
            ],
            "text/plain": [
              "   app_id        app_name  \\\n",
              "0      10  Counter-Strike   \n",
              "1      10  Counter-Strike   \n",
              "2      10  Counter-Strike   \n",
              "3      10  Counter-Strike   \n",
              "4      10  Counter-Strike   \n",
              "\n",
              "                                                                                                                                                                                                                                                                                                                                                                                                                                                                                                                                                                                                                                                                                                                                                                                                                                                                                                                                                                                                                                                                                                                                                                                                                                                                                                                                                                                                                                                                                                                                                                                                                                                                                                                                                                                                                                                                                                                                                                                                                                                                                                                                                                                                                                                                                                                                                                                                                                             review_text  \\\n",
              "0                                                                                                                                                                                                                                                                                                                                                                                                                                                                                                                                                                                                                                                                                                                                                                                                                                                                                                                                                                                                                                                                                                                                                                                                                                                                                                                                                                                                                                                                                                                                                                                                                                                                                                                                                                                                                                                                                                                                                                                                                                                                                                                                                                                                                                                                                                                                                                                                                                        Ruined my life.   \n",
              "1  This will be more of a ''my experience with this game'' type of review, because saying things like ''great gameplay'' will not suit something I've experienced with Counter-Strike. Here you go:  I remember back in 2002 I was at a friend's house and he was playing a game. I didn't know the name of the game nor I had internet to find it. A few weeks passed by and another friend came over. He didn't have a computer, so he brought a disc with a game in it. He told me that it was one of the best games and from that very moment I knew that it is going to be the game I saw at the other friend's house. When I saw the Counter-Strike logo I was filled with gamegasm (?) and I was so happy. I was playing it hardcore. Made friends, clans, was involved in communities and even made two myself. Counter-Strike is my first game which I played competitively and it was a such an experience. Playing public servers with mods were very fun, but playing it competitively made it very intense and stressful. In a pleasant way, ofcourse. Looking at the current e-sport scene it might not seem like much but back then it was different.  Shooters these days try to be different, advanced in a way. Sometimes the most simple games like Counter-Strike are the ones that live to this day. Also, there are plenty of mods to keep your attention to this game. The gameplay is very simple - defend as a Counter-Terrorist, attack as a Terrorist to plant the bomb or save the hostages as a CT. I am sure most of you already know this and I doubt there are gamers that haven't heard or know the gameplay of Counter-Strike, so I am sharing here more of my experience.  I wish I could find my CS Anthology account which I've lost since 2008. So, I decided I am going to buy this game again and here you go - more than a thousand hours played. I still play it from time to time to this day and it brings back many great memories and I sometimes even stumble upon people I've played with years ago. I think Counter-Strike changed gaming in a major way and we wouldn't have many games like we have today, if this game wouldn't exist.   I am sure many of people already have played games like CS:GO but never the roots. I doubt any of you will play it for more than an hour, because it's much more simple and it differs a lot in my opinion from CS:GO and modern games. It's harder though.   \n",
              "2                                                                                                                                                                                                                                                                                                                                                                                                                                                                                                                                                                                                                                                                                                                                                                                                                                                                                                                                                                                                                                                                                                                                                                                                                                                                                                                                                                                                                                                                                                                                                                                                                                                                                                                                                                                                                                                                                                                                                                                                                                                                                                                                                                                                                                                                                                                                                                                                                          This game saved my virginity.   \n",
              "3                                                                                                                                                                                                                                                                                                                                                                                                                                                                                                                                                                                                                                                                                                                                                                                                                                                                                                                                                                                                                                                                                                                                                                                                                                                                                                                                                                                                                                                                                                                                                                                                                                                                                                                                                                                                                                                                                                                                                                                                                                                                                                                                                                                                                           • Do you like original games? • Do you like games that don't lag? • Do you like games you can run on low end PC's? • Do you like games where you don't meet children who have slept with your mother?  Then this is for you!   \n",
              "4                                                                                                                                                                                                                                                                                                                                                                                                                                                                                                                                                                                                                                                                                                                                                                                                                                                                                                                                                                                                                                                                                                                                                                                                                                                                                                                                                                                                                                                                                                                                                                                                                                                                                                                                                                                                                                                                                                                                                                                                                                                                                                                                                                                                                                                                                                                                                                                                               Easy to learn, hard to master.             \n",
              "\n",
              "   review_score  review_votes  \n",
              "0             1             0  \n",
              "1             1             1  \n",
              "2             1             0  \n",
              "3             1             0  \n",
              "4             1             1  "
            ]
          },
          "execution_count": 6,
          "metadata": {},
          "output_type": "execute_result"
        }
      ],
      "source": [
        "reviews_df['review_score'].replace(-1, 0, inplace=True)\n",
        "reviews_df.head()"
      ]
    },
    {
      "cell_type": "code",
      "execution_count": 7,
      "metadata": {},
      "outputs": [
        {
          "data": {
            "text/html": [
              "<div>\n",
              "<style scoped>\n",
              "    .dataframe tbody tr th:only-of-type {\n",
              "        vertical-align: middle;\n",
              "    }\n",
              "\n",
              "    .dataframe tbody tr th {\n",
              "        vertical-align: top;\n",
              "    }\n",
              "\n",
              "    .dataframe thead th {\n",
              "        text-align: right;\n",
              "    }\n",
              "</style>\n",
              "<table border=\"1\" class=\"dataframe\">\n",
              "  <thead>\n",
              "    <tr style=\"text-align: right;\">\n",
              "      <th></th>\n",
              "      <th>app_name</th>\n",
              "      <th>review_text</th>\n",
              "      <th>review_score</th>\n",
              "    </tr>\n",
              "  </thead>\n",
              "  <tbody>\n",
              "    <tr>\n",
              "      <th>5906524</th>\n",
              "      <td>Darksiders</td>\n",
              "      <td>I originally bought and played this game on console, back when it first came out (2010), and bought this one with the 'Darksiders Franchise Pack' that was for $14.99 in May (2014). The game mechanics are pretty decent, although, jumping can feel awkward at times (especially when you get the Wings). Where this game really excels, is in the overall story, dialogue, and music. I can't wait to see if any other games in the series come out (Darksiders II feels the same as this one, but I haven't played much of it...yet).</td>\n",
              "      <td>1</td>\n",
              "    </tr>\n",
              "    <tr>\n",
              "      <th>3406592</th>\n",
              "      <td>Kane &amp; Lynch 2: Dog Days</td>\n",
              "      <td>Just like the first game very short, completed it in less then 4 hours. But despite that fact it was one cool rollercoaster ride! It's almost like playing a action movie!</td>\n",
              "      <td>1</td>\n",
              "    </tr>\n",
              "    <tr>\n",
              "      <th>1846576</th>\n",
              "      <td>The Swapper</td>\n",
              "      <td>a very dramatic, clever and philosophical storyline. clever and fun puzzles. it also makes you think about existentialist concepts while playing, so it is worth your time.</td>\n",
              "      <td>1</td>\n",
              "    </tr>\n",
              "    <tr>\n",
              "      <th>3541215</th>\n",
              "      <td>METAL GEAR SOLID V: THE PHANTOM PAIN</td>\n",
              "      <td>scrape your nutsack over extremely coarse concrete floor for an entire week and smash glass jars into your face until you pass out into a coma and you'll have a better time than you'll have in the multiplayer, as for the singleplayer i'm still waiting for the patch that finishes the story</td>\n",
              "      <td>0</td>\n",
              "    </tr>\n",
              "    <tr>\n",
              "      <th>5689973</th>\n",
              "      <td>Deer Man</td>\n",
              "      <td>I was deeply touched by this game. I was left crying at my desk by this soft, yet emotional experience. I want to see more 'games' like this.  This game is definitly for grown-ups, as it is mostly an emotional experience. I really respect those kind of games and I really want to see more of this kind of games.</td>\n",
              "      <td>1</td>\n",
              "    </tr>\n",
              "    <tr>\n",
              "      <th>5152940</th>\n",
              "      <td>Undertale</td>\n",
              "      <td>This game is my new favorite thing like im really High-Key obsessed with it. The storyline is great, i love how at the end it all fits together perfectly. The sound track is unbelievably good, and the sans fight is awesome! It took me days!!!   ***** Five Stars!</td>\n",
              "      <td>1</td>\n",
              "    </tr>\n",
              "    <tr>\n",
              "      <th>3813996</th>\n",
              "      <td>Robocraft</td>\n",
              "      <td>Early Access Review</td>\n",
              "      <td>1</td>\n",
              "    </tr>\n",
              "    <tr>\n",
              "      <th>4641223</th>\n",
              "      <td>Eron</td>\n",
              "      <td>A Fun and precise game! You need good reflexes and a strong tolerance to faliure, otherwise you're screwed.</td>\n",
              "      <td>1</td>\n",
              "    </tr>\n",
              "    <tr>\n",
              "      <th>3413733</th>\n",
              "      <td>Ubersoldier II</td>\n",
              "      <td>Are you familiar with the term 'so bad it's good'? Like something that is just objectively not well made but is still for some reason incredibly enjoyable? Ubersoldier II is like that. It is so bad, so utterly horrible, so poorly made that it should never be played... but for some reason I loved nearly every second of it.  This game is the 'Sharknado' of video games. It is bad in nearly every aspect but still a fun romp. The voice acting is so bad, the story is almost completely nonsensical, the cutscenes are laughably awful. This being said, everytime there is any kind of story exposition I can't help but crack a smile and just enjoy it. The gunplay itself is pretty bland, not horrible but nothing amazing. You get some special powers that spice things up a little and are really fun the first few times you use them but pretty quickly get stale. The level design is so so so so bad that sometimes when I was playing through the game I would get stuck running around in circles while trying to complete a level and would end up screaming WHY????? when I finally figure out how to progress. But even navigating these bizarre levels was kind of fun in their own way. It was like exploring some kind of weird post modern work of art.  Is this a good game? Hell no. Is this game worth playing? Hell yes. (maybe just get it when it's on sale)</td>\n",
              "      <td>1</td>\n",
              "    </tr>\n",
              "    <tr>\n",
              "      <th>4355196</th>\n",
              "      <td>Medieval Engineers</td>\n",
              "      <td>Early Access Review</td>\n",
              "      <td>1</td>\n",
              "    </tr>\n",
              "    <tr>\n",
              "      <th>4317978</th>\n",
              "      <td>LEGO® Worlds</td>\n",
              "      <td>Early Access Review</td>\n",
              "      <td>1</td>\n",
              "    </tr>\n",
              "    <tr>\n",
              "      <th>716603</th>\n",
              "      <td>Stellar Impact</td>\n",
              "      <td>I\\'ve had it since 2014, only played 13 minutes, can\\'t remember a damn thing about it and now it won\\'t let me reset my password so I can\\'t play.</td>\n",
              "      <td>0</td>\n",
              "    </tr>\n",
              "    <tr>\n",
              "      <th>2833495</th>\n",
              "      <td>Rocket League</td>\n",
              "      <td>A little game with big ambitions that (somewhat rightfully) became something of a sensation. It's good but not THAT great.  GOOD + core gameplay is simple enough that you can pick it up right away, but also has suficient depth to it for you to keep playing and perfecting your skills + excellent production values - music, aesthetics, sound effects, physics, handling, presentation - everything is polished, everything works the way it's supposed to + large, active community - you won't have any trouble finding games or opponents + customization - other than some small differences in hitboxes, the cars are all the same but they can be customized to fit your taste - other than colors, you also have different collectible tyres, hats, antennas and boost trails + constant updates and free content - and the devs don't seem to be stopping the support anytime soon + infinite replayability for a very decent price - you have achievements, you have collectibles, you have seasons and competitive leagues, but ultimately it's a game of virtual football you get to play with RC cars and you can play that until the end of time  BAD - 12 year olds, 12 year olds everywhere... - also rage quitters that leave a 5 min game mid way after trailing behind two goals, or obnoxious teammates that aggravate you if you don't play perfectly - might just not be your thing - first of all it's competitive, second the controls aren't as intuitive as you'd think and third there's an eventual skill threshold in the game (in which you're supposed to learn to do aerials) that some players might find too steep  I've annoyed my fair share of pubescent boys with my inferior hand-eye coordination and lackluster aerial skills, but I've mostly had fun doing it. Everyone else will probably have fun as well.</td>\n",
              "      <td>1</td>\n",
              "    </tr>\n",
              "    <tr>\n",
              "      <th>6175583</th>\n",
              "      <td>Sniper Elite V2</td>\n",
              "      <td>Able to watch the exact moment a German boys hopes and dreams spill on the hot summer sidewalk of Berlin. 10/10</td>\n",
              "      <td>1</td>\n",
              "    </tr>\n",
              "    <tr>\n",
              "      <th>2403314</th>\n",
              "      <td>Banished</td>\n",
              "      <td>Best City builder ever played. Better than SimCity, CivCity or any Caesar. Realistic, challenging and rewarding. Made by one person. Made better by one person than most AAA titles!</td>\n",
              "      <td>1</td>\n",
              "    </tr>\n",
              "    <tr>\n",
              "      <th>2929285</th>\n",
              "      <td>Cities: Skylines</td>\n",
              "      <td>Best City Builder out there. The amount of customisation possible through the workshop are almost unlimited!</td>\n",
              "      <td>1</td>\n",
              "    </tr>\n",
              "    <tr>\n",
              "      <th>3539153</th>\n",
              "      <td>METAL GEAR SOLID V: THE PHANTOM PAIN</td>\n",
              "      <td>Fantastic game, Great Visuals, Great Story, Just an all round great game.</td>\n",
              "      <td>1</td>\n",
              "    </tr>\n",
              "    <tr>\n",
              "      <th>116532</th>\n",
              "      <td>Terraria</td>\n",
              "      <td>Unbelievable amount of content</td>\n",
              "      <td>1</td>\n",
              "    </tr>\n",
              "    <tr>\n",
              "      <th>3649529</th>\n",
              "      <td>The Witcher 3: Wild Hunt</td>\n",
              "      <td>Good Old Fashioned Pancakes  Ingredients:  1 1/2 cups all-purpose flour  3 1/2 teaspoons baking powder  1 teaspoon salt  1 tablespoon white sugar  1 1/4 cups milk  1 egg  3 tablespoons butter, melted  Directions: In a large bowl, sift together the flour, baking powder, salt and sugar. Make a well in the center and pour in the milk, egg and melted butter; mix until smooth. Heat a lightly oiled griddle or frying pan over medium high heat. Pour or scoop the batter onto the griddle, using approximately 1/4 cup for each pancake. Brown on both sides and serve hot.</td>\n",
              "      <td>1</td>\n",
              "    </tr>\n",
              "    <tr>\n",
              "      <th>5127695</th>\n",
              "      <td>Undertale</td>\n",
              "      <td>I bought this game because of all the hype and my friends pursuading me to buy it so i gave it a shot and i gotta say i absolutely love this game it has a great sound track,fights,story and as much as i hate puns there are lots of bone jokes and they're really funny no matter how much i hate them I would rate this game a 9/10</td>\n",
              "      <td>1</td>\n",
              "    </tr>\n",
              "  </tbody>\n",
              "</table>\n",
              "</div>"
            ],
            "text/plain": [
              "                                     app_name  \\\n",
              "5906524                            Darksiders   \n",
              "3406592              Kane & Lynch 2: Dog Days   \n",
              "1846576                           The Swapper   \n",
              "3541215  METAL GEAR SOLID V: THE PHANTOM PAIN   \n",
              "5689973                              Deer Man   \n",
              "5152940                             Undertale   \n",
              "3813996                             Robocraft   \n",
              "4641223                                  Eron   \n",
              "3413733                        Ubersoldier II   \n",
              "4355196                    Medieval Engineers   \n",
              "4317978                          LEGO® Worlds   \n",
              "716603                         Stellar Impact   \n",
              "2833495                         Rocket League   \n",
              "6175583                       Sniper Elite V2   \n",
              "2403314                              Banished   \n",
              "2929285                      Cities: Skylines   \n",
              "3539153  METAL GEAR SOLID V: THE PHANTOM PAIN   \n",
              "116532                               Terraria   \n",
              "3649529              The Witcher 3: Wild Hunt   \n",
              "5127695                             Undertale   \n",
              "\n",
              "                                                                                                                                                                                                                                                                                                                                                                                                                                                                                                                                                                                                                                                                                                                                                                                                                                                                                                                                                                                                                                                                                                                                                                                                                                                                                                                                                                                                                                                                                                                                                                                                                                                                                                                                                                                                                                                           review_text  \\\n",
              "5906524                                                                                                                                                                                                                                                                                                                                                                                                                                                                                                                                                                                                                                                                                                                                                                                                                                                                                                                                                                                                                                                                                                                                                                                                                                                                                                                      I originally bought and played this game on console, back when it first came out (2010), and bought this one with the 'Darksiders Franchise Pack' that was for $14.99 in May (2014). The game mechanics are pretty decent, although, jumping can feel awkward at times (especially when you get the Wings). Where this game really excels, is in the overall story, dialogue, and music. I can't wait to see if any other games in the series come out (Darksiders II feels the same as this one, but I haven't played much of it...yet).   \n",
              "3406592                                                                                                                                                                                                                                                                                                                                                                                                                                                                                                                                                                                                                                                                                                                                                                                                                                                                                                                                                                                                                                                                                                                                                                                                                                                                                                                                                                                                                                                                                                                                                                                                                                                                                     Just like the first game very short, completed it in less then 4 hours. But despite that fact it was one cool rollercoaster ride! It's almost like playing a action movie!   \n",
              "1846576                                                                                                                                                                                                                                                                                                                                                                                                                                                                                                                                                                                                                                                                                                                                                                                                                                                                                                                                                                                                                                                                                                                                                                                                                                                                                                                                                                                                                                                                                                                                                                                                                                                                                    a very dramatic, clever and philosophical storyline. clever and fun puzzles. it also makes you think about existentialist concepts while playing, so it is worth your time.   \n",
              "3541215                                                                                                                                                                                                                                                                                                                                                                                                                                                                                                                                                                                                                                                                                                                                                                                                                                                                                                                                                                                                                                                                                                                                                                                                                                                                                                                                                                                                                                                                                                                                                              scrape your nutsack over extremely coarse concrete floor for an entire week and smash glass jars into your face until you pass out into a coma and you'll have a better time than you'll have in the multiplayer, as for the singleplayer i'm still waiting for the patch that finishes the story   \n",
              "5689973                                                                                                                                                                                                                                                                                                                                                                                                                                                                                                                                                                                                                                                                                                                                                                                                                                                                                                                                                                                                                                                                                                                                                                                                                                                                                                                                                                                                                                                                                                                                        I was deeply touched by this game. I was left crying at my desk by this soft, yet emotional experience. I want to see more 'games' like this.  This game is definitly for grown-ups, as it is mostly an emotional experience. I really respect those kind of games and I really want to see more of this kind of games.   \n",
              "5152940                                                                                                                                                                                                                                                                                                                                                                                                                                                                                                                                                                                                                                                                                                                                                                                                                                                                                                                                                                                                                                                                                                                                                                                                                                                                                                                                                                                                                                                                                                                                                                                         This game is my new favorite thing like im really High-Key obsessed with it. The storyline is great, i love how at the end it all fits together perfectly. The sound track is unbelievably good, and the sans fight is awesome! It took me days!!!   ***** Five Stars!   \n",
              "3813996                                                                                                                                                                                                                                                                                                                                                                                                                                                                                                                                                                                                                                                                                                                                                                                                                                                                                                                                                                                                                                                                                                                                                                                                                                                                                                                                                                                                                                                                                                                                                                                                                                                                                                                                                                                                                                            Early Access Review   \n",
              "4641223                                                                                                                                                                                                                                                                                                                                                                                                                                                                                                                                                                                                                                                                                                                                                                                                                                                                                                                                                                                                                                                                                                                                                                                                                                                                                                                                                                                                                                                                                                                                                                                                                                                                                                                                                    A Fun and precise game! You need good reflexes and a strong tolerance to faliure, otherwise you're screwed.   \n",
              "3413733                                                                                                                                                                                                                                                                                                                                                                                                                                                            Are you familiar with the term 'so bad it's good'? Like something that is just objectively not well made but is still for some reason incredibly enjoyable? Ubersoldier II is like that. It is so bad, so utterly horrible, so poorly made that it should never be played... but for some reason I loved nearly every second of it.  This game is the 'Sharknado' of video games. It is bad in nearly every aspect but still a fun romp. The voice acting is so bad, the story is almost completely nonsensical, the cutscenes are laughably awful. This being said, everytime there is any kind of story exposition I can't help but crack a smile and just enjoy it. The gunplay itself is pretty bland, not horrible but nothing amazing. You get some special powers that spice things up a little and are really fun the first few times you use them but pretty quickly get stale. The level design is so so so so bad that sometimes when I was playing through the game I would get stuck running around in circles while trying to complete a level and would end up screaming WHY????? when I finally figure out how to progress. But even navigating these bizarre levels was kind of fun in their own way. It was like exploring some kind of weird post modern work of art.  Is this a good game? Hell no. Is this game worth playing? Hell yes. (maybe just get it when it's on sale)   \n",
              "4355196                                                                                                                                                                                                                                                                                                                                                                                                                                                                                                                                                                                                                                                                                                                                                                                                                                                                                                                                                                                                                                                                                                                                                                                                                                                                                                                                                                                                                                                                                                                                                                                                                                                                                                                                                                                                                                            Early Access Review   \n",
              "4317978                                                                                                                                                                                                                                                                                                                                                                                                                                                                                                                                                                                                                                                                                                                                                                                                                                                                                                                                                                                                                                                                                                                                                                                                                                                                                                                                                                                                                                                                                                                                                                                                                                                                                                                                                                                                                                            Early Access Review   \n",
              "716603                                                                                                                                                                                                                                                                                                                                                                                                                                                                                                                                                                                                                                                                                                                                                                                                                                                                                                                                                                                                                                                                                                                                                                                                                                                                                                                                                                                                                                                                                                                                                                                                                                                                                                             I\\'ve had it since 2014, only played 13 minutes, can\\'t remember a damn thing about it and now it won\\'t let me reset my password so I can\\'t play.   \n",
              "2833495  A little game with big ambitions that (somewhat rightfully) became something of a sensation. It's good but not THAT great.  GOOD + core gameplay is simple enough that you can pick it up right away, but also has suficient depth to it for you to keep playing and perfecting your skills + excellent production values - music, aesthetics, sound effects, physics, handling, presentation - everything is polished, everything works the way it's supposed to + large, active community - you won't have any trouble finding games or opponents + customization - other than some small differences in hitboxes, the cars are all the same but they can be customized to fit your taste - other than colors, you also have different collectible tyres, hats, antennas and boost trails + constant updates and free content - and the devs don't seem to be stopping the support anytime soon + infinite replayability for a very decent price - you have achievements, you have collectibles, you have seasons and competitive leagues, but ultimately it's a game of virtual football you get to play with RC cars and you can play that until the end of time  BAD - 12 year olds, 12 year olds everywhere... - also rage quitters that leave a 5 min game mid way after trailing behind two goals, or obnoxious teammates that aggravate you if you don't play perfectly - might just not be your thing - first of all it's competitive, second the controls aren't as intuitive as you'd think and third there's an eventual skill threshold in the game (in which you're supposed to learn to do aerials) that some players might find too steep  I've annoyed my fair share of pubescent boys with my inferior hand-eye coordination and lackluster aerial skills, but I've mostly had fun doing it. Everyone else will probably have fun as well.   \n",
              "6175583                                                                                                                                                                                                                                                                                                                                                                                                                                                                                                                                                                                                                                                                                                                                                                                                                                                                                                                                                                                                                                                                                                                                                                                                                                                                                                                                                                                                                                                                                                                                                                                                                                                                                                                                                Able to watch the exact moment a German boys hopes and dreams spill on the hot summer sidewalk of Berlin. 10/10   \n",
              "2403314                                                                                                                                                                                                                                                                                                                                                                                                                                                                                                                                                                                                                                                                                                                                                                                                                                                                                                                                                                                                                                                                                                                                                                                                                                                                                                                                                                                                                                                                                                                                                                                                                                                                           Best City builder ever played. Better than SimCity, CivCity or any Caesar. Realistic, challenging and rewarding. Made by one person. Made better by one person than most AAA titles!   \n",
              "2929285                                                                                                                                                                                                                                                                                                                                                                                                                                                                                                                                                                                                                                                                                                                                                                                                                                                                                                                                                                                                                                                                                                                                                                                                                                                                                                                                                                                                                                                                                                                                                                                                                                                                                                                                                   Best City Builder out there. The amount of customisation possible through the workshop are almost unlimited!   \n",
              "3539153                                                                                                                                                                                                                                                                                                                                                                                                                                                                                                                                                                                                                                                                                                                                                                                                                                                                                                                                                                                                                                                                                                                                                                                                                                                                                                                                                                                                                                                                                                                                                                                                                                                                                                                                                                                      Fantastic game, Great Visuals, Great Story, Just an all round great game.   \n",
              "116532                                                                                                                                                                                                                                                                                                                                                                                                                                                                                                                                                                                                                                                                                                                                                                                                                                                                                                                                                                                                                                                                                                                                                                                                                                                                                                                                                                                                                                                                                                                                                                                                                                                                                                                                                                                                                                  Unbelievable amount of content   \n",
              "3649529                                                                                                                                                                                                                                                                                                                                                                                                                                                                                                                                                                                                                                                                                                                                                                                                                                                                                                                                                                                                                                                                                                                                                                                                                                                                           Good Old Fashioned Pancakes  Ingredients:  1 1/2 cups all-purpose flour  3 1/2 teaspoons baking powder  1 teaspoon salt  1 tablespoon white sugar  1 1/4 cups milk  1 egg  3 tablespoons butter, melted  Directions: In a large bowl, sift together the flour, baking powder, salt and sugar. Make a well in the center and pour in the milk, egg and melted butter; mix until smooth. Heat a lightly oiled griddle or frying pan over medium high heat. Pour or scoop the batter onto the griddle, using approximately 1/4 cup for each pancake. Brown on both sides and serve hot.   \n",
              "5127695                                                                                                                                                                                                                                                                                                                                                                                                                                                                                                                                                                                                                                                                                                                                                                                                                                                                                                                                                                                                                                                                                                                                                                                                                                                                                                                                                                                                                                                                                                                        I bought this game because of all the hype and my friends pursuading me to buy it so i gave it a shot and i gotta say i absolutely love this game it has a great sound track,fights,story and as much as i hate puns there are lots of bone jokes and they're really funny no matter how much i hate them I would rate this game a 9/10   \n",
              "\n",
              "         review_score  \n",
              "5906524             1  \n",
              "3406592             1  \n",
              "1846576             1  \n",
              "3541215             0  \n",
              "5689973             1  \n",
              "5152940             1  \n",
              "3813996             1  \n",
              "4641223             1  \n",
              "3413733             1  \n",
              "4355196             1  \n",
              "4317978             1  \n",
              "716603              0  \n",
              "2833495             1  \n",
              "6175583             1  \n",
              "2403314             1  \n",
              "2929285             1  \n",
              "3539153             1  \n",
              "116532              1  \n",
              "3649529             1  \n",
              "5127695             1  "
            ]
          },
          "execution_count": 7,
          "metadata": {},
          "output_type": "execute_result"
        }
      ],
      "source": [
        "reviews_df[['app_name', 'review_text', 'review_score']].sample(20)"
      ]
    },
    {
      "cell_type": "code",
      "execution_count": 8,
      "metadata": {},
      "outputs": [
        {
          "data": {
            "image/png": "[encoded data removed]",
            "text/plain": [
              "<Figure size 1000x500 with 2 Axes>"
            ]
          },
          "metadata": {},
          "output_type": "display_data"
        }
      ],
      "source": [
        "color_dict = {0: \"red\", 1: \"green\"}\n",
        "\n",
        "fig, axs = plt.subplots(1, 2, figsize=(10, 5))\n",
        "\n",
        "sns.countplot(x='review_score', data=reviews_df, hue='review_score', palette=[color_dict[0], color_dict[1]], ax=axs[0])\n",
        "reviews_df['review_score'].value_counts().plot.pie(autopct='%1.1f%%', colors=[color_dict[1], color_dict[0]], ax=axs[1])\n",
        "fig.suptitle('Users Recommendations')\n",
        "plt.tight_layout()"
      ]
    },
    {
      "cell_type": "code",
      "execution_count": 9,
      "metadata": {},
      "outputs": [
        {
          "data": {
            "text/html": [
              "<div>\n",
              "<style scoped>\n",
              "    .dataframe tbody tr th:only-of-type {\n",
              "        vertical-align: middle;\n",
              "    }\n",
              "\n",
              "    .dataframe tbody tr th {\n",
              "        vertical-align: top;\n",
              "    }\n",
              "\n",
              "    .dataframe thead th {\n",
              "        text-align: right;\n",
              "    }\n",
              "</style>\n",
              "<table border=\"1\" class=\"dataframe\">\n",
              "  <thead>\n",
              "    <tr style=\"text-align: right;\">\n",
              "      <th></th>\n",
              "      <th>app_id</th>\n",
              "      <th>app_name</th>\n",
              "      <th>review_text</th>\n",
              "      <th>review_score</th>\n",
              "      <th>review_votes</th>\n",
              "    </tr>\n",
              "  </thead>\n",
              "  <tbody>\n",
              "    <tr>\n",
              "      <th>0</th>\n",
              "      <td>10</td>\n",
              "      <td>Counter-Strike</td>\n",
              "      <td>This will be more of a ''my experience with this game'' type of review, because saying things like ''great gameplay'' will not suit something I've experienced with Counter-Strike. Here you go:  I remember back in 2002 I was at a friend's house and he was playing a game. I didn't know the name of the game nor I had internet to find it. A few weeks passed by and another friend came over. He didn't have a computer, so he brought a disc with a game in it. He told me that it was one of the best games and from that very moment I knew that it is going to be the game I saw at the other friend's house. When I saw the Counter-Strike logo I was filled with gamegasm (?) and I was so happy. I was playing it hardcore. Made friends, clans, was involved in communities and even made two myself. Counter-Strike is my first game which I played competitively and it was a such an experience. Playing public servers with mods were very fun, but playing it competitively made it very intense and stressful. In a pleasant way, ofcourse. Looking at the current e-sport scene it might not seem like much but back then it was different.  Shooters these days try to be different, advanced in a way. Sometimes the most simple games like Counter-Strike are the ones that live to this day. Also, there are plenty of mods to keep your attention to this game. The gameplay is very simple - defend as a Counter-Terrorist, attack as a Terrorist to plant the bomb or save the hostages as a CT. I am sure most of you already know this and I doubt there are gamers that haven't heard or know the gameplay of Counter-Strike, so I am sharing here more of my experience.  I wish I could find my CS Anthology account which I've lost since 2008. So, I decided I am going to buy this game again and here you go - more than a thousand hours played. I still play it from time to time to this day and it brings back many great memories and I sometimes even stumble upon people I've played with years ago. I think Counter-Strike changed gaming in a major way and we wouldn't have many games like we have today, if this game wouldn't exist.   I am sure many of people already have played games like CS:GO but never the roots. I doubt any of you will play it for more than an hour, because it's much more simple and it differs a lot in my opinion from CS:GO and modern games. It's harder though.</td>\n",
              "      <td>1</td>\n",
              "      <td>1</td>\n",
              "    </tr>\n",
              "    <tr>\n",
              "      <th>1</th>\n",
              "      <td>10</td>\n",
              "      <td>Counter-Strike</td>\n",
              "      <td>Easy to learn, hard to master.</td>\n",
              "      <td>1</td>\n",
              "      <td>1</td>\n",
              "    </tr>\n",
              "    <tr>\n",
              "      <th>2</th>\n",
              "      <td>10</td>\n",
              "      <td>Counter-Strike</td>\n",
              "      <td>No r8 revolver, 10/10 will play again.</td>\n",
              "      <td>1</td>\n",
              "      <td>1</td>\n",
              "    </tr>\n",
              "    <tr>\n",
              "      <th>3</th>\n",
              "      <td>10</td>\n",
              "      <td>Counter-Strike</td>\n",
              "      <td>Still better than Call of Duty: Ghosts...</td>\n",
              "      <td>1</td>\n",
              "      <td>1</td>\n",
              "    </tr>\n",
              "    <tr>\n",
              "      <th>4</th>\n",
              "      <td>10</td>\n",
              "      <td>Counter-Strike</td>\n",
              "      <td>cant buy skins, cases, keys, stickers - gaben cant steal our money 10/10 would play again</td>\n",
              "      <td>1</td>\n",
              "      <td>1</td>\n",
              "    </tr>\n",
              "  </tbody>\n",
              "</table>\n",
              "</div>"
            ],
            "text/plain": [
              "   app_id        app_name  \\\n",
              "0      10  Counter-Strike   \n",
              "1      10  Counter-Strike   \n",
              "2      10  Counter-Strike   \n",
              "3      10  Counter-Strike   \n",
              "4      10  Counter-Strike   \n",
              "\n",
              "                                                                                                                                                                                                                                                                                                                                                                                                                                                                                                                                                                                                                                                                                                                                                                                                                                                                                                                                                                                                                                                                                                                                                                                                                                                                                                                                                                                                                                                                                                                                                                                                                                                                                                                                                                                                                                                                                                                                                                                                                                                                                                                                                                                                                                                                                                                                                                                                                                             review_text  \\\n",
              "0  This will be more of a ''my experience with this game'' type of review, because saying things like ''great gameplay'' will not suit something I've experienced with Counter-Strike. Here you go:  I remember back in 2002 I was at a friend's house and he was playing a game. I didn't know the name of the game nor I had internet to find it. A few weeks passed by and another friend came over. He didn't have a computer, so he brought a disc with a game in it. He told me that it was one of the best games and from that very moment I knew that it is going to be the game I saw at the other friend's house. When I saw the Counter-Strike logo I was filled with gamegasm (?) and I was so happy. I was playing it hardcore. Made friends, clans, was involved in communities and even made two myself. Counter-Strike is my first game which I played competitively and it was a such an experience. Playing public servers with mods were very fun, but playing it competitively made it very intense and stressful. In a pleasant way, ofcourse. Looking at the current e-sport scene it might not seem like much but back then it was different.  Shooters these days try to be different, advanced in a way. Sometimes the most simple games like Counter-Strike are the ones that live to this day. Also, there are plenty of mods to keep your attention to this game. The gameplay is very simple - defend as a Counter-Terrorist, attack as a Terrorist to plant the bomb or save the hostages as a CT. I am sure most of you already know this and I doubt there are gamers that haven't heard or know the gameplay of Counter-Strike, so I am sharing here more of my experience.  I wish I could find my CS Anthology account which I've lost since 2008. So, I decided I am going to buy this game again and here you go - more than a thousand hours played. I still play it from time to time to this day and it brings back many great memories and I sometimes even stumble upon people I've played with years ago. I think Counter-Strike changed gaming in a major way and we wouldn't have many games like we have today, if this game wouldn't exist.   I am sure many of people already have played games like CS:GO but never the roots. I doubt any of you will play it for more than an hour, because it's much more simple and it differs a lot in my opinion from CS:GO and modern games. It's harder though.   \n",
              "1                                                                                                                                                                                                                                                                                                                                                                                                                                                                                                                                                                                                                                                                                                                                                                                                                                                                                                                                                                                                                                                                                                                                                                                                                                                                                                                                                                                                                                                                                                                                                                                                                                                                                                                                                                                                                                                                                                                                                                                                                                                                                                                                                                                                                                                                                                                                                                                                                         Easy to learn, hard to master.   \n",
              "2                                                                                                                                                                                                                                                                                                                                                                                                                                                                                                                                                                                                                                                                                                                                                                                                                                                                                                                                                                                                                                                                                                                                                                                                                                                                                                                                                                                                                                                                                                                                                                                                                                                                                                                                                                                                                                                                                                                                                                                                                                                                                                                                                                                                                                                                                                                                                                                                                 No r8 revolver, 10/10 will play again.   \n",
              "3                                                                                                                                                                                                                                                                                                                                                                                                                                                                                                                                                                                                                                                                                                                                                                                                                                                                                                                                                                                                                                                                                                                                                                                                                                                                                                                                                                                                                                                                                                                                                                                                                                                                                                                                                                                                                                                                                                                                                                                                                                                                                                                                                                                                                                                                                                                                                                                                              Still better than Call of Duty: Ghosts...   \n",
              "4                                                                                                                                                                                                                                                                                                                                                                                                                                                                                                                                                                                                                                                                                                                                                                                                                                                                                                                                                                                                                                                                                                                                                                                                                                                                                                                                                                                                                                                                                                                                                                                                                                                                                                                                                                                                                                                                                                                                                                                                                                                                                                                                                                                                                                                                                                                                                              cant buy skins, cases, keys, stickers - gaben cant steal our money 10/10 would play again   \n",
              "\n",
              "   review_score  review_votes  \n",
              "0             1             1  \n",
              "1             1             1  \n",
              "2             1             1  \n",
              "3             1             1  \n",
              "4             1             1  "
            ]
          },
          "execution_count": 9,
          "metadata": {},
          "output_type": "execute_result"
        }
      ],
      "source": [
        "reviews_df['review_text'] = reviews_df['review_text'].str.strip()\n",
        "reviews_df = reviews_df[(reviews_df['review_text'] != 'Early Access Review') & (reviews_df['review_votes'] != 0)]\n",
        "reviews_df.reset_index(drop=True, inplace=True)\n",
        "reviews_df.head()\n"
      ]
    },
    {
      "cell_type": "code",
      "execution_count": 10,
      "metadata": {},
      "outputs": [
        {
          "data": {
            "text/plain": [
              "review_score\n",
              "1    545897\n",
              "0    222160\n",
              "Name: count, dtype: int64"
            ]
          },
          "execution_count": 10,
          "metadata": {},
          "output_type": "execute_result"
        }
      ],
      "source": [
        "reviews_df['review_score'].value_counts()"
      ]
    },
    {
      "cell_type": "code",
      "execution_count": 11,
      "metadata": {},
      "outputs": [
        {
          "data": {
            "image/png": "[encoded data removed]",
            "text/plain": [
              "<Figure size 1000x500 with 2 Axes>"
            ]
          },
          "metadata": {},
          "output_type": "display_data"
        }
      ],
      "source": [
        "color_dict = {0: \"red\", 1: \"green\"}\n",
        "\n",
        "fig, axs = plt.subplots(1, 2, figsize=(10, 5))\n",
        "\n",
        "sns.countplot(x='review_score', data=reviews_df, hue='review_score', palette=[color_dict[0], color_dict[1]], ax=axs[0])\n",
        "reviews_df['review_score'].value_counts().plot.pie(autopct='%1.1f%%', colors=[color_dict[1], color_dict[0]], ax=axs[1])\n",
        "fig.suptitle('Users Recommendations')\n",
        "plt.tight_layout()"
      ]
    },
    {
      "cell_type": "markdown",
      "metadata": {},
      "source": [
        "Po usunięciu tekstów z samym 'Early Access Review' oraz recenzji źle ocenionych przez pozostałych użytkowników (review_votes = 0) klasy dla wystawionych ocen wciąż są mocno niezbalansowane.\n",
        "\n",
        "W związku z tym, że po wstępnej filtracji wciąż mamy bardzo dużo danych (ponad 750 000 rekordów), klasy zbalansujemy poprzez usunięcie losowych przykładów pozytywnych ocen tak, aby było ich tyle samo,\n",
        "co recenzji negatywnych."
      ]
    },
    {
      "cell_type": "code",
      "execution_count": 12,
      "metadata": {},
      "outputs": [
        {
          "data": {
            "text/plain": [
              "review_score\n",
              "1    222160\n",
              "0    222160\n",
              "Name: count, dtype: int64"
            ]
          },
          "execution_count": 12,
          "metadata": {},
          "output_type": "execute_result"
        }
      ],
      "source": [
        "from sklearn.utils import resample\n",
        "\n",
        "reviews_1 = reviews_df[reviews_df.review_score == 1]\n",
        "reviews_0 = reviews_df[reviews_df.review_score == 0]\n",
        "\n",
        "reviews_1_us = resample(reviews_1, \n",
        "                        replace=False, \n",
        "                        n_samples=len(reviews_0),\n",
        "                        random_state=42)\n",
        " \n",
        "\n",
        "reviews_df_balanced = pd.concat([reviews_1_us, reviews_0])\n",
        "\n",
        "reviews_df_balanced['review_score'].value_counts()\n"
      ]
    },
    {
      "cell_type": "code",
      "execution_count": 15,
      "metadata": {},
      "outputs": [
        {
          "data": {
            "image/png": "[encoded data removed]",
            "text/plain": [
              "<Figure size 1000x500 with 2 Axes>"
            ]
          },
          "metadata": {},
          "output_type": "display_data"
        }
      ],
      "source": [
        "color_dict = {0: \"red\", 1: \"green\"}\n",
        "\n",
        "fig, axs = plt.subplots(1, 2, figsize=(10, 5))\n",
        "\n",
        "sns.countplot(x='review_score', data=reviews_df_balanced, hue='review_score', palette=[color_dict[0], color_dict[1]], ax=axs[0])\n",
        "reviews_df_balanced['review_score'].value_counts().plot.pie(autopct='%1.1f%%', colors=[color_dict[1], color_dict[0]], ax=axs[1])\n",
        "fig.suptitle('Users Recommendations')\n",
        "plt.tight_layout()"
      ]
    },
    {
      "cell_type": "code",
      "execution_count": 13,
      "metadata": {},
      "outputs": [
        {
          "data": {
            "text/html": [
              "<div>\n",
              "<style scoped>\n",
              "    .dataframe tbody tr th:only-of-type {\n",
              "        vertical-align: middle;\n",
              "    }\n",
              "\n",
              "    .dataframe tbody tr th {\n",
              "        vertical-align: top;\n",
              "    }\n",
              "\n",
              "    .dataframe thead th {\n",
              "        text-align: right;\n",
              "    }\n",
              "</style>\n",
              "<table border=\"1\" class=\"dataframe\">\n",
              "  <thead>\n",
              "    <tr style=\"text-align: right;\">\n",
              "      <th></th>\n",
              "      <th>app_id</th>\n",
              "      <th>app_name</th>\n",
              "      <th>review_text</th>\n",
              "      <th>review_score</th>\n",
              "      <th>review_votes</th>\n",
              "    </tr>\n",
              "  </thead>\n",
              "  <tbody>\n",
              "    <tr>\n",
              "      <th>0</th>\n",
              "      <td>218620</td>\n",
              "      <td>PAYDAY 2</td>\n",
              "      <td>This game is very very very very very very very very very very very very very very very very very very very very very very very very very very very very very very very very very very very very very very very very very very very very very very very very very very very very very very very very very very very very very very very very very very very very very very very very very very very very very very very very very very very very very very very very very very very very very very very very very very very very very very very very very very very very very very very very very very very very very very very very very very very very very very very very very very very very very very very very very very very very very very very very very very very very very very very very very very very very very very very very very very very very very very very very very very very very very very very very very very very very very very very very very very very very very very very very very very very very very very very very very very very very very very very very very very very very very very very very very very very very very very very very very very very very very very very very very very very very very very very very very very very very very very very very very very very very very very very very very very very very very very very very very very very very very very very very very very very very very very very very very very very very very very very very very very very very very very very very very very very very very very very very very very very very very very very very very very very very very very very very very very very very very very very very very very very very very very very very very very very very very very very very very very very very very very very very very very very very very very very very very very very very very very very very very very very very very very very very very very very very very very very very very very very very very very very very very very very very very very very very very very very very very very very very very very very very very very very very very very very very very very very very very very very very very very very very very very very very very very very very very very very very very very very very very very very very very very very very very very very very very very very very very very very very very very very very very very very very very very very very very very very very very very very very very very very very very very very very very very very very very very very very very very very very very very very very very very very very very very very very very very very very very very very very very very very very very very very very very very very very very very very very very very very very very very very very very very very very very very very very very very very very very very very very very very very very very very very very very very very very very very very very very very very very very very very very very very very very very very very very very very very very very very very very very very very very very very very very very very very very very very very very very very very very very very very very very very very very very very very very very very very very very very very very very very very very very very very very very very very very very very very very very very very very very very very very very very very very very very very very very very very very very very very very very very very very very very very very very very very very very very very very very very very very very very very very very very very very very very very very very very very very very very very very very very very very very very very very very very very very very very very very very very very very very very very very very very very very very very very very very very very very very very very very very very very very very very very very very very very very very very very very very very very very very very very very very very very very very very very very very very very very very very very very very very very very very very very very very very very very very very very very very very very very very very very very very very very very very very very very very very very very very very very very very very very very very very very very very very very very very very very very very very very very very very very very very very very very very very very very very very very very very very very very very very very very very very very very very very very very very very very very very very very very very very very very very very very very very very very very very very very very very very very very very very very very very very very very very very very very very very very very very very very very very very very very very very very very very very very very very very very very very very very very very very very very very very very very very very very very very very very very very very very very very very very very very very very very very very very very very very very very very very very very very very very very very very very very very very very very very very very very very very very very very very very very very very very very very very very very very very very very very very very very very very very very very very very very very very very very very very very very very very very very very very very very very very very very very very very very very very very very very very very very very very very very very very very very very very very very very very very very very very very very very very very very very very very very very very very very very very very very very very very very very very very very very very very very very very very very very very very very very very very very very very very very very very very very very very very very very very very very very very very very very very very very very very very very very very very very very very very very very very very very very very very very very very very very very very very very very very very very very very very very very very very very very very very very very very very very very very very very very very very very very very very very very very very very very very very very very very very very very very very very very very very very very very very very very very very very very very very very very very very very very very very very very very very very very very very very very very very very very very very very very very very very very very very very very very very very very very very very very very very very very very very very very very very very very very very very very very very very very very very very very very very very very very very very very very very very very very very very very very very very very very very very very very very very very very very very very very very very very very very very very very very very very very very very very very very very very very very very very very very very very very very very very very very very very very very very very very very very very very very very very very very very very very very very very very very very very very very very very very very very very very very very very very very very very very very very very very very very very very very very very very very very very very very very very very very very very very very very very very very very very very good</td>\n",
              "      <td>1</td>\n",
              "      <td>1</td>\n",
              "    </tr>\n",
              "    <tr>\n",
              "      <th>1</th>\n",
              "      <td>248570</td>\n",
              "      <td>Toribash</td>\n",
              "      <td>to fight a pro i used a generic noob move lunge thing     i shredded him to bits and won~!</td>\n",
              "      <td>1</td>\n",
              "      <td>1</td>\n",
              "    </tr>\n",
              "    <tr>\n",
              "      <th>2</th>\n",
              "      <td>426790</td>\n",
              "      <td>Grow Up</td>\n",
              "      <td>Grow Up is everything that I wanted in a sequel to Grow Home.  The positives: + More collectibles + Challenges + More costumes + Huge world to explore with multiple biomes, new plants, and animals + Mobility options are built into BUD instead of being plant based (i.e. Glider and Air Break instead of Flower and Leaf) + Additional character in POD, who can help you find things on the map  The negative: - BUD can be difficult to handle in challenges as you have to be more precise with his movements during a limited amount of time  Other than the one negative, Ubisoft Reflections has made a perfect sequel to the first game and they should be very proud of their work!</td>\n",
              "      <td>1</td>\n",
              "      <td>1</td>\n",
              "    </tr>\n",
              "    <tr>\n",
              "      <th>3</th>\n",
              "      <td>238460</td>\n",
              "      <td>BattleBlock Theater</td>\n",
              "      <td>Hmmm... How to say this... A stupid game with funny man making jokes while telling the story &amp;amp; surprisingly addictive fun no matter play by yourself or co-op with your friends. 9/10</td>\n",
              "      <td>1</td>\n",
              "      <td>1</td>\n",
              "    </tr>\n",
              "    <tr>\n",
              "      <th>4</th>\n",
              "      <td>248820</td>\n",
              "      <td>Risk of Rain</td>\n",
              "      <td>really hard really good (i like it like that). #betterthannuclearthronexddd</td>\n",
              "      <td>1</td>\n",
              "      <td>1</td>\n",
              "    </tr>\n",
              "  </tbody>\n",
              "</table>\n",
              "</div>"
            ],
            "text/plain": [
              "   app_id             app_name  \\\n",
              "0  218620             PAYDAY 2   \n",
              "1  248570             Toribash   \n",
              "2  426790              Grow Up   \n",
              "3  238460  BattleBlock Theater   \n",
              "4  248820         Risk of Rain   \n",
              "\n",
              "                                                                                                                                                                                                                                                                                                                                                                                                                                                                                                                                                                                                                                                                                                                                                                                                                                                                                                                                                                                                                                                                                                                                                                                                                                                                                                                                                                                                                                                                                                                                                                                                                                                                                                                                                                                                                                                                                                                                                                                                                                                                                                                                                                                                                                                                                                                                                                                                                                                                                                                                                                                                                                                                                                                                                                                                                                                                                                                                                                                                                                                                                                                                                                                                                                                                                                                                                                                                                                                                                                                                                                                                                                                                                                                                                                                                                                                                                                                                                                                                                                                                                                                                                                                                                                                                                                                                                                                                                                                                                                                                                                                                                                                                                                                                                                                                                                                                                                                                                                                                                                                                                                                                                                                                                                                                                                                                                                                                                                                                                                                                                                                                                                                                                                                                                                                                                                                                                                                                                                                                                                                                                                                                                                                                                                                                                                                                                                                                                                                                                                                                                                                                                                                                                                                                                                                                                                                                                                                                                                                                                                                                                                                                                                                                                                                                                                                                                                                                                                                                                                                                                                                                                                                               review_text  \\\n",
              "0  This game is very very very very very very very very very very very very very very very very very very very very very very very very very very very very very very very very very very very very very very very very very very very very very very very very very very very very very very very very very very very very very very very very very very very very very very very very very very very very very very very very very very very very very very very very very very very very very very very very very very very very very very very very very very very very very very very very very very very very very very very very very very very very very very very very very very very very very very very very very very very very very very very very very very very very very very very very very very very very very very very very very very very very very very very very very very very very very very very very very very very very very very very very very very very very very very very very very very very very very very very very very very very very very very very very very very very very very very very very very very very very very very very very very very very very very very very very very very very very very very very very very very very very very very very very very very very very very very very very very very very very very very very very very very very very very very very very very very very very very very very very very very very very very very very very very very very very very very very very very very very very very very very very very very very very very very very very very very very very very very very very very very very very very very very very very very very very very very very very very very very very very very very very very very very very very very very very very very very very very very very very very very very very very very very very very very very very very very very very very very very very very very very very very very very very very very very very very very very very very very very very very very very very very very very very very very very very very very very very very very very very very very very very very very very very very very very very very very very very very very very very very very very very very very very very very very very very very very very very very very very very very very very very very very very very very very very very very very very very very very very very very very very very very very very very very very very very very very very very very very very very very very very very very very very very very very very very very very very very very very very very very very very very very very very very very very very very very very very very very very very very very very very very very very very very very very very very very very very very very very very very very very very very very very very very very very very very very very very very very very very very very very very very very very very very very very very very very very very very very very very very very very very very very very very very very very very very very very very very very very very very very very very very very very very very very very very very very very very very very very very very very very very very very very very very very very very very very very very very very very very very very very very very very very very very very very very very very very very very very very very very very very very very very very very very very very very very very very very very very very very very very very very very very very very very very very very very very very very very very very very very very very very very very very very very very very very very very very very very very very very very very very very very very very very very very very very very very very very very very very very very very very very very very very very very very very very very very very very very very very very very very very very very very very very very very very very very very very very very very very very very very very very very very very very very very very very very very very very very very very very very very very very very very very very very very very very very very very very very very very very very very very very very very very very very very very very very very very very very very very very very very very very very very very very very very very very very very very very very very very very very very very very very very very very very very very very very very very very very very very very very very very very very very very very very very very very very very very very very very very very very very very very very very very very very very very very very very very very very very very very very very very very very very very very very very very very very very very very very very very very very very very very very very very very very very very very very very very very very very very very very very very very very very very very very very very very very very very very very very very very very very very very very very very very very very very very very very very very very very very very very very very very very very very very very very very very very very very very very very very very very very very very very very very very very very very very very very very very very very very very very very very very very very very very very very very very very very very very very very very very very very very very very very very very very very very very very very very very very very very very very very very very very very very very very very very very very very very very very very very very very very very very very very very very very very very very very very very very very very very very very very very very very very very very very very very very very very very very very very very very very very very very very very very very very very very very very very very very very very very very very very very very very very very very very very very very very very very very very very very very very very very very very very very very very very very very very very very very very very very very very very very very very very very very very very very very very very very very very very very very very very very very very very very very very very very very very very very very very very very very very very very very very very very very very very very very very very very very very very very very very very very very very very very very very very very very very very very very very very very very very very very very very very very very very very very very very very very very very very very very very very very very very very very very very very very very very very very very very very very very very very very very very very very very very very very very very very very very very very very very very very very very very very very very very very very very very very very very very very very very very very very very very very very very very very very very very very very very very very very very very very very very very very very very very very very very very very very very very very very very very very very very very very very very very very very very very very very very very very very very very very very very very very very very very very very very very very very very very very very very very very very very very very very very very very very good   \n",
              "1                                                                                                                                                                                                                                                                                                                                                                                                                                                                                                                                                                                                                                                                                                                                                                                                                                                                                                                                                                                                                                                                                                                                                                                                                                                                                                                                                                                                                                                                                                                                                                                                                                                                                                                                                                                                                                                                                                                                                                                                                                                                                                                                                                                                                                                                                                                                                                                                                                                                                                                                                                                                                                                                                                                                                                                                                                                                                                                                                                                                                                                                                                                                                                                                                                                                                                                                                                                                                                                                                                                                                                                                                                                                                                                                                                                                                                                                                                                                                                                                                                                                                                                                                                                                                                                                                                                                                                                                                                                                                                                                                                                                                                                                                                                                                                                                                                                                                                                                                                                                                                                                                                                                                                                                                                                                                                                                                                                                                                                                                                                                                                                                                                                                                                                                                                                                                                                                                                                                                                                                                                                                                                                                                                                                                                                                                                                                                                                                                                                                                                                                                                                                                                                                                                                                                                                                                                                                                                                                                                                                                                                                                                                                                                                                                                                                                                                                                                                                                                                                                                                                                                               to fight a pro i used a generic noob move lunge thing     i shredded him to bits and won~!   \n",
              "2                                                                                                                                                                                                                                                                                                                                                                                                                                                                                                                                                                                                                                                                                                                                                                                                                                                                                                                                                                                                                                                                                                                                                                                                                                                                                                                                                                                                                                                                                                                                                                                                                                                                                                                                                                                                                                                                                                                                                                                                                                                                                                                                                                                                                                                                                                                                                                                                                                                                                                                                                                                                                                                                                                                                                                                                                                                                                                                                                                                                                                                                                                                                                                                                                                                                                                                                                                                                                                                                                                                                                                                                                                                                                                                                                                                                                                                                                                                                                                                                                                                                                                                                                                                                                                                                                                                                                                                                                                                                                                                                                                                                                                                                                                                                                                                                                                                                                                                                                                                                                                                                                                                                                                                                                                                                                                                                                                                                                                                                                                                                                                                                                                                                                                                                                                                                                                                                                                                                                                                                                                                                                                                                                                                                                                                                                                                                                                                                                                                                                                                                                                                                                                                                                                                                                                                                                                                                                                                                                                         Grow Up is everything that I wanted in a sequel to Grow Home.  The positives: + More collectibles + Challenges + More costumes + Huge world to explore with multiple biomes, new plants, and animals + Mobility options are built into BUD instead of being plant based (i.e. Glider and Air Break instead of Flower and Leaf) + Additional character in POD, who can help you find things on the map  The negative: - BUD can be difficult to handle in challenges as you have to be more precise with his movements during a limited amount of time  Other than the one negative, Ubisoft Reflections has made a perfect sequel to the first game and they should be very proud of their work!   \n",
              "3                                                                                                                                                                                                                                                                                                                                                                                                                                                                                                                                                                                                                                                                                                                                                                                                                                                                                                                                                                                                                                                                                                                                                                                                                                                                                                                                                                                                                                                                                                                                                                                                                                                                                                                                                                                                                                                                                                                                                                                                                                                                                                                                                                                                                                                                                                                                                                                                                                                                                                                                                                                                                                                                                                                                                                                                                                                                                                                                                                                                                                                                                                                                                                                                                                                                                                                                                                                                                                                                                                                                                                                                                                                                                                                                                                                                                                                                                                                                                                                                                                                                                                                                                                                                                                                                                                                                                                                                                                                                                                                                                                                                                                                                                                                                                                                                                                                                                                                                                                                                                                                                                                                                                                                                                                                                                                                                                                                                                                                                                                                                                                                                                                                                                                                                                                                                                                                                                                                                                                                                                                                                                                                                                                                                                                                                                                                                                                                                                                                                                                                                                                                                                                                                                                                                                                                                                                                                                                                                                                                                                                                                                                                                                                                                                                                                                                                                                                                                                                                                                Hmmm... How to say this... A stupid game with funny man making jokes while telling the story &amp; surprisingly addictive fun no matter play by yourself or co-op with your friends. 9/10   \n",
              "4                                                                                                                                                                                                                                                                                                                                                                                                                                                                                                                                                                                                                                                                                                                                                                                                                                                                                                                                                                                                                                                                                                                                                                                                                                                                                                                                                                                                                                                                                                                                                                                                                                                                                                                                                                                                                                                                                                                                                                                                                                                                                                                                                                                                                                                                                                                                                                                                                                                                                                                                                                                                                                                                                                                                                                                                                                                                                                                                                                                                                                                                                                                                                                                                                                                                                                                                                                                                                                                                                                                                                                                                                                                                                                                                                                                                                                                                                                                                                                                                                                                                                                                                                                                                                                                                                                                                                                                                                                                                                                                                                                                                                                                                                                                                                                                                                                                                                                                                                                                                                                                                                                                                                                                                                                                                                                                                                                                                                                                                                                                                                                                                                                                                                                                                                                                                                                                                                                                                                                                                                                                                                                                                                                                                                                                                                                                                                                                                                                                                                                                                                                                                                                                                                                                                                                                                                                                                                                                                                                                                                                                                                                                                                                                                                                                                                                                                                                                                                                                                                                                                                                                              really hard really good (i like it like that). #betterthannuclearthronexddd   \n",
              "\n",
              "   review_score  review_votes  \n",
              "0             1             1  \n",
              "1             1             1  \n",
              "2             1             1  \n",
              "3             1             1  \n",
              "4             1             1  "
            ]
          },
          "execution_count": 13,
          "metadata": {},
          "output_type": "execute_result"
        }
      ],
      "source": [
        "reviews_df_balanced.reset_index(drop=True, inplace=True)\n",
        "reviews_df_balanced.head()"
      ]
    },
    {
      "cell_type": "code",
      "execution_count": 16,
      "metadata": {},
      "outputs": [
        {
          "data": {
            "text/html": [
              "<div>\n",
              "<style scoped>\n",
              "    .dataframe tbody tr th:only-of-type {\n",
              "        vertical-align: middle;\n",
              "    }\n",
              "\n",
              "    .dataframe tbody tr th {\n",
              "        vertical-align: top;\n",
              "    }\n",
              "\n",
              "    .dataframe thead th {\n",
              "        text-align: right;\n",
              "    }\n",
              "</style>\n",
              "<table border=\"1\" class=\"dataframe\">\n",
              "  <thead>\n",
              "    <tr style=\"text-align: right;\">\n",
              "      <th></th>\n",
              "      <th>review_text</th>\n",
              "      <th>review_score</th>\n",
              "    </tr>\n",
              "  </thead>\n",
              "  <tbody>\n",
              "    <tr>\n",
              "      <th>0</th>\n",
              "      <td>This game is very very very very very very very very very very very very very very very very very very very very very very very very very very very very very very very very very very very very very very very very very very very very very very very very very very very very very very very very very very very very very very very very very very very very very very very very very very very very very very very very very very very very very very very very very very very very very very very very very very very very very very very very very very very very very very very very very very very very very very very very very very very very very very very very very very very very very very very very very very very very very very very very very very very very very very very very very very very very very very very very very very very very very very very very very very very very very very very very very very very very very very very very very very very very very very very very very very very very very very very very very very very very very very very very very very very very very very very very very very very very very very very very very very very very very very very very very very very very very very very very very very very very very very very very very very very very very very very very very very very very very very very very very very very very very very very very very very very very very very very very very very very very very very very very very very very very very very very very very very very very very very very very very very very very very very very very very very very very very very very very very very very very very very very very very very very very very very very very very very very very very very very very very very very very very very very very very very very very very very very very very very very very very very very very very very very very very very very very very very very very very very very very very very very very very very very very very very very very very very very very very very very very very very very very very very very very very very very very very very very very very very very very very very very very very very very very very very very very very very very very very very very very very very very very very very very very very very very very very very very very very very very very very very very very very very very very very very very very very very very very very very very very very very very very very very very very very very very very very very very very very very very very very very very very very very very very very very very very very very very very very very very very very very very very very very very very very very very very very very very very very very very very very very very very very very very very very very very very very very very very very very very very very very very very very very very very very very very very very very very very very very very very very very very very very very very very very very very very very very very very very very very very very very very very very very very very very very very very very very very very very very very very very very very very very very very very very very very very very very very very very very very very very very very very very very very very very very very very very very very very very very very very very very very very very very very very very very very very very very very very very very very very very very very very very very very very very very very very very very very very very very very very very very very very very very very very very very very very very very very very very very very very very very very very very very very very very very very very very very very very very very very very very very very very very very very very very very very very very very very very very very very very very very very very very very very very very very very very very very very very very very very very very very very very very very very very very very very very very very very very very very very very very very very very very very very very very very very very very very very very very very very very very very very very very very very very very very very very very very very very very very very very very very very very very very very very very very very very very very very very very very very very very very very very very very very very very very very very very very very very very very very very very very very very very very very very very very very very very very very very very very very very very very very very very very very very very very very very very very very very very very very very very very very very very very very very very very very very very very very very very very very very very very very very very very very very very very very very very very very very very very very very very very very very very very very very very very very very very very very very very very very very very very very very very very very very very very very very very very very very very very very very very very very very very very very very very very very very very very very very very very very very very very very very very very very very very very very very very very very very very very very very very very very very very very very very very very very very very very very very very very very very very very very very very very very very very very very very very very very very very very very very very very very very very very very very very very very very very very very very very very very very very very very very very very very very very very very very very very very very very very very very very very very very very very very very very very very very very very very very very very very very very very very very very very very very very very very very very very very very very very very very very very very very very very very very very very very very very very very very very very very very very very very very very very very very very very very very very very very very very very very very very very very very very very very very very very very very very very very very very very very very very very very very very very very very very very very very very very very very very very very very very very very very very very very very very very very very very very very very very very very very very very very very very very very very very very very very very very very very very very very very very very very very very very very very very very very very very very very very very very very very very very very very very very very very very very very very very very very very very very very very very very very very very very very very very very very very very very very very very very very very very very very very very very very very very very very very very very very very very very very very very very very very very very very very very very very very very very very very very very very very very very very very very very very very very very very very very very very very very very very very very very very very very very very very very very very very very very very very very very very very very very very very very very very very very very very very very very very very very very very very very very very very very very very very very very very very very very very very very very very very very very very very very very good</td>\n",
              "      <td>1</td>\n",
              "    </tr>\n",
              "    <tr>\n",
              "      <th>1</th>\n",
              "      <td>to fight a pro i used a generic noob move lunge thing     i shredded him to bits and won~!</td>\n",
              "      <td>1</td>\n",
              "    </tr>\n",
              "    <tr>\n",
              "      <th>2</th>\n",
              "      <td>Grow Up is everything that I wanted in a sequel to Grow Home.  The positives: + More collectibles + Challenges + More costumes + Huge world to explore with multiple biomes, new plants, and animals + Mobility options are built into BUD instead of being plant based (i.e. Glider and Air Break instead of Flower and Leaf) + Additional character in POD, who can help you find things on the map  The negative: - BUD can be difficult to handle in challenges as you have to be more precise with his movements during a limited amount of time  Other than the one negative, Ubisoft Reflections has made a perfect sequel to the first game and they should be very proud of their work!</td>\n",
              "      <td>1</td>\n",
              "    </tr>\n",
              "    <tr>\n",
              "      <th>3</th>\n",
              "      <td>Hmmm... How to say this... A stupid game with funny man making jokes while telling the story &amp;amp; surprisingly addictive fun no matter play by yourself or co-op with your friends. 9/10</td>\n",
              "      <td>1</td>\n",
              "    </tr>\n",
              "    <tr>\n",
              "      <th>4</th>\n",
              "      <td>really hard really good (i like it like that). #betterthannuclearthronexddd</td>\n",
              "      <td>1</td>\n",
              "    </tr>\n",
              "  </tbody>\n",
              "</table>\n",
              "</div>"
            ],
            "text/plain": [
              "                                                                                                                                                                                                                                                                                                                                                                                                                                                                                                                                                                                                                                                                                                                                                                                                                                                                                                                                                                                                                                                                                                                                                                                                                                                                                                                                                                                                                                                                                                                                                                                                                                                                                                                                                                                                                                                                                                                                                                                                                                                                                                                                                                                                                                                                                                                                                                                                                                                                                                                                                                                                                                                                                                                                                                                                                                                                                                                                                                                                                                                                                                                                                                                                                                                                                                                                                                                                                                                                                                                                                                                                                                                                                                                                                                                                                                                                                                                                                                                                                                                                                                                                                                                                                                                                                                                                                                                                                                                                                                                                                                                                                                                                                                                                                                                                                                                                                                                                                                                                                                                                                                                                                                                                                                                                                                                                                                                                                                                                                                                                                                                                                                                                                                                                                                                                                                                                                                                                                                                                                                                                                                                                                                                                                                                                                                                                                                                                                                                                                                                                                                                                                                                                                                                                                                                                                                                                                                                                                                                                                                                                                                                                                                                                                                                                                                                                                                                                                                                                                                                                                                                                                                                               review_text  \\\n",
              "0  This game is very very very very very very very very very very very very very very very very very very very very very very very very very very very very very very very very very very very very very very very very very very very very very very very very very very very very very very very very very very very very very very very very very very very very very very very very very very very very very very very very very very very very very very very very very very very very very very very very very very very very very very very very very very very very very very very very very very very very very very very very very very very very very very very very very very very very very very very very very very very very very very very very very very very very very very very very very very very very very very very very very very very very very very very very very very very very very very very very very very very very very very very very very very very very very very very very very very very very very very very very very very very very very very very very very very very very very very very very very very very very very very very very very very very very very very very very very very very very very very very very very very very very very very very very very very very very very very very very very very very very very very very very very very very very very very very very very very very very very very very very very very very very very very very very very very very very very very very very very very very very very very very very very very very very very very very very very very very very very very very very very very very very very very very very very very very very very very very very very very very very very very very very very very very very very very very very very very very very very very very very very very very very very very very very very very very very very very very very very very very very very very very very very very very very very very very very very very very very very very very very very very very very very very very very very very very very very very very very very very very very very very very very very very very very very very very very very very very very very very very very very very very very very very very very very very very very very very very very very very very very very very very very very very very very very very very very very very very very very very very very very very very very very very very very very very very very very very very very very very very very very very very very very very very very very very very very very very very very very very very very very very very very very very very very very very very very very very very very very very very very very very very very very very very very very very very very very very very very very very very very very very very very very very very very very very very very very very very very very very very very very very very very very very very very very very very very very very very very very very very very very very very very very very very very very very very very very very very very very very very very very very very very very very very very very very very very very very very very very very very very very very very very very very very very very very very very very very very very very very very very very very very very very very very very very very very very very very very very very very very very very very very very very very very very very very very very very very very very very very very very very very very very very very very very very very very very very very very very very very very very very very very very very very very very very very very very very very very very very very very very very very very very very very very very very very very very very very very very very very very very very very very very very very very very very very very very very very very very very very very very very very very very very very very very very very very very very very very very very very very very very very very very very very very very very very very very very very very very very very very very very very very very very very very very very very very very very very very very very very very very very very very very very very very very very very very very very very very very very very very very very very very very very very very very very very very very very very very very very very very very very very very very very very very very very very very very very very very very very very very very very very very very very very very very very very very very very very very very very very very very very very very very very very very very very very very very very very very very very very very very very very very very very very very very very very very very very very very very very very very very very very very very very very very very very very very very very very very very very very very very very very very very very very very very very very very very very very very very very very very very very very very very very very very very very very very very very very very very very very very very very very very very very very very very very very very very very very very very very very very very very very very very very very very very very very very very very very very very very very very very very very very very very very very very very very very very very very very very very very very very very very very very very very very very very very very very very very very very very very very very very very very very very very very very very very very very very very very very very very very very very very very very very very very very very very very very very very very very very very very very very very very very very very very very very very very very very very very very very very very very very very very very very very very very very very very very very very very very very very very very very very very very very very very very very very very very very very very very very very very very very very very very very very very very very very very very very very very very very very very very very very very very very very very very very very very very very very very very very very very very very very very very very very very very very very very very very very very very very very very very very very very very very very very very very very very very very very very very very very very very very very very very very very very very very very very very very very very very very very very very very very very very very very very very very very very very very very very very very very very very very very very very very very very very very very very very very very very very very very very very very very very very very very very very very very very very very very very very very very very very very very very very very very very very very very very very very very very very very very very very very very very very very very very very very very very very very very very very very very very very very very very very very very very very very very very very very very very very very very very very very very very very very very very very very very very very very very very very very very very very very very very very very very very very very very very very very very very very very very very very very very very very very very very very very very good   \n",
              "1                                                                                                                                                                                                                                                                                                                                                                                                                                                                                                                                                                                                                                                                                                                                                                                                                                                                                                                                                                                                                                                                                                                                                                                                                                                                                                                                                                                                                                                                                                                                                                                                                                                                                                                                                                                                                                                                                                                                                                                                                                                                                                                                                                                                                                                                                                                                                                                                                                                                                                                                                                                                                                                                                                                                                                                                                                                                                                                                                                                                                                                                                                                                                                                                                                                                                                                                                                                                                                                                                                                                                                                                                                                                                                                                                                                                                                                                                                                                                                                                                                                                                                                                                                                                                                                                                                                                                                                                                                                                                                                                                                                                                                                                                                                                                                                                                                                                                                                                                                                                                                                                                                                                                                                                                                                                                                                                                                                                                                                                                                                                                                                                                                                                                                                                                                                                                                                                                                                                                                                                                                                                                                                                                                                                                                                                                                                                                                                                                                                                                                                                                                                                                                                                                                                                                                                                                                                                                                                                                                                                                                                                                                                                                                                                                                                                                                                                                                                                                                                                                                                                                                               to fight a pro i used a generic noob move lunge thing     i shredded him to bits and won~!   \n",
              "2                                                                                                                                                                                                                                                                                                                                                                                                                                                                                                                                                                                                                                                                                                                                                                                                                                                                                                                                                                                                                                                                                                                                                                                                                                                                                                                                                                                                                                                                                                                                                                                                                                                                                                                                                                                                                                                                                                                                                                                                                                                                                                                                                                                                                                                                                                                                                                                                                                                                                                                                                                                                                                                                                                                                                                                                                                                                                                                                                                                                                                                                                                                                                                                                                                                                                                                                                                                                                                                                                                                                                                                                                                                                                                                                                                                                                                                                                                                                                                                                                                                                                                                                                                                                                                                                                                                                                                                                                                                                                                                                                                                                                                                                                                                                                                                                                                                                                                                                                                                                                                                                                                                                                                                                                                                                                                                                                                                                                                                                                                                                                                                                                                                                                                                                                                                                                                                                                                                                                                                                                                                                                                                                                                                                                                                                                                                                                                                                                                                                                                                                                                                                                                                                                                                                                                                                                                                                                                                                                                         Grow Up is everything that I wanted in a sequel to Grow Home.  The positives: + More collectibles + Challenges + More costumes + Huge world to explore with multiple biomes, new plants, and animals + Mobility options are built into BUD instead of being plant based (i.e. Glider and Air Break instead of Flower and Leaf) + Additional character in POD, who can help you find things on the map  The negative: - BUD can be difficult to handle in challenges as you have to be more precise with his movements during a limited amount of time  Other than the one negative, Ubisoft Reflections has made a perfect sequel to the first game and they should be very proud of their work!   \n",
              "3                                                                                                                                                                                                                                                                                                                                                                                                                                                                                                                                                                                                                                                                                                                                                                                                                                                                                                                                                                                                                                                                                                                                                                                                                                                                                                                                                                                                                                                                                                                                                                                                                                                                                                                                                                                                                                                                                                                                                                                                                                                                                                                                                                                                                                                                                                                                                                                                                                                                                                                                                                                                                                                                                                                                                                                                                                                                                                                                                                                                                                                                                                                                                                                                                                                                                                                                                                                                                                                                                                                                                                                                                                                                                                                                                                                                                                                                                                                                                                                                                                                                                                                                                                                                                                                                                                                                                                                                                                                                                                                                                                                                                                                                                                                                                                                                                                                                                                                                                                                                                                                                                                                                                                                                                                                                                                                                                                                                                                                                                                                                                                                                                                                                                                                                                                                                                                                                                                                                                                                                                                                                                                                                                                                                                                                                                                                                                                                                                                                                                                                                                                                                                                                                                                                                                                                                                                                                                                                                                                                                                                                                                                                                                                                                                                                                                                                                                                                                                                                                                Hmmm... How to say this... A stupid game with funny man making jokes while telling the story &amp; surprisingly addictive fun no matter play by yourself or co-op with your friends. 9/10   \n",
              "4                                                                                                                                                                                                                                                                                                                                                                                                                                                                                                                                                                                                                                                                                                                                                                                                                                                                                                                                                                                                                                                                                                                                                                                                                                                                                                                                                                                                                                                                                                                                                                                                                                                                                                                                                                                                                                                                                                                                                                                                                                                                                                                                                                                                                                                                                                                                                                                                                                                                                                                                                                                                                                                                                                                                                                                                                                                                                                                                                                                                                                                                                                                                                                                                                                                                                                                                                                                                                                                                                                                                                                                                                                                                                                                                                                                                                                                                                                                                                                                                                                                                                                                                                                                                                                                                                                                                                                                                                                                                                                                                                                                                                                                                                                                                                                                                                                                                                                                                                                                                                                                                                                                                                                                                                                                                                                                                                                                                                                                                                                                                                                                                                                                                                                                                                                                                                                                                                                                                                                                                                                                                                                                                                                                                                                                                                                                                                                                                                                                                                                                                                                                                                                                                                                                                                                                                                                                                                                                                                                                                                                                                                                                                                                                                                                                                                                                                                                                                                                                                                                                                                                                              really hard really good (i like it like that). #betterthannuclearthronexddd   \n",
              "\n",
              "   review_score  \n",
              "0             1  \n",
              "1             1  \n",
              "2             1  \n",
              "3             1  \n",
              "4             1  "
            ]
          },
          "execution_count": 16,
          "metadata": {},
          "output_type": "execute_result"
        }
      ],
      "source": [
        "df = reviews_df_balanced[['review_text', 'review_score']].reset_index(drop=True)\n",
        "df.head()"
      ]
    },
    {
      "cell_type": "markdown",
      "metadata": {},
      "source": [
        "### Preprocessing"
      ]
    },
    {
      "cell_type": "markdown",
      "metadata": {},
      "source": [
        "Usunięcie stopwords"
      ]
    },
    {
      "cell_type": "code",
      "execution_count": 17,
      "metadata": {},
      "outputs": [
        {
          "name": "stdout",
          "output_type": "stream",
          "text": [
            "Collecting en-core-web-md==3.7.1\n",
            "  Downloading https://github.com/explosion/spacy-models/releases/download/en_core_web_md-3.7.1/en_core_web_md-3.7.1-py3-none-any.whl (42.8 MB)\n",
            "     ---------------------------------------- 0.0/42.8 MB ? eta -:--:--\n",
            "     --------------------------------------- 0.0/42.8 MB 320.0 kB/s eta 0:02:14\n",
            "     --------------------------------------- 0.1/42.8 MB 544.7 kB/s eta 0:01:19\n",
            "     ---------------------------------------- 0.2/42.8 MB 1.3 MB/s eta 0:00:33\n",
            "     ---------------------------------------- 0.4/42.8 MB 2.2 MB/s eta 0:00:20\n",
            "      --------------------------------------- 0.7/42.8 MB 2.7 MB/s eta 0:00:16\n",
            "      --------------------------------------- 0.9/42.8 MB 3.2 MB/s eta 0:00:13\n",
            "     - -------------------------------------- 1.2/42.8 MB 3.6 MB/s eta 0:00:12\n",
            "     - -------------------------------------- 1.3/42.8 MB 3.7 MB/s eta 0:00:12\n",
            "     - -------------------------------------- 1.5/42.8 MB 3.7 MB/s eta 0:00:12\n",
            "     - -------------------------------------- 1.9/42.8 MB 4.2 MB/s eta 0:00:10\n",
            "     - -------------------------------------- 2.1/42.8 MB 4.2 MB/s eta 0:00:10\n",
            "     -- ------------------------------------- 2.4/42.8 MB 4.3 MB/s eta 0:00:10\n",
            "     -- ------------------------------------- 2.6/42.8 MB 4.3 MB/s eta 0:00:10\n",
            "     -- ------------------------------------- 2.8/42.8 MB 4.4 MB/s eta 0:00:10\n",
            "     -- ------------------------------------- 3.0/42.8 MB 4.4 MB/s eta 0:00:10\n",
            "     -- ------------------------------------- 3.2/42.8 MB 4.3 MB/s eta 0:00:10\n",
            "     --- ------------------------------------ 3.4/42.8 MB 4.4 MB/s eta 0:00:09\n",
            "     --- ------------------------------------ 3.6/42.8 MB 4.4 MB/s eta 0:00:09\n",
            "     --- ------------------------------------ 3.8/42.8 MB 4.3 MB/s eta 0:00:10\n",
            "     --- ------------------------------------ 3.9/42.8 MB 4.3 MB/s eta 0:00:10\n",
            "     --- ------------------------------------ 4.1/42.8 MB 4.3 MB/s eta 0:00:09\n",
            "     ---- ----------------------------------- 4.3/42.8 MB 4.2 MB/s eta 0:00:10\n",
            "     ---- ----------------------------------- 4.5/42.8 MB 4.3 MB/s eta 0:00:10\n",
            "     ---- ----------------------------------- 4.6/42.8 MB 4.2 MB/s eta 0:00:10\n",
            "     ---- ----------------------------------- 4.8/42.8 MB 4.2 MB/s eta 0:00:09\n",
            "     ---- ----------------------------------- 5.0/42.8 MB 4.2 MB/s eta 0:00:10\n",
            "     ---- ----------------------------------- 5.2/42.8 MB 4.2 MB/s eta 0:00:09\n",
            "     ---- ----------------------------------- 5.3/42.8 MB 4.2 MB/s eta 0:00:10\n",
            "     ----- ---------------------------------- 5.5/42.8 MB 4.1 MB/s eta 0:00:10\n",
            "     ----- ---------------------------------- 5.7/42.8 MB 4.1 MB/s eta 0:00:10\n",
            "     ----- ---------------------------------- 5.8/42.8 MB 4.1 MB/s eta 0:00:10\n",
            "     ----- ---------------------------------- 6.0/42.8 MB 4.1 MB/s eta 0:00:10\n",
            "     ----- ---------------------------------- 6.2/42.8 MB 4.1 MB/s eta 0:00:09\n",
            "     ----- ---------------------------------- 6.4/42.8 MB 4.1 MB/s eta 0:00:09\n",
            "     ------ --------------------------------- 6.6/42.8 MB 4.1 MB/s eta 0:00:09\n",
            "     ------ --------------------------------- 6.7/42.8 MB 4.1 MB/s eta 0:00:09\n",
            "     ------ --------------------------------- 6.9/42.8 MB 4.1 MB/s eta 0:00:09\n",
            "     ------ --------------------------------- 7.1/42.8 MB 4.1 MB/s eta 0:00:09\n",
            "     ------ --------------------------------- 7.3/42.8 MB 4.1 MB/s eta 0:00:09\n",
            "     ------- -------------------------------- 7.5/42.8 MB 4.1 MB/s eta 0:00:09\n",
            "     ------- -------------------------------- 7.7/42.8 MB 4.1 MB/s eta 0:00:09\n",
            "     ------- -------------------------------- 7.9/42.8 MB 4.1 MB/s eta 0:00:09\n",
            "     ------- -------------------------------- 8.1/42.8 MB 4.1 MB/s eta 0:00:09\n",
            "     ------- -------------------------------- 8.3/42.8 MB 4.1 MB/s eta 0:00:09\n",
            "     ------- -------------------------------- 8.6/42.8 MB 4.1 MB/s eta 0:00:09\n",
            "     -------- ------------------------------- 8.7/42.8 MB 4.1 MB/s eta 0:00:09\n",
            "     -------- ------------------------------- 8.9/42.8 MB 4.1 MB/s eta 0:00:09\n",
            "     -------- ------------------------------- 9.1/42.8 MB 4.1 MB/s eta 0:00:09\n",
            "     -------- ------------------------------- 9.2/42.8 MB 4.1 MB/s eta 0:00:09\n",
            "     -------- ------------------------------- 9.5/42.8 MB 4.1 MB/s eta 0:00:09\n",
            "     --------- ------------------------------ 9.6/42.8 MB 4.1 MB/s eta 0:00:09\n",
            "     --------- ------------------------------ 9.8/42.8 MB 4.1 MB/s eta 0:00:09\n",
            "     --------- ------------------------------ 10.1/42.8 MB 4.1 MB/s eta 0:00:08\n",
            "     --------- ------------------------------ 10.3/42.8 MB 4.3 MB/s eta 0:00:08\n",
            "     --------- ------------------------------ 10.5/42.8 MB 4.3 MB/s eta 0:00:08\n",
            "     --------- ------------------------------ 10.7/42.8 MB 4.3 MB/s eta 0:00:08\n",
            "     ---------- ----------------------------- 10.9/42.8 MB 4.3 MB/s eta 0:00:08\n",
            "     ---------- ----------------------------- 11.1/42.8 MB 4.3 MB/s eta 0:00:08\n",
            "     ---------- ----------------------------- 11.3/42.8 MB 4.3 MB/s eta 0:00:08\n",
            "     ---------- ----------------------------- 11.5/42.8 MB 4.2 MB/s eta 0:00:08\n",
            "     ---------- ----------------------------- 11.7/42.8 MB 4.3 MB/s eta 0:00:08\n",
            "     ----------- ---------------------------- 11.9/42.8 MB 4.2 MB/s eta 0:00:08\n",
            "     ----------- ---------------------------- 12.2/42.8 MB 4.2 MB/s eta 0:00:08\n",
            "     ----------- ---------------------------- 12.4/42.8 MB 4.2 MB/s eta 0:00:08\n",
            "     ----------- ---------------------------- 12.6/42.8 MB 4.2 MB/s eta 0:00:08\n",
            "     ----------- ---------------------------- 12.8/42.8 MB 4.2 MB/s eta 0:00:08\n",
            "     ------------ --------------------------- 13.0/42.8 MB 4.2 MB/s eta 0:00:08\n",
            "     ------------ --------------------------- 13.3/42.8 MB 4.2 MB/s eta 0:00:07\n",
            "     ------------ --------------------------- 13.5/42.8 MB 4.3 MB/s eta 0:00:07\n",
            "     ------------ --------------------------- 13.7/42.8 MB 4.2 MB/s eta 0:00:07\n",
            "     ------------- -------------------------- 13.9/42.8 MB 4.2 MB/s eta 0:00:07\n",
            "     ------------- -------------------------- 14.2/42.8 MB 4.3 MB/s eta 0:00:07\n",
            "     ------------- -------------------------- 14.4/42.8 MB 4.3 MB/s eta 0:00:07\n",
            "     ------------- -------------------------- 14.6/42.8 MB 4.3 MB/s eta 0:00:07\n",
            "     ------------- -------------------------- 14.8/42.8 MB 4.4 MB/s eta 0:00:07\n",
            "     -------------- ------------------------- 15.1/42.8 MB 4.4 MB/s eta 0:00:07\n",
            "     -------------- ------------------------- 15.3/42.8 MB 4.4 MB/s eta 0:00:07\n",
            "     -------------- ------------------------- 15.5/42.8 MB 4.4 MB/s eta 0:00:07\n",
            "     -------------- ------------------------- 15.7/42.8 MB 4.5 MB/s eta 0:00:07\n",
            "     -------------- ------------------------- 16.0/42.8 MB 4.5 MB/s eta 0:00:06\n",
            "     --------------- ------------------------ 16.2/42.8 MB 4.5 MB/s eta 0:00:06\n",
            "     --------------- ------------------------ 16.4/42.8 MB 4.5 MB/s eta 0:00:06\n",
            "     --------------- ------------------------ 16.7/42.8 MB 4.6 MB/s eta 0:00:06\n",
            "     --------------- ------------------------ 16.9/42.8 MB 4.6 MB/s eta 0:00:06\n",
            "     ---------------- ----------------------- 17.1/42.8 MB 4.6 MB/s eta 0:00:06\n",
            "     ---------------- ----------------------- 17.3/42.8 MB 4.6 MB/s eta 0:00:06\n",
            "     ---------------- ----------------------- 17.6/42.8 MB 4.6 MB/s eta 0:00:06\n",
            "     ---------------- ----------------------- 17.8/42.8 MB 4.7 MB/s eta 0:00:06\n",
            "     ---------------- ----------------------- 18.1/42.8 MB 4.7 MB/s eta 0:00:06\n",
            "     ----------------- ---------------------- 18.3/42.8 MB 4.7 MB/s eta 0:00:06\n",
            "     ----------------- ---------------------- 18.5/42.8 MB 4.7 MB/s eta 0:00:06\n",
            "     ----------------- ---------------------- 18.8/42.8 MB 4.8 MB/s eta 0:00:06\n",
            "     ----------------- ---------------------- 19.0/42.8 MB 4.8 MB/s eta 0:00:05\n",
            "     ----------------- ---------------------- 19.2/42.8 MB 4.8 MB/s eta 0:00:05\n",
            "     ------------------ --------------------- 19.4/42.8 MB 4.8 MB/s eta 0:00:05\n",
            "     ------------------ --------------------- 19.7/42.8 MB 4.8 MB/s eta 0:00:05\n",
            "     ------------------ --------------------- 19.9/42.8 MB 4.9 MB/s eta 0:00:05\n",
            "     ------------------ --------------------- 20.2/42.8 MB 4.9 MB/s eta 0:00:05\n",
            "     ------------------- -------------------- 20.4/42.8 MB 4.9 MB/s eta 0:00:05\n",
            "     ------------------- -------------------- 20.7/42.8 MB 5.0 MB/s eta 0:00:05\n",
            "     ------------------- -------------------- 21.0/42.8 MB 5.0 MB/s eta 0:00:05\n",
            "     ------------------- -------------------- 21.2/42.8 MB 5.0 MB/s eta 0:00:05\n",
            "     -------------------- ------------------- 21.5/42.8 MB 5.0 MB/s eta 0:00:05\n",
            "     -------------------- ------------------- 21.7/42.8 MB 5.0 MB/s eta 0:00:05\n",
            "     -------------------- ------------------- 22.0/42.8 MB 5.0 MB/s eta 0:00:05\n",
            "     -------------------- ------------------- 22.2/42.8 MB 5.1 MB/s eta 0:00:05\n",
            "     --------------------- ------------------ 22.5/42.8 MB 5.1 MB/s eta 0:00:04\n",
            "     --------------------- ------------------ 22.7/42.8 MB 5.2 MB/s eta 0:00:04\n",
            "     --------------------- ------------------ 23.0/42.8 MB 5.2 MB/s eta 0:00:04\n",
            "     --------------------- ------------------ 23.2/42.8 MB 5.2 MB/s eta 0:00:04\n",
            "     --------------------- ------------------ 23.5/42.8 MB 5.2 MB/s eta 0:00:04\n",
            "     ---------------------- ----------------- 23.7/42.8 MB 5.2 MB/s eta 0:00:04\n",
            "     ---------------------- ----------------- 24.0/42.8 MB 5.2 MB/s eta 0:00:04\n",
            "     ---------------------- ----------------- 24.2/42.8 MB 5.2 MB/s eta 0:00:04\n",
            "     ---------------------- ----------------- 24.5/42.8 MB 5.2 MB/s eta 0:00:04\n",
            "     ----------------------- ---------------- 24.8/42.8 MB 5.2 MB/s eta 0:00:04\n",
            "     ----------------------- ---------------- 25.0/42.8 MB 5.3 MB/s eta 0:00:04\n",
            "     ----------------------- ---------------- 25.2/42.8 MB 5.3 MB/s eta 0:00:04\n",
            "     ----------------------- ---------------- 25.5/42.8 MB 5.3 MB/s eta 0:00:04\n",
            "     ------------------------ --------------- 25.8/42.8 MB 5.3 MB/s eta 0:00:04\n",
            "     ------------------------ --------------- 26.0/42.8 MB 5.3 MB/s eta 0:00:04\n",
            "     ------------------------ --------------- 26.3/42.8 MB 5.3 MB/s eta 0:00:04\n",
            "     ------------------------ --------------- 26.6/42.8 MB 5.4 MB/s eta 0:00:04\n",
            "     ------------------------- -------------- 26.8/42.8 MB 5.4 MB/s eta 0:00:03\n",
            "     ------------------------- -------------- 27.1/42.8 MB 5.4 MB/s eta 0:00:03\n",
            "     ------------------------- -------------- 27.3/42.8 MB 5.4 MB/s eta 0:00:03\n",
            "     ------------------------- -------------- 27.6/42.8 MB 5.4 MB/s eta 0:00:03\n",
            "     -------------------------- ------------- 27.8/42.8 MB 5.5 MB/s eta 0:00:03\n",
            "     -------------------------- ------------- 28.1/42.8 MB 5.5 MB/s eta 0:00:03\n",
            "     -------------------------- ------------- 28.3/42.8 MB 5.5 MB/s eta 0:00:03\n",
            "     -------------------------- ------------- 28.6/42.8 MB 5.5 MB/s eta 0:00:03\n",
            "     -------------------------- ------------- 28.9/42.8 MB 5.5 MB/s eta 0:00:03\n",
            "     --------------------------- ------------ 29.1/42.8 MB 5.5 MB/s eta 0:00:03\n",
            "     --------------------------- ------------ 29.4/42.8 MB 5.5 MB/s eta 0:00:03\n",
            "     --------------------------- ------------ 29.6/42.8 MB 5.6 MB/s eta 0:00:03\n",
            "     --------------------------- ------------ 29.9/42.8 MB 5.6 MB/s eta 0:00:03\n",
            "     ---------------------------- ----------- 30.2/42.8 MB 5.5 MB/s eta 0:00:03\n",
            "     ---------------------------- ----------- 30.4/42.8 MB 5.5 MB/s eta 0:00:03\n",
            "     ---------------------------- ----------- 30.7/42.8 MB 5.5 MB/s eta 0:00:03\n",
            "     ---------------------------- ----------- 30.9/42.8 MB 5.5 MB/s eta 0:00:03\n",
            "     ----------------------------- ---------- 31.2/42.8 MB 5.5 MB/s eta 0:00:03\n",
            "     ----------------------------- ---------- 31.5/42.8 MB 5.5 MB/s eta 0:00:03\n",
            "     ----------------------------- ---------- 31.7/42.8 MB 5.6 MB/s eta 0:00:02\n",
            "     ----------------------------- ---------- 32.0/42.8 MB 5.6 MB/s eta 0:00:02\n",
            "     ------------------------------ --------- 32.2/42.8 MB 5.6 MB/s eta 0:00:02\n",
            "     ------------------------------ --------- 32.5/42.8 MB 5.6 MB/s eta 0:00:02\n",
            "     ------------------------------ --------- 32.8/42.8 MB 5.6 MB/s eta 0:00:02\n",
            "     ------------------------------ --------- 33.0/42.8 MB 5.6 MB/s eta 0:00:02\n",
            "     ------------------------------- -------- 33.3/42.8 MB 5.6 MB/s eta 0:00:02\n",
            "     ------------------------------- -------- 33.5/42.8 MB 5.6 MB/s eta 0:00:02\n",
            "     ------------------------------- -------- 33.8/42.8 MB 5.6 MB/s eta 0:00:02\n",
            "     ------------------------------- -------- 34.0/42.8 MB 5.6 MB/s eta 0:00:02\n",
            "     -------------------------------- ------- 34.2/42.8 MB 5.6 MB/s eta 0:00:02\n",
            "     -------------------------------- ------- 34.6/42.8 MB 5.6 MB/s eta 0:00:02\n",
            "     -------------------------------- ------- 34.8/42.8 MB 5.6 MB/s eta 0:00:02\n",
            "     -------------------------------- ------- 35.0/42.8 MB 5.5 MB/s eta 0:00:02\n",
            "     -------------------------------- ------- 35.2/42.8 MB 5.5 MB/s eta 0:00:02\n",
            "     --------------------------------- ------ 35.5/42.8 MB 5.5 MB/s eta 0:00:02\n",
            "     --------------------------------- ------ 35.7/42.8 MB 5.5 MB/s eta 0:00:02\n",
            "     --------------------------------- ------ 35.9/42.8 MB 5.5 MB/s eta 0:00:02\n",
            "     --------------------------------- ------ 36.1/42.8 MB 5.5 MB/s eta 0:00:02\n",
            "     --------------------------------- ------ 36.4/42.8 MB 5.5 MB/s eta 0:00:02\n",
            "     ---------------------------------- ----- 36.6/42.8 MB 5.5 MB/s eta 0:00:02\n",
            "     ---------------------------------- ----- 36.8/42.8 MB 5.5 MB/s eta 0:00:02\n",
            "     ---------------------------------- ----- 37.0/42.8 MB 5.4 MB/s eta 0:00:02\n",
            "     ---------------------------------- ----- 37.2/42.8 MB 5.4 MB/s eta 0:00:02\n",
            "     ----------------------------------- ---- 37.5/42.8 MB 5.4 MB/s eta 0:00:01\n",
            "     ----------------------------------- ---- 37.7/42.8 MB 5.4 MB/s eta 0:00:01\n",
            "     ----------------------------------- ---- 38.0/42.8 MB 5.4 MB/s eta 0:00:01\n",
            "     ----------------------------------- ---- 38.2/42.8 MB 5.4 MB/s eta 0:00:01\n",
            "     ----------------------------------- ---- 38.4/42.8 MB 5.4 MB/s eta 0:00:01\n",
            "     ------------------------------------ --- 38.7/42.8 MB 5.3 MB/s eta 0:00:01\n",
            "     ------------------------------------ --- 38.9/42.8 MB 5.3 MB/s eta 0:00:01\n",
            "     ------------------------------------ --- 39.2/42.8 MB 5.3 MB/s eta 0:00:01\n",
            "     ------------------------------------ --- 39.5/42.8 MB 5.3 MB/s eta 0:00:01\n",
            "     ------------------------------------- -- 39.7/42.8 MB 5.3 MB/s eta 0:00:01\n",
            "     ------------------------------------- -- 40.0/42.8 MB 5.3 MB/s eta 0:00:01\n",
            "     ------------------------------------- -- 40.2/42.8 MB 5.4 MB/s eta 0:00:01\n",
            "     ------------------------------------- -- 40.5/42.8 MB 5.4 MB/s eta 0:00:01\n",
            "     -------------------------------------- - 40.7/42.8 MB 5.4 MB/s eta 0:00:01\n",
            "     -------------------------------------- - 41.0/42.8 MB 5.4 MB/s eta 0:00:01\n",
            "     -------------------------------------- - 41.3/42.8 MB 5.4 MB/s eta 0:00:01\n",
            "     -------------------------------------- - 41.5/42.8 MB 5.4 MB/s eta 0:00:01\n",
            "     ---------------------------------------  41.8/42.8 MB 5.3 MB/s eta 0:00:01\n",
            "     ---------------------------------------  42.0/42.8 MB 5.4 MB/s eta 0:00:01\n",
            "     ---------------------------------------  42.3/42.8 MB 5.3 MB/s eta 0:00:01\n",
            "     ---------------------------------------  42.6/42.8 MB 5.4 MB/s eta 0:00:01\n",
            "     ---------------------------------------  42.8/42.8 MB 5.4 MB/s eta 0:00:01\n",
            "     ---------------------------------------- 42.8/42.8 MB 5.2 MB/s eta 0:00:00\n",
            "Requirement already satisfied: spacy<3.8.0,>=3.7.2 in d:\\anaconda3\\envs\\zum_nlp_env\\lib\\site-packages (from en-core-web-md==3.7.1) (3.7.2)\n",
            "Requirement already satisfied: spacy-legacy<3.1.0,>=3.0.11 in d:\\anaconda3\\envs\\zum_nlp_env\\lib\\site-packages (from spacy<3.8.0,>=3.7.2->en-core-web-md==3.7.1) (3.0.12)\n",
            "Requirement already satisfied: spacy-loggers<2.0.0,>=1.0.0 in d:\\anaconda3\\envs\\zum_nlp_env\\lib\\site-packages (from spacy<3.8.0,>=3.7.2->en-core-web-md==3.7.1) (1.0.5)\n",
            "Requirement already satisfied: murmurhash<1.1.0,>=0.28.0 in d:\\anaconda3\\envs\\zum_nlp_env\\lib\\site-packages (from spacy<3.8.0,>=3.7.2->en-core-web-md==3.7.1) (1.0.10)\n",
            "Requirement already satisfied: cymem<2.1.0,>=2.0.2 in d:\\anaconda3\\envs\\zum_nlp_env\\lib\\site-packages (from spacy<3.8.0,>=3.7.2->en-core-web-md==3.7.1) (2.0.8)\n",
            "Requirement already satisfied: preshed<3.1.0,>=3.0.2 in d:\\anaconda3\\envs\\zum_nlp_env\\lib\\site-packages (from spacy<3.8.0,>=3.7.2->en-core-web-md==3.7.1) (3.0.9)\n",
            "Requirement already satisfied: thinc<8.3.0,>=8.1.8 in d:\\anaconda3\\envs\\zum_nlp_env\\lib\\site-packages (from spacy<3.8.0,>=3.7.2->en-core-web-md==3.7.1) (8.2.2)\n",
            "Requirement already satisfied: wasabi<1.2.0,>=0.9.1 in d:\\anaconda3\\envs\\zum_nlp_env\\lib\\site-packages (from spacy<3.8.0,>=3.7.2->en-core-web-md==3.7.1) (1.1.2)\n",
            "Requirement already satisfied: srsly<3.0.0,>=2.4.3 in d:\\anaconda3\\envs\\zum_nlp_env\\lib\\site-packages (from spacy<3.8.0,>=3.7.2->en-core-web-md==3.7.1) (2.4.8)\n",
            "Requirement already satisfied: catalogue<2.1.0,>=2.0.6 in d:\\anaconda3\\envs\\zum_nlp_env\\lib\\site-packages (from spacy<3.8.0,>=3.7.2->en-core-web-md==3.7.1) (2.0.10)\n",
            "Requirement already satisfied: weasel<0.4.0,>=0.1.0 in d:\\anaconda3\\envs\\zum_nlp_env\\lib\\site-packages (from spacy<3.8.0,>=3.7.2->en-core-web-md==3.7.1) (0.3.4)\n",
            "Requirement already satisfied: typer<0.10.0,>=0.3.0 in d:\\anaconda3\\envs\\zum_nlp_env\\lib\\site-packages (from spacy<3.8.0,>=3.7.2->en-core-web-md==3.7.1) (0.9.0)\n",
            "Requirement already satisfied: smart-open<7.0.0,>=5.2.1 in d:\\anaconda3\\envs\\zum_nlp_env\\lib\\site-packages (from spacy<3.8.0,>=3.7.2->en-core-web-md==3.7.1) (6.4.0)\n",
            "Requirement already satisfied: tqdm<5.0.0,>=4.38.0 in d:\\anaconda3\\envs\\zum_nlp_env\\lib\\site-packages (from spacy<3.8.0,>=3.7.2->en-core-web-md==3.7.1) (4.66.1)\n",
            "Requirement already satisfied: requests<3.0.0,>=2.13.0 in d:\\anaconda3\\envs\\zum_nlp_env\\lib\\site-packages (from spacy<3.8.0,>=3.7.2->en-core-web-md==3.7.1) (2.31.0)\n",
            "Requirement already satisfied: pydantic!=1.8,!=1.8.1,<3.0.0,>=1.7.4 in d:\\anaconda3\\envs\\zum_nlp_env\\lib\\site-packages (from spacy<3.8.0,>=3.7.2->en-core-web-md==3.7.1) (2.5.2)\n",
            "Requirement already satisfied: jinja2 in d:\\anaconda3\\envs\\zum_nlp_env\\lib\\site-packages (from spacy<3.8.0,>=3.7.2->en-core-web-md==3.7.1) (3.1.2)\n",
            "Requirement already satisfied: setuptools in d:\\anaconda3\\envs\\zum_nlp_env\\lib\\site-packages (from spacy<3.8.0,>=3.7.2->en-core-web-md==3.7.1) (68.0.0)\n",
            "Requirement already satisfied: packaging>=20.0 in d:\\anaconda3\\envs\\zum_nlp_env\\lib\\site-packages (from spacy<3.8.0,>=3.7.2->en-core-web-md==3.7.1) (23.2)\n",
            "Requirement already satisfied: langcodes<4.0.0,>=3.2.0 in d:\\anaconda3\\envs\\zum_nlp_env\\lib\\site-packages (from spacy<3.8.0,>=3.7.2->en-core-web-md==3.7.1) (3.3.0)\n",
            "Requirement already satisfied: numpy>=1.19.0 in d:\\anaconda3\\envs\\zum_nlp_env\\lib\\site-packages (from spacy<3.8.0,>=3.7.2->en-core-web-md==3.7.1) (1.26.2)\n",
            "Requirement already satisfied: annotated-types>=0.4.0 in d:\\anaconda3\\envs\\zum_nlp_env\\lib\\site-packages (from pydantic!=1.8,!=1.8.1,<3.0.0,>=1.7.4->spacy<3.8.0,>=3.7.2->en-core-web-md==3.7.1) (0.6.0)\n",
            "Requirement already satisfied: pydantic-core==2.14.5 in d:\\anaconda3\\envs\\zum_nlp_env\\lib\\site-packages (from pydantic!=1.8,!=1.8.1,<3.0.0,>=1.7.4->spacy<3.8.0,>=3.7.2->en-core-web-md==3.7.1) (2.14.5)\n",
            "Requirement already satisfied: typing-extensions>=4.6.1 in d:\\anaconda3\\envs\\zum_nlp_env\\lib\\site-packages (from pydantic!=1.8,!=1.8.1,<3.0.0,>=1.7.4->spacy<3.8.0,>=3.7.2->en-core-web-md==3.7.1) (4.9.0)\n",
            "Requirement already satisfied: charset-normalizer<4,>=2 in d:\\anaconda3\\envs\\zum_nlp_env\\lib\\site-packages (from requests<3.0.0,>=2.13.0->spacy<3.8.0,>=3.7.2->en-core-web-md==3.7.1) (3.3.2)\n",
            "Requirement already satisfied: idna<4,>=2.5 in d:\\anaconda3\\envs\\zum_nlp_env\\lib\\site-packages (from requests<3.0.0,>=2.13.0->spacy<3.8.0,>=3.7.2->en-core-web-md==3.7.1) (3.6)\n",
            "Requirement already satisfied: urllib3<3,>=1.21.1 in d:\\anaconda3\\envs\\zum_nlp_env\\lib\\site-packages (from requests<3.0.0,>=2.13.0->spacy<3.8.0,>=3.7.2->en-core-web-md==3.7.1) (2.1.0)\n",
            "Requirement already satisfied: certifi>=2017.4.17 in d:\\anaconda3\\envs\\zum_nlp_env\\lib\\site-packages (from requests<3.0.0,>=2.13.0->spacy<3.8.0,>=3.7.2->en-core-web-md==3.7.1) (2023.11.17)\n",
            "Requirement already satisfied: blis<0.8.0,>=0.7.8 in d:\\anaconda3\\envs\\zum_nlp_env\\lib\\site-packages (from thinc<8.3.0,>=8.1.8->spacy<3.8.0,>=3.7.2->en-core-web-md==3.7.1) (0.7.11)\n",
            "Requirement already satisfied: confection<1.0.0,>=0.0.1 in d:\\anaconda3\\envs\\zum_nlp_env\\lib\\site-packages (from thinc<8.3.0,>=8.1.8->spacy<3.8.0,>=3.7.2->en-core-web-md==3.7.1) (0.1.4)\n",
            "Requirement already satisfied: colorama in d:\\anaconda3\\envs\\zum_nlp_env\\lib\\site-packages (from tqdm<5.0.0,>=4.38.0->spacy<3.8.0,>=3.7.2->en-core-web-md==3.7.1) (0.4.6)\n",
            "Requirement already satisfied: click<9.0.0,>=7.1.1 in d:\\anaconda3\\envs\\zum_nlp_env\\lib\\site-packages (from typer<0.10.0,>=0.3.0->spacy<3.8.0,>=3.7.2->en-core-web-md==3.7.1) (8.1.7)\n",
            "Requirement already satisfied: cloudpathlib<0.17.0,>=0.7.0 in d:\\anaconda3\\envs\\zum_nlp_env\\lib\\site-packages (from weasel<0.4.0,>=0.1.0->spacy<3.8.0,>=3.7.2->en-core-web-md==3.7.1) (0.16.0)\n",
            "Requirement already satisfied: MarkupSafe>=2.0 in d:\\anaconda3\\envs\\zum_nlp_env\\lib\\site-packages (from jinja2->spacy<3.8.0,>=3.7.2->en-core-web-md==3.7.1) (2.1.3)\n",
            "\u001b[38;5;2m✔ Download and installation successful\u001b[0m\n",
            "You can now load the package via spacy.load('en_core_web_md')\n"
          ]
        }
      ],
      "source": [
        "# Downloading the english model\n",
        "!python -m spacy download en_core_web_md"
      ]
    },
    {
      "cell_type": "code",
      "execution_count": 18,
      "metadata": {},
      "outputs": [
        {
          "data": {
            "text/plain": [
              "<spacy.pipeline.sentencizer.Sentencizer at 0x1d498b3ee00>"
            ]
          },
          "execution_count": 18,
          "metadata": {},
          "output_type": "execute_result"
        }
      ],
      "source": [
        "nlp = spacy.load('en_core_web_md', disable=['ner', 'parser'])\n",
        "nlp.add_pipe('sentencizer')"
      ]
    },
    {
      "cell_type": "code",
      "execution_count": 19,
      "metadata": {},
      "outputs": [
        {
          "data": {
            "text/html": [
              "<div>\n",
              "<style scoped>\n",
              "    .dataframe tbody tr th:only-of-type {\n",
              "        vertical-align: middle;\n",
              "    }\n",
              "\n",
              "    .dataframe tbody tr th {\n",
              "        vertical-align: top;\n",
              "    }\n",
              "\n",
              "    .dataframe thead th {\n",
              "        text-align: right;\n",
              "    }\n",
              "</style>\n",
              "<table border=\"1\" class=\"dataframe\">\n",
              "  <thead>\n",
              "    <tr style=\"text-align: right;\">\n",
              "      <th></th>\n",
              "      <th>review_text</th>\n",
              "      <th>review_score</th>\n",
              "    </tr>\n",
              "  </thead>\n",
              "  <tbody>\n",
              "    <tr>\n",
              "      <th>0</th>\n",
              "      <td>This game good</td>\n",
              "      <td>1</td>\n",
              "    </tr>\n",
              "    <tr>\n",
              "      <th>1</th>\n",
              "      <td>fight pro generic noob lunge thing shredded bits won~!</td>\n",
              "      <td>1</td>\n",
              "    </tr>\n",
              "    <tr>\n",
              "      <th>2</th>\n",
              "      <td>Grow Up I wanted sequel Grow Home. The positives: + More collectibles + Challenges + More costumes + Huge world explore multiple biomes, new plants, animals + Mobility options built BUD instead plant based (i.e. Glider Air Break instead Flower Leaf) + Additional character POD, help find things map The negative: - BUD difficult handle challenges precise movements limited time Other negative, Ubisoft Reflections perfect sequel game proud work!</td>\n",
              "      <td>1</td>\n",
              "    </tr>\n",
              "    <tr>\n",
              "      <th>3</th>\n",
              "      <td>Hmmm... How this... A stupid game funny man making jokes telling story &amp;amp; surprisingly addictive fun matter play co-op friends. 9/10</td>\n",
              "      <td>1</td>\n",
              "    </tr>\n",
              "    <tr>\n",
              "      <th>4</th>\n",
              "      <td>hard good (i like like that). #betterthannuclearthronexddd</td>\n",
              "      <td>1</td>\n",
              "    </tr>\n",
              "  </tbody>\n",
              "</table>\n",
              "</div>"
            ],
            "text/plain": [
              "                                                                                                                                                                                                                                                                                                                                                                                                                                                     review_text  \\\n",
              "0                                                                                                                                                                                                                                                                                                                                                                                                                                                 This game good   \n",
              "1                                                                                                                                                                                                                                                                                                                                                                                                         fight pro generic noob lunge thing shredded bits won~!   \n",
              "2  Grow Up I wanted sequel Grow Home. The positives: + More collectibles + Challenges + More costumes + Huge world explore multiple biomes, new plants, animals + Mobility options built BUD instead plant based (i.e. Glider Air Break instead Flower Leaf) + Additional character POD, help find things map The negative: - BUD difficult handle challenges precise movements limited time Other negative, Ubisoft Reflections perfect sequel game proud work!   \n",
              "3                                                                                                                                                                                                                                                                                                                        Hmmm... How this... A stupid game funny man making jokes telling story &amp; surprisingly addictive fun matter play co-op friends. 9/10   \n",
              "4                                                                                                                                                                                                                                                                                                                                                                                                     hard good (i like like that). #betterthannuclearthronexddd   \n",
              "\n",
              "   review_score  \n",
              "0             1  \n",
              "1             1  \n",
              "2             1  \n",
              "3             1  \n",
              "4             1  "
            ]
          },
          "execution_count": 19,
          "metadata": {},
          "output_type": "execute_result"
        }
      ],
      "source": [
        "def remove_stop_words(text):\n",
        "  return ' '.join(filter(lambda x: x not in nlp.Defaults.stop_words, text.split()))\n",
        "\n",
        "df['review_text'] = df['review_text'].astype(str).apply(remove_stop_words)\n",
        "df.head()"
      ]
    },
    {
      "cell_type": "markdown",
      "metadata": {},
      "source": [
        "Lowercase"
      ]
    },
    {
      "cell_type": "code",
      "execution_count": 20,
      "metadata": {},
      "outputs": [
        {
          "data": {
            "text/html": [
              "<div>\n",
              "<style scoped>\n",
              "    .dataframe tbody tr th:only-of-type {\n",
              "        vertical-align: middle;\n",
              "    }\n",
              "\n",
              "    .dataframe tbody tr th {\n",
              "        vertical-align: top;\n",
              "    }\n",
              "\n",
              "    .dataframe thead th {\n",
              "        text-align: right;\n",
              "    }\n",
              "</style>\n",
              "<table border=\"1\" class=\"dataframe\">\n",
              "  <thead>\n",
              "    <tr style=\"text-align: right;\">\n",
              "      <th></th>\n",
              "      <th>review_text</th>\n",
              "      <th>review_score</th>\n",
              "    </tr>\n",
              "  </thead>\n",
              "  <tbody>\n",
              "    <tr>\n",
              "      <th>0</th>\n",
              "      <td>this game good</td>\n",
              "      <td>1</td>\n",
              "    </tr>\n",
              "    <tr>\n",
              "      <th>1</th>\n",
              "      <td>fight pro generic noob lunge thing shredded bits won~!</td>\n",
              "      <td>1</td>\n",
              "    </tr>\n",
              "    <tr>\n",
              "      <th>2</th>\n",
              "      <td>grow up i wanted sequel grow home. the positives: + more collectibles + challenges + more costumes + huge world explore multiple biomes, new plants, animals + mobility options built bud instead plant based (i.e. glider air break instead flower leaf) + additional character pod, help find things map the negative: - bud difficult handle challenges precise movements limited time other negative, ubisoft reflections perfect sequel game proud work!</td>\n",
              "      <td>1</td>\n",
              "    </tr>\n",
              "    <tr>\n",
              "      <th>3</th>\n",
              "      <td>hmmm... how this... a stupid game funny man making jokes telling story &amp;amp; surprisingly addictive fun matter play co-op friends. 9/10</td>\n",
              "      <td>1</td>\n",
              "    </tr>\n",
              "    <tr>\n",
              "      <th>4</th>\n",
              "      <td>hard good (i like like that). #betterthannuclearthronexddd</td>\n",
              "      <td>1</td>\n",
              "    </tr>\n",
              "  </tbody>\n",
              "</table>\n",
              "</div>"
            ],
            "text/plain": [
              "                                                                                                                                                                                                                                                                                                                                                                                                                                                     review_text  \\\n",
              "0                                                                                                                                                                                                                                                                                                                                                                                                                                                 this game good   \n",
              "1                                                                                                                                                                                                                                                                                                                                                                                                         fight pro generic noob lunge thing shredded bits won~!   \n",
              "2  grow up i wanted sequel grow home. the positives: + more collectibles + challenges + more costumes + huge world explore multiple biomes, new plants, animals + mobility options built bud instead plant based (i.e. glider air break instead flower leaf) + additional character pod, help find things map the negative: - bud difficult handle challenges precise movements limited time other negative, ubisoft reflections perfect sequel game proud work!   \n",
              "3                                                                                                                                                                                                                                                                                                                        hmmm... how this... a stupid game funny man making jokes telling story &amp; surprisingly addictive fun matter play co-op friends. 9/10   \n",
              "4                                                                                                                                                                                                                                                                                                                                                                                                     hard good (i like like that). #betterthannuclearthronexddd   \n",
              "\n",
              "   review_score  \n",
              "0             1  \n",
              "1             1  \n",
              "2             1  \n",
              "3             1  \n",
              "4             1  "
            ]
          },
          "execution_count": 20,
          "metadata": {},
          "output_type": "execute_result"
        }
      ],
      "source": [
        "df['review_text'] = df['review_text'].apply(lambda x: x.lower())\n",
        "df.head()"
      ]
    },
    {
      "cell_type": "markdown",
      "metadata": {},
      "source": [
        "Usunięcie znaków specjalnych"
      ]
    },
    {
      "cell_type": "code",
      "execution_count": 21,
      "metadata": {},
      "outputs": [
        {
          "data": {
            "text/html": [
              "<div>\n",
              "<style scoped>\n",
              "    .dataframe tbody tr th:only-of-type {\n",
              "        vertical-align: middle;\n",
              "    }\n",
              "\n",
              "    .dataframe tbody tr th {\n",
              "        vertical-align: top;\n",
              "    }\n",
              "\n",
              "    .dataframe thead th {\n",
              "        text-align: right;\n",
              "    }\n",
              "</style>\n",
              "<table border=\"1\" class=\"dataframe\">\n",
              "  <thead>\n",
              "    <tr style=\"text-align: right;\">\n",
              "      <th></th>\n",
              "      <th>review_text</th>\n",
              "      <th>review_score</th>\n",
              "    </tr>\n",
              "  </thead>\n",
              "  <tbody>\n",
              "    <tr>\n",
              "      <th>0</th>\n",
              "      <td>this game good</td>\n",
              "      <td>1</td>\n",
              "    </tr>\n",
              "    <tr>\n",
              "      <th>1</th>\n",
              "      <td>fight pro generic noob lunge thing shredded bits won</td>\n",
              "      <td>1</td>\n",
              "    </tr>\n",
              "    <tr>\n",
              "      <th>2</th>\n",
              "      <td>grow up i wanted sequel grow home the positives  more collectibles  challenges  more costumes  huge world explore multiple biomes new plants animals  mobility options built bud instead plant based ie glider air break instead flower leaf  additional character pod help find things map the negative  bud difficult handle challenges precise movements limited time other negative ubisoft reflections perfect sequel game proud work</td>\n",
              "      <td>1</td>\n",
              "    </tr>\n",
              "    <tr>\n",
              "      <th>3</th>\n",
              "      <td>hmmm how this a stupid game funny man making jokes telling story amp surprisingly addictive fun matter play coop friends</td>\n",
              "      <td>1</td>\n",
              "    </tr>\n",
              "    <tr>\n",
              "      <th>4</th>\n",
              "      <td>hard good i like like that betterthannuclearthronexddd</td>\n",
              "      <td>1</td>\n",
              "    </tr>\n",
              "  </tbody>\n",
              "</table>\n",
              "</div>"
            ],
            "text/plain": [
              "                                                                                                                                                                                                                                                                                                                                                                                                                                  review_text  \\\n",
              "0                                                                                                                                                                                                                                                                                                                                                                                                                              this game good   \n",
              "1                                                                                                                                                                                                                                                                                                                                                                                        fight pro generic noob lunge thing shredded bits won   \n",
              "2  grow up i wanted sequel grow home the positives  more collectibles  challenges  more costumes  huge world explore multiple biomes new plants animals  mobility options built bud instead plant based ie glider air break instead flower leaf  additional character pod help find things map the negative  bud difficult handle challenges precise movements limited time other negative ubisoft reflections perfect sequel game proud work   \n",
              "3                                                                                                                                                                                                                                                                                                                   hmmm how this a stupid game funny man making jokes telling story amp surprisingly addictive fun matter play coop friends    \n",
              "4                                                                                                                                                                                                                                                                                                                                                                                      hard good i like like that betterthannuclearthronexddd   \n",
              "\n",
              "   review_score  \n",
              "0             1  \n",
              "1             1  \n",
              "2             1  \n",
              "3             1  \n",
              "4             1  "
            ]
          },
          "execution_count": 21,
          "metadata": {},
          "output_type": "execute_result"
        }
      ],
      "source": [
        "df.loc[:, 'review_text'] = df['review_text'].str.replace(r\"[^a-z\\s']\", '', regex=True)\n",
        "\n",
        "df.head()"
      ]
    },
    {
      "cell_type": "markdown",
      "metadata": {},
      "source": [
        "Lemmatyzacja"
      ]
    },
    {
      "cell_type": "code",
      "execution_count": 22,
      "metadata": {},
      "outputs": [
        {
          "data": {
            "text/html": [
              "<div>\n",
              "<style scoped>\n",
              "    .dataframe tbody tr th:only-of-type {\n",
              "        vertical-align: middle;\n",
              "    }\n",
              "\n",
              "    .dataframe tbody tr th {\n",
              "        vertical-align: top;\n",
              "    }\n",
              "\n",
              "    .dataframe thead th {\n",
              "        text-align: right;\n",
              "    }\n",
              "</style>\n",
              "<table border=\"1\" class=\"dataframe\">\n",
              "  <thead>\n",
              "    <tr style=\"text-align: right;\">\n",
              "      <th></th>\n",
              "      <th>review_text</th>\n",
              "      <th>review_score</th>\n",
              "    </tr>\n",
              "  </thead>\n",
              "  <tbody>\n",
              "    <tr>\n",
              "      <th>0</th>\n",
              "      <td>this game good</td>\n",
              "      <td>1</td>\n",
              "    </tr>\n",
              "    <tr>\n",
              "      <th>1</th>\n",
              "      <td>fight pro generic noob lunge thing shred bit win</td>\n",
              "      <td>1</td>\n",
              "    </tr>\n",
              "    <tr>\n",
              "      <th>2</th>\n",
              "      <td>grow up I want sequel grow home the positive   more collectible   challenge   more costume   huge world explore multiple biome new plant animal   mobility option build bud instead plant base ie glider air break instead flower leaf   additional character pod help find thing map the negative   bud difficult handle challenge precise movement limited time other negative ubisoft reflection perfect sequel game proud work</td>\n",
              "      <td>1</td>\n",
              "    </tr>\n",
              "    <tr>\n",
              "      <th>3</th>\n",
              "      <td>hmmm how this a stupid game funny man make joke tell story amp surprisingly addictive fun matter play coop friend</td>\n",
              "      <td>1</td>\n",
              "    </tr>\n",
              "    <tr>\n",
              "      <th>4</th>\n",
              "      <td>hard good I like like that betterthannuclearthronexddd</td>\n",
              "      <td>1</td>\n",
              "    </tr>\n",
              "  </tbody>\n",
              "</table>\n",
              "</div>"
            ],
            "text/plain": [
              "                                                                                                                                                                                                                                                                                                                                                                                                                          review_text  \\\n",
              "0                                                                                                                                                                                                                                                                                                                                                                                                                      this game good   \n",
              "1                                                                                                                                                                                                                                                                                                                                                                                    fight pro generic noob lunge thing shred bit win   \n",
              "2  grow up I want sequel grow home the positive   more collectible   challenge   more costume   huge world explore multiple biome new plant animal   mobility option build bud instead plant base ie glider air break instead flower leaf   additional character pod help find thing map the negative   bud difficult handle challenge precise movement limited time other negative ubisoft reflection perfect sequel game proud work   \n",
              "3                                                                                                                                                                                                                                                                                                                   hmmm how this a stupid game funny man make joke tell story amp surprisingly addictive fun matter play coop friend   \n",
              "4                                                                                                                                                                                                                                                                                                                                                                              hard good I like like that betterthannuclearthronexddd   \n",
              "\n",
              "   review_score  \n",
              "0             1  \n",
              "1             1  \n",
              "2             1  \n",
              "3             1  \n",
              "4             1  "
            ]
          },
          "execution_count": 22,
          "metadata": {},
          "output_type": "execute_result"
        }
      ],
      "source": [
        "def lemmatize(text):\n",
        "  return ' '.join(x.lemma_ for x in nlp(text))\n",
        "\n",
        "# def tokenize_and_lemmatize(text):\n",
        "#     doc = nlp(text)\n",
        "#     return [token.lemma_ for token in doc]\n",
        "\n",
        "# Apply the function to the column containing the text in your df dataset\n",
        "df_lemmatized = df.copy()\n",
        "df_lemmatized['review_text'] = df_lemmatized['review_text'].apply(lemmatize)\n",
        "\n",
        "df_lemmatized.head()"
      ]
    },
    {
      "cell_type": "markdown",
      "metadata": {},
      "source": [
        "### Przygotowanie danych do modeli"
      ]
    },
    {
      "cell_type": "markdown",
      "metadata": {},
      "source": [
        "Train/val/test split"
      ]
    },
    {
      "cell_type": "code",
      "execution_count": 29,
      "metadata": {},
      "outputs": [],
      "source": [
        "RANDOM_SEED = 42\n",
        "\n",
        "X = df_lemmatized[['review_text']]\n",
        "y = df_lemmatized['review_score']\n",
        "\n",
        "# Pierwszy podział - wyodrębnienie zbioru trenigowego, pozostałe 30% danych będzie rozdzielone na zbiór walidacyjny i testowy\n",
        "X_train, X_temp, y_train, y_temp = train_test_split(X, y, test_size=0.3, random_state=RANDOM_SEED, stratify=y)\n",
        "\n",
        "# Drugi podział - wyodrębnienie zbioru walidacyjnego (20%) i testowego (10%)\n",
        "X_val, X_test, y_val, y_test = train_test_split(X_temp, y_temp, test_size=1/3, random_state=RANDOM_SEED, stratify=y_temp)\n"
      ]
    },
    {
      "cell_type": "code",
      "execution_count": 30,
      "metadata": {},
      "outputs": [
        {
          "name": "stdout",
          "output_type": "stream",
          "text": [
            "X_train shape: (311024, 1), y_train shape: (311024,)\n",
            "X_val shape: (88864, 1), y_val shape: (88864,)\n",
            "X_test shape: (44432, 1), y_test shape: (44432,)\n"
          ]
        }
      ],
      "source": [
        "print(f'X_train shape: {X_train.shape}, y_train shape: {y_train.shape}')\n",
        "print(f'X_val shape: {X_val.shape}, y_val shape: {y_val.shape}')\n",
        "print(f'X_test shape: {X_test.shape}, y_test shape: {y_test.shape}')"
      ]
    },
    {
      "cell_type": "code",
      "execution_count": 31,
      "metadata": {},
      "outputs": [
        {
          "data": {
            "text/html": [
              "<div>\n",
              "<style scoped>\n",
              "    .dataframe tbody tr th:only-of-type {\n",
              "        vertical-align: middle;\n",
              "    }\n",
              "\n",
              "    .dataframe tbody tr th {\n",
              "        vertical-align: top;\n",
              "    }\n",
              "\n",
              "    .dataframe thead th {\n",
              "        text-align: right;\n",
              "    }\n",
              "</style>\n",
              "<table border=\"1\" class=\"dataframe\">\n",
              "  <thead>\n",
              "    <tr style=\"text-align: right;\">\n",
              "      <th></th>\n",
              "      <th>review_text</th>\n",
              "      <th>review_score</th>\n",
              "    </tr>\n",
              "  </thead>\n",
              "  <tbody>\n",
              "    <tr>\n",
              "      <th>94554</th>\n",
              "      <td>people play this</td>\n",
              "      <td>1</td>\n",
              "    </tr>\n",
              "    <tr>\n",
              "      <th>121851</th>\n",
              "      <td>if you be slightly interested arcade racing game andor football check outwell actually you be   in rocket league you be play football or soccer car addition speed booster jump great move aerial shot you choose v v v v match it be near player real football that be actually good thing v pretty messy chaoticthen again fun   it be easy game tutorial basic like handle booster aerial shot defense etc but do not mean challenge to insane aerial maneuver you will need train the main motivation come competitive game rank game normal match player there singleplayer mode that be practice get game selling point game you unlock stuff car like hat booster color tire pattern car I have big fan genre rocket league manage pull get excited match play even you be play random people it be bad fun have good team work good fun so hope field</td>\n",
              "      <td>1</td>\n",
              "    </tr>\n",
              "    <tr>\n",
              "      <th>112906</th>\n",
              "      <td>I go game low expectation have play final fantasy xiii   hour give linear dungeon simply require a b kill monster process I pleasantly surprise find lightning return far superior experience overall to begin with world open fairly quickly let explore different hub area interact npc there vendor quest giver imbue character sense freedom sorely lack xiii the story focus take lightning journey save soul mankind world come end build simple premise add layer intrigue character lumina another positive quest tie story main give lightning undertake personal quest save soul learn little bit process nevertheless I would remiss I do not mention canvas prayer ' quest basically run collect material anonymous people since world come end make sense there be tick clock haunt step at glance undoubtedly come huge negative game provide mean stall clock variety way first gather soul collect call eradia add day clock furthermore ability ingame call chronostasis let freeze clock thirty ingame minute if you be doubtful start easy pretty forget clock on plus side passage time allow game hub area dynamic unlocking area vendor quest giver event specific time build illusion live breathing world you be in combat reprise xiii formula atb system enhance schemata schemata essentially build create comprise garb weapon accessory ability during battle switch different schematas atb bar give leeway deal variety enemy furthermore ability weapon upgrade game ng if help I find sink lot time game realize it what impress most personally grip story actually interesting relevant quest you do not need play previous game enjoy understand what be go game pretty good job lay background ironically lightning return be mind well entry point xiii be the end bit confusing I will that return kingesque feeling it I find immensely satisfying so want final fantasy general lightning trilogy particular lightning return shoot like I game look for</td>\n",
              "      <td>1</td>\n",
              "    </tr>\n",
              "    <tr>\n",
              "      <th>214549</th>\n",
              "      <td>unbelievably addicting infuriate challenging competitive insane amount hype playing friend I game month   now I school time work I   hour game it fill moment free time have cut beauty sleep the dog shorter walk food burn cook want smash face screen rip little ers throat garbage say intercom bestgameever   rage again</td>\n",
              "      <td>1</td>\n",
              "    </tr>\n",
              "    <tr>\n",
              "      <th>415175</th>\n",
              "      <td>this can not happen I be totally serious thing borderline unplayable holy crap purpose absolutely work right the   second nightmare zipple do not control like good platformer instead play like mythical   d platformer tank control like bubsy d however it be bad here turn speed sound way change sensitivity absolutely way finesse job it be literally base luck manage point right direction it feel smooth gameplay trailer sort twist joke feel like idiot figure magic formula the objective thing bring useless crap house want collectathon control good freaking luck to defend forever respawne enemy zipple shoot incredible electric ball render useless poor aim you invincible run turn like tornado fun briefest moment lastly rock periodically fall head   may kill enemy citation need actually try end zipple 's futile voyage randomly similar generate level eternity button mapping break hell would not know test ingame   fire button fire   completely useless ' submit ' button which pause despite actually thing map vertical axis get invert the game forget resolution go x accross screen I add overall aesthetic fitting gameplay be not I would 've semester college cartoonish theme level character come hardcore   fantasy game the decoration disappear close they carlo d'apostoli do not understand ' level detail ' work again fit big joke I be idiot story truly work art</td>\n",
              "      <td>0</td>\n",
              "    </tr>\n",
              "  </tbody>\n",
              "</table>\n",
              "</div>"
            ],
            "text/plain": [
              "                                                                                                                                                                                                                                                                                                                                                                                                                                                                                                                                                                                                                                                                                                                                                                                                                                                                                                                                                                                                                                                                                                                                                                                                                                                                                                                                                                                                                                                                                                                                                                                                                                                                                                                                                                                                                                                                                                                                                                                              review_text  \\\n",
              "94554                                                                                                                                                                                                                                                                                                                                                                                                                                                                                                                                                                                                                                                                                                                                                                                                                                                                                                                                                                                                                                                                                                                                                                                                                                                                                                                                                                                                                                                                                                                                                                                                                                                                                                                                                                                                                                                                                                                                                                                    people play this   \n",
              "121851                                                                                                                                                                                                                                                                                                                                                                                                                                                                                                                                                                                                                                                                                                                                                                                                                                                                                                                                                                                                                                                                                                                                      if you be slightly interested arcade racing game andor football check outwell actually you be   in rocket league you be play football or soccer car addition speed booster jump great move aerial shot you choose v v v v match it be near player real football that be actually good thing v pretty messy chaoticthen again fun   it be easy game tutorial basic like handle booster aerial shot defense etc but do not mean challenge to insane aerial maneuver you will need train the main motivation come competitive game rank game normal match player there singleplayer mode that be practice get game selling point game you unlock stuff car like hat booster color tire pattern car I have big fan genre rocket league manage pull get excited match play even you be play random people it be bad fun have good team work good fun so hope field   \n",
              "112906  I go game low expectation have play final fantasy xiii   hour give linear dungeon simply require a b kill monster process I pleasantly surprise find lightning return far superior experience overall to begin with world open fairly quickly let explore different hub area interact npc there vendor quest giver imbue character sense freedom sorely lack xiii the story focus take lightning journey save soul mankind world come end build simple premise add layer intrigue character lumina another positive quest tie story main give lightning undertake personal quest save soul learn little bit process nevertheless I would remiss I do not mention canvas prayer ' quest basically run collect material anonymous people since world come end make sense there be tick clock haunt step at glance undoubtedly come huge negative game provide mean stall clock variety way first gather soul collect call eradia add day clock furthermore ability ingame call chronostasis let freeze clock thirty ingame minute if you be doubtful start easy pretty forget clock on plus side passage time allow game hub area dynamic unlocking area vendor quest giver event specific time build illusion live breathing world you be in combat reprise xiii formula atb system enhance schemata schemata essentially build create comprise garb weapon accessory ability during battle switch different schematas atb bar give leeway deal variety enemy furthermore ability weapon upgrade game ng if help I find sink lot time game realize it what impress most personally grip story actually interesting relevant quest you do not need play previous game enjoy understand what be go game pretty good job lay background ironically lightning return be mind well entry point xiii be the end bit confusing I will that return kingesque feeling it I find immensely satisfying so want final fantasy general lightning trilogy particular lightning return shoot like I game look for   \n",
              "214549                                                                                                                                                                                                                                                                                                                                                                                                                                                                                                                                                                                                                                                                                                                                                                                                                                                                                                                                                                                                                                                                                                                                                                                                                                                                                                                                                                                                                                                                                                                                                                                                                                                                      unbelievably addicting infuriate challenging competitive insane amount hype playing friend I game month   now I school time work I   hour game it fill moment free time have cut beauty sleep the dog shorter walk food burn cook want smash face screen rip little ers throat garbage say intercom bestgameever   rage again   \n",
              "415175                                                                                                                                                                                                                                                                                                                                                                                                                                                                                                                                                                            this can not happen I be totally serious thing borderline unplayable holy crap purpose absolutely work right the   second nightmare zipple do not control like good platformer instead play like mythical   d platformer tank control like bubsy d however it be bad here turn speed sound way change sensitivity absolutely way finesse job it be literally base luck manage point right direction it feel smooth gameplay trailer sort twist joke feel like idiot figure magic formula the objective thing bring useless crap house want collectathon control good freaking luck to defend forever respawne enemy zipple shoot incredible electric ball render useless poor aim you invincible run turn like tornado fun briefest moment lastly rock periodically fall head   may kill enemy citation need actually try end zipple 's futile voyage randomly similar generate level eternity button mapping break hell would not know test ingame   fire button fire   completely useless ' submit ' button which pause despite actually thing map vertical axis get invert the game forget resolution go x accross screen I add overall aesthetic fitting gameplay be not I would 've semester college cartoonish theme level character come hardcore   fantasy game the decoration disappear close they carlo d'apostoli do not understand ' level detail ' work again fit big joke I be idiot story truly work art   \n",
              "\n",
              "        review_score  \n",
              "94554              1  \n",
              "121851             1  \n",
              "112906             1  \n",
              "214549             1  \n",
              "415175             0  "
            ]
          },
          "execution_count": 31,
          "metadata": {},
          "output_type": "execute_result"
        }
      ],
      "source": [
        "train_data = pd.concat([X_train, y_train], axis=1)\n",
        "train_data.head()"
      ]
    },
    {
      "cell_type": "code",
      "execution_count": 32,
      "metadata": {},
      "outputs": [
        {
          "data": {
            "text/html": [
              "<div>\n",
              "<style scoped>\n",
              "    .dataframe tbody tr th:only-of-type {\n",
              "        vertical-align: middle;\n",
              "    }\n",
              "\n",
              "    .dataframe tbody tr th {\n",
              "        vertical-align: top;\n",
              "    }\n",
              "\n",
              "    .dataframe thead th {\n",
              "        text-align: right;\n",
              "    }\n",
              "</style>\n",
              "<table border=\"1\" class=\"dataframe\">\n",
              "  <thead>\n",
              "    <tr style=\"text-align: right;\">\n",
              "      <th></th>\n",
              "      <th>review_text</th>\n",
              "      <th>review_score</th>\n",
              "    </tr>\n",
              "  </thead>\n",
              "  <tbody>\n",
              "    <tr>\n",
              "      <th>77632</th>\n",
              "      <td>I wish people know amazing game this game counter strike deserve more I wish steam advertise game home screen day people atention I like server fill this good game I ve play halflife engine rule you will not regret buying game</td>\n",
              "      <td>1</td>\n",
              "    </tr>\n",
              "    <tr>\n",
              "      <th>352411</th>\n",
              "      <td>normally I person convince people buy total war game friend steam know but now case I love game come out it way well twr but it be case can 's dlc strategy outrageous back napoleon tw tws dlcs actually good stuff here single dlc ridiculously similar another they twr   again they relase   dlcs month release lol I have not see like before</td>\n",
              "      <td>0</td>\n",
              "    </tr>\n",
              "    <tr>\n",
              "      <th>354395</th>\n",
              "      <td>I like anime d fighter   inlcude scroll one   phantom breaker worst there sure nice pixel art   especially background character art different story game port xbox    that be it nice art list issue big bear I it be advertise multiplayer   yes play co op screen lol   I dissapointe support online   kof heck battle block theater online   no tutorial whatsoever   sort how to ' booklet ' read do not help unless practise move will not learn   practise mode   so steep learning curve begin normal mode require lot grind   unlock special power set cool finisher   I find die ton time second level boss simply I underpowered lack emphasis player skill   game seriously promote spamming attack button   lot thing happen screen time hard time thing correctly way enemy attack like   stack   boss therefore counter block basically happen randomly awful control scheme first take time h m l sp mean game will not tell your key binding add fact block happen nothing heck think good idea annoying ok let us live that but sp button frustrating you want counter son do you well press sp enemy attack land ya easy right wrong because sp button butt load function activate emergency mode   drain hp    tad ' too ' late will not counter activate emergency mode it happen lot of time can not   stuff screen that frustrating thing ever combo ok executing throw bad half time do not work   imput lag maybe seriously simple gt plus h near enemy yet it be fricke hard   story non existent   find press button time ' cutsey ' voice sooo annoying   character bore cliche   I play ninja girl I hope tough line instead ' moe ' whatever I be go to puke ayame tenchu that be ninja girl not wishy washy psychopath smile cute voice uguu   because port sprite bit enlarged resolution option overall buy king fighter skull girl well time game well design control scheme way fun play frustrating candy cover piece horse manure</td>\n",
              "      <td>0</td>\n",
              "    </tr>\n",
              "    <tr>\n",
              "      <th>172825</th>\n",
              "      <td>come hard life</td>\n",
              "      <td>1</td>\n",
              "    </tr>\n",
              "    <tr>\n",
              "      <th>336006</th>\n",
              "      <td>can not run tired   dns flush update driver port forwardingdisabling nvidea streaming service change setting repair game multiple time remove reinstall abode falsh for reason everything   week old solid state drive run perfectly havnt crash game drive total war warhmmer mate   issue log character computer load new area play hit new area boot login everytime would not log again occassionally let in play problem area need load like game can not recommend base experience ask refund</td>\n",
              "      <td>0</td>\n",
              "    </tr>\n",
              "  </tbody>\n",
              "</table>\n",
              "</div>"
            ],
            "text/plain": [
              "                                                                                                                                                                                                                                                                                                                                                                                                                                                                                                                                                                                                                                                                                                                                                                                                                                                                                                                                                                                                                                                                                                                                                                                                                                                                                                                                                                                                                                                                                                                                                                                                                                                                                                                                                                                                                                                                                                                                                                  review_text  \\\n",
              "77632                                                                                                                                                                                                                                                                                                                                                                                                                                                                                                                                                                                                                                                                                                                                                                                                                                                                                                                                                                                                                                                                                                                                                                                                                                                                                                                                                                                                                                                                                                                                                                                                                                                                                                                                    I wish people know amazing game this game counter strike deserve more I wish steam advertise game home screen day people atention I like server fill this good game I ve play halflife engine rule you will not regret buying game     \n",
              "352411                                                                                                                                                                                                                                                                                                                                                                                                                                                                                                                                                                                                                                                                                                                                                                                                                                                                                                                                                                                                                                                                                                                                                                                                                                                                                                                                                                                                                                                                                                                                                                                                                     normally I person convince people buy total war game friend steam know but now case I love game come out it way well twr but it be case can 's dlc strategy outrageous back napoleon tw tws dlcs actually good stuff here single dlc ridiculously similar another they twr   again they relase   dlcs month release lol I have not see like before   \n",
              "354395  I like anime d fighter   inlcude scroll one   phantom breaker worst there sure nice pixel art   especially background character art different story game port xbox    that be it nice art list issue big bear I it be advertise multiplayer   yes play co op screen lol   I dissapointe support online   kof heck battle block theater online   no tutorial whatsoever   sort how to ' booklet ' read do not help unless practise move will not learn   practise mode   so steep learning curve begin normal mode require lot grind   unlock special power set cool finisher   I find die ton time second level boss simply I underpowered lack emphasis player skill   game seriously promote spamming attack button   lot thing happen screen time hard time thing correctly way enemy attack like   stack   boss therefore counter block basically happen randomly awful control scheme first take time h m l sp mean game will not tell your key binding add fact block happen nothing heck think good idea annoying ok let us live that but sp button frustrating you want counter son do you well press sp enemy attack land ya easy right wrong because sp button butt load function activate emergency mode   drain hp    tad ' too ' late will not counter activate emergency mode it happen lot of time can not   stuff screen that frustrating thing ever combo ok executing throw bad half time do not work   imput lag maybe seriously simple gt plus h near enemy yet it be fricke hard   story non existent   find press button time ' cutsey ' voice sooo annoying   character bore cliche   I play ninja girl I hope tough line instead ' moe ' whatever I be go to puke ayame tenchu that be ninja girl not wishy washy psychopath smile cute voice uguu   because port sprite bit enlarged resolution option overall buy king fighter skull girl well time game well design control scheme way fun play frustrating candy cover piece horse manure   \n",
              "172825                                                                                                                                                                                                                                                                                                                                                                                                                                                                                                                                                                                                                                                                                                                                                                                                                                                                                                                                                                                                                                                                                                                                                                                                                                                                                                                                                                                                                                                                                                                                                                                                                                                                                                                                                                                                                                                                                                                                                         come hard life   \n",
              "336006                                                                                                                                                                                                                                                                                                                                                                                                                                                                                                                                                                                                                                                                                                                                                                                                                                                                                                                                                                                                                                                                                                                                                                                                                                                                                                                                                                                                                                                                    can not run tired   dns flush update driver port forwardingdisabling nvidea streaming service change setting repair game multiple time remove reinstall abode falsh for reason everything   week old solid state drive run perfectly havnt crash game drive total war warhmmer mate   issue log character computer load new area play hit new area boot login everytime would not log again occassionally let in play problem area need load like game can not recommend base experience ask refund   \n",
              "\n",
              "        review_score  \n",
              "77632              1  \n",
              "352411             0  \n",
              "354395             0  \n",
              "172825             1  \n",
              "336006             0  "
            ]
          },
          "execution_count": 32,
          "metadata": {},
          "output_type": "execute_result"
        }
      ],
      "source": [
        "val_data = pd.concat([X_val, y_val], axis=1)\n",
        "val_data.head()"
      ]
    },
    {
      "cell_type": "code",
      "execution_count": 33,
      "metadata": {},
      "outputs": [
        {
          "data": {
            "text/html": [
              "<div>\n",
              "<style scoped>\n",
              "    .dataframe tbody tr th:only-of-type {\n",
              "        vertical-align: middle;\n",
              "    }\n",
              "\n",
              "    .dataframe tbody tr th {\n",
              "        vertical-align: top;\n",
              "    }\n",
              "\n",
              "    .dataframe thead th {\n",
              "        text-align: right;\n",
              "    }\n",
              "</style>\n",
              "<table border=\"1\" class=\"dataframe\">\n",
              "  <thead>\n",
              "    <tr style=\"text-align: right;\">\n",
              "      <th></th>\n",
              "      <th>review_text</th>\n",
              "      <th>review_score</th>\n",
              "    </tr>\n",
              "  </thead>\n",
              "  <tbody>\n",
              "    <tr>\n",
              "      <th>9440</th>\n",
              "      <td>at it be good unlike unturned</td>\n",
              "      <td>1</td>\n",
              "    </tr>\n",
              "    <tr>\n",
              "      <th>147915</th>\n",
              "      <td>it be ok</td>\n",
              "      <td>1</td>\n",
              "    </tr>\n",
              "    <tr>\n",
              "      <th>387058</th>\n",
              "      <td>do buy game   buck especially you be trackmania veteran it be run smoother prettier look general lack feature previous version console port likely it be ok game sequel trackmania</td>\n",
              "      <td>0</td>\n",
              "    </tr>\n",
              "    <tr>\n",
              "      <th>246128</th>\n",
              "      <td>this game stunk</td>\n",
              "      <td>0</td>\n",
              "    </tr>\n",
              "    <tr>\n",
              "      <th>13479</th>\n",
              "      <td>es gud gam pls pack</td>\n",
              "      <td>1</td>\n",
              "    </tr>\n",
              "  </tbody>\n",
              "</table>\n",
              "</div>"
            ],
            "text/plain": [
              "                                                                                                                                                                               review_text  \\\n",
              "9440                                                                                                                                                         at it be good unlike unturned   \n",
              "147915                                                                                                                                                                            it be ok   \n",
              "387058  do buy game   buck especially you be trackmania veteran it be run smoother prettier look general lack feature previous version console port likely it be ok game sequel trackmania   \n",
              "246128                                                                                                                                                                     this game stunk   \n",
              "13479                                                                                                                                                                  es gud gam pls pack   \n",
              "\n",
              "        review_score  \n",
              "9440               1  \n",
              "147915             1  \n",
              "387058             0  \n",
              "246128             0  \n",
              "13479              1  "
            ]
          },
          "execution_count": 33,
          "metadata": {},
          "output_type": "execute_result"
        }
      ],
      "source": [
        "test_data = pd.concat([X_test, y_test], axis=1)\n",
        "test_data.head()"
      ]
    },
    {
      "cell_type": "markdown",
      "metadata": {},
      "source": [
        "Tokenizacja"
      ]
    },
    {
      "cell_type": "code",
      "execution_count": 55,
      "metadata": {},
      "outputs": [],
      "source": [
        "tokenizer = get_tokenizer('spacy', 'en_core_web_sm')\n",
        "\n",
        "def yield_tokens(data_iter):\n",
        "  for text in data_iter:\n",
        "    yield tokenizer(text)"
      ]
    },
    {
      "cell_type": "code",
      "execution_count": 48,
      "metadata": {},
      "outputs": [],
      "source": [
        "train_iter = iter(list(train_data['review_text']))"
      ]
    },
    {
      "cell_type": "code",
      "execution_count": 54,
      "metadata": {},
      "outputs": [
        {
          "data": {
            "text/plain": [
              "311024"
            ]
          },
          "execution_count": 54,
          "metadata": {},
          "output_type": "execute_result"
        }
      ],
      "source": [
        "len(list(train_data['review_text']))"
      ]
    },
    {
      "cell_type": "code",
      "execution_count": 56,
      "metadata": {},
      "outputs": [],
      "source": [
        "MAX_TOKENS = 25000\n",
        "\n",
        "vocab = build_vocab_from_iterator(yield_tokens(train_iter), specials=['<unk>'], max_tokens=MAX_TOKENS)\n",
        "vocab.set_default_index(vocab['<unk>'])"
      ]
    },
    {
      "cell_type": "code",
      "execution_count": 58,
      "metadata": {},
      "outputs": [
        {
          "data": {
            "text/plain": [
              "[1, 0, 271, 13]"
            ]
          },
          "execution_count": 58,
          "metadata": {},
          "output_type": "execute_result"
        }
      ],
      "source": [
        "vocab(['game', 'is', 'very', 'good'])"
      ]
    },
    {
      "cell_type": "code",
      "execution_count": 59,
      "metadata": {},
      "outputs": [],
      "source": [
        "text_pipeline = lambda x: vocab(tokenizer(x))\n",
        "label_pipeline = lambda x: 1 if x == '1' else 0"
      ]
    },
    {
      "cell_type": "code",
      "execution_count": 62,
      "metadata": {},
      "outputs": [
        {
          "data": {
            "text/plain": [
              "[0, 1, 0, 64, 26]"
            ]
          },
          "execution_count": 62,
          "metadata": {},
          "output_type": "execute_result"
        }
      ],
      "source": [
        "text_pipeline('This game is so bad')"
      ]
    },
    {
      "cell_type": "markdown",
      "metadata": {},
      "source": [
        "DataLoader"
      ]
    },
    {
      "cell_type": "code",
      "execution_count": 60,
      "metadata": {},
      "outputs": [],
      "source": [
        "from torch.nn.utils.rnn import pad_sequence\n",
        "\n",
        "def collate_batch(batch):\n",
        "  label_list, text_list, lenghts = [], [], []\n",
        "\n",
        "  for _text, _label in batch:\n",
        "    label_list.append(label_pipeline(_label))\n",
        "    processed_text = torch.tensor(text_pipeline(_text), dtype=torch.int64)\n",
        "    text_list.append(processed_text)\n",
        "    lenghts.append(processed_text.size(0))\n",
        "\n",
        "  label_list = torch.tensor(label_list, dtype=torch.float32)\n",
        "  lenghts = torch.tensor(lenghts, dtype=torch.int64)\n",
        "  text_list = pad_sequence(text_list, batch_first=True)\n",
        "  return label_list, text_list, lenghts\n"
      ]
    },
    {
      "cell_type": "code",
      "execution_count": 61,
      "metadata": {},
      "outputs": [],
      "source": [
        "from torch.utils.data import DataLoader\n",
        "\n",
        "BATCH_SIZE = 64\n",
        "train_dataloader = DataLoader(train_data, batch_size=BATCH_SIZE, shuffle=True, collate_fn=collate_batch)\n",
        "val_dataloader = DataLoader(val_data, batch_size=BATCH_SIZE, shuffle=False, collate_fn=collate_batch)\n",
        "test_dataloader = DataLoader(test_data, batch_size=BATCH_SIZE, shuffle=False, collate_fn=collate_batch)"
      ]
    },
    {
      "cell_type": "markdown",
      "metadata": {},
      "source": [
        "### Modele"
      ]
    },
    {
      "cell_type": "markdown",
      "metadata": {},
      "source": [
        "#### GRU"
      ]
    },
    {
      "cell_type": "code",
      "execution_count": null,
      "metadata": {},
      "outputs": [],
      "source": [
        "# class GRUModel(nn.Module):\n",
        "#     def __init__(self, input_dim, embedding_dim, hidden_dim, output_dim):\n",
        "#       super().__init__()\n",
        "#       self.embedding = nn.Embedding(input_dim, embedding_dim)\n",
        "#       self.rnn = nn.GRU(embedding_dim, \n",
        "#                         hidden_dim, \n",
        "#                         num_layers=n_layers, \n",
        "#                         bidirectional=bidirectional, \n",
        "#                         dropout=dropout)\n",
        "            \n",
        "#       self.fc = nn.Linear(hidden_dim, output_dim)\n",
        "#       self.dropout = nn.Dropout(dropout)\n",
        "\n",
        "\n",
        "#     def forward(self, text, text_lenght):\n",
        "#       embedded = self.embedding(text)\n",
        "#       packed_embedded = pack_padded_sequence(embedded, text_lenght.cpu(), batch_first=True, enforce_sorted=False)\n",
        "#       packed_output, hidden = self.rnn(packed_embedded)\n",
        "#       output, output_lenghts = pad_packed_sequence(packed_output, batch_first=True)\n",
        "#       return self.fc(hidden.squeeze(0))"
      ]
    }
  ],
  "metadata": {
    "colab": {
      "provenance": []
    },
    "kernelspec": {
      "display_name": "Python 3",
      "name": "python3"
    },
    "language_info": {
      "codemirror_mode": {
        "name": "ipython",
        "version": 3
      },
      "file_extension": ".py",
      "mimetype": "text/x-python",
      "name": "python",
      "nbconvert_exporter": "python",
      "pygments_lexer": "ipython3",
      "version": "3.10.13"
    }
  },
  "nbformat": 4,
  "nbformat_minor": 0
}
