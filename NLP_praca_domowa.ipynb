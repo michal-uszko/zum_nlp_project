{
  "cells": [
    {
      "cell_type": "markdown",
      "metadata": {
        "id": "OYpJoHsns0aA"
      },
      "source": [
        "## Opis problemu\n",
        "\n",
        "Znajdź dowolny zbiór danych (dozwolone języki: angielski, hiszpański, polski, szwedzki) (poza IMDB oraz zbiorami wykorzystywanymi na zajęciach) do analizy sentymentu.\n",
        "Zbiór może mieć 2 lub 3 klasy.\n",
        "\n",
        "Następnie:\n",
        "1. Oczyść dane i zaprezentuj rozkład klas\n",
        "2. Zbuduj model analizy sentymenu:\n",
        "  - z wykorzystaniem sieci rekurencyjnej (LSTM/GRU/sieć dwukierunkowa) innej niż podstawowe RNN\n",
        "  - z wykorzystaniem sieci CNN\n",
        "  - z podstawiemiem pre-trained word embeddingów\n",
        "  - z fine-tuningiem modelu języka (poza podstawowym BERTem)\n",
        "\n",
        "3. Stwórz funkcję, która będzie korzystała z wytrenowanego modelu i zwracała wynik dla przekazanego pojedynczego zdania (zdań) w postaci komunikatu informującego użytkownika, czy tekst jest nacechowany negatywnie, pozytywnie (czy neutralnie w przypadku 3 klas).\n",
        "\n",
        "4. Gotowe rozwiązanie zamieść na GitHubie z README. W README zawrzyj: informacje o danych - ich pochodzenie, oraz opis wybranego modelu i instrukcje korzystania z plików.\n",
        "5. W assigmnencie w Teamsach wrzuć link do repo z rozwiązaniem. W przypadku prywatnego repo upewnij się, że będzie ono widoczne dla `dwnuk@pjwstk.edu.pl`.\n",
        "\n",
        "**TERMIN**: jak w Teamsach"
      ]
    },
    {
      "cell_type": "code",
      "execution_count": 1,
      "metadata": {
        "id": "KNsVcEZ1sx5b"
      },
      "outputs": [
        {
          "name": "stdout",
          "output_type": "stream",
          "text": [
            "TensorFlow detected GPU: [PhysicalDevice(name='/physical_device:GPU:0', device_type='GPU')]\n"
          ]
        }
      ],
      "source": [
        "import tensorflow as tf\n",
        "\n",
        "# Check if TensorFlow detects a GPU\n",
        "tf_device = tf.config.list_physical_devices('GPU')\n",
        "if tf_device:\n",
        "    print(\"TensorFlow detected GPU:\", tf_device)\n",
        "else:\n",
        "    print(\"TensorFlow did not detect GPU\")"
      ]
    },
    {
      "cell_type": "code",
      "execution_count": 1,
      "metadata": {},
      "outputs": [
        {
          "ename": "ModuleNotFoundError",
          "evalue": "No module named 'torch'",
          "output_type": "error",
          "traceback": [
            "\u001b[1;31m---------------------------------------------------------------------------\u001b[0m",
            "\u001b[1;31mModuleNotFoundError\u001b[0m                       Traceback (most recent call last)",
            "Cell \u001b[1;32mIn[1], line 1\u001b[0m\n\u001b[1;32m----> 1\u001b[0m \u001b[38;5;28;01mimport\u001b[39;00m \u001b[38;5;21;01mtorch\u001b[39;00m\n\u001b[0;32m      3\u001b[0m \u001b[38;5;66;03m# Check if PyTorch detects a GPU\u001b[39;00m\n\u001b[0;32m      4\u001b[0m torch_device \u001b[38;5;241m=\u001b[39m torch\u001b[38;5;241m.\u001b[39mcuda\u001b[38;5;241m.\u001b[39mcurrent_device()\n",
            "\u001b[1;31mModuleNotFoundError\u001b[0m: No module named 'torch'"
          ]
        }
      ],
      "source": [
        "import torch\n",
        "\n",
        "# Check if PyTorch detects a GPU\n",
        "torch_device = torch.cuda.current_device()\n",
        "if torch_device:\n",
        "    print(\"PyTorch detected GPU:\", torch.cuda.get_device_name(torch_device))\n",
        "else:\n",
        "    print(\"PyTorch did not detect GPU\")"
      ]
    },
    {
      "cell_type": "code",
      "execution_count": 3,
      "metadata": {},
      "outputs": [
        {
          "name": "stdout",
          "output_type": "stream",
          "text": [
            "CUDA version PyTorch is using: 12.1\n"
          ]
        }
      ],
      "source": [
        "import torch\n",
        "print(\"CUDA version PyTorch is using:\", torch.version.cuda)"
      ]
    }
  ],
  "metadata": {
    "colab": {
      "provenance": []
    },
    "kernelspec": {
      "display_name": "Python 3",
      "name": "python3"
    },
    "language_info": {
      "codemirror_mode": {
        "name": "ipython",
        "version": 3
      },
      "file_extension": ".py",
      "mimetype": "text/x-python",
      "name": "python",
      "nbconvert_exporter": "python",
      "pygments_lexer": "ipython3",
      "version": "3.10.13"
    }
  },
  "nbformat": 4,
  "nbformat_minor": 0
}
